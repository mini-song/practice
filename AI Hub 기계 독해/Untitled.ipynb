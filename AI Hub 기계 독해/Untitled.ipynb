{
 "cells": [
  {
   "cell_type": "code",
   "execution_count": null,
   "metadata": {
    "ExecuteTime": {
     "end_time": "2021-01-25T02:55:37.787773Z",
     "start_time": "2021-01-25T02:55:37.782757Z"
    }
   },
   "outputs": [],
   "source": [
    "import json\n",
    "import gc # 메모리 대비\n",
    "\n",
    "import printr # 자료 찍어보기\n",
    "import pandas as pd"
   ]
  },
  {
   "cell_type": "code",
   "execution_count": null,
   "metadata": {
    "ExecuteTime": {
     "end_time": "2021-01-25T02:59:41.347324Z",
     "start_time": "2021-01-25T02:59:33.278900Z"
    }
   },
   "outputs": [],
   "source": [
    "\n",
    "file_path = \"./\"\n",
    "\n",
    "file_name = \"ko_nia_normal_squad_all.json\"\n",
    "\n",
    "\n",
    "\n",
    "def yield_json(path):\n",
    "\n",
    "    with open(file_path+file_name, 'r', encoding='utf-8-sig') as f: #파일을 열어서 읽기 : r \n",
    "\n",
    "        for line in f: #파일을 열어서 한 줄씩 읽어 줄 건데\n",
    "\n",
    "            data = json.loads(line) # json파일을 dictionary 형태로 읽어서 data에 넣어준다.\n",
    "\n",
    "            yield data[\"creator\"],data[\"data\"] #yield로 id, contet 칼럼만 반환해 주는데 generator로 만든다.\n",
    "\n",
    "data = yield_json(file_path+file_name)\n",
    "print(printr.print_r(data))\n"
   ]
  },
  {
   "cell_type": "code",
   "execution_count": null,
   "metadata": {
    "ExecuteTime": {
     "end_time": "2021-01-25T03:10:50.232260Z",
     "start_time": "2021-01-25T03:10:28.357762Z"
    }
   },
   "outputs": [],
   "source": [
    "\n",
    "import ijson\n",
    " \n",
    "def load_json(filename):\n",
    "    with open(filename, 'r',encoding='utf-8') as fd:\n",
    "        parser = ijson.parse(fd)\n",
    "        for prefix, event, value in parser:\n",
    "            if prefix.endswith('.question'):\n",
    "                print(\"\\n질문: %s\" % value)\n",
    "            elif prefix.endswith('.text'):\n",
    "                print(\"\\n정답: %s\" % value)\n",
    "        print(\"----------------\")\n",
    "if __name__ == \"__main__\":\n",
    "    load_json('ko_nia_clue0529_squad_all.json')"
   ]
  },
  {
   "cell_type": "code",
   "execution_count": null,
   "metadata": {
    "ExecuteTime": {
     "end_time": "2021-01-25T02:55:42.247857Z",
     "start_time": "2021-01-25T02:55:39.239Z"
    }
   },
   "outputs": [],
   "source": [
    "\n",
    "with open('ko_nia_normal_squad_all.json',encoding=\"UTF-8\") as json_file:\n",
    "    json_data = json.load(json_file)\n",
    "\n",
    "print(json.dumps(json_data) )"
   ]
  },
  {
   "cell_type": "code",
   "execution_count": null,
   "metadata": {},
   "outputs": [],
   "source": []
  }
 ],
 "metadata": {
  "hide_input": false,
  "kernelspec": {
   "display_name": "Python 3",
   "language": "python",
   "name": "python3"
  },
  "language_info": {
   "codemirror_mode": {
    "name": "ipython",
    "version": 3
   },
   "file_extension": ".py",
   "mimetype": "text/x-python",
   "name": "python",
   "nbconvert_exporter": "python",
   "pygments_lexer": "ipython3",
   "version": "3.7.6"
  }
 },
 "nbformat": 4,
 "nbformat_minor": 4
}
