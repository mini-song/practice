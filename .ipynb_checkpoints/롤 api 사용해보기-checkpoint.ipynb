{
 "cells": [
  {
   "cell_type": "code",
   "execution_count": 120,
   "metadata": {
    "ExecuteTime": {
     "end_time": "2021-01-07T03:05:49.349902Z",
     "start_time": "2021-01-07T03:05:45.214741Z"
    }
   },
   "outputs": [
    {
     "name": "stdout",
     "output_type": "stream",
     "text": [
      "2021-01-07 12:05:45.895289 minisong DIAMOND III 0\n",
      "2021-01-07 12:05:46.965640 준선이는승현이꺼 SILVER II 60\n",
      "2021-01-07 12:05:47.608630 분홍콩 GOLD IV 58\n",
      "2021-01-07 12:05:48.619440 동혁이에오 SILVER II 25\n",
      "2021-01-07 12:05:49.337053 연습용 오른 SILVER III 7\n"
     ]
    }
   ],
   "source": [
    "spool2=[]\n",
    "today_=datetime.datetime.now()\n",
    "import datetime\n",
    "import time\n",
    "friends_id = ['minisong','준선이는승현이꺼','분홍콩','동혁이에오','연습용 오른']\n",
    "csv_list =[]\n",
    "import requests\n",
    "import json\n",
    "for friend in friends_id:\n",
    "    \n",
    "\n",
    "    api_key = 'RGAPI-f93869d5-e1f2-499c-b735-f037d0c780b9'\n",
    "    sohwan = \"https://kr.api.riotgames.com/lol/summoner/v4/summoners/by-name/\" +friend +'?api_key=' + api_key\n",
    "    r = requests.get(sohwan)\n",
    "    r\n",
    "    tier_url = \"https://kr.api.riotgames.com/lol/league/v4/entries/by-summoner/\" + r.json()['id'] +'?api_key=' + api_key\n",
    "    r2  = requests.get(tier_url)\n",
    "    print(datetime.datetime.now(),friend,r2.json()[1]['tier'],r2.json()[1]['rank'],r2.json()[1]['leaguePoints'])\n",
    "    \n",
    "    spool = r2.json()[1]['tier'] + \" \" + r2.json()[1]['rank'] + \" \"+ str(r2.json()[1]['leaguePoints'])+\" 점\"\n",
    "    spool2.append(spool)\n",
    "spool2.append(today_)\n",
    "csv_list.append(spool2)"
   ]
  },
  {
   "cell_type": "code",
   "execution_count": 121,
   "metadata": {
    "ExecuteTime": {
     "end_time": "2021-01-07T03:05:50.358260Z",
     "start_time": "2021-01-07T03:05:50.350426Z"
    }
   },
   "outputs": [],
   "source": [
    "f = open('친구들 롤 티어 동향.csv','r')\n",
    "rdr = csv.reader(f)\n",
    "f = open('친구들 롤 티어 동향.csv','a',newline='',encoding='utf-8') #원본을 훼손할 위험이 있으니 다른 파일에 저장하는 것을 추천합니다.\n",
    "wr = csv.writer(f)\n",
    "wr.writerows(csv_list)\n",
    "f.close()"
   ]
  },
  {
   "cell_type": "code",
   "execution_count": 104,
   "metadata": {
    "ExecuteTime": {
     "end_time": "2021-01-07T03:02:29.402004Z",
     "start_time": "2021-01-07T03:02:29.395940Z"
    },
    "lines_to_next_cell": 2
   },
   "outputs": [],
   "source": [
    "#나중에 감시용도로 발전 시키거나 시각화 or 상위 티어 큐 분석해서 친구들 챔프 동향에 맞게 \n",
    "# 추천해주는 걸로 발전 시킬 수도 있을 것 같다."
   ]
  },
  {
   "cell_type": "code",
   "execution_count": 119,
   "metadata": {
    "ExecuteTime": {
     "end_time": "2021-01-07T03:05:43.489342Z",
     "start_time": "2021-01-07T03:05:43.479640Z"
    }
   },
   "outputs": [],
   "source": [
    "#처음 생성\n",
    "friends_id.append('오늘 날짜')\n",
    "import pandas as pd\n",
    "df = pd.DataFrame(csv_list)\n",
    "df.to_csv('친구들 롤 티어 동향.csv',index=False,header=friends_id,encoding='utf-8')"
   ]
  },
  {
   "cell_type": "code",
   "execution_count": 127,
   "metadata": {
    "ExecuteTime": {
     "end_time": "2021-01-07T03:09:59.740500Z",
     "start_time": "2021-01-07T03:09:59.266903Z"
    }
   },
   "outputs": [
    {
     "name": "stdout",
     "output_type": "stream",
     "text": [
      "<class 'pandas.core.frame.DataFrame'>\n",
      "RangeIndex: 300 entries, 0 to 299\n",
      "Data columns (total 10 columns):\n",
      " #   Column        Non-Null Count  Dtype \n",
      "---  ------        --------------  ----- \n",
      " 0   tier          300 non-null    object\n",
      " 1   summonerId    300 non-null    object\n",
      " 2   summonerName  300 non-null    object\n",
      " 3   leaguePoints  300 non-null    object\n",
      " 4   wins          300 non-null    object\n",
      " 5   losses        300 non-null    object\n",
      " 6   veteran       300 non-null    object\n",
      " 7   inactive      300 non-null    object\n",
      " 8   freshBlood    300 non-null    object\n",
      " 9   hotStreak     300 non-null    object\n",
      "dtypes: object(10)\n",
      "memory usage: 23.6+ KB\n"
     ]
    }
   ],
   "source": [
    "grandmaster = 'https://kr.api.riotgames.com/lol/league/v4/challengerleagues/by-queue/RANKED_SOLO_5x5?api_key=' + api_key\n",
    "r = requests.get(grandmaster)\n",
    "league_df = pd.DataFrame(r.json())\n",
    "\n",
    "league_df.reset_index(inplace=True)\n",
    "league_entries_df = pd.DataFrame(dict(league_df['entries'])).T \n",
    "league_df = pd.concat([league_df, league_entries_df], axis=1) \n",
    "league_df = league_df.drop(['index', 'queue', 'name', 'leagueId', 'entries', 'rank'], axis=1)\n",
    "league_df.info()\n",
    "league_df.to_csv('챌린저데이터.csv',index=False,encoding = 'cp949')#"
   ]
  },
  {
   "cell_type": "code",
   "execution_count": 128,
   "metadata": {
    "ExecuteTime": {
     "end_time": "2021-01-07T03:10:06.799512Z",
     "start_time": "2021-01-07T03:10:06.737260Z"
    }
   },
   "outputs": [
    {
     "data": {
      "text/html": [
       "<div>\n",
       "<style scoped>\n",
       "    .dataframe tbody tr th:only-of-type {\n",
       "        vertical-align: middle;\n",
       "    }\n",
       "\n",
       "    .dataframe tbody tr th {\n",
       "        vertical-align: top;\n",
       "    }\n",
       "\n",
       "    .dataframe thead th {\n",
       "        text-align: right;\n",
       "    }\n",
       "</style>\n",
       "<table border=\"1\" class=\"dataframe\">\n",
       "  <thead>\n",
       "    <tr style=\"text-align: right;\">\n",
       "      <th></th>\n",
       "      <th>tier</th>\n",
       "      <th>summonerId</th>\n",
       "      <th>summonerName</th>\n",
       "      <th>leaguePoints</th>\n",
       "      <th>wins</th>\n",
       "      <th>losses</th>\n",
       "      <th>veteran</th>\n",
       "      <th>inactive</th>\n",
       "      <th>freshBlood</th>\n",
       "      <th>hotStreak</th>\n",
       "    </tr>\n",
       "  </thead>\n",
       "  <tbody>\n",
       "    <tr>\n",
       "      <th>0</th>\n",
       "      <td>CHALLENGER</td>\n",
       "      <td>jCRlIcGLjhK_71Z1f2cQFgL3KneKFrvGcsULliGvkgnqvck</td>\n",
       "      <td>whisper snow</td>\n",
       "      <td>1002</td>\n",
       "      <td>1000</td>\n",
       "      <td>943</td>\n",
       "      <td>True</td>\n",
       "      <td>False</td>\n",
       "      <td>False</td>\n",
       "      <td>False</td>\n",
       "    </tr>\n",
       "    <tr>\n",
       "      <th>1</th>\n",
       "      <td>CHALLENGER</td>\n",
       "      <td>AXvo14reysLtM_cWW-yUAbZkMh8wu7ZJ_rf9xyWJMn5vqLk</td>\n",
       "      <td>Liiv Croco</td>\n",
       "      <td>1401</td>\n",
       "      <td>551</td>\n",
       "      <td>468</td>\n",
       "      <td>True</td>\n",
       "      <td>False</td>\n",
       "      <td>False</td>\n",
       "      <td>True</td>\n",
       "    </tr>\n",
       "    <tr>\n",
       "      <th>2</th>\n",
       "      <td>CHALLENGER</td>\n",
       "      <td>rRF8COLtqh1MSbGVfYVqi454DSWxEXLJN7IH_x4-LwpI_eiP</td>\n",
       "      <td>KT Bonnie</td>\n",
       "      <td>1037</td>\n",
       "      <td>379</td>\n",
       "      <td>269</td>\n",
       "      <td>True</td>\n",
       "      <td>False</td>\n",
       "      <td>False</td>\n",
       "      <td>False</td>\n",
       "    </tr>\n",
       "    <tr>\n",
       "      <th>3</th>\n",
       "      <td>CHALLENGER</td>\n",
       "      <td>sGAR7JuUz1fsL3kWN2tFe6x3xl76m_vOHxBkDV7Qs0HvJwZ5</td>\n",
       "      <td>sukuna</td>\n",
       "      <td>875</td>\n",
       "      <td>330</td>\n",
       "      <td>270</td>\n",
       "      <td>False</td>\n",
       "      <td>False</td>\n",
       "      <td>False</td>\n",
       "      <td>True</td>\n",
       "    </tr>\n",
       "    <tr>\n",
       "      <th>4</th>\n",
       "      <td>CHALLENGER</td>\n",
       "      <td>yG_u05fCQfX6iOiatqVOwMMjqkGZJbytLF821bgmjA3RF0gT</td>\n",
       "      <td>YoneKing</td>\n",
       "      <td>915</td>\n",
       "      <td>324</td>\n",
       "      <td>213</td>\n",
       "      <td>False</td>\n",
       "      <td>False</td>\n",
       "      <td>False</td>\n",
       "      <td>True</td>\n",
       "    </tr>\n",
       "    <tr>\n",
       "      <th>...</th>\n",
       "      <td>...</td>\n",
       "      <td>...</td>\n",
       "      <td>...</td>\n",
       "      <td>...</td>\n",
       "      <td>...</td>\n",
       "      <td>...</td>\n",
       "      <td>...</td>\n",
       "      <td>...</td>\n",
       "      <td>...</td>\n",
       "      <td>...</td>\n",
       "    </tr>\n",
       "    <tr>\n",
       "      <th>295</th>\n",
       "      <td>CHALLENGER</td>\n",
       "      <td>bLkGDGwJhr8bFATk1C6Xm4vZ1vEXeBdr2lxUJVxiyYeCb8oY</td>\n",
       "      <td>도넛먹고싶다i</td>\n",
       "      <td>873</td>\n",
       "      <td>594</td>\n",
       "      <td>484</td>\n",
       "      <td>False</td>\n",
       "      <td>False</td>\n",
       "      <td>False</td>\n",
       "      <td>False</td>\n",
       "    </tr>\n",
       "    <tr>\n",
       "      <th>296</th>\n",
       "      <td>CHALLENGER</td>\n",
       "      <td>tS9L5SyMrEvIxtRSmFDKjc-iCG3976cPZGVTK6ZoBic88w</td>\n",
       "      <td>HLE Key1</td>\n",
       "      <td>848</td>\n",
       "      <td>307</td>\n",
       "      <td>248</td>\n",
       "      <td>False</td>\n",
       "      <td>False</td>\n",
       "      <td>True</td>\n",
       "      <td>False</td>\n",
       "    </tr>\n",
       "    <tr>\n",
       "      <th>297</th>\n",
       "      <td>CHALLENGER</td>\n",
       "      <td>___UUIuO7uSx43PcjCfgitMni9Q1_IfxYTF4fUOG2qvzsqA</td>\n",
       "      <td>daydayup</td>\n",
       "      <td>909</td>\n",
       "      <td>702</td>\n",
       "      <td>623</td>\n",
       "      <td>False</td>\n",
       "      <td>False</td>\n",
       "      <td>False</td>\n",
       "      <td>False</td>\n",
       "    </tr>\n",
       "    <tr>\n",
       "      <th>298</th>\n",
       "      <td>CHALLENGER</td>\n",
       "      <td>Qy0y9SRqkkl6U2kI9iakYMHznaIt66LS07ymAJfh6aaBNDA</td>\n",
       "      <td>피즈 조이</td>\n",
       "      <td>975</td>\n",
       "      <td>379</td>\n",
       "      <td>320</td>\n",
       "      <td>False</td>\n",
       "      <td>False</td>\n",
       "      <td>False</td>\n",
       "      <td>False</td>\n",
       "    </tr>\n",
       "    <tr>\n",
       "      <th>299</th>\n",
       "      <td>CHALLENGER</td>\n",
       "      <td>LGoqkhYnb3VchnyuACtMD3z8KopJARR5-QJ5EwE7jRbU0TA</td>\n",
       "      <td>HSHTM</td>\n",
       "      <td>994</td>\n",
       "      <td>835</td>\n",
       "      <td>756</td>\n",
       "      <td>False</td>\n",
       "      <td>False</td>\n",
       "      <td>False</td>\n",
       "      <td>False</td>\n",
       "    </tr>\n",
       "  </tbody>\n",
       "</table>\n",
       "<p>300 rows × 10 columns</p>\n",
       "</div>"
      ],
      "text/plain": [
       "           tier                                        summonerId  summonerName  ... inactive freshBlood hotStreak\n",
       "0    CHALLENGER   jCRlIcGLjhK_71Z1f2cQFgL3KneKFrvGcsULliGvkgnqvck  whisper snow  ...    False      False     False\n",
       "1    CHALLENGER   AXvo14reysLtM_cWW-yUAbZkMh8wu7ZJ_rf9xyWJMn5vqLk    Liiv Croco  ...    False      False      True\n",
       "2    CHALLENGER  rRF8COLtqh1MSbGVfYVqi454DSWxEXLJN7IH_x4-LwpI_eiP     KT Bonnie  ...    False      False     False\n",
       "3    CHALLENGER  sGAR7JuUz1fsL3kWN2tFe6x3xl76m_vOHxBkDV7Qs0HvJwZ5        sukuna  ...    False      False      True\n",
       "4    CHALLENGER  yG_u05fCQfX6iOiatqVOwMMjqkGZJbytLF821bgmjA3RF0gT      YoneKing  ...    False      False      True\n",
       "..          ...                                               ...           ...  ...      ...        ...       ...\n",
       "295  CHALLENGER  bLkGDGwJhr8bFATk1C6Xm4vZ1vEXeBdr2lxUJVxiyYeCb8oY       도넛먹고싶다i  ...    False      False     False\n",
       "296  CHALLENGER    tS9L5SyMrEvIxtRSmFDKjc-iCG3976cPZGVTK6ZoBic88w      HLE Key1  ...    False       True     False\n",
       "297  CHALLENGER   ___UUIuO7uSx43PcjCfgitMni9Q1_IfxYTF4fUOG2qvzsqA      daydayup  ...    False      False     False\n",
       "298  CHALLENGER   Qy0y9SRqkkl6U2kI9iakYMHznaIt66LS07ymAJfh6aaBNDA         피즈 조이  ...    False      False     False\n",
       "299  CHALLENGER   LGoqkhYnb3VchnyuACtMD3z8KopJARR5-QJ5EwE7jRbU0TA         HSHTM  ...    False      False     False\n",
       "\n",
       "[300 rows x 10 columns]"
      ]
     },
     "execution_count": 128,
     "metadata": {},
     "output_type": "execute_result"
    }
   ],
   "source": [
    "league_df"
   ]
  },
  {
   "cell_type": "code",
   "execution_count": null,
   "metadata": {},
   "outputs": [],
   "source": [
    "#https://shinminyong.tistory.com/11 참고하였습니다.\n",
    "\n",
    "# 나중에 상위 큐 점수 동향 // 메타 챔피언 분석 -> 프로 프렌차이즈화 구단 자동으로 아마추어 고수 스카웃 하는 BI 의사결정에 \n",
    "# 도움을 주는 것으로 바꿀 수 있지 않을까"
   ]
  }
 ],
 "metadata": {
  "hide_input": false,
  "jupytext": {
   "encoding": "# -*- coding: utf-8 -*-",
   "formats": "ipynb,py:light"
  },
  "kernelspec": {
   "display_name": "Python 3",
   "language": "python",
   "name": "python3"
  },
  "language_info": {
   "codemirror_mode": {
    "name": "ipython",
    "version": 3
   },
   "file_extension": ".py",
   "mimetype": "text/x-python",
   "name": "python",
   "nbconvert_exporter": "python",
   "pygments_lexer": "ipython3",
   "version": "3.7.6"
  }
 },
 "nbformat": 4,
 "nbformat_minor": 4
}
