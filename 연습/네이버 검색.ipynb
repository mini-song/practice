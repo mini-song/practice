{
 "cells": [
  {
   "cell_type": "code",
   "execution_count": null,
   "metadata": {
    "ExecuteTime": {
     "start_time": "2021-01-03T15:01:18.399Z"
    }
   },
   "outputs": [],
   "source": [
    "import pandas as pd\n",
    "import urllib.request\n",
    "import urllib.parse\n",
    "from bs4 import BeautifulSoup\n",
    "from selenium.webdriver import Chrome\n",
    "from selenium import webdriver"
   ]
  },
  {
   "cell_type": "code",
   "execution_count": null,
   "metadata": {
    "ExecuteTime": {
     "start_time": "2021-01-03T15:01:19.093Z"
    }
   },
   "outputs": [],
   "source": [
    "import requests\n",
    "from bs4 import BeautifulSoup\n",
    "\n",
    "target = input(\"검색어를 입력하세요:\")\n",
    "\n",
    "for page in range(1,5,1):\n",
    "    req = requests.get(f'https://search.naver.com/search.naver?&where=news&query={target}&sm=tab_pge&sort=0&photo=0&field=0&reporter_article=&pd=0&ds=&de=&docid=&nso=so:r,p:all,a:all&mynews=0&cluster_rank=30&start=11&refresh_start=0',\n",
    "                       headers = {\"User-Agent\" : \"Mozilla/5.0 (Windows NT 10.0; Win64; x64) AppleWebKit/537.36 (KHTML, like Gecko) Chrome/87.0.4280.88 Safari/537.36\"})\n",
    " \n",
    "      \n",
    "    browser = webdriver.Chrome('chromedriver.exe')\n",
    "    \n",
    "    \n",
    "    html = browser.page_source\n",
    "    print(html)\n",
    "    \n",
    "    tag = soup.select(\"ul.type01 > li\")\n",
    "    for a in tag:\n",
    "        title = a.select_one(\"ul.type01 > li a._sp_each_title\").text\n",
    "        print(title)\n"
   ]
  },
  {
   "cell_type": "code",
   "execution_count": null,
   "metadata": {
    "ExecuteTime": {
     "start_time": "2021-01-03T15:01:19.478Z"
    }
   },
   "outputs": [],
   "source": [
    "# Okt 형태소 분석기 호출, 트위터에서 만든 오픈소스 한국어 분석기\n",
    "from konlpy.tag import Okt\n",
    "okt = Okt()\n",
    "\n",
    "nouns = okt.nouns(title) #명사 분석\n",
    "nouns"
   ]
  },
  {
   "cell_type": "code",
   "execution_count": null,
   "metadata": {},
   "outputs": [],
   "source": [
    "import numpy as np\n",
    "import pandas as pd\n",
    "from bs4 import BeautifulSoup\n",
    "import requests\n",
    "import time\n",
    "import urllib.request\n",
    "\n",
    "import json\n",
    "import re\n",
    "from selenium.webdriver.chrome.options import Options\n",
    "from selenium.webdriver.common.keys import Keys\n",
    "import datetime as dt"
   ]
  },
  {
   "cell_type": "code",
   "execution_count": null,
   "metadata": {},
   "outputs": [],
   "source": [
    "b = list()\n",
    "url = f'https://search.naver.com/search.naver?where=news&sm=tab_jum&query={target}'\n",
    "browser  = webdriver.Chrome()\n",
    "browser.get(url)\n",
    "browser.implicitly_wait(2)\n",
    "for page in range(1,10):\n",
    "    browser.find_elements_by_xpath(f'//*[@id=\"main_pack\"]/div[1]/div[2]/a[{str(page)}]')[0].click()\n",
    "    html = req.text\n",
    "    soup = BeautifulSoup(html,'html.parser')\n",
    "    tag = soup.select(\"ul.type01 > li\")\n",
    "    for a in tag:\n",
    "        title = a.select_one(\"ul.type01 > li a._sp_each_title\").text\n",
    "        b.append(title)\n"
   ]
  },
  {
   "cell_type": "code",
   "execution_count": null,
   "metadata": {},
   "outputs": [],
   "source": []
  },
  {
   "cell_type": "code",
   "execution_count": null,
   "metadata": {},
   "outputs": [],
   "source": []
  },
  {
   "cell_type": "code",
   "execution_count": null,
   "metadata": {},
   "outputs": [],
   "source": []
  },
  {
   "cell_type": "code",
   "execution_count": null,
   "metadata": {},
   "outputs": [],
   "source": []
  }
 ],
 "metadata": {
  "hide_input": false,
  "jupytext": {
   "formats": "ipynb,py:light"
  },
  "kernelspec": {
   "display_name": "Python 3",
   "language": "python",
   "name": "python3"
  },
  "language_info": {
   "codemirror_mode": {
    "name": "ipython",
    "version": 3
   },
   "file_extension": ".py",
   "mimetype": "text/x-python",
   "name": "python",
   "nbconvert_exporter": "python",
   "pygments_lexer": "ipython3",
   "version": "3.7.6"
  }
 },
 "nbformat": 4,
 "nbformat_minor": 4
}
