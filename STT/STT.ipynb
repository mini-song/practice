{
 "cells": [
  {
   "cell_type": "code",
   "execution_count": 5,
   "metadata": {
    "ExecuteTime": {
     "end_time": "2021-02-09T05:02:12.115610Z",
     "start_time": "2021-02-09T05:02:12.105637Z"
    }
   },
   "outputs": [],
   "source": [
    "def recognize_speech_from_mic(recognizer, microphone):\n",
    "    if not isinstance(recognizer, sr.Recognizer):\n",
    "        raise TypeError(\"`recognizer` must be `Recognizer` instance\")\n",
    "    if not isinstance(microphone, sr.Microphone):\n",
    "        raise TypeError(\"`microphone` must be `Microphone` instance\")\n",
    "    with microphone as source:\n",
    "        recognizer.adjust_for_ambient_noise(source) # # analyze the audio source for 1 second\n",
    "        audio = recognizer.listen(source)\n",
    "    response = { \"success\": True, \"error\": None, \"transcription\": None }\n",
    "    try:\n",
    "        response[\"transcription\"] = recognizer.recognize_google(audio)\n",
    "    \n",
    "    except sr.RequestError:\n",
    "        # API was unreachable or unresponsive\n",
    "        response[\"success\"] = False\n",
    "        response[\"error\"] = \"API unavailable/unresponsive\"\n",
    "    except sr.UnknownValueError:\n",
    "        # speech was unintelligible\n",
    "        response[\"error\"] = \"Unable to recognize speech\"\n",
    "    \n",
    "    return response\n",
    "\n"
   ]
  },
  {
   "cell_type": "code",
   "execution_count": 1,
   "metadata": {
    "ExecuteTime": {
     "end_time": "2021-02-09T10:45:25.844625Z",
     "start_time": "2021-02-09T10:45:19.141536Z"
    }
   },
   "outputs": [
    {
     "name": "stdout",
     "output_type": "stream",
     "text": [
      "말해보세요\n",
      "음성인식결과 : 민성이는 논문이 쓰고 싶어요\n"
     ]
    }
   ],
   "source": [
    "import speech_recognition as sr\n",
    "\n",
    "# microphone에서 auido source를 생성합니다\n",
    "r = sr.Recognizer()\n",
    "with sr.Microphone() as source:\n",
    "    print(\"말해보세요\")\n",
    "    audio = r.listen(source)\n",
    "\n",
    "# 구글 웹 음성 API로 인식하기 (하루에 제한 50회)\n",
    "try:\n",
    "    print(\"음성인식결과 : \" + r.recognize_google(audio, language='ko'))\n",
    "except sr.UnknownValueError:\n",
    "    print(\"Google Speech Recognition could not understand audio\")\n",
    "except sr.RequestError as e:\n",
    "    print(\"Could not request results from Google Speech Recognition service; {0}\".format(e))"
   ]
  },
  {
   "cell_type": "code",
   "execution_count": 3,
   "metadata": {
    "ExecuteTime": {
     "end_time": "2021-02-09T10:45:48.839158Z",
     "start_time": "2021-02-09T10:45:48.833187Z"
    }
   },
   "outputs": [],
   "source": [
    "with open(\"논문.wav\", \"wb\") as f:\n",
    "    f.write(audio.get_wav_data())"
   ]
  },
  {
   "cell_type": "code",
   "execution_count": 4,
   "metadata": {
    "ExecuteTime": {
     "end_time": "2021-02-09T10:46:34.440586Z",
     "start_time": "2021-02-09T10:46:32.567525Z"
    }
   },
   "outputs": [
    {
     "name": "stdout",
     "output_type": "stream",
     "text": [
      "우울증 음성인식결과 : 민성이는 논문이 쓰고 싶어요\n",
      "민성이는 논문이 쓰고 싶어요\n"
     ]
    }
   ],
   "source": [
    "import speech_recognition as sr\n",
    "\n",
    "AUDIO_FILE = \"논문.wav\"\n",
    "\n",
    "\n",
    "# audio file을 audio source로 사용합니다\n",
    "r = sr.Recognizer()\n",
    "with sr.AudioFile(AUDIO_FILE) as source:\n",
    "    audio = r.record(source)  # 전체 audio file 읽기\n",
    "\n",
    "# 구글 웹 음성 API로 인식하기 (하루에 제한 50회)\n",
    "try:\n",
    "    print(\"우울증 음성인식결과 : \" + r.recognize_google(audio, language='ko'))\n",
    "    text = r.recognize_google(audio, language='ko')\n",
    "except sr.UnknownValueError:\n",
    "    print(\"Google Speech Recognition could not understand audio\")\n",
    "except sr.RequestError as e:\n",
    "    print(\"Could not request results from Google Speech Recognition service; {0}\".format(e))\n",
    "print(text)"
   ]
  },
  {
   "cell_type": "code",
   "execution_count": null,
   "metadata": {},
   "outputs": [],
   "source": []
  },
  {
   "cell_type": "code",
   "execution_count": null,
   "metadata": {},
   "outputs": [],
   "source": []
  }
 ],
 "metadata": {
  "hide_input": false,
  "kernelspec": {
   "display_name": "Python 3",
   "language": "python",
   "name": "python3"
  },
  "language_info": {
   "codemirror_mode": {
    "name": "ipython",
    "version": 3
   },
   "file_extension": ".py",
   "mimetype": "text/x-python",
   "name": "python",
   "nbconvert_exporter": "python",
   "pygments_lexer": "ipython3",
   "version": "3.7.6"
  }
 },
 "nbformat": 4,
 "nbformat_minor": 4
}
