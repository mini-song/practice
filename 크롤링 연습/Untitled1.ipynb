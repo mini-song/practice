{
 "cells": [
  {
   "cell_type": "code",
   "execution_count": 16,
   "metadata": {
    "ExecuteTime": {
     "end_time": "2021-03-11T13:16:17.098789Z",
     "start_time": "2021-03-11T13:16:08.219588Z"
    }
   },
   "outputs": [
    {
     "name": "stdout",
     "output_type": "stream",
     "text": [
      "\n",
      "제목 [코로나 시대, 실내체육시설도 제한적, 유동적 운영이 필요합니다.]\n",
      "제목 여자배구 선수 학교폭력 사태 진상규명 및 엄정대응 촉구합니다.\n",
      "제목 36세 아내가 대학병원의 오진으로 사망했습니다.\n",
      "제목 제3기 신도시 철회 바랍니다.\n",
      "제목 비트코인은 250만원이상 과세 주식은 5000만원이상 과세 차별 하지 마세요\n",
      "제목 확률형 아이템의 확률 공개 및 전면 규제와 모든 게임 내 정보의 공개를 청원합니다.\n",
      "제목 한명숙 전 총리 모해위증교사 고발사건과 관련하여 박범계 법무부장관은 수사지휘권을 발동해 주…\n",
      "제목 살고싶어요, 살려주세요...\n",
      "제목 반려견 밍이를 납치하고 살해한 피의자를 강력 처벌해 주세요\n",
      "제목 생명존중 없는 '진도 테마파크' 폐지를 요청합니다\n",
      "제목 대한민국 악의축 ‘건설노조(민주노총,한국노총등)’ 그 들의 갑질을 막아 주십시오.\n",
      "제목 LH임직원  광명시흥 신도시 투기의혹 국정감사 강력히 요청합니다.\n",
      "제목 존경하는 대통령님 ****배구단 ***, *** 선수의 배구계 영구퇴출을 청원드립니다.\n",
      "제목 ***** 불법 정보로 인한 공매도 처벌 요청\n",
      "제목 “故김동희”어린이를 기억하시나요? 저는 편도수술 의료사고의 추가 피해자입니다. 더 이상 억…\n",
      "제목 코로나 백신 부작용 인정 및 보상이 정말로 가능한지 의구심이 듭니다.\n"
     ]
    }
   ],
   "source": [
    "import requests\n",
    "from bs4 import BeautifulSoup\n",
    "from selenium import webdriver\n",
    "from tqdm import tqdm\n",
    "\n",
    "\n",
    "from selenium import webdriver\n",
    "options = webdriver.ChromeOptions()\n",
    "options.headless = True\n",
    "options.add_argument(\"windows-size=1920*1080\")\n",
    "options.add_argument(\"user-agent=Mozilla/5.0 (Windows NT 10.0; Win64; x64) AppleWebKit/537.36 (KHTML, like Gecko) Chrome/87.0.4280.88 Safari/537.36\")\n",
    "\n",
    "browser = webdriver.Chrome(options=options)\n",
    "browser.maximize_window()\n",
    "\n",
    "\n",
    "url = \"https://www1.president.go.kr/petitions/best?page=1\"\n",
    "browser.get(url)\n",
    "import requests\n",
    "from bs4 import BeautifulSoup\n",
    "soup = BeautifulSoup(browser.page_source,'lxml')\n",
    "\n",
    "movies = soup.find_all(\"div\",attrs={'class':'bl_subject'})\n",
    "for i in movies:\n",
    "    a=i.find(\"a\",attrs={'class':'cb'})\n",
    "    try:\n",
    "        print(a.text)\n",
    "    except:\n",
    "        pass\n",
    "#title=soup.find(\"h3\").text\n",
    "#ingredient = soup.find(\"div\",attrs={'class':'ready_ingre3'})\n",
    "#a=browser.find_element_by_xpath(\"//*[@id='contents_area']/div[2]/h3\")\n",
    "#print(a)\n",
    "browser.quit()"
   ]
  },
  {
   "cell_type": "code",
   "execution_count": null,
   "metadata": {},
   "outputs": [],
   "source": []
  }
 ],
 "metadata": {
  "hide_input": false,
  "kernelspec": {
   "display_name": "Python 3",
   "language": "python",
   "name": "python3"
  },
  "language_info": {
   "codemirror_mode": {
    "name": "ipython",
    "version": 3
   },
   "file_extension": ".py",
   "mimetype": "text/x-python",
   "name": "python",
   "nbconvert_exporter": "python",
   "pygments_lexer": "ipython3",
   "version": "3.7.6"
  }
 },
 "nbformat": 4,
 "nbformat_minor": 4
}
