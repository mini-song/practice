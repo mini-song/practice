{
 "cells": [
  {
   "cell_type": "code",
   "execution_count": 9,
   "metadata": {
    "ExecuteTime": {
     "end_time": "2021-02-05T04:23:36.058332Z",
     "start_time": "2021-02-05T04:23:36.053345Z"
    }
   },
   "outputs": [],
   "source": [
    "import requests\n",
    "from bs4 import BeautifulSoup\n",
    "from selenium import webdriver\n",
    "from tqdm import tqdm"
   ]
  },
  {
   "cell_type": "code",
   "execution_count": 10,
   "metadata": {
    "ExecuteTime": {
     "end_time": "2021-02-05T04:23:50.713148Z",
     "start_time": "2021-02-05T04:23:36.464292Z"
    },
    "lines_to_end_of_cell_marker": 2
   },
   "outputs": [],
   "source": [
    "from selenium import webdriver\n",
    "\n",
    "#내부적 설계\n",
    "options = webdriver.ChromeOptions()\n",
    "options.headless = True\n",
    "options.add_argument(\"windows-size=1920*1080\")\n",
    "options.add_argument(\"user-agent=Mozilla/5.0 (Windows NT 10.0; Win64; x64) AppleWebKit/537.36 (KHTML, like Gecko) Chrome/87.0.4280.88 Safari/537.36\")\n",
    "\n",
    "browser = webdriver.Chrome(options=options)\n",
    "browser.maximize_window()\n",
    "url = \"https://www.10000recipe.com/ranking/home_new.html\"\n",
    "browser.get(url)\n",
    "import requests\n",
    "from bs4 import BeautifulSoup\n",
    "soup = BeautifulSoup(browser.page_source,'lxml')\n",
    "#'ImZGtf mpg5gc'\n",
    "movies = soup.find(\"div\",attrs={'class':'view2_summary st3'})\n",
    "title=soup.find(\"h3\").text\n",
    "ingredient = soup.find(\"div\",attrs={'class':'ready_ingre3'})\n",
    "#a=browser.find_element_by_xpath(\"//*[@id='contents_area']/div[2]/h3\")\n",
    "#print(a)\n",
    "browser.quit()"
   ]
  },
  {
   "cell_type": "code",
   "execution_count": 11,
   "metadata": {
    "ExecuteTime": {
     "end_time": "2021-02-05T04:23:50.768001Z",
     "start_time": "2021-02-05T04:23:50.718136Z"
    }
   },
   "outputs": [],
   "source": [
    "number_list=soup.find_all(\"div\",attrs={'class':'common_sp_thumb'})"
   ]
  },
  {
   "cell_type": "code",
   "execution_count": 12,
   "metadata": {
    "ExecuteTime": {
     "end_time": "2021-02-05T04:23:50.795930Z",
     "start_time": "2021-02-05T04:23:50.772989Z"
    }
   },
   "outputs": [
    {
     "data": {
      "text/plain": [
       "100"
      ]
     },
     "execution_count": 12,
     "metadata": {},
     "output_type": "execute_result"
    }
   ],
   "source": [
    "len(number_list)"
   ]
  },
  {
   "cell_type": "code",
   "execution_count": 13,
   "metadata": {
    "ExecuteTime": {
     "end_time": "2021-02-05T04:23:50.836836Z",
     "start_time": "2021-02-05T04:23:50.800087Z"
    }
   },
   "outputs": [
    {
     "data": {
      "text/plain": [
       "[<div class=\"common_sp_thumb\">\n",
       " <a class=\"common_sp_link\" href=\"/recipe/6884636\">\n",
       " <img src=\"https://recipe1.ezmember.co.kr/cache/recipe/2018/02/27/b5806f01ccb6f6d5d9aa94bdd6f4287e1_m.jpg\"/>\n",
       " </a>\n",
       " </div>,\n",
       " <div class=\"common_sp_thumb\">\n",
       " <a class=\"common_sp_link\" href=\"/recipe/6905536\">\n",
       " <img src=\"https://recipe1.ezmember.co.kr/cache/recipe/2019/01/30/93abaf470eadd92644b4709837543d7f1_m.jpg\"/>\n",
       " </a>\n",
       " </div>,\n",
       " <div class=\"common_sp_thumb\">\n",
       " <a class=\"common_sp_link\" href=\"/recipe/6951685\">\n",
       " <img src=\"https://recipe1.ezmember.co.kr/cache/recipe/2021/01/21/ba5d0a22d779ef416892c7694da19a411_m.jpg\"/>\n",
       " </a>\n",
       " </div>,\n",
       " <div class=\"common_sp_thumb\">\n",
       " <a class=\"common_sp_link\" href=\"/recipe/6951500\">\n",
       " <img src=\"https://recipe1.ezmember.co.kr/cache/recipe/2021/01/20/054c5ed109c132f141789443c046884e1_m.jpg\"/>\n",
       " </a>\n",
       " </div>,\n",
       " <div class=\"common_sp_thumb\">\n",
       " <a class=\"common_sp_link\" href=\"/recipe/6879533\">\n",
       " <img src=\"https://recipe1.ezmember.co.kr/cache/recipe/2017/11/14/a2d4839b5743d121d4d2b46fdbc9aa5b1_m.jpg\"/>\n",
       " </a>\n",
       " </div>,\n",
       " <div class=\"common_sp_thumb\">\n",
       " <a class=\"common_sp_link\" href=\"/recipe/6910367\">\n",
       " <img src=\"https://recipe1.ezmember.co.kr/cache/recipe/2019/04/12/db0fb535f6298cd76ded5a502874343a1_m.jpg\"/>\n",
       " </a>\n",
       " </div>,\n",
       " <div class=\"common_sp_thumb\">\n",
       " <a class=\"common_sp_link\" href=\"/recipe/6845428\">\n",
       " <img src=\"https://recipe1.ezmember.co.kr/cache/recipe/2016/03/27/3b2359adaaaff4853eecfa07a04ac3a71_m.jpg\"/>\n",
       " </a>\n",
       " </div>,\n",
       " <div class=\"common_sp_thumb\">\n",
       " <a class=\"common_sp_link\" href=\"/recipe/6948438\">\n",
       " <img src=\"https://recipe1.ezmember.co.kr/cache/recipe/2020/12/14/98bba7d41a7c28f52a442b7c732ea9f91_m.jpg\"/>\n",
       " </a>\n",
       " </div>,\n",
       " <div class=\"common_sp_thumb\">\n",
       " <a class=\"common_sp_link\" href=\"/recipe/6864194\">\n",
       " <img src=\"https://recipe1.ezmember.co.kr/cache/recipe/2017/01/22/1f1b975df8dcf3fe78c5f8c820ffa8171_m.jpg\"/>\n",
       " </a>\n",
       " </div>,\n",
       " <div class=\"common_sp_thumb\">\n",
       " <a class=\"common_sp_link\" href=\"/recipe/6876357\">\n",
       " <span class=\"common_vod_label\"><img src=\"https://recipe1.ezmember.co.kr/img/icon_vod.png\"/></span>\n",
       " <img src=\"https://recipe1.ezmember.co.kr/cache/recipe/2017/09/12/e082636233ee03a012fc656d428df5971_m.jpg\"/>\n",
       " </a>\n",
       " </div>,\n",
       " <div class=\"common_sp_thumb\">\n",
       " <a class=\"common_sp_link\" href=\"/recipe/6885928\">\n",
       " <img src=\"https://recipe1.ezmember.co.kr/cache/recipe/2018/03/22/599723cfecc8d9dd610aabadcbf6f3a71_m.jpg\"/>\n",
       " </a>\n",
       " </div>,\n",
       " <div class=\"common_sp_thumb\">\n",
       " <a class=\"common_sp_link\" href=\"/recipe/6906655\">\n",
       " <span class=\"common_vod_label\"><img src=\"https://recipe1.ezmember.co.kr/img/icon_vod.png\"/></span>\n",
       " <img src=\"https://recipe1.ezmember.co.kr/cache/recipe/2019/02/15/51440490a12476fc20860f3e9bde29781_m.jpg\"/>\n",
       " </a>\n",
       " </div>,\n",
       " <div class=\"common_sp_thumb\">\n",
       " <a class=\"common_sp_link\" href=\"/recipe/6894096\">\n",
       " <span class=\"common_vod_label\"><img src=\"https://recipe1.ezmember.co.kr/img/icon_vod.png\"/></span>\n",
       " <img src=\"https://recipe1.ezmember.co.kr/cache/recipe/2018/08/13/3233d427883d15239f297aeeaf1775531_m.jpg\"/>\n",
       " </a>\n",
       " </div>,\n",
       " <div class=\"common_sp_thumb\">\n",
       " <a class=\"common_sp_link\" href=\"/recipe/6860645\">\n",
       " <img src=\"https://recipe1.ezmember.co.kr/cache/recipe/2016/11/14/445bf0fe47582d12f35db2f8564015fa1_m.jpg\"/>\n",
       " </a>\n",
       " </div>,\n",
       " <div class=\"common_sp_thumb\">\n",
       " <a class=\"common_sp_link\" href=\"/recipe/6912220\">\n",
       " <span class=\"common_vod_label\"><img src=\"https://recipe1.ezmember.co.kr/img/icon_vod.png\"/></span>\n",
       " <img src=\"https://recipe1.ezmember.co.kr/cache/recipe/2019/08/07/8683a91920e8857cc7aba8fd79da46a91_m.jpg\"/>\n",
       " </a>\n",
       " </div>,\n",
       " <div class=\"common_sp_thumb\">\n",
       " <a class=\"common_sp_link\" href=\"/recipe/6873683\">\n",
       " <img src=\"https://recipe1.ezmember.co.kr/cache/recipe/2017/07/28/860484b80033e84a3584a366ae903a0d1_m.jpg\"/>\n",
       " </a>\n",
       " </div>,\n",
       " <div class=\"common_sp_thumb\">\n",
       " <a class=\"common_sp_link\" href=\"/recipe/6948608\">\n",
       " <img src=\"https://recipe1.ezmember.co.kr/cache/recipe/2020/12/14/2177b0713e577fb391bca28c51f6de801_m.jpg\"/>\n",
       " </a>\n",
       " </div>,\n",
       " <div class=\"common_sp_thumb\">\n",
       " <a class=\"common_sp_link\" href=\"/recipe/6892728\">\n",
       " <img src=\"https://recipe1.ezmember.co.kr/cache/recipe/2018/07/18/50012e62f8ef8e7f468536d4611926941_m.jpg\"/>\n",
       " </a>\n",
       " </div>,\n",
       " <div class=\"common_sp_thumb\">\n",
       " <a class=\"common_sp_link\" href=\"/recipe/6903507\">\n",
       " <img src=\"https://recipe1.ezmember.co.kr/cache/recipe/2019/01/04/518d5bf35102aa51bf58078f7a25dc751_m.jpg\"/>\n",
       " </a>\n",
       " </div>,\n",
       " <div class=\"common_sp_thumb\">\n",
       " <a class=\"common_sp_link\" href=\"/recipe/6873935\">\n",
       " <img src=\"https://recipe1.ezmember.co.kr/cache/recipe/2017/08/02/85d454a30f1eed0592d7684d9bd4e1c91_m.jpg\"/>\n",
       " </a>\n",
       " </div>,\n",
       " <div class=\"common_sp_thumb\">\n",
       " <a class=\"common_sp_link\" href=\"/recipe/6841008\">\n",
       " <img src=\"https://recipe1.ezmember.co.kr/cache/recipe/2016/01/03/2719de5f7ea19aceb5b859d36b853b481_m.jpg\"/>\n",
       " </a>\n",
       " </div>,\n",
       " <div class=\"common_sp_thumb\">\n",
       " <a class=\"common_sp_link\" href=\"/recipe/6905196\">\n",
       " <span class=\"common_vod_label\"><img src=\"https://recipe1.ezmember.co.kr/img/icon_vod.png\"/></span>\n",
       " <img src=\"https://recipe1.ezmember.co.kr/cache/recipe/2019/01/25/8bed3206ef470a0d7d23d565564805261_m.jpg\"/>\n",
       " </a>\n",
       " </div>,\n",
       " <div class=\"common_sp_thumb\">\n",
       " <a class=\"common_sp_link\" href=\"/recipe/6876505\">\n",
       " <img src=\"https://recipe1.ezmember.co.kr/cache/recipe/2017/09/15/af5ed61b01ce6d0c8ded20d59f0d15e31_m.jpg\"/>\n",
       " </a>\n",
       " </div>,\n",
       " <div class=\"common_sp_thumb\">\n",
       " <a class=\"common_sp_link\" href=\"/recipe/6883937\">\n",
       " <img src=\"https://recipe1.ezmember.co.kr/cache/recipe/2018/02/13/e0649f3f0b446f39c9a7bdff70d953691_m.jpg\"/>\n",
       " </a>\n",
       " </div>,\n",
       " <div class=\"common_sp_thumb\">\n",
       " <a class=\"common_sp_link\" href=\"/recipe/6878583\">\n",
       " <img src=\"https://recipe1.ezmember.co.kr/cache/recipe/2017/10/26/5ff4627a58ffbb2c7a8ae9c470f24c801_m.jpg\"/>\n",
       " </a>\n",
       " </div>,\n",
       " <div class=\"common_sp_thumb\">\n",
       " <a class=\"common_sp_link\" href=\"/recipe/6879215\">\n",
       " <img src=\"https://recipe1.ezmember.co.kr/cache/recipe/2017/11/07/ca8c24608189aaf9d376f14b3f3be57c1_m.jpg\"/>\n",
       " </a>\n",
       " </div>,\n",
       " <div class=\"common_sp_thumb\">\n",
       " <a class=\"common_sp_link\" href=\"/recipe/6891816\">\n",
       " <img src=\"https://recipe1.ezmember.co.kr/cache/recipe/2018/07/02/760e92406112f6a0ad98d84844cbfc7e1_m.jpg\"/>\n",
       " </a>\n",
       " </div>,\n",
       " <div class=\"common_sp_thumb\">\n",
       " <a class=\"common_sp_link\" href=\"/recipe/6943514\">\n",
       " <img src=\"https://recipe1.ezmember.co.kr/cache/recipe/2020/10/06/1725c40d6c3d6369cc5b7f25a3ce43ed1_m.jpg\"/>\n",
       " </a>\n",
       " </div>,\n",
       " <div class=\"common_sp_thumb\">\n",
       " <a class=\"common_sp_link\" href=\"/recipe/6850116\">\n",
       " <img src=\"https://recipe1.ezmember.co.kr/cache/recipe/2016/05/29/2a170363760225a934d26ff7e94cede31_m.jpg\"/>\n",
       " </a>\n",
       " </div>,\n",
       " <div class=\"common_sp_thumb\">\n",
       " <a class=\"common_sp_link\" href=\"/recipe/6943099\">\n",
       " <img src=\"https://recipe1.ezmember.co.kr/cache/recipe/2020/09/29/594c0581499eb51fd2e3f6ee7146d6171_m.jpg\"/>\n",
       " </a>\n",
       " </div>,\n",
       " <div class=\"common_sp_thumb\">\n",
       " <a class=\"common_sp_link\" href=\"/recipe/6951398\">\n",
       " <img src=\"https://recipe1.ezmember.co.kr/cache/recipe/2021/01/18/551b6ec9a947ae59613a6be298c47b751_m.jpg\"/>\n",
       " </a>\n",
       " </div>,\n",
       " <div class=\"common_sp_thumb\">\n",
       " <a class=\"common_sp_link\" href=\"/recipe/6951246\">\n",
       " <img src=\"https://recipe1.ezmember.co.kr/cache/recipe/2021/01/17/426d840f42d9b59c8b0b4e7706531fe71_m.jpg\"/>\n",
       " </a>\n",
       " </div>,\n",
       " <div class=\"common_sp_thumb\">\n",
       " <a class=\"common_sp_link\" href=\"/recipe/6951275\">\n",
       " <img src=\"https://recipe1.ezmember.co.kr/cache/recipe/2021/01/17/8400ddff0a0a875dfdd9244bbb5051221_m.jpg\"/>\n",
       " </a>\n",
       " </div>,\n",
       " <div class=\"common_sp_thumb\">\n",
       " <a class=\"common_sp_link\" href=\"/recipe/6945137\">\n",
       " <img src=\"https://recipe1.ezmember.co.kr/cache/recipe/2020/10/27/475b8186d05895a84dfc31c9b4e3f5751_m.jpg\"/>\n",
       " </a>\n",
       " </div>,\n",
       " <div class=\"common_sp_thumb\">\n",
       " <a class=\"common_sp_link\" href=\"/recipe/6896769\">\n",
       " <img src=\"https://recipe1.ezmember.co.kr/cache/recipe/2018/09/29/e0b56cd5bc7abf0144091cceaa75add61_m.jpg\"/>\n",
       " </a>\n",
       " </div>,\n",
       " <div class=\"common_sp_thumb\">\n",
       " <a class=\"common_sp_link\" href=\"/recipe/6867256\">\n",
       " <img src=\"https://recipe1.ezmember.co.kr/cache/recipe/2017/03/22/93dd58483544283879abe07cb3ca75961_m.jpg\"/>\n",
       " </a>\n",
       " </div>,\n",
       " <div class=\"common_sp_thumb\">\n",
       " <a class=\"common_sp_link\" href=\"/recipe/6845113\">\n",
       " <img src=\"https://recipe1.ezmember.co.kr/cache/recipe/2016/03/22/34653c3f0b81699d266dcfc1418365c01_m.jpg\"/>\n",
       " </a>\n",
       " </div>,\n",
       " <div class=\"common_sp_thumb\">\n",
       " <a class=\"common_sp_link\" href=\"/recipe/6950631\">\n",
       " <img src=\"https://recipe1.ezmember.co.kr/cache/recipe/2021/01/11/55c141605edc7676f08f75f8860976fc1_m.jpg\"/>\n",
       " </a>\n",
       " </div>,\n",
       " <div class=\"common_sp_thumb\">\n",
       " <a class=\"common_sp_link\" href=\"/recipe/6859263\">\n",
       " <img src=\"https://recipe1.ezmember.co.kr/cache/recipe/2016/10/27/462f2e2c70a260e044c4450bc18e6f651_m.jpg\"/>\n",
       " </a>\n",
       " </div>,\n",
       " <div class=\"common_sp_thumb\">\n",
       " <a class=\"common_sp_link\" href=\"/recipe/6906964\">\n",
       " <span class=\"common_vod_label\"><img src=\"https://recipe1.ezmember.co.kr/img/icon_vod.png\"/></span>\n",
       " <img src=\"https://recipe1.ezmember.co.kr/cache/recipe/2019/02/20/6fd60be06a02930c17493531497080ad1_m.jpg\"/>\n",
       " </a>\n",
       " </div>,\n",
       " <div class=\"common_sp_thumb\">\n",
       " <a class=\"common_sp_link\" href=\"/recipe/6877896\">\n",
       " <img src=\"https://recipe1.ezmember.co.kr/cache/recipe/2017/10/14/7804733868375a0baef063db54e8f6651_m.jpg\"/>\n",
       " </a>\n",
       " </div>,\n",
       " <div class=\"common_sp_thumb\">\n",
       " <a class=\"common_sp_link\" href=\"/recipe/6864674\">\n",
       " <span class=\"common_vod_label\"><img src=\"https://recipe1.ezmember.co.kr/img/icon_vod.png\"/></span>\n",
       " <img src=\"https://recipe1.ezmember.co.kr/cache/recipe/2017/02/02/82a199e83078f6c5d8c21c93ffcc72841_m.jpg\"/>\n",
       " </a>\n",
       " </div>,\n",
       " <div class=\"common_sp_thumb\">\n",
       " <a class=\"common_sp_link\" href=\"/recipe/6880798\">\n",
       " <img src=\"https://recipe1.ezmember.co.kr/cache/recipe/2017/12/11/8abb7bc5ceede607442029340e1b72011_m.jpg\"/>\n",
       " </a>\n",
       " </div>,\n",
       " <div class=\"common_sp_thumb\">\n",
       " <a class=\"common_sp_link\" href=\"/recipe/6951969\">\n",
       " <img src=\"https://recipe1.ezmember.co.kr/cache/recipe/2021/01/25/d6d02384f089d8b15d9cecc73c8685d61_m.jpg\"/>\n",
       " </a>\n",
       " </div>,\n",
       " <div class=\"common_sp_thumb\">\n",
       " <a class=\"common_sp_link\" href=\"/recipe/6887142\">\n",
       " <img src=\"https://recipe1.ezmember.co.kr/cache/recipe/2018/04/12/2076df59d8069db371742e6c146118db1_m.jpg\"/>\n",
       " </a>\n",
       " </div>,\n",
       " <div class=\"common_sp_thumb\">\n",
       " <a class=\"common_sp_link\" href=\"/recipe/6867849\">\n",
       " <img src=\"https://recipe1.ezmember.co.kr/cache/recipe/2017/04/03/4054908fb98f03d40783388c2889f1c81_m.jpg\"/>\n",
       " </a>\n",
       " </div>,\n",
       " <div class=\"common_sp_thumb\">\n",
       " <a class=\"common_sp_link\" href=\"/recipe/6950788\">\n",
       " <img src=\"https://recipe1.ezmember.co.kr/cache/recipe/2021/01/12/a88d467171ca755355402e17d222f9541_m.jpg\"/>\n",
       " </a>\n",
       " </div>,\n",
       " <div class=\"common_sp_thumb\">\n",
       " <a class=\"common_sp_link\" href=\"/recipe/6856832\">\n",
       " <img src=\"https://recipe1.ezmember.co.kr/cache/recipe/2016/09/11/8fb729f60e0286586178fdec4e0797631_m.jpg\"/>\n",
       " </a>\n",
       " </div>,\n",
       " <div class=\"common_sp_thumb\">\n",
       " <a class=\"common_sp_link\" href=\"/recipe/6871892\">\n",
       " <img src=\"https://recipe1.ezmember.co.kr/cache/recipe/2017/06/28/f700b6cfd480b078762c3c38fe874dd01_m.jpg\"/>\n",
       " </a>\n",
       " </div>,\n",
       " <div class=\"common_sp_thumb\">\n",
       " <a class=\"common_sp_link\" href=\"/recipe/6896724\">\n",
       " <img src=\"https://recipe1.ezmember.co.kr/cache/recipe/2018/09/28/bf1119e96115a8d19b2014d81c9e4fb41_m.jpg\"/>\n",
       " </a>\n",
       " </div>,\n",
       " <div class=\"common_sp_thumb\">\n",
       " <a class=\"common_sp_link\" href=\"/recipe/6911773\">\n",
       " <img src=\"https://recipe1.ezmember.co.kr/cache/recipe/2019/05/08/041b0bb036d80b013ab021d52db432a21_m.jpg\"/>\n",
       " </a>\n",
       " </div>,\n",
       " <div class=\"common_sp_thumb\">\n",
       " <a class=\"common_sp_link\" href=\"/recipe/6858080\">\n",
       " <img src=\"https://recipe1.ezmember.co.kr/cache/recipe/2016/10/07/f43063e718c49d85ddce4880e4a41fcd1_m.jpg\"/>\n",
       " </a>\n",
       " </div>,\n",
       " <div class=\"common_sp_thumb\">\n",
       " <a class=\"common_sp_link\" href=\"/recipe/6842557\">\n",
       " <img src=\"https://recipe1.ezmember.co.kr/cache/recipe/2016/02/03/d20cd7511bae1c3b5cc5b12c1a28ba621_m.jpg\"/>\n",
       " </a>\n",
       " </div>,\n",
       " <div class=\"common_sp_thumb\">\n",
       " <a class=\"common_sp_link\" href=\"/recipe/6832994\">\n",
       " <img src=\"https://recipe1.ezmember.co.kr/cache/recipe/2015/08/27/ddf0cdeeca2a368f03616d93b96f561b1_m.jpg\"/>\n",
       " </a>\n",
       " </div>,\n",
       " <div class=\"common_sp_thumb\">\n",
       " <a class=\"common_sp_link\" href=\"/recipe/6842257\">\n",
       " <img src=\"https://recipe1.ezmember.co.kr/cache/recipe/2016/01/28/3d80ea535856cd83b9261c564a05ac0a1_m.jpg\"/>\n",
       " </a>\n",
       " </div>,\n",
       " <div class=\"common_sp_thumb\">\n",
       " <a class=\"common_sp_link\" href=\"/recipe/6886559\">\n",
       " <img src=\"https://recipe1.ezmember.co.kr/cache/recipe/2018/04/02/1a3b68d046470bee7bb52c3cced16ad01_m.jpg\"/>\n",
       " </a>\n",
       " </div>,\n",
       " <div class=\"common_sp_thumb\">\n",
       " <a class=\"common_sp_link\" href=\"/recipe/6836180\">\n",
       " <img src=\"https://recipe1.ezmember.co.kr/cache/recipe/2015/10/14/434379c503e37e6964324965a79d3a101_m.jpg\"/>\n",
       " </a>\n",
       " </div>,\n",
       " <div class=\"common_sp_thumb\">\n",
       " <a class=\"common_sp_link\" href=\"/recipe/6936499\">\n",
       " <img src=\"https://recipe1.ezmember.co.kr/cache/recipe/2020/07/13/264ba8affc6e00b5310ed317a31082621_m.jpg\"/>\n",
       " </a>\n",
       " </div>,\n",
       " <div class=\"common_sp_thumb\">\n",
       " <a class=\"common_sp_link\" href=\"/recipe/6874753\">\n",
       " <img src=\"https://recipe1.ezmember.co.kr/cache/recipe/2017/08/15/625462cf13b58f318a267b6a3c95af411_m.jpg\"/>\n",
       " </a>\n",
       " </div>,\n",
       " <div class=\"common_sp_thumb\">\n",
       " <a class=\"common_sp_link\" href=\"/recipe/6902227\">\n",
       " <img src=\"https://recipe1.ezmember.co.kr/cache/recipe/2018/12/14/9827f3c6519cff324cba4a8b3b3b93521_m.jpg\"/>\n",
       " </a>\n",
       " </div>,\n",
       " <div class=\"common_sp_thumb\">\n",
       " <a class=\"common_sp_link\" href=\"/recipe/6909708\">\n",
       " <span class=\"common_vod_label\"><img src=\"https://recipe1.ezmember.co.kr/img/icon_vod.png\"/></span>\n",
       " <img src=\"https://recipe1.ezmember.co.kr/cache/recipe/2019/04/02/7c0478d424c831104d968abec62fdd681_m.jpg\"/>\n",
       " </a>\n",
       " </div>,\n",
       " <div class=\"common_sp_thumb\">\n",
       " <a class=\"common_sp_link\" href=\"/recipe/6929139\">\n",
       " <img src=\"https://recipe1.ezmember.co.kr/cache/recipe/2020/03/23/d2cfa26920bf103691c3b82b33686f101_m.jpg\"/>\n",
       " </a>\n",
       " </div>,\n",
       " <div class=\"common_sp_thumb\">\n",
       " <a class=\"common_sp_link\" href=\"/recipe/6881450\">\n",
       " <img src=\"https://recipe1.ezmember.co.kr/cache/recipe/2017/12/28/2ae16d56729371528da4a84b2afdb2f01_m.jpg\"/>\n",
       " </a>\n",
       " </div>,\n",
       " <div class=\"common_sp_thumb\">\n",
       " <a class=\"common_sp_link\" href=\"/recipe/6951123\">\n",
       " <img src=\"https://recipe1.ezmember.co.kr/cache/recipe/2021/01/15/5e4fbce723cce0c1a2a742b88857aaf21_m.jpg\"/>\n",
       " </a>\n",
       " </div>,\n",
       " <div class=\"common_sp_thumb\">\n",
       " <a class=\"common_sp_link\" href=\"/recipe/6922700\">\n",
       " <span class=\"common_vod_label\"><img src=\"https://recipe1.ezmember.co.kr/img/icon_vod.png\"/></span>\n",
       " <img src=\"https://recipe1.ezmember.co.kr/cache/recipe/2019/12/07/de9763ea2f67bde8eee04321f23b3f421_m.jpg\"/>\n",
       " </a>\n",
       " </div>,\n",
       " <div class=\"common_sp_thumb\">\n",
       " <a class=\"common_sp_link\" href=\"/recipe/6871949\">\n",
       " <img src=\"https://recipe1.ezmember.co.kr/cache/recipe/2017/06/29/82da685d18b957e40ba67fef4c2ffa261_m.jpg\"/>\n",
       " </a>\n",
       " </div>,\n",
       " <div class=\"common_sp_thumb\">\n",
       " <a class=\"common_sp_link\" href=\"/recipe/6906549\">\n",
       " <span class=\"common_vod_label\"><img src=\"https://recipe1.ezmember.co.kr/img/icon_vod.png\"/></span>\n",
       " <img src=\"https://recipe1.ezmember.co.kr/cache/recipe/2019/02/14/cec1a889bdc1f0a694ebef20d6f6cca31_m.jpg\"/>\n",
       " </a>\n",
       " </div>,\n",
       " <div class=\"common_sp_thumb\">\n",
       " <a class=\"common_sp_link\" href=\"/recipe/6840027\">\n",
       " <img src=\"https://recipe1.ezmember.co.kr/cache/recipe/2015/12/15/8c5985330bbbd967a694b4a994063df61_m.jpg\"/>\n",
       " </a>\n",
       " </div>,\n",
       " <div class=\"common_sp_thumb\">\n",
       " <a class=\"common_sp_link\" href=\"/recipe/6939866\">\n",
       " <span class=\"common_vod_label\"><img src=\"https://recipe1.ezmember.co.kr/img/icon_vod.png\"/></span>\n",
       " <img src=\"https://recipe1.ezmember.co.kr/cache/recipe/2020/08/21/3336b0488d63cfff12317af090542b411_m.jpg\"/>\n",
       " </a>\n",
       " </div>,\n",
       " <div class=\"common_sp_thumb\">\n",
       " <a class=\"common_sp_link\" href=\"/recipe/6862570\">\n",
       " <span class=\"common_vod_label\"><img src=\"https://recipe1.ezmember.co.kr/img/icon_vod.png\"/></span>\n",
       " <img src=\"https://recipe1.ezmember.co.kr/cache/recipe/2016/12/13/0f12719bc6d713fd727d5f1cd65ad6141_m.jpg\"/>\n",
       " </a>\n",
       " </div>,\n",
       " <div class=\"common_sp_thumb\">\n",
       " <a class=\"common_sp_link\" href=\"/recipe/6893285\">\n",
       " <img src=\"https://recipe1.ezmember.co.kr/cache/recipe/2018/07/29/52046ea43391de69233f594b0b52bb311_m.JPG\"/>\n",
       " </a>\n",
       " </div>,\n",
       " <div class=\"common_sp_thumb\">\n",
       " <a class=\"common_sp_link\" href=\"/recipe/6851683\">\n",
       " <span class=\"common_vod_label\"><img src=\"https://recipe1.ezmember.co.kr/img/icon_vod.png\"/></span>\n",
       " <img src=\"https://recipe1.ezmember.co.kr/cache/recipe/2016/06/27/d321ac09144d01034618570a6c6c10601_m.jpg\"/>\n",
       " </a>\n",
       " </div>,\n",
       " <div class=\"common_sp_thumb\">\n",
       " <a class=\"common_sp_link\" href=\"/recipe/6951200\">\n",
       " <img src=\"https://recipe1.ezmember.co.kr/cache/recipe/2021/01/16/cb2f1dec55fd879228d0891bdc7d61051_m.jpg\"/>\n",
       " </a>\n",
       " </div>,\n",
       " <div class=\"common_sp_thumb\">\n",
       " <a class=\"common_sp_link\" href=\"/recipe/6865385\">\n",
       " <img src=\"https://recipe1.ezmember.co.kr/cache/recipe/2017/02/16/c616f6e7631597fc927c79b5c0304e641_m.jpg\"/>\n",
       " </a>\n",
       " </div>,\n",
       " <div class=\"common_sp_thumb\">\n",
       " <a class=\"common_sp_link\" href=\"/recipe/6887815\">\n",
       " <img src=\"https://recipe1.ezmember.co.kr/cache/recipe/2018/04/24/d134b126dc63b239199d0dc0338cd7e91_m.jpg\"/>\n",
       " </a>\n",
       " </div>,\n",
       " <div class=\"common_sp_thumb\">\n",
       " <a class=\"common_sp_link\" href=\"/recipe/6870905\">\n",
       " <img src=\"https://recipe1.ezmember.co.kr/cache/recipe/2017/06/08/3a62fceac5fe753655719a636b9224b91_m.jpg\"/>\n",
       " </a>\n",
       " </div>,\n",
       " <div class=\"common_sp_thumb\">\n",
       " <a class=\"common_sp_link\" href=\"/recipe/6864526\">\n",
       " <span class=\"common_vod_label\"><img src=\"https://recipe1.ezmember.co.kr/img/icon_vod.png\"/></span>\n",
       " <img src=\"https://recipe1.ezmember.co.kr/cache/recipe/2017/01/30/e2dd583de10047c8088967db067e7c951_m.jpg\"/>\n",
       " </a>\n",
       " </div>,\n",
       " <div class=\"common_sp_thumb\">\n",
       " <a class=\"common_sp_link\" href=\"/recipe/6894323\">\n",
       " <span class=\"common_vod_label\"><img src=\"https://recipe1.ezmember.co.kr/img/icon_vod.png\"/></span>\n",
       " <img src=\"https://recipe1.ezmember.co.kr/cache/recipe/2018/08/17/d1d0c5999686a5ec11e426b79abf4a1a1_m.jpg\"/>\n",
       " </a>\n",
       " </div>,\n",
       " <div class=\"common_sp_thumb\">\n",
       " <a class=\"common_sp_link\" href=\"/recipe/6840689\">\n",
       " <img src=\"https://recipe1.ezmember.co.kr/cache/recipe/2015/12/24/7b10402a82606a5a3de6710c93a110f41_m.jpg\"/>\n",
       " </a>\n",
       " </div>,\n",
       " <div class=\"common_sp_thumb\">\n",
       " <a class=\"common_sp_link\" href=\"/recipe/6882083\">\n",
       " <img src=\"https://recipe1.ezmember.co.kr/cache/recipe/2018/01/10/e8d5ef99176a05174fc355648135ff241_m.jpg\"/>\n",
       " </a>\n",
       " </div>,\n",
       " <div class=\"common_sp_thumb\">\n",
       " <a class=\"common_sp_link\" href=\"/recipe/6899911\">\n",
       " <img src=\"https://recipe1.ezmember.co.kr/cache/recipe/2018/11/10/d0881f710b5d7f5c2ce3343b654ce7a01_m.jpg\"/>\n",
       " </a>\n",
       " </div>,\n",
       " <div class=\"common_sp_thumb\">\n",
       " <a class=\"common_sp_link\" href=\"/recipe/6869868\">\n",
       " <img src=\"https://recipe1.ezmember.co.kr/cache/recipe/2017/05/16/b00ed308bc14c97906af7865a371ac1d1_m.jpg\"/>\n",
       " </a>\n",
       " </div>,\n",
       " <div class=\"common_sp_thumb\">\n",
       " <a class=\"common_sp_link\" href=\"/recipe/6838943\">\n",
       " <img src=\"https://recipe1.ezmember.co.kr/cache/recipe/2015/12/01/bd2b8255a2f1bbcb66bf1faf04cdba531_m.jpg\"/>\n",
       " </a>\n",
       " </div>,\n",
       " <div class=\"common_sp_thumb\">\n",
       " <a class=\"common_sp_link\" href=\"/recipe/6830108\">\n",
       " <img src=\"https://recipe1.ezmember.co.kr/cache/recipe/2015/07/13/bb06ab5989980c0cbe23c69f6eca3f4a1_m.jpg\"/>\n",
       " </a>\n",
       " </div>,\n",
       " <div class=\"common_sp_thumb\">\n",
       " <a class=\"common_sp_link\" href=\"/recipe/6923068\">\n",
       " <span class=\"common_vod_label\"><img src=\"https://recipe1.ezmember.co.kr/img/icon_vod.png\"/></span>\n",
       " <img src=\"https://recipe1.ezmember.co.kr/cache/recipe/2021/01/22/f0bf8a6d9f81e19e1544830c96261cdc1_m.jpg\"/>\n",
       " </a>\n",
       " </div>,\n",
       " <div class=\"common_sp_thumb\">\n",
       " <a class=\"common_sp_link\" href=\"/recipe/6851866\">\n",
       " <img src=\"https://recipe1.ezmember.co.kr/cache/recipe/2016/06/30/40f07fd966df8d903a420f99f32d726a1_m.jpg\"/>\n",
       " </a>\n",
       " </div>,\n",
       " <div class=\"common_sp_thumb\">\n",
       " <a class=\"common_sp_link\" href=\"/recipe/6905889\">\n",
       " <img src=\"https://recipe1.ezmember.co.kr/cache/recipe/2019/02/03/b967403fe8c42c5814ea0042207a2c931_m.jpg\"/>\n",
       " </a>\n",
       " </div>,\n",
       " <div class=\"common_sp_thumb\">\n",
       " <a class=\"common_sp_link\" href=\"/recipe/6885129\">\n",
       " <img src=\"https://recipe1.ezmember.co.kr/cache/recipe/2018/03/08/316829aca5d34619bd40b7766ba33dc81_m.jpg\"/>\n",
       " </a>\n",
       " </div>,\n",
       " <div class=\"common_sp_thumb\">\n",
       " <a class=\"common_sp_link\" href=\"/recipe/6952404\">\n",
       " <img src=\"https://recipe1.ezmember.co.kr/cache/recipe/2021/01/31/d9f37d63505a5e6c4c0592e55d8bdb511_m.jpg\"/>\n",
       " </a>\n",
       " </div>,\n",
       " <div class=\"common_sp_thumb\">\n",
       " <a class=\"common_sp_link\" href=\"/recipe/6869801\">\n",
       " <span class=\"common_vod_label\"><img src=\"https://recipe1.ezmember.co.kr/img/icon_vod.png\"/></span>\n",
       " <img src=\"https://recipe1.ezmember.co.kr/cache/recipe/2017/05/15/804fa4c23455e1e1c0f9578452fd23ba1_m.jpg\"/>\n",
       " </a>\n",
       " </div>,\n",
       " <div class=\"common_sp_thumb\">\n",
       " <a class=\"common_sp_link\" href=\"/recipe/6882047\">\n",
       " <img src=\"https://recipe1.ezmember.co.kr/cache/recipe/2018/01/10/3e9acedd11374d9530bdcb872b832a6b1_m.jpg\"/>\n",
       " </a>\n",
       " </div>,\n",
       " <div class=\"common_sp_thumb\">\n",
       " <a class=\"common_sp_link\" href=\"/recipe/6905743\">\n",
       " <img src=\"https://recipe1.ezmember.co.kr/cache/recipe/2019/01/31/e8cab950076b23a80f16dd7858dd514e1_m.jpg\"/>\n",
       " </a>\n",
       " </div>,\n",
       " <div class=\"common_sp_thumb\">\n",
       " <a class=\"common_sp_link\" href=\"/recipe/6843373\">\n",
       " <img src=\"https://recipe1.ezmember.co.kr/cache/recipe/2016/02/14/7da2e6b650aa47b46f1b33028326a04b1_m.jpg\"/>\n",
       " </a>\n",
       " </div>,\n",
       " <div class=\"common_sp_thumb\">\n",
       " <a class=\"common_sp_link\" href=\"/recipe/6860042\">\n",
       " <img src=\"https://recipe1.ezmember.co.kr/cache/recipe/2016/11/07/3411b1e197efd6a2b6d5c4db7ff53e8c1_m.jpg\"/>\n",
       " </a>\n",
       " </div>,\n",
       " <div class=\"common_sp_thumb\">\n",
       " <a class=\"common_sp_link\" href=\"/recipe/6938068\">\n",
       " <img src=\"https://recipe1.ezmember.co.kr/cache/recipe/2020/07/30/502d93d3dbdf55a58a1d0f078dc32c771_m.jpg\"/>\n",
       " </a>\n",
       " </div>,\n",
       " <div class=\"common_sp_thumb\">\n",
       " <a class=\"common_sp_link\" href=\"/recipe/6872350\">\n",
       " <img src=\"https://recipe1.ezmember.co.kr/cache/recipe/2017/07/06/c807784ab41809f624a6a4a7466cd5bd1_m.jpg\"/>\n",
       " </a>\n",
       " </div>,\n",
       " <div class=\"common_sp_thumb\">\n",
       " <a class=\"common_sp_link\" href=\"/recipe/6893092\">\n",
       " <img src=\"https://recipe1.ezmember.co.kr/cache/recipe/2018/07/25/a6e0408192db3faffef005814c7cd7bb1_m.jpg\"/>\n",
       " </a>\n",
       " </div>,\n",
       " <div class=\"common_sp_thumb\">\n",
       " <a class=\"common_sp_link\" href=\"/recipe/6895383\">\n",
       " <img src=\"https://recipe1.ezmember.co.kr/cache/recipe/2018/09/06/fd90bc74ddb4580b2dad22c83b42ec6f1_m.jpg\"/>\n",
       " </a>\n",
       " </div>,\n",
       " <div class=\"common_sp_thumb\">\n",
       " <a class=\"common_sp_link\" href=\"/recipe/6944530\">\n",
       " <img src=\"https://recipe1.ezmember.co.kr/cache/recipe/2020/10/19/921ce315cb3450f4c83892b2b9d71b7a1_m.jpg\"/>\n",
       " </a>\n",
       " </div>,\n",
       " <div class=\"common_sp_thumb\">\n",
       " <a class=\"common_sp_link\" href=\"/recipe/6868654\">\n",
       " <img src=\"https://recipe1.ezmember.co.kr/cache/recipe/2017/04/19/2489603f3f2b36c8b1aaa9cb8fc5f5d11_m.jpg\"/>\n",
       " </a>\n",
       " </div>]"
      ]
     },
     "execution_count": 13,
     "metadata": {},
     "output_type": "execute_result"
    }
   ],
   "source": [
    "number_list"
   ]
  },
  {
   "cell_type": "code",
   "execution_count": 14,
   "metadata": {
    "ExecuteTime": {
     "end_time": "2021-02-05T04:23:50.848786Z",
     "start_time": "2021-02-05T04:23:50.842803Z"
    }
   },
   "outputs": [],
   "source": [
    "ranking_url=[]"
   ]
  },
  {
   "cell_type": "code",
   "execution_count": 16,
   "metadata": {
    "ExecuteTime": {
     "end_time": "2021-02-05T04:23:53.955816Z",
     "start_time": "2021-02-05T04:23:53.932742Z"
    }
   },
   "outputs": [
    {
     "name": "stdout",
     "output_type": "stream",
     "text": [
      "https://www.10000recipe.com/recipe/6884636\n",
      "https://www.10000recipe.com/recipe/6905536\n",
      "https://www.10000recipe.com/recipe/6951685\n",
      "https://www.10000recipe.com/recipe/6951500\n",
      "https://www.10000recipe.com/recipe/6879533\n",
      "https://www.10000recipe.com/recipe/6910367\n",
      "https://www.10000recipe.com/recipe/6845428\n",
      "https://www.10000recipe.com/recipe/6948438\n",
      "https://www.10000recipe.com/recipe/6864194\n",
      "https://www.10000recipe.com/recipe/6876357\n",
      "https://www.10000recipe.com/recipe/6885928\n",
      "https://www.10000recipe.com/recipe/6906655\n",
      "https://www.10000recipe.com/recipe/6894096\n",
      "https://www.10000recipe.com/recipe/6860645\n",
      "https://www.10000recipe.com/recipe/6912220\n",
      "https://www.10000recipe.com/recipe/6873683\n",
      "https://www.10000recipe.com/recipe/6948608\n",
      "https://www.10000recipe.com/recipe/6892728\n",
      "https://www.10000recipe.com/recipe/6903507\n",
      "https://www.10000recipe.com/recipe/6873935\n",
      "https://www.10000recipe.com/recipe/6841008\n",
      "https://www.10000recipe.com/recipe/6905196\n",
      "https://www.10000recipe.com/recipe/6876505\n",
      "https://www.10000recipe.com/recipe/6883937\n",
      "https://www.10000recipe.com/recipe/6878583\n",
      "https://www.10000recipe.com/recipe/6879215\n",
      "https://www.10000recipe.com/recipe/6891816\n",
      "https://www.10000recipe.com/recipe/6943514\n",
      "https://www.10000recipe.com/recipe/6850116\n",
      "https://www.10000recipe.com/recipe/6943099\n",
      "https://www.10000recipe.com/recipe/6951398\n",
      "https://www.10000recipe.com/recipe/6951246\n",
      "https://www.10000recipe.com/recipe/6951275\n",
      "https://www.10000recipe.com/recipe/6945137\n",
      "https://www.10000recipe.com/recipe/6896769\n",
      "https://www.10000recipe.com/recipe/6867256\n",
      "https://www.10000recipe.com/recipe/6845113\n",
      "https://www.10000recipe.com/recipe/6950631\n",
      "https://www.10000recipe.com/recipe/6859263\n",
      "https://www.10000recipe.com/recipe/6906964\n",
      "https://www.10000recipe.com/recipe/6877896\n",
      "https://www.10000recipe.com/recipe/6864674\n",
      "https://www.10000recipe.com/recipe/6880798\n",
      "https://www.10000recipe.com/recipe/6951969\n",
      "https://www.10000recipe.com/recipe/6887142\n",
      "https://www.10000recipe.com/recipe/6867849\n",
      "https://www.10000recipe.com/recipe/6950788\n",
      "https://www.10000recipe.com/recipe/6856832\n",
      "https://www.10000recipe.com/recipe/6871892\n",
      "https://www.10000recipe.com/recipe/6896724\n",
      "https://www.10000recipe.com/recipe/6911773\n",
      "https://www.10000recipe.com/recipe/6858080\n",
      "https://www.10000recipe.com/recipe/6842557\n",
      "https://www.10000recipe.com/recipe/6832994\n",
      "https://www.10000recipe.com/recipe/6842257\n",
      "https://www.10000recipe.com/recipe/6886559\n",
      "https://www.10000recipe.com/recipe/6836180\n",
      "https://www.10000recipe.com/recipe/6936499\n",
      "https://www.10000recipe.com/recipe/6874753\n",
      "https://www.10000recipe.com/recipe/6902227\n",
      "https://www.10000recipe.com/recipe/6909708\n",
      "https://www.10000recipe.com/recipe/6929139\n",
      "https://www.10000recipe.com/recipe/6881450\n",
      "https://www.10000recipe.com/recipe/6951123\n",
      "https://www.10000recipe.com/recipe/6922700\n",
      "https://www.10000recipe.com/recipe/6871949\n",
      "https://www.10000recipe.com/recipe/6906549\n",
      "https://www.10000recipe.com/recipe/6840027\n",
      "https://www.10000recipe.com/recipe/6939866\n",
      "https://www.10000recipe.com/recipe/6862570\n",
      "https://www.10000recipe.com/recipe/6893285\n",
      "https://www.10000recipe.com/recipe/6851683\n",
      "https://www.10000recipe.com/recipe/6951200\n",
      "https://www.10000recipe.com/recipe/6865385\n",
      "https://www.10000recipe.com/recipe/6887815\n",
      "https://www.10000recipe.com/recipe/6870905\n",
      "https://www.10000recipe.com/recipe/6864526\n",
      "https://www.10000recipe.com/recipe/6894323\n",
      "https://www.10000recipe.com/recipe/6840689\n",
      "https://www.10000recipe.com/recipe/6882083\n",
      "https://www.10000recipe.com/recipe/6899911\n",
      "https://www.10000recipe.com/recipe/6869868\n",
      "https://www.10000recipe.com/recipe/6838943\n",
      "https://www.10000recipe.com/recipe/6830108\n",
      "https://www.10000recipe.com/recipe/6923068\n",
      "https://www.10000recipe.com/recipe/6851866\n",
      "https://www.10000recipe.com/recipe/6905889\n",
      "https://www.10000recipe.com/recipe/6885129\n",
      "https://www.10000recipe.com/recipe/6952404\n",
      "https://www.10000recipe.com/recipe/6869801\n",
      "https://www.10000recipe.com/recipe/6882047\n",
      "https://www.10000recipe.com/recipe/6905743\n",
      "https://www.10000recipe.com/recipe/6843373\n",
      "https://www.10000recipe.com/recipe/6860042\n",
      "https://www.10000recipe.com/recipe/6938068\n",
      "https://www.10000recipe.com/recipe/6872350\n",
      "https://www.10000recipe.com/recipe/6893092\n",
      "https://www.10000recipe.com/recipe/6895383\n",
      "https://www.10000recipe.com/recipe/6944530\n",
      "https://www.10000recipe.com/recipe/6868654\n"
     ]
    }
   ],
   "source": [
    "for i in number_list:\n",
    "    print('https://www.10000recipe.com'+i.find('a')['href'])\n",
    "    ranking_url.append('https://www.10000recipe.com'+i.find('a')['href'])"
   ]
  },
  {
   "cell_type": "code",
   "execution_count": 17,
   "metadata": {
    "ExecuteTime": {
     "end_time": "2021-02-05T04:23:54.454178Z",
     "start_time": "2021-02-05T04:23:54.450636Z"
    }
   },
   "outputs": [],
   "source": [
    "csv_list = [['title','재료']]"
   ]
  },
  {
   "cell_type": "code",
   "execution_count": 18,
   "metadata": {
    "ExecuteTime": {
     "end_time": "2021-02-05T04:24:06.757278Z",
     "start_time": "2021-02-05T04:23:55.002722Z"
    },
    "title": "확실히 ChromDriver 보다 이렇게 진행하는게 속도가 빠르다"
   },
   "outputs": [
    {
     "name": "stderr",
     "output_type": "stream",
     "text": [
      "  0%|▍                                                                                 | 1/200 [00:11<38:19, 11.55s/it]\n"
     ]
    },
    {
     "ename": "KeyboardInterrupt",
     "evalue": "",
     "output_type": "error",
     "traceback": [
      "\u001b[1;31m---------------------------------------------------------------------------\u001b[0m",
      "\u001b[1;31mKeyboardInterrupt\u001b[0m                         Traceback (most recent call last)",
      "\u001b[1;32m<ipython-input-18-4cfd8a25c315>\u001b[0m in \u001b[0;36m<module>\u001b[1;34m\u001b[0m\n\u001b[0;32m     25\u001b[0m         \u001b[0mreq\u001b[0m \u001b[1;33m=\u001b[0m \u001b[0mrequests\u001b[0m\u001b[1;33m.\u001b[0m\u001b[0mget\u001b[0m\u001b[1;33m(\u001b[0m\u001b[0murl\u001b[0m\u001b[1;33m)\u001b[0m\u001b[1;33m\u001b[0m\u001b[1;33m\u001b[0m\u001b[0m\n\u001b[0;32m     26\u001b[0m         \u001b[0mhtml\u001b[0m \u001b[1;33m=\u001b[0m \u001b[0mreq\u001b[0m\u001b[1;33m.\u001b[0m\u001b[0mtext\u001b[0m\u001b[1;33m\u001b[0m\u001b[1;33m\u001b[0m\u001b[0m\n\u001b[1;32m---> 27\u001b[1;33m         \u001b[0msoup\u001b[0m \u001b[1;33m=\u001b[0m \u001b[0mBeautifulSoup\u001b[0m\u001b[1;33m(\u001b[0m\u001b[0mhtml\u001b[0m\u001b[1;33m,\u001b[0m\u001b[1;34m'html.parser'\u001b[0m\u001b[1;33m)\u001b[0m\u001b[1;33m\u001b[0m\u001b[1;33m\u001b[0m\u001b[0m\n\u001b[0m\u001b[0;32m     28\u001b[0m         \u001b[0mmovies\u001b[0m \u001b[1;33m=\u001b[0m \u001b[0msoup\u001b[0m\u001b[1;33m.\u001b[0m\u001b[0mfind\u001b[0m\u001b[1;33m(\u001b[0m\u001b[1;34m\"div\"\u001b[0m\u001b[1;33m,\u001b[0m\u001b[0mattrs\u001b[0m\u001b[1;33m=\u001b[0m\u001b[1;33m{\u001b[0m\u001b[1;34m'class'\u001b[0m\u001b[1;33m:\u001b[0m\u001b[1;34m'view2_summary st3'\u001b[0m\u001b[1;33m}\u001b[0m\u001b[1;33m)\u001b[0m\u001b[1;33m\u001b[0m\u001b[1;33m\u001b[0m\u001b[0m\n\u001b[0;32m     29\u001b[0m         \u001b[0mingredient\u001b[0m \u001b[1;33m=\u001b[0m \u001b[0msoup\u001b[0m\u001b[1;33m.\u001b[0m\u001b[0mfind\u001b[0m\u001b[1;33m(\u001b[0m\u001b[1;34m\"div\"\u001b[0m\u001b[1;33m,\u001b[0m\u001b[0mattrs\u001b[0m\u001b[1;33m=\u001b[0m\u001b[1;33m{\u001b[0m\u001b[1;34m'class'\u001b[0m\u001b[1;33m:\u001b[0m\u001b[1;34m'ready_ingre3'\u001b[0m\u001b[1;33m}\u001b[0m\u001b[1;33m)\u001b[0m\u001b[1;33m\u001b[0m\u001b[1;33m\u001b[0m\u001b[0m\n",
      "\u001b[1;32mc:\\users\\minisong\\appdata\\local\\programs\\python\\python37\\lib\\site-packages\\bs4\\__init__.py\u001b[0m in \u001b[0;36m__init__\u001b[1;34m(self, markup, features, builder, parse_only, from_encoding, exclude_encodings, element_classes, **kwargs)\u001b[0m\n\u001b[0;32m    346\u001b[0m             \u001b[0mself\u001b[0m\u001b[1;33m.\u001b[0m\u001b[0mreset\u001b[0m\u001b[1;33m(\u001b[0m\u001b[1;33m)\u001b[0m\u001b[1;33m\u001b[0m\u001b[1;33m\u001b[0m\u001b[0m\n\u001b[0;32m    347\u001b[0m             \u001b[1;32mtry\u001b[0m\u001b[1;33m:\u001b[0m\u001b[1;33m\u001b[0m\u001b[1;33m\u001b[0m\u001b[0m\n\u001b[1;32m--> 348\u001b[1;33m                 \u001b[0mself\u001b[0m\u001b[1;33m.\u001b[0m\u001b[0m_feed\u001b[0m\u001b[1;33m(\u001b[0m\u001b[1;33m)\u001b[0m\u001b[1;33m\u001b[0m\u001b[1;33m\u001b[0m\u001b[0m\n\u001b[0m\u001b[0;32m    349\u001b[0m                 \u001b[0msuccess\u001b[0m \u001b[1;33m=\u001b[0m \u001b[1;32mTrue\u001b[0m\u001b[1;33m\u001b[0m\u001b[1;33m\u001b[0m\u001b[0m\n\u001b[0;32m    350\u001b[0m                 \u001b[1;32mbreak\u001b[0m\u001b[1;33m\u001b[0m\u001b[1;33m\u001b[0m\u001b[0m\n",
      "\u001b[1;32mc:\\users\\minisong\\appdata\\local\\programs\\python\\python37\\lib\\site-packages\\bs4\\__init__.py\u001b[0m in \u001b[0;36m_feed\u001b[1;34m(self)\u001b[0m\n\u001b[0;32m    432\u001b[0m         \u001b[0mself\u001b[0m\u001b[1;33m.\u001b[0m\u001b[0mbuilder\u001b[0m\u001b[1;33m.\u001b[0m\u001b[0mreset\u001b[0m\u001b[1;33m(\u001b[0m\u001b[1;33m)\u001b[0m\u001b[1;33m\u001b[0m\u001b[1;33m\u001b[0m\u001b[0m\n\u001b[0;32m    433\u001b[0m \u001b[1;33m\u001b[0m\u001b[0m\n\u001b[1;32m--> 434\u001b[1;33m         \u001b[0mself\u001b[0m\u001b[1;33m.\u001b[0m\u001b[0mbuilder\u001b[0m\u001b[1;33m.\u001b[0m\u001b[0mfeed\u001b[0m\u001b[1;33m(\u001b[0m\u001b[0mself\u001b[0m\u001b[1;33m.\u001b[0m\u001b[0mmarkup\u001b[0m\u001b[1;33m)\u001b[0m\u001b[1;33m\u001b[0m\u001b[1;33m\u001b[0m\u001b[0m\n\u001b[0m\u001b[0;32m    435\u001b[0m         \u001b[1;31m# Close out any unfinished strings and close all the open tags.\u001b[0m\u001b[1;33m\u001b[0m\u001b[1;33m\u001b[0m\u001b[1;33m\u001b[0m\u001b[0m\n\u001b[0;32m    436\u001b[0m         \u001b[0mself\u001b[0m\u001b[1;33m.\u001b[0m\u001b[0mendData\u001b[0m\u001b[1;33m(\u001b[0m\u001b[1;33m)\u001b[0m\u001b[1;33m\u001b[0m\u001b[1;33m\u001b[0m\u001b[0m\n",
      "\u001b[1;32mc:\\users\\minisong\\appdata\\local\\programs\\python\\python37\\lib\\site-packages\\bs4\\builder\\_htmlparser.py\u001b[0m in \u001b[0;36mfeed\u001b[1;34m(self, markup)\u001b[0m\n\u001b[0;32m    375\u001b[0m         \u001b[0mparser\u001b[0m\u001b[1;33m.\u001b[0m\u001b[0msoup\u001b[0m \u001b[1;33m=\u001b[0m \u001b[0mself\u001b[0m\u001b[1;33m.\u001b[0m\u001b[0msoup\u001b[0m\u001b[1;33m\u001b[0m\u001b[1;33m\u001b[0m\u001b[0m\n\u001b[0;32m    376\u001b[0m         \u001b[1;32mtry\u001b[0m\u001b[1;33m:\u001b[0m\u001b[1;33m\u001b[0m\u001b[1;33m\u001b[0m\u001b[0m\n\u001b[1;32m--> 377\u001b[1;33m             \u001b[0mparser\u001b[0m\u001b[1;33m.\u001b[0m\u001b[0mfeed\u001b[0m\u001b[1;33m(\u001b[0m\u001b[0mmarkup\u001b[0m\u001b[1;33m)\u001b[0m\u001b[1;33m\u001b[0m\u001b[1;33m\u001b[0m\u001b[0m\n\u001b[0m\u001b[0;32m    378\u001b[0m             \u001b[0mparser\u001b[0m\u001b[1;33m.\u001b[0m\u001b[0mclose\u001b[0m\u001b[1;33m(\u001b[0m\u001b[1;33m)\u001b[0m\u001b[1;33m\u001b[0m\u001b[1;33m\u001b[0m\u001b[0m\n\u001b[0;32m    379\u001b[0m         \u001b[1;32mexcept\u001b[0m \u001b[0mHTMLParseError\u001b[0m \u001b[1;32mas\u001b[0m \u001b[0me\u001b[0m\u001b[1;33m:\u001b[0m\u001b[1;33m\u001b[0m\u001b[1;33m\u001b[0m\u001b[0m\n",
      "\u001b[1;32mc:\\users\\minisong\\appdata\\local\\programs\\python\\python37\\lib\\html\\parser.py\u001b[0m in \u001b[0;36mfeed\u001b[1;34m(self, data)\u001b[0m\n\u001b[0;32m    109\u001b[0m         \"\"\"\n\u001b[0;32m    110\u001b[0m         \u001b[0mself\u001b[0m\u001b[1;33m.\u001b[0m\u001b[0mrawdata\u001b[0m \u001b[1;33m=\u001b[0m \u001b[0mself\u001b[0m\u001b[1;33m.\u001b[0m\u001b[0mrawdata\u001b[0m \u001b[1;33m+\u001b[0m \u001b[0mdata\u001b[0m\u001b[1;33m\u001b[0m\u001b[1;33m\u001b[0m\u001b[0m\n\u001b[1;32m--> 111\u001b[1;33m         \u001b[0mself\u001b[0m\u001b[1;33m.\u001b[0m\u001b[0mgoahead\u001b[0m\u001b[1;33m(\u001b[0m\u001b[1;36m0\u001b[0m\u001b[1;33m)\u001b[0m\u001b[1;33m\u001b[0m\u001b[1;33m\u001b[0m\u001b[0m\n\u001b[0m\u001b[0;32m    112\u001b[0m \u001b[1;33m\u001b[0m\u001b[0m\n\u001b[0;32m    113\u001b[0m     \u001b[1;32mdef\u001b[0m \u001b[0mclose\u001b[0m\u001b[1;33m(\u001b[0m\u001b[0mself\u001b[0m\u001b[1;33m)\u001b[0m\u001b[1;33m:\u001b[0m\u001b[1;33m\u001b[0m\u001b[1;33m\u001b[0m\u001b[0m\n",
      "\u001b[1;32mc:\\users\\minisong\\appdata\\local\\programs\\python\\python37\\lib\\html\\parser.py\u001b[0m in \u001b[0;36mgoahead\u001b[1;34m(self, end)\u001b[0m\n\u001b[0;32m    171\u001b[0m                     \u001b[0mk\u001b[0m \u001b[1;33m=\u001b[0m \u001b[0mself\u001b[0m\u001b[1;33m.\u001b[0m\u001b[0mparse_starttag\u001b[0m\u001b[1;33m(\u001b[0m\u001b[0mi\u001b[0m\u001b[1;33m)\u001b[0m\u001b[1;33m\u001b[0m\u001b[1;33m\u001b[0m\u001b[0m\n\u001b[0;32m    172\u001b[0m                 \u001b[1;32melif\u001b[0m \u001b[0mstartswith\u001b[0m\u001b[1;33m(\u001b[0m\u001b[1;34m\"</\"\u001b[0m\u001b[1;33m,\u001b[0m \u001b[0mi\u001b[0m\u001b[1;33m)\u001b[0m\u001b[1;33m:\u001b[0m\u001b[1;33m\u001b[0m\u001b[1;33m\u001b[0m\u001b[0m\n\u001b[1;32m--> 173\u001b[1;33m                     \u001b[0mk\u001b[0m \u001b[1;33m=\u001b[0m \u001b[0mself\u001b[0m\u001b[1;33m.\u001b[0m\u001b[0mparse_endtag\u001b[0m\u001b[1;33m(\u001b[0m\u001b[0mi\u001b[0m\u001b[1;33m)\u001b[0m\u001b[1;33m\u001b[0m\u001b[1;33m\u001b[0m\u001b[0m\n\u001b[0m\u001b[0;32m    174\u001b[0m                 \u001b[1;32melif\u001b[0m \u001b[0mstartswith\u001b[0m\u001b[1;33m(\u001b[0m\u001b[1;34m\"<!--\"\u001b[0m\u001b[1;33m,\u001b[0m \u001b[0mi\u001b[0m\u001b[1;33m)\u001b[0m\u001b[1;33m:\u001b[0m\u001b[1;33m\u001b[0m\u001b[1;33m\u001b[0m\u001b[0m\n\u001b[0;32m    175\u001b[0m                     \u001b[0mk\u001b[0m \u001b[1;33m=\u001b[0m \u001b[0mself\u001b[0m\u001b[1;33m.\u001b[0m\u001b[0mparse_comment\u001b[0m\u001b[1;33m(\u001b[0m\u001b[0mi\u001b[0m\u001b[1;33m)\u001b[0m\u001b[1;33m\u001b[0m\u001b[1;33m\u001b[0m\u001b[0m\n",
      "\u001b[1;32mc:\\users\\minisong\\appdata\\local\\programs\\python\\python37\\lib\\html\\parser.py\u001b[0m in \u001b[0;36mparse_endtag\u001b[1;34m(self, i)\u001b[0m\n\u001b[0;32m    419\u001b[0m                 \u001b[1;32mreturn\u001b[0m \u001b[0mgtpos\u001b[0m\u001b[1;33m\u001b[0m\u001b[1;33m\u001b[0m\u001b[0m\n\u001b[0;32m    420\u001b[0m \u001b[1;33m\u001b[0m\u001b[0m\n\u001b[1;32m--> 421\u001b[1;33m         \u001b[0mself\u001b[0m\u001b[1;33m.\u001b[0m\u001b[0mhandle_endtag\u001b[0m\u001b[1;33m(\u001b[0m\u001b[0melem\u001b[0m\u001b[1;33m)\u001b[0m\u001b[1;33m\u001b[0m\u001b[1;33m\u001b[0m\u001b[0m\n\u001b[0m\u001b[0;32m    422\u001b[0m         \u001b[0mself\u001b[0m\u001b[1;33m.\u001b[0m\u001b[0mclear_cdata_mode\u001b[0m\u001b[1;33m(\u001b[0m\u001b[1;33m)\u001b[0m\u001b[1;33m\u001b[0m\u001b[1;33m\u001b[0m\u001b[0m\n\u001b[0;32m    423\u001b[0m         \u001b[1;32mreturn\u001b[0m \u001b[0mgtpos\u001b[0m\u001b[1;33m\u001b[0m\u001b[1;33m\u001b[0m\u001b[0m\n",
      "\u001b[1;32mc:\\users\\minisong\\appdata\\local\\programs\\python\\python37\\lib\\site-packages\\bs4\\builder\\_htmlparser.py\u001b[0m in \u001b[0;36mhandle_endtag\u001b[1;34m(self, name, check_already_closed)\u001b[0m\n\u001b[0;32m    185\u001b[0m             \u001b[0mself\u001b[0m\u001b[1;33m.\u001b[0m\u001b[0malready_closed_empty_element\u001b[0m\u001b[1;33m.\u001b[0m\u001b[0mremove\u001b[0m\u001b[1;33m(\u001b[0m\u001b[0mname\u001b[0m\u001b[1;33m)\u001b[0m\u001b[1;33m\u001b[0m\u001b[1;33m\u001b[0m\u001b[0m\n\u001b[0;32m    186\u001b[0m         \u001b[1;32melse\u001b[0m\u001b[1;33m:\u001b[0m\u001b[1;33m\u001b[0m\u001b[1;33m\u001b[0m\u001b[0m\n\u001b[1;32m--> 187\u001b[1;33m             \u001b[0mself\u001b[0m\u001b[1;33m.\u001b[0m\u001b[0msoup\u001b[0m\u001b[1;33m.\u001b[0m\u001b[0mhandle_endtag\u001b[0m\u001b[1;33m(\u001b[0m\u001b[0mname\u001b[0m\u001b[1;33m)\u001b[0m\u001b[1;33m\u001b[0m\u001b[1;33m\u001b[0m\u001b[0m\n\u001b[0m\u001b[0;32m    188\u001b[0m \u001b[1;33m\u001b[0m\u001b[0m\n\u001b[0;32m    189\u001b[0m     \u001b[1;32mdef\u001b[0m \u001b[0mhandle_data\u001b[0m\u001b[1;33m(\u001b[0m\u001b[0mself\u001b[0m\u001b[1;33m,\u001b[0m \u001b[0mdata\u001b[0m\u001b[1;33m)\u001b[0m\u001b[1;33m:\u001b[0m\u001b[1;33m\u001b[0m\u001b[1;33m\u001b[0m\u001b[0m\n",
      "\u001b[1;32mc:\\users\\minisong\\appdata\\local\\programs\\python\\python37\\lib\\site-packages\\bs4\\__init__.py\u001b[0m in \u001b[0;36mhandle_endtag\u001b[1;34m(self, name, nsprefix)\u001b[0m\n\u001b[0;32m    721\u001b[0m         \"\"\"\n\u001b[0;32m    722\u001b[0m         \u001b[1;31m#print(\"End tag: \" + name)\u001b[0m\u001b[1;33m\u001b[0m\u001b[1;33m\u001b[0m\u001b[1;33m\u001b[0m\u001b[0m\n\u001b[1;32m--> 723\u001b[1;33m         \u001b[0mself\u001b[0m\u001b[1;33m.\u001b[0m\u001b[0mendData\u001b[0m\u001b[1;33m(\u001b[0m\u001b[1;33m)\u001b[0m\u001b[1;33m\u001b[0m\u001b[1;33m\u001b[0m\u001b[0m\n\u001b[0m\u001b[0;32m    724\u001b[0m         \u001b[0mself\u001b[0m\u001b[1;33m.\u001b[0m\u001b[0m_popToTag\u001b[0m\u001b[1;33m(\u001b[0m\u001b[0mname\u001b[0m\u001b[1;33m,\u001b[0m \u001b[0mnsprefix\u001b[0m\u001b[1;33m)\u001b[0m\u001b[1;33m\u001b[0m\u001b[1;33m\u001b[0m\u001b[0m\n\u001b[0;32m    725\u001b[0m \u001b[1;33m\u001b[0m\u001b[0m\n",
      "\u001b[1;32mc:\\users\\minisong\\appdata\\local\\programs\\python\\python37\\lib\\site-packages\\bs4\\__init__.py\u001b[0m in \u001b[0;36mendData\u001b[1;34m(self, containerClass)\u001b[0m\n\u001b[0;32m    571\u001b[0m                 \u001b[1;32mreturn\u001b[0m\u001b[1;33m\u001b[0m\u001b[1;33m\u001b[0m\u001b[0m\n\u001b[0;32m    572\u001b[0m \u001b[1;33m\u001b[0m\u001b[0m\n\u001b[1;32m--> 573\u001b[1;33m             \u001b[0mo\u001b[0m \u001b[1;33m=\u001b[0m \u001b[0mcontainerClass\u001b[0m\u001b[1;33m(\u001b[0m\u001b[0mcurrent_data\u001b[0m\u001b[1;33m)\u001b[0m\u001b[1;33m\u001b[0m\u001b[1;33m\u001b[0m\u001b[0m\n\u001b[0m\u001b[0;32m    574\u001b[0m             \u001b[0mself\u001b[0m\u001b[1;33m.\u001b[0m\u001b[0mobject_was_parsed\u001b[0m\u001b[1;33m(\u001b[0m\u001b[0mo\u001b[0m\u001b[1;33m)\u001b[0m\u001b[1;33m\u001b[0m\u001b[1;33m\u001b[0m\u001b[0m\n\u001b[0;32m    575\u001b[0m \u001b[1;33m\u001b[0m\u001b[0m\n",
      "\u001b[1;32mc:\\users\\minisong\\appdata\\local\\programs\\python\\python37\\lib\\site-packages\\bs4\\element.py\u001b[0m in \u001b[0;36m__new__\u001b[1;34m(cls, value)\u001b[0m\n\u001b[0;32m    900\u001b[0m         \u001b[1;32melse\u001b[0m\u001b[1;33m:\u001b[0m\u001b[1;33m\u001b[0m\u001b[1;33m\u001b[0m\u001b[0m\n\u001b[0;32m    901\u001b[0m             \u001b[0mu\u001b[0m \u001b[1;33m=\u001b[0m \u001b[0mstr\u001b[0m\u001b[1;33m.\u001b[0m\u001b[0m__new__\u001b[0m\u001b[1;33m(\u001b[0m\u001b[0mcls\u001b[0m\u001b[1;33m,\u001b[0m \u001b[0mvalue\u001b[0m\u001b[1;33m,\u001b[0m \u001b[0mDEFAULT_OUTPUT_ENCODING\u001b[0m\u001b[1;33m)\u001b[0m\u001b[1;33m\u001b[0m\u001b[1;33m\u001b[0m\u001b[0m\n\u001b[1;32m--> 902\u001b[1;33m         \u001b[0mu\u001b[0m\u001b[1;33m.\u001b[0m\u001b[0msetup\u001b[0m\u001b[1;33m(\u001b[0m\u001b[1;33m)\u001b[0m\u001b[1;33m\u001b[0m\u001b[1;33m\u001b[0m\u001b[0m\n\u001b[0m\u001b[0;32m    903\u001b[0m         \u001b[1;32mreturn\u001b[0m \u001b[0mu\u001b[0m\u001b[1;33m\u001b[0m\u001b[1;33m\u001b[0m\u001b[0m\n\u001b[0;32m    904\u001b[0m \u001b[1;33m\u001b[0m\u001b[0m\n",
      "\u001b[1;32mc:\\users\\minisong\\appdata\\local\\programs\\python\\python37\\lib\\site-packages\\bs4\\element.py\u001b[0m in \u001b[0;36msetup\u001b[1;34m(self, parent, previous_element, next_element, previous_sibling, next_sibling)\u001b[0m\n\u001b[0;32m    177\u001b[0m         \u001b[0mself\u001b[0m\u001b[1;33m.\u001b[0m\u001b[0mparent\u001b[0m \u001b[1;33m=\u001b[0m \u001b[0mparent\u001b[0m\u001b[1;33m\u001b[0m\u001b[1;33m\u001b[0m\u001b[0m\n\u001b[0;32m    178\u001b[0m \u001b[1;33m\u001b[0m\u001b[0m\n\u001b[1;32m--> 179\u001b[1;33m         \u001b[0mself\u001b[0m\u001b[1;33m.\u001b[0m\u001b[0mprevious_element\u001b[0m \u001b[1;33m=\u001b[0m \u001b[0mprevious_element\u001b[0m\u001b[1;33m\u001b[0m\u001b[1;33m\u001b[0m\u001b[0m\n\u001b[0m\u001b[0;32m    180\u001b[0m         \u001b[1;32mif\u001b[0m \u001b[0mprevious_element\u001b[0m \u001b[1;32mis\u001b[0m \u001b[1;32mnot\u001b[0m \u001b[1;32mNone\u001b[0m\u001b[1;33m:\u001b[0m\u001b[1;33m\u001b[0m\u001b[1;33m\u001b[0m\u001b[0m\n\u001b[0;32m    181\u001b[0m             \u001b[0mself\u001b[0m\u001b[1;33m.\u001b[0m\u001b[0mprevious_element\u001b[0m\u001b[1;33m.\u001b[0m\u001b[0mnext_element\u001b[0m \u001b[1;33m=\u001b[0m \u001b[0mself\u001b[0m\u001b[1;33m\u001b[0m\u001b[1;33m\u001b[0m\u001b[0m\n",
      "\u001b[1;31mKeyboardInterrupt\u001b[0m: "
     ]
    }
   ],
   "source": [
    "\n",
    "'''\n",
    "url = 'https://www.10000recipe.com/recipe/6899265'\n",
    "req = requests.get(url)\n",
    "html = req.text\n",
    "soup = BeautifulSoup(html,'html.parser')\n",
    "movies = soup.find(\"div\",attrs={'class':'view2_summary st3'})\n",
    "ingredient = soup.find(\"div\",attrs={'class':'ready_ingre3'})\n",
    "browser.quit()\n",
    "재료=[]\n",
    "title=soup.find(\"h3\").text\n",
    "t=ingredient.find_all('a')\n",
    "for i in t:\n",
    "    재료.append(i.text.strip().replace(\" \",\"\").replace(\"\\n\",\" \"))\n",
    "하나=[]\n",
    "하나.append(title)\n",
    "하나.append(재료)\n",
    "csv_list.append(하나)\n",
    "'''\n",
    "\n",
    "\n",
    "\n",
    "for url_ in tqdm(ranking_url):\n",
    "    try:\n",
    "        url = url_\n",
    "        req = requests.get(url)\n",
    "        html = req.text\n",
    "        soup = BeautifulSoup(html,'html.parser')\n",
    "        movies = soup.find(\"div\",attrs={'class':'view2_summary st3'})\n",
    "        ingredient = soup.find(\"div\",attrs={'class':'ready_ingre3'})\n",
    "        browser.quit()\n",
    "        재료=[]\n",
    "        title=soup.find(\"h3\").text\n",
    "        t=ingredient.find_all('a')\n",
    "        for i in t:\n",
    "            재료.append(i.text.strip().replace(\" \",\"\").replace(\"\\n\",\" \"))\n",
    "        하나=[]\n",
    "        하나.append(title)\n",
    "        하나.append(재료)\n",
    "        csv_list.append(하나)\n",
    "    except Exception:\n",
    "        pass\n",
    "\n",
    "csv_list\n",
    "\n",
    "csv_list\n",
    "\n",
    "import pandas as pd\n",
    "\n",
    "바꾸자=pd.DataFrame(csv_list)\n",
    "\n",
    "바꾸자\n",
    "\n",
    "\n",
    "바꾸자.to_csv('웹스크래핑.csv',encoding='utf-8-sig',header=False)\n",
    "\n"
   ]
  },
  {
   "cell_type": "code",
   "execution_count": 22,
   "metadata": {
    "ExecuteTime": {
     "end_time": "2021-02-05T04:25:19.897950Z",
     "start_time": "2021-02-05T04:24:34.351882Z"
    }
   },
   "outputs": [
    {
     "name": "stderr",
     "output_type": "stream",
     "text": [
      " 10%|████████▎                                                                          | 1/10 [00:04<00:40,  4.50s/it]"
     ]
    },
    {
     "name": "stdout",
     "output_type": "stream",
     "text": [
      "40\n"
     ]
    },
    {
     "name": "stderr",
     "output_type": "stream",
     "text": [
      "\r",
      " 20%|████████████████▌                                                                  | 2/10 [00:09<00:36,  4.51s/it]"
     ]
    },
    {
     "name": "stdout",
     "output_type": "stream",
     "text": [
      "80\n"
     ]
    },
    {
     "name": "stderr",
     "output_type": "stream",
     "text": [
      "\r",
      " 30%|████████████████████████▉                                                          | 3/10 [00:13<00:31,  4.54s/it]"
     ]
    },
    {
     "name": "stdout",
     "output_type": "stream",
     "text": [
      "120\n"
     ]
    },
    {
     "name": "stderr",
     "output_type": "stream",
     "text": [
      "\r",
      " 40%|█████████████████████████████████▏                                                 | 4/10 [00:18<00:27,  4.52s/it]"
     ]
    },
    {
     "name": "stdout",
     "output_type": "stream",
     "text": [
      "160\n"
     ]
    },
    {
     "name": "stderr",
     "output_type": "stream",
     "text": [
      "\r",
      " 50%|█████████████████████████████████████████▌                                         | 5/10 [00:22<00:22,  4.55s/it]"
     ]
    },
    {
     "name": "stdout",
     "output_type": "stream",
     "text": [
      "200\n"
     ]
    },
    {
     "name": "stderr",
     "output_type": "stream",
     "text": [
      "\r",
      " 60%|█████████████████████████████████████████████████▊                                 | 6/10 [00:27<00:18,  4.58s/it]"
     ]
    },
    {
     "name": "stdout",
     "output_type": "stream",
     "text": [
      "240\n"
     ]
    },
    {
     "name": "stderr",
     "output_type": "stream",
     "text": [
      "\r",
      " 70%|██████████████████████████████████████████████████████████                         | 7/10 [00:31<00:13,  4.57s/it]"
     ]
    },
    {
     "name": "stdout",
     "output_type": "stream",
     "text": [
      "280\n"
     ]
    },
    {
     "name": "stderr",
     "output_type": "stream",
     "text": [
      "\r",
      " 80%|██████████████████████████████████████████████████████████████████▍                | 8/10 [00:36<00:09,  4.55s/it]"
     ]
    },
    {
     "name": "stdout",
     "output_type": "stream",
     "text": [
      "320\n"
     ]
    },
    {
     "name": "stderr",
     "output_type": "stream",
     "text": [
      "\r",
      " 90%|██████████████████████████████████████████████████████████████████████████▋        | 9/10 [00:41<00:04,  4.56s/it]"
     ]
    },
    {
     "name": "stdout",
     "output_type": "stream",
     "text": [
      "360\n"
     ]
    },
    {
     "name": "stderr",
     "output_type": "stream",
     "text": [
      "100%|██████████████████████████████████████████████████████████████████████████████████| 10/10 [00:45<00:00,  4.55s/it]"
     ]
    },
    {
     "name": "stdout",
     "output_type": "stream",
     "text": [
      "400\n"
     ]
    },
    {
     "name": "stderr",
     "output_type": "stream",
     "text": [
      "\n"
     ]
    }
   ],
   "source": [
    "url_1000개=[]\n",
    "\n",
    "for i in tqdm(range(1,11)):\n",
    "    try:\n",
    "        url = 'https://www.10000recipe.com/recipe/list.html?cat3=70&order=reco&page='+str(i)\n",
    "        req = requests.get(url)\n",
    "        html = req.text\n",
    "        soup = BeautifulSoup(html,'html.parser')\n",
    "        소고기_number_list=soup.find_all(\"div\",attrs={'class':'common_sp_thumb'})\n",
    "        for i in 소고기_number_list:\n",
    "            url_1000개.append('https://www.10000recipe.com' + i.find('a')['href'])\n",
    "        browser.quit()\n",
    "        print(len(url_1000개))\n",
    "    except Exception:\n",
    "        pass"
   ]
  },
  {
   "cell_type": "code",
   "execution_count": 23,
   "metadata": {
    "ExecuteTime": {
     "end_time": "2021-02-05T04:25:32.723730Z",
     "start_time": "2021-02-05T04:25:28.317006Z"
    }
   },
   "outputs": [],
   "source": [
    "url = 'https://www.10000recipe.com/recipe/list.html?cat3=70&order=reco&page=1'\n",
    "req = requests.get(url)\n",
    "html = req.text\n",
    "soup = BeautifulSoup(html,'html.parser')\n",
    "소고기_number_list=soup.find_all(\"div\",attrs={'class':'common_sp_thumb'})\n",
    "\n",
    "browser.quit()"
   ]
  },
  {
   "cell_type": "code",
   "execution_count": 24,
   "metadata": {
    "ExecuteTime": {
     "end_time": "2021-02-05T04:25:32.751442Z",
     "start_time": "2021-02-05T04:25:32.733612Z"
    }
   },
   "outputs": [
    {
     "data": {
      "text/plain": [
       "400"
      ]
     },
     "execution_count": 24,
     "metadata": {},
     "output_type": "execute_result"
    }
   ],
   "source": [
    "len(url_1000개)"
   ]
  },
  {
   "cell_type": "code",
   "execution_count": 25,
   "metadata": {
    "ExecuteTime": {
     "end_time": "2021-02-05T04:25:32.785470Z",
     "start_time": "2021-02-05T04:25:32.765398Z"
    }
   },
   "outputs": [
    {
     "data": {
      "text/plain": [
       "'https://www.10000recipe.com/recipe/6911921'"
      ]
     },
     "execution_count": 25,
     "metadata": {},
     "output_type": "execute_result"
    }
   ],
   "source": [
    "url_1000개[230]"
   ]
  },
  {
   "cell_type": "code",
   "execution_count": 36,
   "metadata": {
    "ExecuteTime": {
     "end_time": "2021-02-05T05:05:53.631495Z",
     "start_time": "2021-02-05T04:35:13.677172Z"
    },
    "lines_to_next_cell": 0
   },
   "outputs": [
    {
     "name": "stderr",
     "output_type": "stream",
     "text": [
      "100%|████████████████████████████████████████████████████████████████████████████████| 400/400 [30:39<00:00,  4.60s/it]\n"
     ]
    }
   ],
   "source": [
    "\n",
    "csv_list=[['title','재료','태그']]\n",
    "for url_ in tqdm(url_1000개):\n",
    "    try:\n",
    "        url = url_\n",
    "        req = requests.get(url)\n",
    "        html = req.text\n",
    "        soup = BeautifulSoup(html,'html.parser')\n",
    "        #movies = soup.find(\"div\",attrs={'class':'view2_summary st3'})\n",
    "        ingredient = soup.find(\"div\",attrs={'class':'ready_ingre3'})\n",
    "        browser.quit()\n",
    "        재료=[]\n",
    "        title=soup.find(\"h3\").text\n",
    "        t=ingredient.find_all('a')\n",
    "        s=soup.find(\"div\", attrs={'class':\"view_tag\"})\n",
    "        tag=[]\n",
    "        for i in s:\n",
    "            tag.append(i.text.replace('#',''))\n",
    "        for i in t:\n",
    "            재료.append(i.text.strip().replace(\" \",\"\").replace(\"\\n\",\" \"))\n",
    "        하나=[]\n",
    "        하나.append(title)\n",
    "        하나.append(재료)\n",
    "        하나.append(tag)\n",
    "        csv_list.append(하나)\n",
    "    except Exception:\n",
    "        pass"
   ]
  },
  {
   "cell_type": "code",
   "execution_count": 37,
   "metadata": {
    "ExecuteTime": {
     "end_time": "2021-02-05T08:33:42.155359Z",
     "start_time": "2021-02-05T08:33:40.141628Z"
    },
    "lines_to_next_cell": 2
   },
   "outputs": [],
   "source": [
    "import pandas as pd\n",
    "\n",
    "바꾸자=pd.DataFrame(csv_list)\n",
    "바꾸자.to_csv('웹스크래핑_400.csv',encoding='utf-8-sig',header=False)\n"
   ]
  },
  {
   "cell_type": "code",
   "execution_count": null,
   "metadata": {},
   "outputs": [],
   "source": []
  }
 ],
 "metadata": {
  "hide_input": false,
  "jupytext": {
   "encoding": "# -*- coding: utf-8 -*-",
   "formats": "ipynb,py:light"
  },
  "kernelspec": {
   "display_name": "Python 3",
   "language": "python",
   "name": "python3"
  },
  "language_info": {
   "codemirror_mode": {
    "name": "ipython",
    "version": 3
   },
   "file_extension": ".py",
   "mimetype": "text/x-python",
   "name": "python",
   "nbconvert_exporter": "python",
   "pygments_lexer": "ipython3",
   "version": "3.7.6"
  }
 },
 "nbformat": 4,
 "nbformat_minor": 4
}
