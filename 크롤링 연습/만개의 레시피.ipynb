{
 "cells": [
  {
   "cell_type": "code",
   "execution_count": 22,
   "metadata": {
    "ExecuteTime": {
     "end_time": "2021-02-08T13:41:29.521970Z",
     "start_time": "2021-02-08T13:41:29.512975Z"
    }
   },
   "outputs": [
    {
     "name": "stdout",
     "output_type": "stream",
     "text": [
      "포함 ab\n",
      "포함 b\n",
      "미포함 c\n",
      "포함 a\n",
      "미포함 d\n"
     ]
    }
   ],
   "source": [
    "qwe =[['ab'],['b'],['c','a'],['d']]\n",
    "\n",
    "for i in qwe:\n",
    "    for j in i:\n",
    "        if 'a' in j:\n",
    "            print('포함',j)\n",
    "        elif 'b' in j:\n",
    "            print(\"포함\",j)\n",
    "        else:\n",
    "            print('미포함',j)"
   ]
  },
  {
   "cell_type": "code",
   "execution_count": 1,
   "metadata": {
    "ExecuteTime": {
     "end_time": "2021-02-24T03:52:24.548219Z",
     "start_time": "2021-02-24T03:52:23.534221Z"
    }
   },
   "outputs": [],
   "source": [
    "import requests\n",
    "from bs4 import BeautifulSoup\n",
    "from selenium import webdriver\n",
    "from tqdm import tqdm"
   ]
  },
  {
   "cell_type": "code",
   "execution_count": 2,
   "metadata": {
    "ExecuteTime": {
     "end_time": "2021-02-24T03:52:42.228326Z",
     "start_time": "2021-02-24T03:52:29.204724Z"
    },
    "lines_to_end_of_cell_marker": 2
   },
   "outputs": [],
   "source": [
    "from selenium import webdriver\n",
    "\n",
    "#내부적 설계\n",
    "options = webdriver.ChromeOptions()\n",
    "options.headless = True\n",
    "options.add_argument(\"windows-size=1920*1080\")\n",
    "options.add_argument(\"user-agent=Mozilla/5.0 (Windows NT 10.0; Win64; x64) AppleWebKit/537.36 (KHTML, like Gecko) Chrome/87.0.4280.88 Safari/537.36\")\n",
    "\n",
    "browser = webdriver.Chrome(options=options)\n",
    "browser.maximize_window()\n",
    "url = \"https://www.10000recipe.com/ranking/home_new.html\"\n",
    "browser.get(url)\n",
    "import requests\n",
    "from bs4 import BeautifulSoup\n",
    "soup = BeautifulSoup(browser.page_source,'lxml')\n",
    "#'ImZGtf mpg5gc'\n",
    "movies = soup.find(\"div\",attrs={'class':'view2_summary st3'})\n",
    "title=soup.find(\"h3\").text\n",
    "ingredient = soup.find(\"div\",attrs={'class':'ready_ingre3'})\n",
    "#a=browser.find_element_by_xpath(\"//*[@id='contents_area']/div[2]/h3\")\n",
    "#print(a)\n",
    "browser.quit()"
   ]
  },
  {
   "cell_type": "code",
   "execution_count": 3,
   "metadata": {
    "ExecuteTime": {
     "end_time": "2021-02-24T03:52:42.256246Z",
     "start_time": "2021-02-24T03:52:42.230295Z"
    }
   },
   "outputs": [],
   "source": [
    "number_list=soup.find_all(\"div\",attrs={'class':'common_sp_thumb'})"
   ]
  },
  {
   "cell_type": "code",
   "execution_count": 4,
   "metadata": {
    "ExecuteTime": {
     "end_time": "2021-02-24T03:52:42.273174Z",
     "start_time": "2021-02-24T03:52:42.259212Z"
    }
   },
   "outputs": [
    {
     "data": {
      "text/plain": [
       "100"
      ]
     },
     "execution_count": 4,
     "metadata": {},
     "output_type": "execute_result"
    }
   ],
   "source": [
    "len(number_list)"
   ]
  },
  {
   "cell_type": "code",
   "execution_count": 5,
   "metadata": {
    "ExecuteTime": {
     "end_time": "2021-02-24T03:52:42.295145Z",
     "start_time": "2021-02-24T03:52:42.277163Z"
    }
   },
   "outputs": [
    {
     "data": {
      "text/plain": [
       "[<div class=\"common_sp_thumb\">\n",
       " <a class=\"common_sp_link\" href=\"/recipe/6906655\">\n",
       " <span class=\"common_vod_label\"><img src=\"https://recipe1.ezmember.co.kr/img/icon_vod.png\"/></span>\n",
       " <img src=\"https://recipe1.ezmember.co.kr/cache/recipe/2019/02/15/51440490a12476fc20860f3e9bde29781_m.jpg\"/>\n",
       " </a>\n",
       " </div>,\n",
       " <div class=\"common_sp_thumb\">\n",
       " <a class=\"common_sp_link\" href=\"/recipe/6862912\">\n",
       " <span class=\"common_vod_label\"><img src=\"https://recipe1.ezmember.co.kr/img/icon_vod.png\"/></span>\n",
       " <img src=\"https://recipe1.ezmember.co.kr/cache/recipe/2016/12/20/68e4e9c3f6a5b7b508625506b1e9d1541_m.jpg\"/>\n",
       " </a>\n",
       " </div>,\n",
       " <div class=\"common_sp_thumb\">\n",
       " <a class=\"common_sp_link\" href=\"/recipe/6912220\">\n",
       " <span class=\"common_vod_label\"><img src=\"https://recipe1.ezmember.co.kr/img/icon_vod.png\"/></span>\n",
       " <img src=\"https://recipe1.ezmember.co.kr/cache/recipe/2019/08/07/8683a91920e8857cc7aba8fd79da46a91_m.jpg\"/>\n",
       " </a>\n",
       " </div>,\n",
       " <div class=\"common_sp_thumb\">\n",
       " <a class=\"common_sp_link\" href=\"/recipe/6951679\">\n",
       " <img src=\"https://recipe1.ezmember.co.kr/cache/recipe/2021/01/21/9810cfe3007b35eddcf58747765db4121_m.jpg\"/>\n",
       " </a>\n",
       " </div>,\n",
       " <div class=\"common_sp_thumb\">\n",
       " <a class=\"common_sp_link\" href=\"/recipe/6879533\">\n",
       " <img src=\"https://recipe1.ezmember.co.kr/cache/recipe/2017/11/14/a2d4839b5743d121d4d2b46fdbc9aa5b1_m.jpg\"/>\n",
       " </a>\n",
       " </div>,\n",
       " <div class=\"common_sp_thumb\">\n",
       " <a class=\"common_sp_link\" href=\"/recipe/6894096\">\n",
       " <span class=\"common_vod_label\"><img src=\"https://recipe1.ezmember.co.kr/img/icon_vod.png\"/></span>\n",
       " <img src=\"https://recipe1.ezmember.co.kr/cache/recipe/2018/08/13/3233d427883d15239f297aeeaf1775531_m.jpg\"/>\n",
       " </a>\n",
       " </div>,\n",
       " <div class=\"common_sp_thumb\">\n",
       " <a class=\"common_sp_link\" href=\"/recipe/6845428\">\n",
       " <img src=\"https://recipe1.ezmember.co.kr/cache/recipe/2016/03/27/3b2359adaaaff4853eecfa07a04ac3a71_m.jpg\"/>\n",
       " </a>\n",
       " </div>,\n",
       " <div class=\"common_sp_thumb\">\n",
       " <a class=\"common_sp_link\" href=\"/recipe/6876357\">\n",
       " <span class=\"common_vod_label\"><img src=\"https://recipe1.ezmember.co.kr/img/icon_vod.png\"/></span>\n",
       " <img src=\"https://recipe1.ezmember.co.kr/cache/recipe/2017/09/12/e082636233ee03a012fc656d428df5971_m.jpg\"/>\n",
       " </a>\n",
       " </div>,\n",
       " <div class=\"common_sp_thumb\">\n",
       " <a class=\"common_sp_link\" href=\"/recipe/6884636\">\n",
       " <img src=\"https://recipe1.ezmember.co.kr/cache/recipe/2018/02/27/b5806f01ccb6f6d5d9aa94bdd6f4287e1_m.jpg\"/>\n",
       " </a>\n",
       " </div>,\n",
       " <div class=\"common_sp_thumb\">\n",
       " <a class=\"common_sp_link\" href=\"/recipe/6859263\">\n",
       " <img src=\"https://recipe1.ezmember.co.kr/cache/recipe/2016/10/27/462f2e2c70a260e044c4450bc18e6f651_m.jpg\"/>\n",
       " </a>\n",
       " </div>,\n",
       " <div class=\"common_sp_thumb\">\n",
       " <a class=\"common_sp_link\" href=\"/recipe/6873683\">\n",
       " <img src=\"https://recipe1.ezmember.co.kr/cache/recipe/2017/07/28/860484b80033e84a3584a366ae903a0d1_m.jpg\"/>\n",
       " </a>\n",
       " </div>,\n",
       " <div class=\"common_sp_thumb\">\n",
       " <a class=\"common_sp_link\" href=\"/recipe/6886559\">\n",
       " <img src=\"https://recipe1.ezmember.co.kr/cache/recipe/2018/04/02/1a3b68d046470bee7bb52c3cced16ad01_m.jpg\"/>\n",
       " </a>\n",
       " </div>,\n",
       " <div class=\"common_sp_thumb\">\n",
       " <a class=\"common_sp_link\" href=\"/recipe/6873935\">\n",
       " <img src=\"https://recipe1.ezmember.co.kr/cache/recipe/2017/08/02/85d454a30f1eed0592d7684d9bd4e1c91_m.jpg\"/>\n",
       " </a>\n",
       " </div>,\n",
       " <div class=\"common_sp_thumb\">\n",
       " <a class=\"common_sp_link\" href=\"/recipe/6841008\">\n",
       " <img src=\"https://recipe1.ezmember.co.kr/cache/recipe/2016/01/03/2719de5f7ea19aceb5b859d36b853b481_m.jpg\"/>\n",
       " </a>\n",
       " </div>,\n",
       " <div class=\"common_sp_thumb\">\n",
       " <a class=\"common_sp_link\" href=\"/recipe/6923068\">\n",
       " <span class=\"common_vod_label\"><img src=\"https://recipe1.ezmember.co.kr/img/icon_vod.png\"/></span>\n",
       " <img src=\"https://recipe1.ezmember.co.kr/cache/recipe/2021/01/22/f0bf8a6d9f81e19e1544830c96261cdc1_m.jpg\"/>\n",
       " </a>\n",
       " </div>,\n",
       " <div class=\"common_sp_thumb\">\n",
       " <a class=\"common_sp_link\" href=\"/recipe/6879215\">\n",
       " <img src=\"https://recipe1.ezmember.co.kr/cache/recipe/2017/11/07/ca8c24608189aaf9d376f14b3f3be57c1_m.jpg\"/>\n",
       " </a>\n",
       " </div>,\n",
       " <div class=\"common_sp_thumb\">\n",
       " <a class=\"common_sp_link\" href=\"/recipe/6903507\">\n",
       " <img src=\"https://recipe1.ezmember.co.kr/cache/recipe/2019/01/04/518d5bf35102aa51bf58078f7a25dc751_m.jpg\"/>\n",
       " </a>\n",
       " </div>,\n",
       " <div class=\"common_sp_thumb\">\n",
       " <a class=\"common_sp_link\" href=\"/recipe/6883937\">\n",
       " <img src=\"https://recipe1.ezmember.co.kr/cache/recipe/2018/02/13/e0649f3f0b446f39c9a7bdff70d953691_m.jpg\"/>\n",
       " </a>\n",
       " </div>,\n",
       " <div class=\"common_sp_thumb\">\n",
       " <a class=\"common_sp_link\" href=\"/recipe/6910367\">\n",
       " <img src=\"https://recipe1.ezmember.co.kr/cache/recipe/2019/04/12/db0fb535f6298cd76ded5a502874343a1_m.jpg\"/>\n",
       " </a>\n",
       " </div>,\n",
       " <div class=\"common_sp_thumb\">\n",
       " <a class=\"common_sp_link\" href=\"/recipe/6845113\">\n",
       " <img src=\"https://recipe1.ezmember.co.kr/cache/recipe/2016/03/22/34653c3f0b81699d266dcfc1418365c01_m.jpg\"/>\n",
       " </a>\n",
       " </div>,\n",
       " <div class=\"common_sp_thumb\">\n",
       " <a class=\"common_sp_link\" href=\"/recipe/6864674\">\n",
       " <span class=\"common_vod_label\"><img src=\"https://recipe1.ezmember.co.kr/img/icon_vod.png\"/></span>\n",
       " <img src=\"https://recipe1.ezmember.co.kr/cache/recipe/2017/02/02/82a199e83078f6c5d8c21c93ffcc72841_m.jpg\"/>\n",
       " </a>\n",
       " </div>,\n",
       " <div class=\"common_sp_thumb\">\n",
       " <a class=\"common_sp_link\" href=\"/recipe/6893285\">\n",
       " <img src=\"https://recipe1.ezmember.co.kr/cache/recipe/2018/07/29/52046ea43391de69233f594b0b52bb311_m.JPG\"/>\n",
       " </a>\n",
       " </div>,\n",
       " <div class=\"common_sp_thumb\">\n",
       " <a class=\"common_sp_link\" href=\"/recipe/6886709\">\n",
       " <img src=\"https://recipe1.ezmember.co.kr/cache/recipe/2018/04/04/d5a0c3f024032b201b099f39c45d77641_m.jpg\"/>\n",
       " </a>\n",
       " </div>,\n",
       " <div class=\"common_sp_thumb\">\n",
       " <a class=\"common_sp_link\" href=\"/recipe/6891816\">\n",
       " <img src=\"https://recipe1.ezmember.co.kr/cache/recipe/2018/07/02/760e92406112f6a0ad98d84844cbfc7e1_m.jpg\"/>\n",
       " </a>\n",
       " </div>,\n",
       " <div class=\"common_sp_thumb\">\n",
       " <a class=\"common_sp_link\" href=\"/recipe/6877896\">\n",
       " <img src=\"https://recipe1.ezmember.co.kr/cache/recipe/2017/10/14/7804733868375a0baef063db54e8f6651_m.jpg\"/>\n",
       " </a>\n",
       " </div>,\n",
       " <div class=\"common_sp_thumb\">\n",
       " <a class=\"common_sp_link\" href=\"/recipe/6905196\">\n",
       " <span class=\"common_vod_label\"><img src=\"https://recipe1.ezmember.co.kr/img/icon_vod.png\"/></span>\n",
       " <img src=\"https://recipe1.ezmember.co.kr/cache/recipe/2019/01/25/8bed3206ef470a0d7d23d565564805261_m.jpg\"/>\n",
       " </a>\n",
       " </div>,\n",
       " <div class=\"common_sp_thumb\">\n",
       " <a class=\"common_sp_link\" href=\"/recipe/6872350\">\n",
       " <img src=\"https://recipe1.ezmember.co.kr/cache/recipe/2017/07/06/c807784ab41809f624a6a4a7466cd5bd1_m.jpg\"/>\n",
       " </a>\n",
       " </div>,\n",
       " <div class=\"common_sp_thumb\">\n",
       " <a class=\"common_sp_link\" href=\"/recipe/6850116\">\n",
       " <img src=\"https://recipe1.ezmember.co.kr/cache/recipe/2016/05/29/2a170363760225a934d26ff7e94cede31_m.jpg\"/>\n",
       " </a>\n",
       " </div>,\n",
       " <div class=\"common_sp_thumb\">\n",
       " <a class=\"common_sp_link\" href=\"/recipe/6887815\">\n",
       " <img src=\"https://recipe1.ezmember.co.kr/cache/recipe/2018/04/24/d134b126dc63b239199d0dc0338cd7e91_m.jpg\"/>\n",
       " </a>\n",
       " </div>,\n",
       " <div class=\"common_sp_thumb\">\n",
       " <a class=\"common_sp_link\" href=\"/recipe/6858080\">\n",
       " <img src=\"https://recipe1.ezmember.co.kr/cache/recipe/2016/10/07/f43063e718c49d85ddce4880e4a41fcd1_m.jpg\"/>\n",
       " </a>\n",
       " </div>,\n",
       " <div class=\"common_sp_thumb\">\n",
       " <a class=\"common_sp_link\" href=\"/recipe/6836180\">\n",
       " <img src=\"https://recipe1.ezmember.co.kr/cache/recipe/2015/10/14/434379c503e37e6964324965a79d3a101_m.jpg\"/>\n",
       " </a>\n",
       " </div>,\n",
       " <div class=\"common_sp_thumb\">\n",
       " <a class=\"common_sp_link\" href=\"/recipe/6880798\">\n",
       " <img src=\"https://recipe1.ezmember.co.kr/cache/recipe/2017/12/11/8abb7bc5ceede607442029340e1b72011_m.jpg\"/>\n",
       " </a>\n",
       " </div>,\n",
       " <div class=\"common_sp_thumb\">\n",
       " <a class=\"common_sp_link\" href=\"/recipe/6871949\">\n",
       " <img src=\"https://recipe1.ezmember.co.kr/cache/recipe/2017/06/29/82da685d18b957e40ba67fef4c2ffa261_m.jpg\"/>\n",
       " </a>\n",
       " </div>,\n",
       " <div class=\"common_sp_thumb\">\n",
       " <a class=\"common_sp_link\" href=\"/recipe/6867256\">\n",
       " <img src=\"https://recipe1.ezmember.co.kr/cache/recipe/2017/03/22/93dd58483544283879abe07cb3ca75961_m.jpg\"/>\n",
       " </a>\n",
       " </div>,\n",
       " <div class=\"common_sp_thumb\">\n",
       " <a class=\"common_sp_link\" href=\"/recipe/6865045\">\n",
       " <img src=\"https://recipe1.ezmember.co.kr/cache/recipe/2017/02/10/d9a8522dc0a3ca181a102225ec9c6dad1_m.jpg\"/>\n",
       " </a>\n",
       " </div>,\n",
       " <div class=\"common_sp_thumb\">\n",
       " <a class=\"common_sp_link\" href=\"/recipe/6951709\">\n",
       " <img src=\"https://recipe1.ezmember.co.kr/cache/recipe/2021/01/21/ce36b95eda7dad412037af2d2104786d1_m.jpg\"/>\n",
       " </a>\n",
       " </div>,\n",
       " <div class=\"common_sp_thumb\">\n",
       " <a class=\"common_sp_link\" href=\"/recipe/6905743\">\n",
       " <img src=\"https://recipe1.ezmember.co.kr/cache/recipe/2019/01/31/e8cab950076b23a80f16dd7858dd514e1_m.jpg\"/>\n",
       " </a>\n",
       " </div>,\n",
       " <div class=\"common_sp_thumb\">\n",
       " <a class=\"common_sp_link\" href=\"/recipe/6899969\">\n",
       " <img src=\"https://recipe1.ezmember.co.kr/cache/recipe/2018/11/11/e450d87ac7d8feb845671bcad9369b6b1_m.jpg\"/>\n",
       " </a>\n",
       " </div>,\n",
       " <div class=\"common_sp_thumb\">\n",
       " <a class=\"common_sp_link\" href=\"/recipe/6842257\">\n",
       " <img src=\"https://recipe1.ezmember.co.kr/cache/recipe/2016/01/28/3d80ea535856cd83b9261c564a05ac0a1_m.jpg\"/>\n",
       " </a>\n",
       " </div>,\n",
       " <div class=\"common_sp_thumb\">\n",
       " <a class=\"common_sp_link\" href=\"/recipe/6840027\">\n",
       " <img src=\"https://recipe1.ezmember.co.kr/cache/recipe/2015/12/15/8c5985330bbbd967a694b4a994063df61_m.jpg\"/>\n",
       " </a>\n",
       " </div>,\n",
       " <div class=\"common_sp_thumb\">\n",
       " <a class=\"common_sp_link\" href=\"/recipe/6885928\">\n",
       " <img src=\"https://recipe1.ezmember.co.kr/cache/recipe/2018/03/22/599723cfecc8d9dd610aabadcbf6f3a71_m.jpg\"/>\n",
       " </a>\n",
       " </div>,\n",
       " <div class=\"common_sp_thumb\">\n",
       " <a class=\"common_sp_link\" href=\"/recipe/6948133\">\n",
       " <img src=\"https://recipe1.ezmember.co.kr/cache/recipe/2020/12/11/08d950736565222956ffe7f02b9708991_m.jpg\"/>\n",
       " </a>\n",
       " </div>,\n",
       " <div class=\"common_sp_thumb\">\n",
       " <a class=\"common_sp_link\" href=\"/recipe/6925914\">\n",
       " <img src=\"https://recipe1.ezmember.co.kr/cache/recipe/2020/01/26/bc208dd7989852469f69aede5c5d21f91_m.jpg\"/>\n",
       " </a>\n",
       " </div>,\n",
       " <div class=\"common_sp_thumb\">\n",
       " <a class=\"common_sp_link\" href=\"/recipe/6832994\">\n",
       " <img src=\"https://recipe1.ezmember.co.kr/cache/recipe/2015/08/27/ddf0cdeeca2a368f03616d93b96f561b1_m.jpg\"/>\n",
       " </a>\n",
       " </div>,\n",
       " <div class=\"common_sp_thumb\">\n",
       " <a class=\"common_sp_link\" href=\"/recipe/6879335\">\n",
       " <img src=\"https://recipe1.ezmember.co.kr/cache/recipe/2017/11/09/577f07d2a67736a0df97f8f5c95d26f01_m.jpg\"/>\n",
       " </a>\n",
       " </div>,\n",
       " <div class=\"common_sp_thumb\">\n",
       " <a class=\"common_sp_link\" href=\"/recipe/6897261\">\n",
       " <img src=\"https://recipe1.ezmember.co.kr/cache/recipe/2018/10/06/b1b388113cd0d3c3c3ce3838f838bfef1_m.jpg\"/>\n",
       " </a>\n",
       " </div>,\n",
       " <div class=\"common_sp_thumb\">\n",
       " <a class=\"common_sp_link\" href=\"/recipe/6927971\">\n",
       " <span class=\"common_vod_label\"><img src=\"https://recipe1.ezmember.co.kr/img/icon_vod.png\"/></span>\n",
       " <img src=\"https://recipe1.ezmember.co.kr/cache/recipe/2020/03/08/7f30d319399045be9491fa710fc260a71_m.jpg\"/>\n",
       " </a>\n",
       " </div>,\n",
       " <div class=\"common_sp_thumb\">\n",
       " <a class=\"common_sp_link\" href=\"/recipe/6840689\">\n",
       " <img src=\"https://recipe1.ezmember.co.kr/cache/recipe/2015/12/24/7b10402a82606a5a3de6710c93a110f41_m.jpg\"/>\n",
       " </a>\n",
       " </div>,\n",
       " <div class=\"common_sp_thumb\">\n",
       " <a class=\"common_sp_link\" href=\"/recipe/6893092\">\n",
       " <img src=\"https://recipe1.ezmember.co.kr/cache/recipe/2018/07/25/a6e0408192db3faffef005814c7cd7bb1_m.jpg\"/>\n",
       " </a>\n",
       " </div>,\n",
       " <div class=\"common_sp_thumb\">\n",
       " <a class=\"common_sp_link\" href=\"/recipe/6927491\">\n",
       " <span class=\"common_vod_label\"><img src=\"https://recipe1.ezmember.co.kr/img/icon_vod.png\"/></span>\n",
       " <img src=\"https://recipe1.ezmember.co.kr/cache/recipe/2020/03/01/2863ee8d2347767e4a698e8588419eb51_m.jpg\"/>\n",
       " </a>\n",
       " </div>,\n",
       " <div class=\"common_sp_thumb\">\n",
       " <a class=\"common_sp_link\" href=\"/recipe/6896724\">\n",
       " <img src=\"https://recipe1.ezmember.co.kr/cache/recipe/2018/09/28/bf1119e96115a8d19b2014d81c9e4fb41_m.jpg\"/>\n",
       " </a>\n",
       " </div>,\n",
       " <div class=\"common_sp_thumb\">\n",
       " <a class=\"common_sp_link\" href=\"/recipe/6865385\">\n",
       " <img src=\"https://recipe1.ezmember.co.kr/cache/recipe/2017/02/16/c616f6e7631597fc927c79b5c0304e641_m.jpg\"/>\n",
       " </a>\n",
       " </div>,\n",
       " <div class=\"common_sp_thumb\">\n",
       " <a class=\"common_sp_link\" href=\"/recipe/6876505\">\n",
       " <img src=\"https://recipe1.ezmember.co.kr/cache/recipe/2017/09/15/af5ed61b01ce6d0c8ded20d59f0d15e31_m.jpg\"/>\n",
       " </a>\n",
       " </div>,\n",
       " <div class=\"common_sp_thumb\">\n",
       " <a class=\"common_sp_link\" href=\"/recipe/6885185\">\n",
       " <img src=\"https://recipe1.ezmember.co.kr/cache/recipe/2018/02/23/6301ea463593d23b0adc8694178ad0aa1_m.jpg\"/>\n",
       " </a>\n",
       " </div>,\n",
       " <div class=\"common_sp_thumb\">\n",
       " <a class=\"common_sp_link\" href=\"/recipe/6896908\">\n",
       " <img src=\"https://recipe1.ezmember.co.kr/cache/recipe/2018/10/01/12f2952620a2e96ef3cdb5fef023260d1_m.jpg\"/>\n",
       " </a>\n",
       " </div>,\n",
       " <div class=\"common_sp_thumb\">\n",
       " <a class=\"common_sp_link\" href=\"/recipe/6851866\">\n",
       " <img src=\"https://recipe1.ezmember.co.kr/cache/recipe/2016/06/30/40f07fd966df8d903a420f99f32d726a1_m.jpg\"/>\n",
       " </a>\n",
       " </div>,\n",
       " <div class=\"common_sp_thumb\">\n",
       " <a class=\"common_sp_link\" href=\"/recipe/6872975\">\n",
       " <img src=\"https://recipe1.ezmember.co.kr/cache/recipe/2017/07/19/907c4662b413b0cdbc4e9ea088935ba21_m.jpg\"/>\n",
       " </a>\n",
       " </div>,\n",
       " <div class=\"common_sp_thumb\">\n",
       " <a class=\"common_sp_link\" href=\"/recipe/6953924\">\n",
       " <img src=\"https://recipe1.ezmember.co.kr/cache/recipe/2021/02/21/6a38ee5cb4378f388844b81d445121321_m.jpg\"/>\n",
       " </a>\n",
       " </div>,\n",
       " <div class=\"common_sp_thumb\">\n",
       " <a class=\"common_sp_link\" href=\"/recipe/6887142\">\n",
       " <img src=\"https://recipe1.ezmember.co.kr/cache/recipe/2018/04/12/2076df59d8069db371742e6c146118db1_m.jpg\"/>\n",
       " </a>\n",
       " </div>,\n",
       " <div class=\"common_sp_thumb\">\n",
       " <a class=\"common_sp_link\" href=\"/recipe/6860645\">\n",
       " <img src=\"https://recipe1.ezmember.co.kr/cache/recipe/2016/11/14/445bf0fe47582d12f35db2f8564015fa1_m.jpg\"/>\n",
       " </a>\n",
       " </div>,\n",
       " <div class=\"common_sp_thumb\">\n",
       " <a class=\"common_sp_link\" href=\"/recipe/6903824\">\n",
       " <img src=\"https://recipe1.ezmember.co.kr/cache/recipe/2019/01/08/66a5a9223f092ebefad7d5b2018d297b1_m.jpg\"/>\n",
       " </a>\n",
       " </div>,\n",
       " <div class=\"common_sp_thumb\">\n",
       " <a class=\"common_sp_link\" href=\"/recipe/6867565\">\n",
       " <img src=\"https://recipe1.ezmember.co.kr/cache/recipe/2017/03/28/61fdd74be6ba26d779a90b2777c66f4a1_m.jpg\"/>\n",
       " </a>\n",
       " </div>,\n",
       " <div class=\"common_sp_thumb\">\n",
       " <a class=\"common_sp_link\" href=\"/recipe/6944530\">\n",
       " <img src=\"https://recipe1.ezmember.co.kr/cache/recipe/2020/10/19/921ce315cb3450f4c83892b2b9d71b7a1_m.jpg\"/>\n",
       " </a>\n",
       " </div>,\n",
       " <div class=\"common_sp_thumb\">\n",
       " <a class=\"common_sp_link\" href=\"/recipe/6843373\">\n",
       " <img src=\"https://recipe1.ezmember.co.kr/cache/recipe/2016/02/14/7da2e6b650aa47b46f1b33028326a04b1_m.jpg\"/>\n",
       " </a>\n",
       " </div>,\n",
       " <div class=\"common_sp_thumb\">\n",
       " <a class=\"common_sp_link\" href=\"/recipe/6864526\">\n",
       " <span class=\"common_vod_label\"><img src=\"https://recipe1.ezmember.co.kr/img/icon_vod.png\"/></span>\n",
       " <img src=\"https://recipe1.ezmember.co.kr/cache/recipe/2017/01/30/e2dd583de10047c8088967db067e7c951_m.jpg\"/>\n",
       " </a>\n",
       " </div>,\n",
       " <div class=\"common_sp_thumb\">\n",
       " <a class=\"common_sp_link\" href=\"/recipe/6860042\">\n",
       " <img src=\"https://recipe1.ezmember.co.kr/cache/recipe/2016/11/07/3411b1e197efd6a2b6d5c4db7ff53e8c1_m.jpg\"/>\n",
       " </a>\n",
       " </div>,\n",
       " <div class=\"common_sp_thumb\">\n",
       " <a class=\"common_sp_link\" href=\"/recipe/6868573\">\n",
       " <img src=\"https://recipe1.ezmember.co.kr/cache/recipe/2017/04/17/336d80fa18301c2ee909c4d96633608a1_m.jpg\"/>\n",
       " </a>\n",
       " </div>,\n",
       " <div class=\"common_sp_thumb\">\n",
       " <a class=\"common_sp_link\" href=\"/recipe/6868260\">\n",
       " <img src=\"https://recipe1.ezmember.co.kr/cache/recipe/2017/04/11/123857520f640efa476baaa5c975dc371_m.jpg\"/>\n",
       " </a>\n",
       " </div>,\n",
       " <div class=\"common_sp_thumb\">\n",
       " <a class=\"common_sp_link\" href=\"/recipe/6838943\">\n",
       " <img src=\"https://recipe1.ezmember.co.kr/cache/recipe/2015/12/01/bd2b8255a2f1bbcb66bf1faf04cdba531_m.jpg\"/>\n",
       " </a>\n",
       " </div>,\n",
       " <div class=\"common_sp_thumb\">\n",
       " <a class=\"common_sp_link\" href=\"/recipe/6863549\">\n",
       " <img src=\"https://recipe1.ezmember.co.kr/cache/recipe/2017/01/05/3a1e7b21c652be2f242934216282e5db1_m.jpg\"/>\n",
       " </a>\n",
       " </div>,\n",
       " <div class=\"common_sp_thumb\">\n",
       " <a class=\"common_sp_link\" href=\"/recipe/6880161\">\n",
       " <img src=\"https://recipe1.ezmember.co.kr/cache/recipe/2017/11/28/8de576e493f7a36e610d5ef3af5549b61_m.jpg\"/>\n",
       " </a>\n",
       " </div>,\n",
       " <div class=\"common_sp_thumb\">\n",
       " <a class=\"common_sp_link\" href=\"/recipe/6894323\">\n",
       " <span class=\"common_vod_label\"><img src=\"https://recipe1.ezmember.co.kr/img/icon_vod.png\"/></span>\n",
       " <img src=\"https://recipe1.ezmember.co.kr/cache/recipe/2018/08/17/d1d0c5999686a5ec11e426b79abf4a1a1_m.jpg\"/>\n",
       " </a>\n",
       " </div>,\n",
       " <div class=\"common_sp_thumb\">\n",
       " <a class=\"common_sp_link\" href=\"/recipe/6871912\">\n",
       " <img src=\"https://recipe1.ezmember.co.kr/cache/recipe/2017/06/28/e643ab1315aa7fd9e5497dd3bc310c2a1_m.jpg\"/>\n",
       " </a>\n",
       " </div>,\n",
       " <div class=\"common_sp_thumb\">\n",
       " <a class=\"common_sp_link\" href=\"/recipe/6871892\">\n",
       " <img src=\"https://recipe1.ezmember.co.kr/cache/recipe/2017/06/28/f700b6cfd480b078762c3c38fe874dd01_m.jpg\"/>\n",
       " </a>\n",
       " </div>,\n",
       " <div class=\"common_sp_thumb\">\n",
       " <a class=\"common_sp_link\" href=\"/recipe/6870757\">\n",
       " <img src=\"https://recipe1.ezmember.co.kr/cache/recipe/2017/06/04/7e568e3b22b99c9d3dfead267489b2c11_m.jpg\"/>\n",
       " </a>\n",
       " </div>,\n",
       " <div class=\"common_sp_thumb\">\n",
       " <a class=\"common_sp_link\" href=\"/recipe/6882592\">\n",
       " <img src=\"https://recipe1.ezmember.co.kr/cache/recipe/2018/01/20/eaa47b9b7787d8ca922e912994c005fd1_m.jpg\"/>\n",
       " </a>\n",
       " </div>,\n",
       " <div class=\"common_sp_thumb\">\n",
       " <a class=\"common_sp_link\" href=\"/recipe/6872836\">\n",
       " <img src=\"https://recipe1.ezmember.co.kr/cache/recipe/2017/07/14/2ff0801dea134c50da61dab419dd8a611_m.jpg\"/>\n",
       " </a>\n",
       " </div>,\n",
       " <div class=\"common_sp_thumb\">\n",
       " <a class=\"common_sp_link\" href=\"/recipe/6852559\">\n",
       " <img src=\"https://recipe1.ezmember.co.kr/cache/recipe/2016/07/12/d49cf3e5ea9fdd7ddf774658a38e9fb11_m.jpg\"/>\n",
       " </a>\n",
       " </div>,\n",
       " <div class=\"common_sp_thumb\">\n",
       " <a class=\"common_sp_link\" href=\"/recipe/6853078\">\n",
       " <img src=\"https://recipe1.ezmember.co.kr/cache/recipe/2016/07/19/56f3001ed40e5b282ce617533c74cada1_m.jpg\"/>\n",
       " </a>\n",
       " </div>,\n",
       " <div class=\"common_sp_thumb\">\n",
       " <a class=\"common_sp_link\" href=\"/recipe/6928061\">\n",
       " <img src=\"https://recipe1.ezmember.co.kr/cache/recipe/2020/03/07/4c2d0968165a293d907a7cafcae990191_m.jpg\"/>\n",
       " </a>\n",
       " </div>,\n",
       " <div class=\"common_sp_thumb\">\n",
       " <a class=\"common_sp_link\" href=\"/recipe/6869801\">\n",
       " <span class=\"common_vod_label\"><img src=\"https://recipe1.ezmember.co.kr/img/icon_vod.png\"/></span>\n",
       " <img src=\"https://recipe1.ezmember.co.kr/cache/recipe/2017/05/15/804fa4c23455e1e1c0f9578452fd23ba1_m.jpg\"/>\n",
       " </a>\n",
       " </div>,\n",
       " <div class=\"common_sp_thumb\">\n",
       " <a class=\"common_sp_link\" href=\"/recipe/6869524\">\n",
       " <img src=\"https://recipe1.ezmember.co.kr/cache/recipe/2017/05/09/417fbcd204e6580f7d470ae426a919281_m.jpg\"/>\n",
       " </a>\n",
       " </div>,\n",
       " <div class=\"common_sp_thumb\">\n",
       " <a class=\"common_sp_link\" href=\"/recipe/6900758\">\n",
       " <span class=\"common_vod_label\"><img src=\"https://recipe1.ezmember.co.kr/img/icon_vod.png\"/></span>\n",
       " <img src=\"https://recipe1.ezmember.co.kr/cache/recipe/2018/11/25/5fb737d16f7e7e560ab81c53892cb3701_m.jpg\"/>\n",
       " </a>\n",
       " </div>,\n",
       " <div class=\"common_sp_thumb\">\n",
       " <a class=\"common_sp_link\" href=\"/recipe/6899265\">\n",
       " <img src=\"https://recipe1.ezmember.co.kr/cache/recipe/2018/11/03/f700f1964219a06e73be2c8d314ab4641_m.jpg\"/>\n",
       " </a>\n",
       " </div>,\n",
       " <div class=\"common_sp_thumb\">\n",
       " <a class=\"common_sp_link\" href=\"/recipe/6850626\">\n",
       " <img src=\"https://recipe1.ezmember.co.kr/cache/recipe/2016/06/08/24c312f82313faaf1e4d5ef98761efcb1_m.jpg\"/>\n",
       " </a>\n",
       " </div>,\n",
       " <div class=\"common_sp_thumb\">\n",
       " <a class=\"common_sp_link\" href=\"/recipe/6895383\">\n",
       " <img src=\"https://recipe1.ezmember.co.kr/cache/recipe/2018/09/06/fd90bc74ddb4580b2dad22c83b42ec6f1_m.jpg\"/>\n",
       " </a>\n",
       " </div>,\n",
       " <div class=\"common_sp_thumb\">\n",
       " <a class=\"common_sp_link\" href=\"/recipe/6892138\">\n",
       " <img src=\"https://recipe1.ezmember.co.kr/cache/recipe/2018/07/07/784b7e46b2cb23659576da8cd0df5bde1_m.jpg\"/>\n",
       " </a>\n",
       " </div>,\n",
       " <div class=\"common_sp_thumb\">\n",
       " <a class=\"common_sp_link\" href=\"/recipe/6923484\">\n",
       " <span class=\"common_vod_label\"><img src=\"https://recipe1.ezmember.co.kr/img/icon_vod.png\"/></span>\n",
       " <img src=\"https://recipe1.ezmember.co.kr/cache/recipe/2019/12/13/0e8b18a2ebbe8cf34ae3a1fba7243b111_m.jpg\"/>\n",
       " </a>\n",
       " </div>,\n",
       " <div class=\"common_sp_thumb\">\n",
       " <a class=\"common_sp_link\" href=\"/recipe/6867849\">\n",
       " <img src=\"https://recipe1.ezmember.co.kr/cache/recipe/2017/04/03/4054908fb98f03d40783388c2889f1c81_m.jpg\"/>\n",
       " </a>\n",
       " </div>,\n",
       " <div class=\"common_sp_thumb\">\n",
       " <a class=\"common_sp_link\" href=\"/recipe/6842991\">\n",
       " <img src=\"https://recipe1.ezmember.co.kr/cache/recipe/2016/02/14/d57a00198311cae85f1db8ed7580e0a51_m.jpg\"/>\n",
       " </a>\n",
       " </div>,\n",
       " <div class=\"common_sp_thumb\">\n",
       " <a class=\"common_sp_link\" href=\"/recipe/6891526\">\n",
       " <img src=\"https://recipe1.ezmember.co.kr/cache/recipe/2018/06/26/b423d8a43b45d4f8dd820f82fb37a9461_m.jpg\"/>\n",
       " </a>\n",
       " </div>,\n",
       " <div class=\"common_sp_thumb\">\n",
       " <a class=\"common_sp_link\" href=\"/recipe/6865009\">\n",
       " <img src=\"https://recipe1.ezmember.co.kr/cache/recipe/2017/02/09/8fd3e0b6ca4185b1c4e0fe50cd9088d01_m.jpg\"/>\n",
       " </a>\n",
       " </div>,\n",
       " <div class=\"common_sp_thumb\">\n",
       " <a class=\"common_sp_link\" href=\"/recipe/6946546\">\n",
       " <img src=\"https://recipe1.ezmember.co.kr/cache/recipe/2020/11/18/dfe48ce3fb4f92ef1c65de34d4b8f8a51_m.jpg\"/>\n",
       " </a>\n",
       " </div>,\n",
       " <div class=\"common_sp_thumb\">\n",
       " <a class=\"common_sp_link\" href=\"/recipe/6944180\">\n",
       " <span class=\"common_vod_label\"><img src=\"https://recipe1.ezmember.co.kr/img/icon_vod.png\"/></span>\n",
       " <img src=\"https://recipe1.ezmember.co.kr/cache/recipe/2020/10/14/8143683aadad508c8558a858ea44f4b71_m.jpg\"/>\n",
       " </a>\n",
       " </div>,\n",
       " <div class=\"common_sp_thumb\">\n",
       " <a class=\"common_sp_link\" href=\"/recipe/6915139\">\n",
       " <img src=\"https://recipe1.ezmember.co.kr/cache/recipe/2019/07/02/e619096726a2452b3887e7638ed17ac51_m.jpg\"/>\n",
       " </a>\n",
       " </div>,\n",
       " <div class=\"common_sp_thumb\">\n",
       " <a class=\"common_sp_link\" href=\"/recipe/6876544\">\n",
       " <img src=\"https://recipe1.ezmember.co.kr/cache/recipe/2017/09/15/6229b0022c9376c251d4527730ce0ee01_m.jpg\"/>\n",
       " </a>\n",
       " </div>,\n",
       " <div class=\"common_sp_thumb\">\n",
       " <a class=\"common_sp_link\" href=\"/recipe/6858545\">\n",
       " <img src=\"https://recipe1.ezmember.co.kr/cache/recipe/2016/10/17/842c7ec184ac8d7b4c8a4ddd9764c69f1_m.jpg\"/>\n",
       " </a>\n",
       " </div>,\n",
       " <div class=\"common_sp_thumb\">\n",
       " <a class=\"common_sp_link\" href=\"/recipe/6872694\">\n",
       " <img src=\"https://recipe1.ezmember.co.kr/cache/recipe/2017/07/13/90b427b8b07b396178d8baa7fdd991201_m.jpg\"/>\n",
       " </a>\n",
       " </div>,\n",
       " <div class=\"common_sp_thumb\">\n",
       " <a class=\"common_sp_link\" href=\"/recipe/6895723\">\n",
       " <img src=\"https://recipe1.ezmember.co.kr/cache/recipe/2018/09/12/87c098dbfe15fd8a9e4e092ae98983291_m.jpg\"/>\n",
       " </a>\n",
       " </div>,\n",
       " <div class=\"common_sp_thumb\">\n",
       " <a class=\"common_sp_link\" href=\"/recipe/6843282\">\n",
       " <img src=\"https://recipe1.ezmember.co.kr/cache/recipe/2016/02/14/7580d9832861b287272cf33fe4528b871_m.jpg\"/>\n",
       " </a>\n",
       " </div>]"
      ]
     },
     "execution_count": 5,
     "metadata": {},
     "output_type": "execute_result"
    }
   ],
   "source": [
    "number_list"
   ]
  },
  {
   "cell_type": "code",
   "execution_count": 6,
   "metadata": {
    "ExecuteTime": {
     "end_time": "2021-02-24T03:52:42.301100Z",
     "start_time": "2021-02-24T03:52:42.297109Z"
    }
   },
   "outputs": [],
   "source": [
    "ranking_url=[]"
   ]
  },
  {
   "cell_type": "code",
   "execution_count": 7,
   "metadata": {
    "ExecuteTime": {
     "end_time": "2021-02-24T03:52:42.336012Z",
     "start_time": "2021-02-24T03:52:42.306103Z"
    }
   },
   "outputs": [
    {
     "name": "stdout",
     "output_type": "stream",
     "text": [
      "https://www.10000recipe.com/recipe/6906655\n",
      "https://www.10000recipe.com/recipe/6862912\n",
      "https://www.10000recipe.com/recipe/6912220\n",
      "https://www.10000recipe.com/recipe/6951679\n",
      "https://www.10000recipe.com/recipe/6879533\n",
      "https://www.10000recipe.com/recipe/6894096\n",
      "https://www.10000recipe.com/recipe/6845428\n",
      "https://www.10000recipe.com/recipe/6876357\n",
      "https://www.10000recipe.com/recipe/6884636\n",
      "https://www.10000recipe.com/recipe/6859263\n",
      "https://www.10000recipe.com/recipe/6873683\n",
      "https://www.10000recipe.com/recipe/6886559\n",
      "https://www.10000recipe.com/recipe/6873935\n",
      "https://www.10000recipe.com/recipe/6841008\n",
      "https://www.10000recipe.com/recipe/6923068\n",
      "https://www.10000recipe.com/recipe/6879215\n",
      "https://www.10000recipe.com/recipe/6903507\n",
      "https://www.10000recipe.com/recipe/6883937\n",
      "https://www.10000recipe.com/recipe/6910367\n",
      "https://www.10000recipe.com/recipe/6845113\n",
      "https://www.10000recipe.com/recipe/6864674\n",
      "https://www.10000recipe.com/recipe/6893285\n",
      "https://www.10000recipe.com/recipe/6886709\n",
      "https://www.10000recipe.com/recipe/6891816\n",
      "https://www.10000recipe.com/recipe/6877896\n",
      "https://www.10000recipe.com/recipe/6905196\n",
      "https://www.10000recipe.com/recipe/6872350\n",
      "https://www.10000recipe.com/recipe/6850116\n",
      "https://www.10000recipe.com/recipe/6887815\n",
      "https://www.10000recipe.com/recipe/6858080\n",
      "https://www.10000recipe.com/recipe/6836180\n",
      "https://www.10000recipe.com/recipe/6880798\n",
      "https://www.10000recipe.com/recipe/6871949\n",
      "https://www.10000recipe.com/recipe/6867256\n",
      "https://www.10000recipe.com/recipe/6865045\n",
      "https://www.10000recipe.com/recipe/6951709\n",
      "https://www.10000recipe.com/recipe/6905743\n",
      "https://www.10000recipe.com/recipe/6899969\n",
      "https://www.10000recipe.com/recipe/6842257\n",
      "https://www.10000recipe.com/recipe/6840027\n",
      "https://www.10000recipe.com/recipe/6885928\n",
      "https://www.10000recipe.com/recipe/6948133\n",
      "https://www.10000recipe.com/recipe/6925914\n",
      "https://www.10000recipe.com/recipe/6832994\n",
      "https://www.10000recipe.com/recipe/6879335\n",
      "https://www.10000recipe.com/recipe/6897261\n",
      "https://www.10000recipe.com/recipe/6927971\n",
      "https://www.10000recipe.com/recipe/6840689\n",
      "https://www.10000recipe.com/recipe/6893092\n",
      "https://www.10000recipe.com/recipe/6927491\n",
      "https://www.10000recipe.com/recipe/6896724\n",
      "https://www.10000recipe.com/recipe/6865385\n",
      "https://www.10000recipe.com/recipe/6876505\n",
      "https://www.10000recipe.com/recipe/6885185\n",
      "https://www.10000recipe.com/recipe/6896908\n",
      "https://www.10000recipe.com/recipe/6851866\n",
      "https://www.10000recipe.com/recipe/6872975\n",
      "https://www.10000recipe.com/recipe/6953924\n",
      "https://www.10000recipe.com/recipe/6887142\n",
      "https://www.10000recipe.com/recipe/6860645\n",
      "https://www.10000recipe.com/recipe/6903824\n",
      "https://www.10000recipe.com/recipe/6867565\n",
      "https://www.10000recipe.com/recipe/6944530\n",
      "https://www.10000recipe.com/recipe/6843373\n",
      "https://www.10000recipe.com/recipe/6864526\n",
      "https://www.10000recipe.com/recipe/6860042\n",
      "https://www.10000recipe.com/recipe/6868573\n",
      "https://www.10000recipe.com/recipe/6868260\n",
      "https://www.10000recipe.com/recipe/6838943\n",
      "https://www.10000recipe.com/recipe/6863549\n",
      "https://www.10000recipe.com/recipe/6880161\n",
      "https://www.10000recipe.com/recipe/6894323\n",
      "https://www.10000recipe.com/recipe/6871912\n",
      "https://www.10000recipe.com/recipe/6871892\n",
      "https://www.10000recipe.com/recipe/6870757\n",
      "https://www.10000recipe.com/recipe/6882592\n",
      "https://www.10000recipe.com/recipe/6872836\n",
      "https://www.10000recipe.com/recipe/6852559\n",
      "https://www.10000recipe.com/recipe/6853078\n",
      "https://www.10000recipe.com/recipe/6928061\n",
      "https://www.10000recipe.com/recipe/6869801\n",
      "https://www.10000recipe.com/recipe/6869524\n",
      "https://www.10000recipe.com/recipe/6900758\n",
      "https://www.10000recipe.com/recipe/6899265\n",
      "https://www.10000recipe.com/recipe/6850626\n",
      "https://www.10000recipe.com/recipe/6895383\n",
      "https://www.10000recipe.com/recipe/6892138\n",
      "https://www.10000recipe.com/recipe/6923484\n",
      "https://www.10000recipe.com/recipe/6867849\n",
      "https://www.10000recipe.com/recipe/6842991\n",
      "https://www.10000recipe.com/recipe/6891526\n",
      "https://www.10000recipe.com/recipe/6865009\n",
      "https://www.10000recipe.com/recipe/6946546\n",
      "https://www.10000recipe.com/recipe/6944180\n",
      "https://www.10000recipe.com/recipe/6915139\n",
      "https://www.10000recipe.com/recipe/6876544\n",
      "https://www.10000recipe.com/recipe/6858545\n",
      "https://www.10000recipe.com/recipe/6872694\n",
      "https://www.10000recipe.com/recipe/6895723\n",
      "https://www.10000recipe.com/recipe/6843282\n"
     ]
    }
   ],
   "source": [
    "for i in number_list:\n",
    "    print('https://www.10000recipe.com'+i.find('a')['href'])\n",
    "    ranking_url.append('https://www.10000recipe.com'+i.find('a')['href'])"
   ]
  },
  {
   "cell_type": "code",
   "execution_count": 8,
   "metadata": {
    "ExecuteTime": {
     "end_time": "2021-02-08T13:31:35.512053Z",
     "start_time": "2021-02-08T13:31:35.508027Z"
    }
   },
   "outputs": [],
   "source": [
    "csv_list = [['title','재료']]"
   ]
  },
  {
   "cell_type": "code",
   "execution_count": 9,
   "metadata": {
    "ExecuteTime": {
     "end_time": "2021-02-08T13:31:56.324033Z",
     "start_time": "2021-02-08T13:31:36.293057Z"
    },
    "lines_to_next_cell": 2,
    "title": "확실히 ChromDriver 보다 이렇게 진행하는게 속도가 빠르다"
   },
   "outputs": [
    {
     "name": "stderr",
     "output_type": "stream",
     "text": [
      "  3%|██▍                                                                               | 3/100 [00:19<10:36,  6.56s/it]\n"
     ]
    },
    {
     "ename": "KeyboardInterrupt",
     "evalue": "",
     "output_type": "error",
     "traceback": [
      "\u001b[1;31m---------------------------------------------------------------------------\u001b[0m",
      "\u001b[1;31mConnectionRefusedError\u001b[0m                    Traceback (most recent call last)",
      "\u001b[1;32mc:\\users\\minisong\\appdata\\local\\programs\\python\\python37\\lib\\site-packages\\urllib3\\util\\connection.py\u001b[0m in \u001b[0;36mcreate_connection\u001b[1;34m(address, timeout, source_address, socket_options)\u001b[0m\n\u001b[0;32m     73\u001b[0m                 \u001b[0msock\u001b[0m\u001b[1;33m.\u001b[0m\u001b[0mbind\u001b[0m\u001b[1;33m(\u001b[0m\u001b[0msource_address\u001b[0m\u001b[1;33m)\u001b[0m\u001b[1;33m\u001b[0m\u001b[1;33m\u001b[0m\u001b[0m\n\u001b[1;32m---> 74\u001b[1;33m             \u001b[0msock\u001b[0m\u001b[1;33m.\u001b[0m\u001b[0mconnect\u001b[0m\u001b[1;33m(\u001b[0m\u001b[0msa\u001b[0m\u001b[1;33m)\u001b[0m\u001b[1;33m\u001b[0m\u001b[1;33m\u001b[0m\u001b[0m\n\u001b[0m\u001b[0;32m     75\u001b[0m             \u001b[1;32mreturn\u001b[0m \u001b[0msock\u001b[0m\u001b[1;33m\u001b[0m\u001b[1;33m\u001b[0m\u001b[0m\n",
      "\u001b[1;31mConnectionRefusedError\u001b[0m: [WinError 10061] 대상 컴퓨터에서 연결을 거부했으므로 연결하지 못했습니다",
      "\nDuring handling of the above exception, another exception occurred:\n",
      "\u001b[1;31mKeyboardInterrupt\u001b[0m                         Traceback (most recent call last)",
      "\u001b[1;32m<ipython-input-9-c6ae0c0481a8>\u001b[0m in \u001b[0;36m<module>\u001b[1;34m\u001b[0m\n\u001b[0;32m     28\u001b[0m         \u001b[0mmovies\u001b[0m \u001b[1;33m=\u001b[0m \u001b[0msoup\u001b[0m\u001b[1;33m.\u001b[0m\u001b[0mfind\u001b[0m\u001b[1;33m(\u001b[0m\u001b[1;34m\"div\"\u001b[0m\u001b[1;33m,\u001b[0m\u001b[0mattrs\u001b[0m\u001b[1;33m=\u001b[0m\u001b[1;33m{\u001b[0m\u001b[1;34m'class'\u001b[0m\u001b[1;33m:\u001b[0m\u001b[1;34m'view2_summary st3'\u001b[0m\u001b[1;33m}\u001b[0m\u001b[1;33m)\u001b[0m\u001b[1;33m\u001b[0m\u001b[1;33m\u001b[0m\u001b[0m\n\u001b[0;32m     29\u001b[0m         \u001b[0mingredient\u001b[0m \u001b[1;33m=\u001b[0m \u001b[0msoup\u001b[0m\u001b[1;33m.\u001b[0m\u001b[0mfind\u001b[0m\u001b[1;33m(\u001b[0m\u001b[1;34m\"div\"\u001b[0m\u001b[1;33m,\u001b[0m\u001b[0mattrs\u001b[0m\u001b[1;33m=\u001b[0m\u001b[1;33m{\u001b[0m\u001b[1;34m'class'\u001b[0m\u001b[1;33m:\u001b[0m\u001b[1;34m'ready_ingre3'\u001b[0m\u001b[1;33m}\u001b[0m\u001b[1;33m)\u001b[0m\u001b[1;33m\u001b[0m\u001b[1;33m\u001b[0m\u001b[0m\n\u001b[1;32m---> 30\u001b[1;33m         \u001b[0mbrowser\u001b[0m\u001b[1;33m.\u001b[0m\u001b[0mquit\u001b[0m\u001b[1;33m(\u001b[0m\u001b[1;33m)\u001b[0m\u001b[1;33m\u001b[0m\u001b[1;33m\u001b[0m\u001b[0m\n\u001b[0m\u001b[0;32m     31\u001b[0m         \u001b[0m재료\u001b[0m\u001b[1;33m=\u001b[0m\u001b[1;33m[\u001b[0m\u001b[1;33m]\u001b[0m\u001b[1;33m\u001b[0m\u001b[1;33m\u001b[0m\u001b[0m\n\u001b[0;32m     32\u001b[0m         \u001b[0mtitle\u001b[0m\u001b[1;33m=\u001b[0m\u001b[0msoup\u001b[0m\u001b[1;33m.\u001b[0m\u001b[0mfind\u001b[0m\u001b[1;33m(\u001b[0m\u001b[1;34m\"h3\"\u001b[0m\u001b[1;33m)\u001b[0m\u001b[1;33m.\u001b[0m\u001b[0mtext\u001b[0m\u001b[1;33m\u001b[0m\u001b[1;33m\u001b[0m\u001b[0m\n",
      "\u001b[1;32mc:\\users\\minisong\\appdata\\local\\programs\\python\\python37\\lib\\site-packages\\selenium\\webdriver\\chrome\\webdriver.py\u001b[0m in \u001b[0;36mquit\u001b[1;34m(self)\u001b[0m\n\u001b[0;32m    151\u001b[0m         \"\"\"\n\u001b[0;32m    152\u001b[0m         \u001b[1;32mtry\u001b[0m\u001b[1;33m:\u001b[0m\u001b[1;33m\u001b[0m\u001b[1;33m\u001b[0m\u001b[0m\n\u001b[1;32m--> 153\u001b[1;33m             \u001b[0mRemoteWebDriver\u001b[0m\u001b[1;33m.\u001b[0m\u001b[0mquit\u001b[0m\u001b[1;33m(\u001b[0m\u001b[0mself\u001b[0m\u001b[1;33m)\u001b[0m\u001b[1;33m\u001b[0m\u001b[1;33m\u001b[0m\u001b[0m\n\u001b[0m\u001b[0;32m    154\u001b[0m         \u001b[1;32mexcept\u001b[0m \u001b[0mException\u001b[0m\u001b[1;33m:\u001b[0m\u001b[1;33m\u001b[0m\u001b[1;33m\u001b[0m\u001b[0m\n\u001b[0;32m    155\u001b[0m             \u001b[1;31m# We don't care about the message because something probably has gone wrong\u001b[0m\u001b[1;33m\u001b[0m\u001b[1;33m\u001b[0m\u001b[1;33m\u001b[0m\u001b[0m\n",
      "\u001b[1;32mc:\\users\\minisong\\appdata\\local\\programs\\python\\python37\\lib\\site-packages\\selenium\\webdriver\\remote\\webdriver.py\u001b[0m in \u001b[0;36mquit\u001b[1;34m(self)\u001b[0m\n\u001b[0;32m    696\u001b[0m         \"\"\"\n\u001b[0;32m    697\u001b[0m         \u001b[1;32mtry\u001b[0m\u001b[1;33m:\u001b[0m\u001b[1;33m\u001b[0m\u001b[1;33m\u001b[0m\u001b[0m\n\u001b[1;32m--> 698\u001b[1;33m             \u001b[0mself\u001b[0m\u001b[1;33m.\u001b[0m\u001b[0mexecute\u001b[0m\u001b[1;33m(\u001b[0m\u001b[0mCommand\u001b[0m\u001b[1;33m.\u001b[0m\u001b[0mQUIT\u001b[0m\u001b[1;33m)\u001b[0m\u001b[1;33m\u001b[0m\u001b[1;33m\u001b[0m\u001b[0m\n\u001b[0m\u001b[0;32m    699\u001b[0m         \u001b[1;32mfinally\u001b[0m\u001b[1;33m:\u001b[0m\u001b[1;33m\u001b[0m\u001b[1;33m\u001b[0m\u001b[0m\n\u001b[0;32m    700\u001b[0m             \u001b[0mself\u001b[0m\u001b[1;33m.\u001b[0m\u001b[0mstop_client\u001b[0m\u001b[1;33m(\u001b[0m\u001b[1;33m)\u001b[0m\u001b[1;33m\u001b[0m\u001b[1;33m\u001b[0m\u001b[0m\n",
      "\u001b[1;32mc:\\users\\minisong\\appdata\\local\\programs\\python\\python37\\lib\\site-packages\\selenium\\webdriver\\remote\\webdriver.py\u001b[0m in \u001b[0;36mexecute\u001b[1;34m(self, driver_command, params)\u001b[0m\n\u001b[0;32m    317\u001b[0m \u001b[1;33m\u001b[0m\u001b[0m\n\u001b[0;32m    318\u001b[0m         \u001b[0mparams\u001b[0m \u001b[1;33m=\u001b[0m \u001b[0mself\u001b[0m\u001b[1;33m.\u001b[0m\u001b[0m_wrap_value\u001b[0m\u001b[1;33m(\u001b[0m\u001b[0mparams\u001b[0m\u001b[1;33m)\u001b[0m\u001b[1;33m\u001b[0m\u001b[1;33m\u001b[0m\u001b[0m\n\u001b[1;32m--> 319\u001b[1;33m         \u001b[0mresponse\u001b[0m \u001b[1;33m=\u001b[0m \u001b[0mself\u001b[0m\u001b[1;33m.\u001b[0m\u001b[0mcommand_executor\u001b[0m\u001b[1;33m.\u001b[0m\u001b[0mexecute\u001b[0m\u001b[1;33m(\u001b[0m\u001b[0mdriver_command\u001b[0m\u001b[1;33m,\u001b[0m \u001b[0mparams\u001b[0m\u001b[1;33m)\u001b[0m\u001b[1;33m\u001b[0m\u001b[1;33m\u001b[0m\u001b[0m\n\u001b[0m\u001b[0;32m    320\u001b[0m         \u001b[1;32mif\u001b[0m \u001b[0mresponse\u001b[0m\u001b[1;33m:\u001b[0m\u001b[1;33m\u001b[0m\u001b[1;33m\u001b[0m\u001b[0m\n\u001b[0;32m    321\u001b[0m             \u001b[0mself\u001b[0m\u001b[1;33m.\u001b[0m\u001b[0merror_handler\u001b[0m\u001b[1;33m.\u001b[0m\u001b[0mcheck_response\u001b[0m\u001b[1;33m(\u001b[0m\u001b[0mresponse\u001b[0m\u001b[1;33m)\u001b[0m\u001b[1;33m\u001b[0m\u001b[1;33m\u001b[0m\u001b[0m\n",
      "\u001b[1;32mc:\\users\\minisong\\appdata\\local\\programs\\python\\python37\\lib\\site-packages\\selenium\\webdriver\\remote\\remote_connection.py\u001b[0m in \u001b[0;36mexecute\u001b[1;34m(self, command, params)\u001b[0m\n\u001b[0;32m    372\u001b[0m         \u001b[0mdata\u001b[0m \u001b[1;33m=\u001b[0m \u001b[0mutils\u001b[0m\u001b[1;33m.\u001b[0m\u001b[0mdump_json\u001b[0m\u001b[1;33m(\u001b[0m\u001b[0mparams\u001b[0m\u001b[1;33m)\u001b[0m\u001b[1;33m\u001b[0m\u001b[1;33m\u001b[0m\u001b[0m\n\u001b[0;32m    373\u001b[0m         \u001b[0murl\u001b[0m \u001b[1;33m=\u001b[0m \u001b[1;34m'%s%s'\u001b[0m \u001b[1;33m%\u001b[0m \u001b[1;33m(\u001b[0m\u001b[0mself\u001b[0m\u001b[1;33m.\u001b[0m\u001b[0m_url\u001b[0m\u001b[1;33m,\u001b[0m \u001b[0mpath\u001b[0m\u001b[1;33m)\u001b[0m\u001b[1;33m\u001b[0m\u001b[1;33m\u001b[0m\u001b[0m\n\u001b[1;32m--> 374\u001b[1;33m         \u001b[1;32mreturn\u001b[0m \u001b[0mself\u001b[0m\u001b[1;33m.\u001b[0m\u001b[0m_request\u001b[0m\u001b[1;33m(\u001b[0m\u001b[0mcommand_info\u001b[0m\u001b[1;33m[\u001b[0m\u001b[1;36m0\u001b[0m\u001b[1;33m]\u001b[0m\u001b[1;33m,\u001b[0m \u001b[0murl\u001b[0m\u001b[1;33m,\u001b[0m \u001b[0mbody\u001b[0m\u001b[1;33m=\u001b[0m\u001b[0mdata\u001b[0m\u001b[1;33m)\u001b[0m\u001b[1;33m\u001b[0m\u001b[1;33m\u001b[0m\u001b[0m\n\u001b[0m\u001b[0;32m    375\u001b[0m \u001b[1;33m\u001b[0m\u001b[0m\n\u001b[0;32m    376\u001b[0m     \u001b[1;32mdef\u001b[0m \u001b[0m_request\u001b[0m\u001b[1;33m(\u001b[0m\u001b[0mself\u001b[0m\u001b[1;33m,\u001b[0m \u001b[0mmethod\u001b[0m\u001b[1;33m,\u001b[0m \u001b[0murl\u001b[0m\u001b[1;33m,\u001b[0m \u001b[0mbody\u001b[0m\u001b[1;33m=\u001b[0m\u001b[1;32mNone\u001b[0m\u001b[1;33m)\u001b[0m\u001b[1;33m:\u001b[0m\u001b[1;33m\u001b[0m\u001b[1;33m\u001b[0m\u001b[0m\n",
      "\u001b[1;32mc:\\users\\minisong\\appdata\\local\\programs\\python\\python37\\lib\\site-packages\\selenium\\webdriver\\remote\\remote_connection.py\u001b[0m in \u001b[0;36m_request\u001b[1;34m(self, method, url, body)\u001b[0m\n\u001b[0;32m    395\u001b[0m \u001b[1;33m\u001b[0m\u001b[0m\n\u001b[0;32m    396\u001b[0m         \u001b[1;32mif\u001b[0m \u001b[0mself\u001b[0m\u001b[1;33m.\u001b[0m\u001b[0mkeep_alive\u001b[0m\u001b[1;33m:\u001b[0m\u001b[1;33m\u001b[0m\u001b[1;33m\u001b[0m\u001b[0m\n\u001b[1;32m--> 397\u001b[1;33m             \u001b[0mresp\u001b[0m \u001b[1;33m=\u001b[0m \u001b[0mself\u001b[0m\u001b[1;33m.\u001b[0m\u001b[0m_conn\u001b[0m\u001b[1;33m.\u001b[0m\u001b[0mrequest\u001b[0m\u001b[1;33m(\u001b[0m\u001b[0mmethod\u001b[0m\u001b[1;33m,\u001b[0m \u001b[0murl\u001b[0m\u001b[1;33m,\u001b[0m \u001b[0mbody\u001b[0m\u001b[1;33m=\u001b[0m\u001b[0mbody\u001b[0m\u001b[1;33m,\u001b[0m \u001b[0mheaders\u001b[0m\u001b[1;33m=\u001b[0m\u001b[0mheaders\u001b[0m\u001b[1;33m)\u001b[0m\u001b[1;33m\u001b[0m\u001b[1;33m\u001b[0m\u001b[0m\n\u001b[0m\u001b[0;32m    398\u001b[0m \u001b[1;33m\u001b[0m\u001b[0m\n\u001b[0;32m    399\u001b[0m             \u001b[0mstatuscode\u001b[0m \u001b[1;33m=\u001b[0m \u001b[0mresp\u001b[0m\u001b[1;33m.\u001b[0m\u001b[0mstatus\u001b[0m\u001b[1;33m\u001b[0m\u001b[1;33m\u001b[0m\u001b[0m\n",
      "\u001b[1;32mc:\\users\\minisong\\appdata\\local\\programs\\python\\python37\\lib\\site-packages\\urllib3\\request.py\u001b[0m in \u001b[0;36mrequest\u001b[1;34m(self, method, url, fields, headers, **urlopen_kw)\u001b[0m\n\u001b[0;32m     74\u001b[0m         \u001b[1;32mif\u001b[0m \u001b[0mmethod\u001b[0m \u001b[1;32min\u001b[0m \u001b[0mself\u001b[0m\u001b[1;33m.\u001b[0m\u001b[0m_encode_url_methods\u001b[0m\u001b[1;33m:\u001b[0m\u001b[1;33m\u001b[0m\u001b[1;33m\u001b[0m\u001b[0m\n\u001b[0;32m     75\u001b[0m             return self.request_encode_url(\n\u001b[1;32m---> 76\u001b[1;33m                 \u001b[0mmethod\u001b[0m\u001b[1;33m,\u001b[0m \u001b[0murl\u001b[0m\u001b[1;33m,\u001b[0m \u001b[0mfields\u001b[0m\u001b[1;33m=\u001b[0m\u001b[0mfields\u001b[0m\u001b[1;33m,\u001b[0m \u001b[0mheaders\u001b[0m\u001b[1;33m=\u001b[0m\u001b[0mheaders\u001b[0m\u001b[1;33m,\u001b[0m \u001b[1;33m**\u001b[0m\u001b[0murlopen_kw\u001b[0m\u001b[1;33m\u001b[0m\u001b[1;33m\u001b[0m\u001b[0m\n\u001b[0m\u001b[0;32m     77\u001b[0m             )\n\u001b[0;32m     78\u001b[0m         \u001b[1;32melse\u001b[0m\u001b[1;33m:\u001b[0m\u001b[1;33m\u001b[0m\u001b[1;33m\u001b[0m\u001b[0m\n",
      "\u001b[1;32mc:\\users\\minisong\\appdata\\local\\programs\\python\\python37\\lib\\site-packages\\urllib3\\request.py\u001b[0m in \u001b[0;36mrequest_encode_url\u001b[1;34m(self, method, url, fields, headers, **urlopen_kw)\u001b[0m\n\u001b[0;32m     95\u001b[0m             \u001b[0murl\u001b[0m \u001b[1;33m+=\u001b[0m \u001b[1;34m\"?\"\u001b[0m \u001b[1;33m+\u001b[0m \u001b[0murlencode\u001b[0m\u001b[1;33m(\u001b[0m\u001b[0mfields\u001b[0m\u001b[1;33m)\u001b[0m\u001b[1;33m\u001b[0m\u001b[1;33m\u001b[0m\u001b[0m\n\u001b[0;32m     96\u001b[0m \u001b[1;33m\u001b[0m\u001b[0m\n\u001b[1;32m---> 97\u001b[1;33m         \u001b[1;32mreturn\u001b[0m \u001b[0mself\u001b[0m\u001b[1;33m.\u001b[0m\u001b[0murlopen\u001b[0m\u001b[1;33m(\u001b[0m\u001b[0mmethod\u001b[0m\u001b[1;33m,\u001b[0m \u001b[0murl\u001b[0m\u001b[1;33m,\u001b[0m \u001b[1;33m**\u001b[0m\u001b[0mextra_kw\u001b[0m\u001b[1;33m)\u001b[0m\u001b[1;33m\u001b[0m\u001b[1;33m\u001b[0m\u001b[0m\n\u001b[0m\u001b[0;32m     98\u001b[0m \u001b[1;33m\u001b[0m\u001b[0m\n\u001b[0;32m     99\u001b[0m     def request_encode_body(\n",
      "\u001b[1;32mc:\\users\\minisong\\appdata\\local\\programs\\python\\python37\\lib\\site-packages\\urllib3\\poolmanager.py\u001b[0m in \u001b[0;36murlopen\u001b[1;34m(self, method, url, redirect, **kw)\u001b[0m\n\u001b[0;32m    328\u001b[0m             \u001b[0mresponse\u001b[0m \u001b[1;33m=\u001b[0m \u001b[0mconn\u001b[0m\u001b[1;33m.\u001b[0m\u001b[0murlopen\u001b[0m\u001b[1;33m(\u001b[0m\u001b[0mmethod\u001b[0m\u001b[1;33m,\u001b[0m \u001b[0murl\u001b[0m\u001b[1;33m,\u001b[0m \u001b[1;33m**\u001b[0m\u001b[0mkw\u001b[0m\u001b[1;33m)\u001b[0m\u001b[1;33m\u001b[0m\u001b[1;33m\u001b[0m\u001b[0m\n\u001b[0;32m    329\u001b[0m         \u001b[1;32melse\u001b[0m\u001b[1;33m:\u001b[0m\u001b[1;33m\u001b[0m\u001b[1;33m\u001b[0m\u001b[0m\n\u001b[1;32m--> 330\u001b[1;33m             \u001b[0mresponse\u001b[0m \u001b[1;33m=\u001b[0m \u001b[0mconn\u001b[0m\u001b[1;33m.\u001b[0m\u001b[0murlopen\u001b[0m\u001b[1;33m(\u001b[0m\u001b[0mmethod\u001b[0m\u001b[1;33m,\u001b[0m \u001b[0mu\u001b[0m\u001b[1;33m.\u001b[0m\u001b[0mrequest_uri\u001b[0m\u001b[1;33m,\u001b[0m \u001b[1;33m**\u001b[0m\u001b[0mkw\u001b[0m\u001b[1;33m)\u001b[0m\u001b[1;33m\u001b[0m\u001b[1;33m\u001b[0m\u001b[0m\n\u001b[0m\u001b[0;32m    331\u001b[0m \u001b[1;33m\u001b[0m\u001b[0m\n\u001b[0;32m    332\u001b[0m         \u001b[0mredirect_location\u001b[0m \u001b[1;33m=\u001b[0m \u001b[0mredirect\u001b[0m \u001b[1;32mand\u001b[0m \u001b[0mresponse\u001b[0m\u001b[1;33m.\u001b[0m\u001b[0mget_redirect_location\u001b[0m\u001b[1;33m(\u001b[0m\u001b[1;33m)\u001b[0m\u001b[1;33m\u001b[0m\u001b[1;33m\u001b[0m\u001b[0m\n",
      "\u001b[1;32mc:\\users\\minisong\\appdata\\local\\programs\\python\\python37\\lib\\site-packages\\urllib3\\connectionpool.py\u001b[0m in \u001b[0;36murlopen\u001b[1;34m(self, method, url, body, headers, retries, redirect, assert_same_host, timeout, pool_timeout, release_conn, chunked, body_pos, **response_kw)\u001b[0m\n\u001b[0;32m    758\u001b[0m                 \u001b[0mchunked\u001b[0m\u001b[1;33m=\u001b[0m\u001b[0mchunked\u001b[0m\u001b[1;33m,\u001b[0m\u001b[1;33m\u001b[0m\u001b[1;33m\u001b[0m\u001b[0m\n\u001b[0;32m    759\u001b[0m                 \u001b[0mbody_pos\u001b[0m\u001b[1;33m=\u001b[0m\u001b[0mbody_pos\u001b[0m\u001b[1;33m,\u001b[0m\u001b[1;33m\u001b[0m\u001b[1;33m\u001b[0m\u001b[0m\n\u001b[1;32m--> 760\u001b[1;33m                 \u001b[1;33m**\u001b[0m\u001b[0mresponse_kw\u001b[0m\u001b[1;33m\u001b[0m\u001b[1;33m\u001b[0m\u001b[0m\n\u001b[0m\u001b[0;32m    761\u001b[0m             )\n\u001b[0;32m    762\u001b[0m \u001b[1;33m\u001b[0m\u001b[0m\n",
      "\u001b[1;32mc:\\users\\minisong\\appdata\\local\\programs\\python\\python37\\lib\\site-packages\\urllib3\\connectionpool.py\u001b[0m in \u001b[0;36murlopen\u001b[1;34m(self, method, url, body, headers, retries, redirect, assert_same_host, timeout, pool_timeout, release_conn, chunked, body_pos, **response_kw)\u001b[0m\n\u001b[0;32m    758\u001b[0m                 \u001b[0mchunked\u001b[0m\u001b[1;33m=\u001b[0m\u001b[0mchunked\u001b[0m\u001b[1;33m,\u001b[0m\u001b[1;33m\u001b[0m\u001b[1;33m\u001b[0m\u001b[0m\n\u001b[0;32m    759\u001b[0m                 \u001b[0mbody_pos\u001b[0m\u001b[1;33m=\u001b[0m\u001b[0mbody_pos\u001b[0m\u001b[1;33m,\u001b[0m\u001b[1;33m\u001b[0m\u001b[1;33m\u001b[0m\u001b[0m\n\u001b[1;32m--> 760\u001b[1;33m                 \u001b[1;33m**\u001b[0m\u001b[0mresponse_kw\u001b[0m\u001b[1;33m\u001b[0m\u001b[1;33m\u001b[0m\u001b[0m\n\u001b[0m\u001b[0;32m    761\u001b[0m             )\n\u001b[0;32m    762\u001b[0m \u001b[1;33m\u001b[0m\u001b[0m\n",
      "\u001b[1;32mc:\\users\\minisong\\appdata\\local\\programs\\python\\python37\\lib\\site-packages\\urllib3\\connectionpool.py\u001b[0m in \u001b[0;36murlopen\u001b[1;34m(self, method, url, body, headers, retries, redirect, assert_same_host, timeout, pool_timeout, release_conn, chunked, body_pos, **response_kw)\u001b[0m\n\u001b[0;32m    670\u001b[0m                 \u001b[0mbody\u001b[0m\u001b[1;33m=\u001b[0m\u001b[0mbody\u001b[0m\u001b[1;33m,\u001b[0m\u001b[1;33m\u001b[0m\u001b[1;33m\u001b[0m\u001b[0m\n\u001b[0;32m    671\u001b[0m                 \u001b[0mheaders\u001b[0m\u001b[1;33m=\u001b[0m\u001b[0mheaders\u001b[0m\u001b[1;33m,\u001b[0m\u001b[1;33m\u001b[0m\u001b[1;33m\u001b[0m\u001b[0m\n\u001b[1;32m--> 672\u001b[1;33m                 \u001b[0mchunked\u001b[0m\u001b[1;33m=\u001b[0m\u001b[0mchunked\u001b[0m\u001b[1;33m,\u001b[0m\u001b[1;33m\u001b[0m\u001b[1;33m\u001b[0m\u001b[0m\n\u001b[0m\u001b[0;32m    673\u001b[0m             )\n\u001b[0;32m    674\u001b[0m \u001b[1;33m\u001b[0m\u001b[0m\n",
      "\u001b[1;32mc:\\users\\minisong\\appdata\\local\\programs\\python\\python37\\lib\\site-packages\\urllib3\\connectionpool.py\u001b[0m in \u001b[0;36m_make_request\u001b[1;34m(self, conn, method, url, timeout, chunked, **httplib_request_kw)\u001b[0m\n\u001b[0;32m    385\u001b[0m             \u001b[0mconn\u001b[0m\u001b[1;33m.\u001b[0m\u001b[0mrequest_chunked\u001b[0m\u001b[1;33m(\u001b[0m\u001b[0mmethod\u001b[0m\u001b[1;33m,\u001b[0m \u001b[0murl\u001b[0m\u001b[1;33m,\u001b[0m \u001b[1;33m**\u001b[0m\u001b[0mhttplib_request_kw\u001b[0m\u001b[1;33m)\u001b[0m\u001b[1;33m\u001b[0m\u001b[1;33m\u001b[0m\u001b[0m\n\u001b[0;32m    386\u001b[0m         \u001b[1;32melse\u001b[0m\u001b[1;33m:\u001b[0m\u001b[1;33m\u001b[0m\u001b[1;33m\u001b[0m\u001b[0m\n\u001b[1;32m--> 387\u001b[1;33m             \u001b[0mconn\u001b[0m\u001b[1;33m.\u001b[0m\u001b[0mrequest\u001b[0m\u001b[1;33m(\u001b[0m\u001b[0mmethod\u001b[0m\u001b[1;33m,\u001b[0m \u001b[0murl\u001b[0m\u001b[1;33m,\u001b[0m \u001b[1;33m**\u001b[0m\u001b[0mhttplib_request_kw\u001b[0m\u001b[1;33m)\u001b[0m\u001b[1;33m\u001b[0m\u001b[1;33m\u001b[0m\u001b[0m\n\u001b[0m\u001b[0;32m    388\u001b[0m \u001b[1;33m\u001b[0m\u001b[0m\n\u001b[0;32m    389\u001b[0m         \u001b[1;31m# Reset the timeout for the recv() on the socket\u001b[0m\u001b[1;33m\u001b[0m\u001b[1;33m\u001b[0m\u001b[1;33m\u001b[0m\u001b[0m\n",
      "\u001b[1;32mc:\\users\\minisong\\appdata\\local\\programs\\python\\python37\\lib\\http\\client.py\u001b[0m in \u001b[0;36mrequest\u001b[1;34m(self, method, url, body, headers, encode_chunked)\u001b[0m\n\u001b[0;32m   1250\u001b[0m                 encode_chunked=False):\n\u001b[0;32m   1251\u001b[0m         \u001b[1;34m\"\"\"Send a complete request to the server.\"\"\"\u001b[0m\u001b[1;33m\u001b[0m\u001b[1;33m\u001b[0m\u001b[0m\n\u001b[1;32m-> 1252\u001b[1;33m         \u001b[0mself\u001b[0m\u001b[1;33m.\u001b[0m\u001b[0m_send_request\u001b[0m\u001b[1;33m(\u001b[0m\u001b[0mmethod\u001b[0m\u001b[1;33m,\u001b[0m \u001b[0murl\u001b[0m\u001b[1;33m,\u001b[0m \u001b[0mbody\u001b[0m\u001b[1;33m,\u001b[0m \u001b[0mheaders\u001b[0m\u001b[1;33m,\u001b[0m \u001b[0mencode_chunked\u001b[0m\u001b[1;33m)\u001b[0m\u001b[1;33m\u001b[0m\u001b[1;33m\u001b[0m\u001b[0m\n\u001b[0m\u001b[0;32m   1253\u001b[0m \u001b[1;33m\u001b[0m\u001b[0m\n\u001b[0;32m   1254\u001b[0m     \u001b[1;32mdef\u001b[0m \u001b[0m_send_request\u001b[0m\u001b[1;33m(\u001b[0m\u001b[0mself\u001b[0m\u001b[1;33m,\u001b[0m \u001b[0mmethod\u001b[0m\u001b[1;33m,\u001b[0m \u001b[0murl\u001b[0m\u001b[1;33m,\u001b[0m \u001b[0mbody\u001b[0m\u001b[1;33m,\u001b[0m \u001b[0mheaders\u001b[0m\u001b[1;33m,\u001b[0m \u001b[0mencode_chunked\u001b[0m\u001b[1;33m)\u001b[0m\u001b[1;33m:\u001b[0m\u001b[1;33m\u001b[0m\u001b[1;33m\u001b[0m\u001b[0m\n",
      "\u001b[1;32mc:\\users\\minisong\\appdata\\local\\programs\\python\\python37\\lib\\http\\client.py\u001b[0m in \u001b[0;36m_send_request\u001b[1;34m(self, method, url, body, headers, encode_chunked)\u001b[0m\n\u001b[0;32m   1296\u001b[0m             \u001b[1;31m# default charset of iso-8859-1.\u001b[0m\u001b[1;33m\u001b[0m\u001b[1;33m\u001b[0m\u001b[1;33m\u001b[0m\u001b[0m\n\u001b[0;32m   1297\u001b[0m             \u001b[0mbody\u001b[0m \u001b[1;33m=\u001b[0m \u001b[0m_encode\u001b[0m\u001b[1;33m(\u001b[0m\u001b[0mbody\u001b[0m\u001b[1;33m,\u001b[0m \u001b[1;34m'body'\u001b[0m\u001b[1;33m)\u001b[0m\u001b[1;33m\u001b[0m\u001b[1;33m\u001b[0m\u001b[0m\n\u001b[1;32m-> 1298\u001b[1;33m         \u001b[0mself\u001b[0m\u001b[1;33m.\u001b[0m\u001b[0mendheaders\u001b[0m\u001b[1;33m(\u001b[0m\u001b[0mbody\u001b[0m\u001b[1;33m,\u001b[0m \u001b[0mencode_chunked\u001b[0m\u001b[1;33m=\u001b[0m\u001b[0mencode_chunked\u001b[0m\u001b[1;33m)\u001b[0m\u001b[1;33m\u001b[0m\u001b[1;33m\u001b[0m\u001b[0m\n\u001b[0m\u001b[0;32m   1299\u001b[0m \u001b[1;33m\u001b[0m\u001b[0m\n\u001b[0;32m   1300\u001b[0m     \u001b[1;32mdef\u001b[0m \u001b[0mgetresponse\u001b[0m\u001b[1;33m(\u001b[0m\u001b[0mself\u001b[0m\u001b[1;33m)\u001b[0m\u001b[1;33m:\u001b[0m\u001b[1;33m\u001b[0m\u001b[1;33m\u001b[0m\u001b[0m\n",
      "\u001b[1;32mc:\\users\\minisong\\appdata\\local\\programs\\python\\python37\\lib\\http\\client.py\u001b[0m in \u001b[0;36mendheaders\u001b[1;34m(self, message_body, encode_chunked)\u001b[0m\n\u001b[0;32m   1245\u001b[0m         \u001b[1;32melse\u001b[0m\u001b[1;33m:\u001b[0m\u001b[1;33m\u001b[0m\u001b[1;33m\u001b[0m\u001b[0m\n\u001b[0;32m   1246\u001b[0m             \u001b[1;32mraise\u001b[0m \u001b[0mCannotSendHeader\u001b[0m\u001b[1;33m(\u001b[0m\u001b[1;33m)\u001b[0m\u001b[1;33m\u001b[0m\u001b[1;33m\u001b[0m\u001b[0m\n\u001b[1;32m-> 1247\u001b[1;33m         \u001b[0mself\u001b[0m\u001b[1;33m.\u001b[0m\u001b[0m_send_output\u001b[0m\u001b[1;33m(\u001b[0m\u001b[0mmessage_body\u001b[0m\u001b[1;33m,\u001b[0m \u001b[0mencode_chunked\u001b[0m\u001b[1;33m=\u001b[0m\u001b[0mencode_chunked\u001b[0m\u001b[1;33m)\u001b[0m\u001b[1;33m\u001b[0m\u001b[1;33m\u001b[0m\u001b[0m\n\u001b[0m\u001b[0;32m   1248\u001b[0m \u001b[1;33m\u001b[0m\u001b[0m\n\u001b[0;32m   1249\u001b[0m     def request(self, method, url, body=None, headers={}, *,\n",
      "\u001b[1;32mc:\\users\\minisong\\appdata\\local\\programs\\python\\python37\\lib\\http\\client.py\u001b[0m in \u001b[0;36m_send_output\u001b[1;34m(self, message_body, encode_chunked)\u001b[0m\n\u001b[0;32m   1024\u001b[0m         \u001b[0mmsg\u001b[0m \u001b[1;33m=\u001b[0m \u001b[1;34mb\"\\r\\n\"\u001b[0m\u001b[1;33m.\u001b[0m\u001b[0mjoin\u001b[0m\u001b[1;33m(\u001b[0m\u001b[0mself\u001b[0m\u001b[1;33m.\u001b[0m\u001b[0m_buffer\u001b[0m\u001b[1;33m)\u001b[0m\u001b[1;33m\u001b[0m\u001b[1;33m\u001b[0m\u001b[0m\n\u001b[0;32m   1025\u001b[0m         \u001b[1;32mdel\u001b[0m \u001b[0mself\u001b[0m\u001b[1;33m.\u001b[0m\u001b[0m_buffer\u001b[0m\u001b[1;33m[\u001b[0m\u001b[1;33m:\u001b[0m\u001b[1;33m]\u001b[0m\u001b[1;33m\u001b[0m\u001b[1;33m\u001b[0m\u001b[0m\n\u001b[1;32m-> 1026\u001b[1;33m         \u001b[0mself\u001b[0m\u001b[1;33m.\u001b[0m\u001b[0msend\u001b[0m\u001b[1;33m(\u001b[0m\u001b[0mmsg\u001b[0m\u001b[1;33m)\u001b[0m\u001b[1;33m\u001b[0m\u001b[1;33m\u001b[0m\u001b[0m\n\u001b[0m\u001b[0;32m   1027\u001b[0m \u001b[1;33m\u001b[0m\u001b[0m\n\u001b[0;32m   1028\u001b[0m         \u001b[1;32mif\u001b[0m \u001b[0mmessage_body\u001b[0m \u001b[1;32mis\u001b[0m \u001b[1;32mnot\u001b[0m \u001b[1;32mNone\u001b[0m\u001b[1;33m:\u001b[0m\u001b[1;33m\u001b[0m\u001b[1;33m\u001b[0m\u001b[0m\n",
      "\u001b[1;32mc:\\users\\minisong\\appdata\\local\\programs\\python\\python37\\lib\\http\\client.py\u001b[0m in \u001b[0;36msend\u001b[1;34m(self, data)\u001b[0m\n\u001b[0;32m    964\u001b[0m         \u001b[1;32mif\u001b[0m \u001b[0mself\u001b[0m\u001b[1;33m.\u001b[0m\u001b[0msock\u001b[0m \u001b[1;32mis\u001b[0m \u001b[1;32mNone\u001b[0m\u001b[1;33m:\u001b[0m\u001b[1;33m\u001b[0m\u001b[1;33m\u001b[0m\u001b[0m\n\u001b[0;32m    965\u001b[0m             \u001b[1;32mif\u001b[0m \u001b[0mself\u001b[0m\u001b[1;33m.\u001b[0m\u001b[0mauto_open\u001b[0m\u001b[1;33m:\u001b[0m\u001b[1;33m\u001b[0m\u001b[1;33m\u001b[0m\u001b[0m\n\u001b[1;32m--> 966\u001b[1;33m                 \u001b[0mself\u001b[0m\u001b[1;33m.\u001b[0m\u001b[0mconnect\u001b[0m\u001b[1;33m(\u001b[0m\u001b[1;33m)\u001b[0m\u001b[1;33m\u001b[0m\u001b[1;33m\u001b[0m\u001b[0m\n\u001b[0m\u001b[0;32m    967\u001b[0m             \u001b[1;32melse\u001b[0m\u001b[1;33m:\u001b[0m\u001b[1;33m\u001b[0m\u001b[1;33m\u001b[0m\u001b[0m\n\u001b[0;32m    968\u001b[0m                 \u001b[1;32mraise\u001b[0m \u001b[0mNotConnected\u001b[0m\u001b[1;33m(\u001b[0m\u001b[1;33m)\u001b[0m\u001b[1;33m\u001b[0m\u001b[1;33m\u001b[0m\u001b[0m\n",
      "\u001b[1;32mc:\\users\\minisong\\appdata\\local\\programs\\python\\python37\\lib\\site-packages\\urllib3\\connection.py\u001b[0m in \u001b[0;36mconnect\u001b[1;34m(self)\u001b[0m\n\u001b[0;32m    182\u001b[0m \u001b[1;33m\u001b[0m\u001b[0m\n\u001b[0;32m    183\u001b[0m     \u001b[1;32mdef\u001b[0m \u001b[0mconnect\u001b[0m\u001b[1;33m(\u001b[0m\u001b[0mself\u001b[0m\u001b[1;33m)\u001b[0m\u001b[1;33m:\u001b[0m\u001b[1;33m\u001b[0m\u001b[1;33m\u001b[0m\u001b[0m\n\u001b[1;32m--> 184\u001b[1;33m         \u001b[0mconn\u001b[0m \u001b[1;33m=\u001b[0m \u001b[0mself\u001b[0m\u001b[1;33m.\u001b[0m\u001b[0m_new_conn\u001b[0m\u001b[1;33m(\u001b[0m\u001b[1;33m)\u001b[0m\u001b[1;33m\u001b[0m\u001b[1;33m\u001b[0m\u001b[0m\n\u001b[0m\u001b[0;32m    185\u001b[0m         \u001b[0mself\u001b[0m\u001b[1;33m.\u001b[0m\u001b[0m_prepare_conn\u001b[0m\u001b[1;33m(\u001b[0m\u001b[0mconn\u001b[0m\u001b[1;33m)\u001b[0m\u001b[1;33m\u001b[0m\u001b[1;33m\u001b[0m\u001b[0m\n\u001b[0;32m    186\u001b[0m \u001b[1;33m\u001b[0m\u001b[0m\n",
      "\u001b[1;32mc:\\users\\minisong\\appdata\\local\\programs\\python\\python37\\lib\\site-packages\\urllib3\\connection.py\u001b[0m in \u001b[0;36m_new_conn\u001b[1;34m(self)\u001b[0m\n\u001b[0;32m    155\u001b[0m         \u001b[1;32mtry\u001b[0m\u001b[1;33m:\u001b[0m\u001b[1;33m\u001b[0m\u001b[1;33m\u001b[0m\u001b[0m\n\u001b[0;32m    156\u001b[0m             conn = connection.create_connection(\n\u001b[1;32m--> 157\u001b[1;33m                 \u001b[1;33m(\u001b[0m\u001b[0mself\u001b[0m\u001b[1;33m.\u001b[0m\u001b[0m_dns_host\u001b[0m\u001b[1;33m,\u001b[0m \u001b[0mself\u001b[0m\u001b[1;33m.\u001b[0m\u001b[0mport\u001b[0m\u001b[1;33m)\u001b[0m\u001b[1;33m,\u001b[0m \u001b[0mself\u001b[0m\u001b[1;33m.\u001b[0m\u001b[0mtimeout\u001b[0m\u001b[1;33m,\u001b[0m \u001b[1;33m**\u001b[0m\u001b[0mextra_kw\u001b[0m\u001b[1;33m\u001b[0m\u001b[1;33m\u001b[0m\u001b[0m\n\u001b[0m\u001b[0;32m    158\u001b[0m             )\n\u001b[0;32m    159\u001b[0m \u001b[1;33m\u001b[0m\u001b[0m\n",
      "\u001b[1;32mc:\\users\\minisong\\appdata\\local\\programs\\python\\python37\\lib\\site-packages\\urllib3\\util\\connection.py\u001b[0m in \u001b[0;36mcreate_connection\u001b[1;34m(address, timeout, source_address, socket_options)\u001b[0m\n\u001b[0;32m     72\u001b[0m             \u001b[1;32mif\u001b[0m \u001b[0msource_address\u001b[0m\u001b[1;33m:\u001b[0m\u001b[1;33m\u001b[0m\u001b[1;33m\u001b[0m\u001b[0m\n\u001b[0;32m     73\u001b[0m                 \u001b[0msock\u001b[0m\u001b[1;33m.\u001b[0m\u001b[0mbind\u001b[0m\u001b[1;33m(\u001b[0m\u001b[0msource_address\u001b[0m\u001b[1;33m)\u001b[0m\u001b[1;33m\u001b[0m\u001b[1;33m\u001b[0m\u001b[0m\n\u001b[1;32m---> 74\u001b[1;33m             \u001b[0msock\u001b[0m\u001b[1;33m.\u001b[0m\u001b[0mconnect\u001b[0m\u001b[1;33m(\u001b[0m\u001b[0msa\u001b[0m\u001b[1;33m)\u001b[0m\u001b[1;33m\u001b[0m\u001b[1;33m\u001b[0m\u001b[0m\n\u001b[0m\u001b[0;32m     75\u001b[0m             \u001b[1;32mreturn\u001b[0m \u001b[0msock\u001b[0m\u001b[1;33m\u001b[0m\u001b[1;33m\u001b[0m\u001b[0m\n\u001b[0;32m     76\u001b[0m \u001b[1;33m\u001b[0m\u001b[0m\n",
      "\u001b[1;31mKeyboardInterrupt\u001b[0m: "
     ]
    }
   ],
   "source": [
    "\n",
    "'''\n",
    "url = 'https://www.10000recipe.com/recipe/6899265'\n",
    "req = requests.get(url)\n",
    "html = req.text\n",
    "soup = BeautifulSoup(html,'html.parser')\n",
    "movies = soup.find(\"div\",attrs={'class':'view2_summary st3'})\n",
    "ingredient = soup.find(\"div\",attrs={'class':'ready_ingre3'})\n",
    "browser.quit()\n",
    "재료=[]\n",
    "title=soup.find(\"h3\").text\n",
    "t=ingredient.find_all('a')\n",
    "for i in t:\n",
    "    재료.append(i.text.strip().replace(\" \",\"\").replace(\"\\n\",\" \"))\n",
    "하나=[]\n",
    "하나.append(title)\n",
    "하나.append(재료)\n",
    "csv_list.append(하나)\n",
    "'''\n",
    "\n",
    "\n",
    "\n",
    "for url_ in tqdm(ranking_url):\n",
    "    try:\n",
    "        url = url_\n",
    "        req = requests.get(url)\n",
    "        html = req.text\n",
    "        soup = BeautifulSoup(html,'html.parser')\n",
    "        movies = soup.find(\"div\",attrs={'class':'view2_summary st3'})\n",
    "        ingredient = soup.find(\"div\",attrs={'class':'ready_ingre3'})\n",
    "        browser.quit()\n",
    "        재료=[]\n",
    "        title=soup.find(\"h3\").text\n",
    "        t=ingredient.find_all('a')\n",
    "        for i in t:\n",
    "            재료.append(i.text.strip().replace(\" \",\"\").replace(\"\\n\",\" \"))\n",
    "        하나=[]\n",
    "        하나.append(title)\n",
    "        하나.append(재료)\n",
    "        csv_list.append(하나)\n",
    "    except Exception:\n",
    "        pass\n",
    "\n",
    "csv_list\n",
    "\n",
    "csv_list\n",
    "\n",
    "import pandas as pd\n",
    "\n",
    "바꾸자=pd.DataFrame(csv_list)\n",
    "\n",
    "바꾸자\n",
    "\n",
    "\n",
    "바꾸자.to_csv('웹스크래핑.csv',encoding='utf-8-sig',header=False)\n"
   ]
  },
  {
   "cell_type": "code",
   "execution_count": 8,
   "metadata": {
    "ExecuteTime": {
     "end_time": "2021-02-24T03:54:36.893711Z",
     "start_time": "2021-02-24T03:52:46.848439Z"
    }
   },
   "outputs": [
    {
     "name": "stderr",
     "output_type": "stream",
     "text": [
      "  4%|███▎                                                                               | 1/25 [00:04<01:42,  4.25s/it]"
     ]
    },
    {
     "name": "stdout",
     "output_type": "stream",
     "text": [
      "40\n"
     ]
    },
    {
     "name": "stderr",
     "output_type": "stream",
     "text": [
      "\r",
      "  8%|██████▋                                                                            | 2/25 [00:08<01:37,  4.26s/it]"
     ]
    },
    {
     "name": "stdout",
     "output_type": "stream",
     "text": [
      "80\n"
     ]
    },
    {
     "name": "stderr",
     "output_type": "stream",
     "text": [
      "\r",
      " 12%|█████████▉                                                                         | 3/25 [00:12<01:33,  4.26s/it]"
     ]
    },
    {
     "name": "stdout",
     "output_type": "stream",
     "text": [
      "120\n"
     ]
    },
    {
     "name": "stderr",
     "output_type": "stream",
     "text": [
      "\r",
      " 16%|█████████████▎                                                                     | 4/25 [00:17<01:29,  4.26s/it]"
     ]
    },
    {
     "name": "stdout",
     "output_type": "stream",
     "text": [
      "160\n"
     ]
    },
    {
     "name": "stderr",
     "output_type": "stream",
     "text": [
      "\r",
      " 20%|████████████████▌                                                                  | 5/25 [00:21<01:25,  4.27s/it]"
     ]
    },
    {
     "name": "stdout",
     "output_type": "stream",
     "text": [
      "200\n"
     ]
    },
    {
     "name": "stderr",
     "output_type": "stream",
     "text": [
      "\r",
      " 24%|███████████████████▉                                                               | 6/25 [00:25<01:21,  4.31s/it]"
     ]
    },
    {
     "name": "stdout",
     "output_type": "stream",
     "text": [
      "240\n"
     ]
    },
    {
     "name": "stderr",
     "output_type": "stream",
     "text": [
      "\r",
      " 28%|███████████████████████▏                                                           | 7/25 [00:30<01:18,  4.35s/it]"
     ]
    },
    {
     "name": "stdout",
     "output_type": "stream",
     "text": [
      "280\n"
     ]
    },
    {
     "name": "stderr",
     "output_type": "stream",
     "text": [
      "\r",
      " 32%|██████████████████████████▌                                                        | 8/25 [00:34<01:14,  4.40s/it]"
     ]
    },
    {
     "name": "stdout",
     "output_type": "stream",
     "text": [
      "320\n"
     ]
    },
    {
     "name": "stderr",
     "output_type": "stream",
     "text": [
      "\r",
      " 36%|█████████████████████████████▉                                                     | 9/25 [00:39<01:10,  4.42s/it]"
     ]
    },
    {
     "name": "stdout",
     "output_type": "stream",
     "text": [
      "360\n"
     ]
    },
    {
     "name": "stderr",
     "output_type": "stream",
     "text": [
      "\r",
      " 40%|████████████████████████████████▊                                                 | 10/25 [00:43<01:06,  4.42s/it]"
     ]
    },
    {
     "name": "stdout",
     "output_type": "stream",
     "text": [
      "400\n"
     ]
    },
    {
     "name": "stderr",
     "output_type": "stream",
     "text": [
      "\r",
      " 44%|████████████████████████████████████                                              | 11/25 [00:47<01:01,  4.39s/it]"
     ]
    },
    {
     "name": "stdout",
     "output_type": "stream",
     "text": [
      "440\n"
     ]
    },
    {
     "name": "stderr",
     "output_type": "stream",
     "text": [
      "\r",
      " 48%|███████████████████████████████████████▎                                          | 12/25 [00:52<00:57,  4.39s/it]"
     ]
    },
    {
     "name": "stdout",
     "output_type": "stream",
     "text": [
      "480\n"
     ]
    },
    {
     "name": "stderr",
     "output_type": "stream",
     "text": [
      "\r",
      " 52%|██████████████████████████████████████████▋                                       | 13/25 [00:56<00:52,  4.37s/it]"
     ]
    },
    {
     "name": "stdout",
     "output_type": "stream",
     "text": [
      "520\n"
     ]
    },
    {
     "name": "stderr",
     "output_type": "stream",
     "text": [
      "\r",
      " 56%|█████████████████████████████████████████████▉                                    | 14/25 [01:01<00:48,  4.44s/it]"
     ]
    },
    {
     "name": "stdout",
     "output_type": "stream",
     "text": [
      "560\n"
     ]
    },
    {
     "name": "stderr",
     "output_type": "stream",
     "text": [
      "\r",
      " 60%|█████████████████████████████████████████████████▏                                | 15/25 [01:05<00:44,  4.48s/it]"
     ]
    },
    {
     "name": "stdout",
     "output_type": "stream",
     "text": [
      "600\n"
     ]
    },
    {
     "name": "stderr",
     "output_type": "stream",
     "text": [
      "\r",
      " 64%|████████████████████████████████████████████████████▍                             | 16/25 [01:10<00:40,  4.49s/it]"
     ]
    },
    {
     "name": "stdout",
     "output_type": "stream",
     "text": [
      "640\n"
     ]
    },
    {
     "name": "stderr",
     "output_type": "stream",
     "text": [
      "\r",
      " 68%|███████████████████████████████████████████████████████▊                          | 17/25 [01:14<00:35,  4.45s/it]"
     ]
    },
    {
     "name": "stdout",
     "output_type": "stream",
     "text": [
      "680\n"
     ]
    },
    {
     "name": "stderr",
     "output_type": "stream",
     "text": [
      "\r",
      " 72%|███████████████████████████████████████████████████████████                       | 18/25 [01:19<00:30,  4.42s/it]"
     ]
    },
    {
     "name": "stdout",
     "output_type": "stream",
     "text": [
      "720\n"
     ]
    },
    {
     "name": "stderr",
     "output_type": "stream",
     "text": [
      "\r",
      " 76%|██████████████████████████████████████████████████████████████▎                   | 19/25 [01:23<00:26,  4.41s/it]"
     ]
    },
    {
     "name": "stdout",
     "output_type": "stream",
     "text": [
      "760\n"
     ]
    },
    {
     "name": "stderr",
     "output_type": "stream",
     "text": [
      "\r",
      " 80%|█████████████████████████████████████████████████████████████████▌                | 20/25 [01:27<00:22,  4.44s/it]"
     ]
    },
    {
     "name": "stdout",
     "output_type": "stream",
     "text": [
      "800\n"
     ]
    },
    {
     "name": "stderr",
     "output_type": "stream",
     "text": [
      "\r",
      " 84%|████████████████████████████████████████████████████████████████████▉             | 21/25 [01:32<00:17,  4.42s/it]"
     ]
    },
    {
     "name": "stdout",
     "output_type": "stream",
     "text": [
      "840\n"
     ]
    },
    {
     "name": "stderr",
     "output_type": "stream",
     "text": [
      "\r",
      " 88%|████████████████████████████████████████████████████████████████████████▏         | 22/25 [01:36<00:13,  4.48s/it]"
     ]
    },
    {
     "name": "stdout",
     "output_type": "stream",
     "text": [
      "880\n"
     ]
    },
    {
     "name": "stderr",
     "output_type": "stream",
     "text": [
      "\r",
      " 92%|███████████████████████████████████████████████████████████████████████████▍      | 23/25 [01:41<00:08,  4.44s/it]"
     ]
    },
    {
     "name": "stdout",
     "output_type": "stream",
     "text": [
      "920\n"
     ]
    },
    {
     "name": "stderr",
     "output_type": "stream",
     "text": [
      "\r",
      " 96%|██████████████████████████████████████████████████████████████████████████████▋   | 24/25 [01:45<00:04,  4.43s/it]"
     ]
    },
    {
     "name": "stdout",
     "output_type": "stream",
     "text": [
      "960\n"
     ]
    },
    {
     "name": "stderr",
     "output_type": "stream",
     "text": [
      "100%|██████████████████████████████████████████████████████████████████████████████████| 25/25 [01:49<00:00,  4.40s/it]"
     ]
    },
    {
     "name": "stdout",
     "output_type": "stream",
     "text": [
      "1000\n"
     ]
    },
    {
     "name": "stderr",
     "output_type": "stream",
     "text": [
      "\n"
     ]
    }
   ],
   "source": [
    "url_1000개=[]\n",
    "\n",
    "for i in tqdm(range(1,26)):\n",
    "    try:\n",
    "        url = 'https://www.10000recipe.com/recipe/list.html?cat3=70&order=reco&page='+str(i)\n",
    "        req = requests.get(url)\n",
    "        html = req.text\n",
    "        soup = BeautifulSoup(html,'html.parser')\n",
    "        소고기_number_list=soup.find_all(\"div\",attrs={'class':'common_sp_thumb'})\n",
    "        for i in 소고기_number_list:\n",
    "            url_1000개.append('https://www.10000recipe.com' + i.find('a')['href'])\n",
    "        browser.quit()\n",
    "        print(len(url_1000개))\n",
    "    except Exception:\n",
    "        pass"
   ]
  },
  {
   "cell_type": "code",
   "execution_count": 27,
   "metadata": {
    "ExecuteTime": {
     "end_time": "2021-02-08T13:46:44.383492Z",
     "start_time": "2021-02-08T13:46:44.379504Z"
    }
   },
   "outputs": [],
   "source": [
    "#test_=url_1000개[1:100]"
   ]
  },
  {
   "cell_type": "code",
   "execution_count": null,
   "metadata": {},
   "outputs": [],
   "source": [
    "#https://www.10000recipe.com/recipe/6883714"
   ]
  },
  {
   "cell_type": "code",
   "execution_count": 20,
   "metadata": {
    "ExecuteTime": {
     "end_time": "2021-02-24T05:32:17.301928Z",
     "start_time": "2021-02-24T04:03:04.676355Z"
    },
    "scrolled": false
   },
   "outputs": [
    {
     "name": "stderr",
     "output_type": "stream",
     "text": [
      "  1%|▌                                                                              | 7/1000 [00:33<1:19:22,  4.80s/it]"
     ]
    },
    {
     "name": "stdout",
     "output_type": "stream",
     "text": [
      "초간단\n"
     ]
    },
    {
     "name": "stderr",
     "output_type": "stream",
     "text": [
      "  1%|▉                                                                             | 12/1000 [00:57<1:19:35,  4.83s/it]"
     ]
    },
    {
     "name": "stdout",
     "output_type": "stream",
     "text": [
      "초간단\n"
     ]
    },
    {
     "name": "stderr",
     "output_type": "stream",
     "text": [
      "  2%|█▏                                                                            | 16/1000 [01:16<1:19:59,  4.88s/it]"
     ]
    },
    {
     "name": "stdout",
     "output_type": "stream",
     "text": [
      "간단\n"
     ]
    },
    {
     "name": "stderr",
     "output_type": "stream",
     "text": [
      "\r",
      "  2%|█▎                                                                            | 17/1000 [01:21<1:20:20,  4.90s/it]"
     ]
    },
    {
     "name": "stdout",
     "output_type": "stream",
     "text": [
      "초간단\n",
      "간단\n"
     ]
    },
    {
     "name": "stderr",
     "output_type": "stream",
     "text": [
      "  2%|█▋                                                                            | 21/1000 [01:42<1:20:49,  4.95s/it]"
     ]
    },
    {
     "name": "stdout",
     "output_type": "stream",
     "text": [
      "간단주먹밥\n",
      "간단한끼식사\n",
      "쉽고간단\n"
     ]
    },
    {
     "name": "stderr",
     "output_type": "stream",
     "text": [
      "  2%|█▊                                                                            | 23/1000 [01:51<1:18:10,  4.80s/it]"
     ]
    },
    {
     "name": "stdout",
     "output_type": "stream",
     "text": [
      "소고기뭇국 수미네반찬 수미네반찬소고기뭇국 경상도식소고기뭇국 소고기요리 소고기국 국끓이기 간단한국 국요리 국반찬\n"
     ]
    },
    {
     "name": "stderr",
     "output_type": "stream",
     "text": [
      "  3%|██                                                                            | 26/1000 [02:07<1:22:50,  5.10s/it]"
     ]
    },
    {
     "name": "stdout",
     "output_type": "stream",
     "text": [
      "간단한\n"
     ]
    },
    {
     "name": "stderr",
     "output_type": "stream",
     "text": [
      "  3%|██▏                                                                           | 28/1000 [02:17<1:23:04,  5.13s/it]"
     ]
    },
    {
     "name": "stdout",
     "output_type": "stream",
     "text": [
      "간단요리\n",
      "간단한요리\n"
     ]
    },
    {
     "name": "stderr",
     "output_type": "stream",
     "text": [
      "  3%|██▌                                                                           | 33/1000 [02:44<1:27:24,  5.42s/it]"
     ]
    },
    {
     "name": "stdout",
     "output_type": "stream",
     "text": [
      "초간단요리\n"
     ]
    },
    {
     "name": "stderr",
     "output_type": "stream",
     "text": [
      "  4%|███                                                                           | 39/1000 [03:13<1:19:01,  4.93s/it]"
     ]
    },
    {
     "name": "stdout",
     "output_type": "stream",
     "text": [
      "간단한요리\n",
      "간단한저녁메뉴\n"
     ]
    },
    {
     "name": "stderr",
     "output_type": "stream",
     "text": [
      "  5%|███▊                                                                          | 49/1000 [04:03<1:23:24,  5.26s/it]"
     ]
    },
    {
     "name": "stdout",
     "output_type": "stream",
     "text": [
      "간단요리\n",
      "간단레시피\n"
     ]
    },
    {
     "name": "stderr",
     "output_type": "stream",
     "text": [
      "  6%|████▎                                                                         | 55/1000 [04:32<1:18:51,  5.01s/it]"
     ]
    },
    {
     "name": "stdout",
     "output_type": "stream",
     "text": [
      "초간단\n"
     ]
    },
    {
     "name": "stderr",
     "output_type": "stream",
     "text": [
      "  6%|████▉                                                                         | 64/1000 [05:16<1:14:32,  4.78s/it]"
     ]
    },
    {
     "name": "stdout",
     "output_type": "stream",
     "text": [
      "초간단소고기덮밥\n",
      "초간단소고기덮밥레시피\n"
     ]
    },
    {
     "name": "stderr",
     "output_type": "stream",
     "text": [
      "  7%|█████▏                                                                        | 66/1000 [05:27<1:20:17,  5.16s/it]"
     ]
    },
    {
     "name": "stdout",
     "output_type": "stream",
     "text": [
      "간단요리\n"
     ]
    },
    {
     "name": "stderr",
     "output_type": "stream",
     "text": [
      "  7%|█████▋                                                                        | 73/1000 [06:00<1:17:04,  4.99s/it]"
     ]
    },
    {
     "name": "stdout",
     "output_type": "stream",
     "text": [
      "간단요리\n"
     ]
    },
    {
     "name": "stderr",
     "output_type": "stream",
     "text": [
      "  8%|█████▊                                                                        | 75/1000 [06:10<1:14:02,  4.80s/it]"
     ]
    },
    {
     "name": "stdout",
     "output_type": "stream",
     "text": [
      "초간단\n",
      "간단요리\n"
     ]
    },
    {
     "name": "stderr",
     "output_type": "stream",
     "text": [
      "\r",
      "  8%|█████▉                                                                        | 76/1000 [06:14<1:13:35,  4.78s/it]"
     ]
    },
    {
     "name": "stdout",
     "output_type": "stream",
     "text": [
      "간단 스테이크소스\n"
     ]
    },
    {
     "name": "stderr",
     "output_type": "stream",
     "text": [
      "  8%|██████                                                                        | 78/1000 [06:25<1:18:21,  5.10s/it]"
     ]
    },
    {
     "name": "stdout",
     "output_type": "stream",
     "text": [
      "간단한 메뉴\n"
     ]
    },
    {
     "name": "stderr",
     "output_type": "stream",
     "text": [
      "\r",
      "  8%|██████▏                                                                       | 79/1000 [06:30<1:18:45,  5.13s/it]"
     ]
    },
    {
     "name": "stdout",
     "output_type": "stream",
     "text": [
      "초간단\n"
     ]
    },
    {
     "name": "stderr",
     "output_type": "stream",
     "text": [
      " 10%|███████▊                                                                     | 102/1000 [08:26<1:21:19,  5.43s/it]"
     ]
    },
    {
     "name": "stdout",
     "output_type": "stream",
     "text": [
      "초간단\n"
     ]
    },
    {
     "name": "stderr",
     "output_type": "stream",
     "text": [
      " 10%|████████                                                                     | 105/1000 [08:41<1:14:11,  4.97s/it]"
     ]
    },
    {
     "name": "stdout",
     "output_type": "stream",
     "text": [
      "간단한끼\n"
     ]
    },
    {
     "name": "stderr",
     "output_type": "stream",
     "text": [
      "\r",
      " 11%|████████▏                                                                    | 106/1000 [08:45<1:13:26,  4.93s/it]"
     ]
    },
    {
     "name": "stdout",
     "output_type": "stream",
     "text": [
      "간단한끼\n"
     ]
    },
    {
     "name": "stderr",
     "output_type": "stream",
     "text": [
      " 11%|████████▍                                                                    | 109/1000 [09:01<1:14:04,  4.99s/it]"
     ]
    },
    {
     "name": "stdout",
     "output_type": "stream",
     "text": [
      "간단\n",
      "간단 카레우동만들기\n"
     ]
    },
    {
     "name": "stderr",
     "output_type": "stream",
     "text": [
      " 11%|████████▌                                                                    | 111/1000 [09:11<1:15:25,  5.09s/it]"
     ]
    },
    {
     "name": "stdout",
     "output_type": "stream",
     "text": [
      "초간단요리\n"
     ]
    },
    {
     "name": "stderr",
     "output_type": "stream",
     "text": [
      " 12%|█████████▏                                                                   | 120/1000 [09:55<1:10:25,  4.80s/it]"
     ]
    },
    {
     "name": "stdout",
     "output_type": "stream",
     "text": [
      "초간단\n"
     ]
    },
    {
     "name": "stderr",
     "output_type": "stream",
     "text": [
      " 14%|███████████                                                                  | 144/1000 [11:56<1:09:38,  4.88s/it]"
     ]
    },
    {
     "name": "stdout",
     "output_type": "stream",
     "text": [
      "초간단\n"
     ]
    },
    {
     "name": "stderr",
     "output_type": "stream",
     "text": [
      "\r",
      " 14%|███████████▏                                                                 | 145/1000 [12:00<1:08:43,  4.82s/it]"
     ]
    },
    {
     "name": "stdout",
     "output_type": "stream",
     "text": [
      "간단한\n",
      "초간단\n"
     ]
    },
    {
     "name": "stderr",
     "output_type": "stream",
     "text": [
      " 15%|███████████▎                                                                 | 147/1000 [12:10<1:09:08,  4.86s/it]"
     ]
    },
    {
     "name": "stdout",
     "output_type": "stream",
     "text": [
      "초간단\n"
     ]
    },
    {
     "name": "stderr",
     "output_type": "stream",
     "text": [
      " 15%|███████████▍                                                                 | 149/1000 [12:20<1:07:42,  4.77s/it]"
     ]
    },
    {
     "name": "stdout",
     "output_type": "stream",
     "text": [
      "간단한요리\n"
     ]
    },
    {
     "name": "stderr",
     "output_type": "stream",
     "text": [
      " 15%|███████████▋                                                                 | 152/1000 [12:35<1:11:19,  5.05s/it]"
     ]
    },
    {
     "name": "stdout",
     "output_type": "stream",
     "text": [
      "간단술안주\n",
      "간단한끼식사\n"
     ]
    },
    {
     "name": "stderr",
     "output_type": "stream",
     "text": [
      " 16%|████████████▏                                                                | 158/1000 [13:05<1:10:25,  5.02s/it]"
     ]
    },
    {
     "name": "stdout",
     "output_type": "stream",
     "text": [
      "간단한끼\n",
      "자취생\n",
      "초간단요리\n",
      "초간단레시피\n",
      "초간단간식\n",
      "초간단안주\n"
     ]
    },
    {
     "name": "stderr",
     "output_type": "stream",
     "text": [
      " 16%|████████████▌                                                                | 163/1000 [13:31<1:14:26,  5.34s/it]"
     ]
    },
    {
     "name": "stdout",
     "output_type": "stream",
     "text": [
      "간단\n",
      "초간단\n"
     ]
    },
    {
     "name": "stderr",
     "output_type": "stream",
     "text": [
      "\r",
      " 16%|████████████▋                                                                | 164/1000 [13:36<1:11:46,  5.15s/it]"
     ]
    },
    {
     "name": "stdout",
     "output_type": "stream",
     "text": [
      "간단한국\n"
     ]
    },
    {
     "name": "stderr",
     "output_type": "stream",
     "text": [
      " 17%|████████████▉                                                                | 168/1000 [13:56<1:09:54,  5.04s/it]"
     ]
    },
    {
     "name": "stdout",
     "output_type": "stream",
     "text": [
      "초간단\n"
     ]
    },
    {
     "name": "stderr",
     "output_type": "stream",
     "text": [
      " 17%|█████████████▏                                                               | 172/1000 [14:15<1:09:15,  5.02s/it]"
     ]
    },
    {
     "name": "stdout",
     "output_type": "stream",
     "text": [
      "간단아침식사\n",
      "간단저녁식사\n",
      "자취생요리\n",
      "간단한식사\n"
     ]
    },
    {
     "name": "stderr",
     "output_type": "stream",
     "text": [
      " 18%|█████████████▉                                                               | 181/1000 [15:01<1:08:29,  5.02s/it]"
     ]
    },
    {
     "name": "stdout",
     "output_type": "stream",
     "text": [
      "초간단\n"
     ]
    },
    {
     "name": "stderr",
     "output_type": "stream",
     "text": [
      "\r",
      " 18%|██████████████                                                               | 182/1000 [15:06<1:07:31,  4.95s/it]"
     ]
    },
    {
     "name": "stdout",
     "output_type": "stream",
     "text": [
      "초간단\n"
     ]
    },
    {
     "name": "stderr",
     "output_type": "stream",
     "text": [
      " 19%|██████████████▍                                                              | 188/1000 [15:35<1:05:33,  4.84s/it]"
     ]
    },
    {
     "name": "stdout",
     "output_type": "stream",
     "text": [
      "간단반찬\n"
     ]
    },
    {
     "name": "stderr",
     "output_type": "stream",
     "text": [
      " 19%|██████████████▋                                                              | 190/1000 [15:45<1:07:28,  5.00s/it]"
     ]
    },
    {
     "name": "stdout",
     "output_type": "stream",
     "text": [
      "간단요리\n"
     ]
    },
    {
     "name": "stderr",
     "output_type": "stream",
     "text": [
      " 19%|██████████████▊                                                              | 193/1000 [16:01<1:08:29,  5.09s/it]"
     ]
    },
    {
     "name": "stdout",
     "output_type": "stream",
     "text": [
      "간단요리\n"
     ]
    },
    {
     "name": "stderr",
     "output_type": "stream",
     "text": [
      " 20%|███████████████                                                              | 195/1000 [16:11<1:07:46,  5.05s/it]"
     ]
    },
    {
     "name": "stdout",
     "output_type": "stream",
     "text": [
      "간단한\n"
     ]
    },
    {
     "name": "stderr",
     "output_type": "stream",
     "text": [
      " 20%|███████████████▏                                                             | 198/1000 [16:25<1:04:06,  4.80s/it]"
     ]
    },
    {
     "name": "stdout",
     "output_type": "stream",
     "text": [
      "자취\n",
      "초간단\n"
     ]
    },
    {
     "name": "stderr",
     "output_type": "stream",
     "text": [
      " 20%|███████████████▋                                                             | 203/1000 [16:49<1:03:10,  4.76s/it]"
     ]
    },
    {
     "name": "stdout",
     "output_type": "stream",
     "text": [
      "간단국\n"
     ]
    },
    {
     "name": "stderr",
     "output_type": "stream",
     "text": [
      " 21%|████████████████                                                             | 208/1000 [17:13<1:02:36,  4.74s/it]"
     ]
    },
    {
     "name": "stdout",
     "output_type": "stream",
     "text": [
      "초간단\n"
     ]
    },
    {
     "name": "stderr",
     "output_type": "stream",
     "text": [
      " 21%|████████████████▏                                                            | 210/1000 [17:23<1:03:21,  4.81s/it]"
     ]
    },
    {
     "name": "stdout",
     "output_type": "stream",
     "text": [
      "초간단\n"
     ]
    },
    {
     "name": "stderr",
     "output_type": "stream",
     "text": [
      " 21%|████████████████▍                                                            | 213/1000 [17:37<1:03:04,  4.81s/it]"
     ]
    },
    {
     "name": "stdout",
     "output_type": "stream",
     "text": [
      "초간단소고기요리\n"
     ]
    },
    {
     "name": "stderr",
     "output_type": "stream",
     "text": [
      " 22%|████████████████▋                                                            | 216/1000 [17:51<1:02:12,  4.76s/it]"
     ]
    },
    {
     "name": "stdout",
     "output_type": "stream",
     "text": [
      "간단\n"
     ]
    },
    {
     "name": "stderr",
     "output_type": "stream",
     "text": [
      " 22%|████████████████▊                                                            | 219/1000 [18:06<1:03:13,  4.86s/it]"
     ]
    },
    {
     "name": "stdout",
     "output_type": "stream",
     "text": [
      "초간단\n"
     ]
    },
    {
     "name": "stderr",
     "output_type": "stream",
     "text": [
      "\r",
      " 22%|████████████████▉                                                            | 220/1000 [18:12<1:06:46,  5.14s/it]"
     ]
    },
    {
     "name": "stdout",
     "output_type": "stream",
     "text": [
      "초간단\n"
     ]
    },
    {
     "name": "stderr",
     "output_type": "stream",
     "text": [
      " 22%|█████████████████▏                                                           | 224/1000 [18:31<1:03:21,  4.90s/it]"
     ]
    },
    {
     "name": "stdout",
     "output_type": "stream",
     "text": [
      "간단\n"
     ]
    },
    {
     "name": "stderr",
     "output_type": "stream",
     "text": [
      " 24%|██████████████████▌                                                          | 241/1000 [19:56<1:02:52,  4.97s/it]"
     ]
    },
    {
     "name": "stdout",
     "output_type": "stream",
     "text": [
      "자취요리\n"
     ]
    },
    {
     "name": "stderr",
     "output_type": "stream",
     "text": [
      " 24%|██████████████████▊                                                          | 244/1000 [20:11<1:02:26,  4.96s/it]"
     ]
    },
    {
     "name": "stdout",
     "output_type": "stream",
     "text": [
      "자취생요리\n"
     ]
    },
    {
     "name": "stderr",
     "output_type": "stream",
     "text": [
      " 25%|███████████████████▏                                                         | 249/1000 [20:35<1:01:23,  4.91s/it]"
     ]
    },
    {
     "name": "stdout",
     "output_type": "stream",
     "text": [
      "초간단\n"
     ]
    },
    {
     "name": "stderr",
     "output_type": "stream",
     "text": [
      " 25%|███████████████████▉                                                           | 253/1000 [20:54<59:31,  4.78s/it]"
     ]
    },
    {
     "name": "stdout",
     "output_type": "stream",
     "text": [
      "초간단\n"
     ]
    },
    {
     "name": "stderr",
     "output_type": "stream",
     "text": [
      " 26%|███████████████████▋                                                         | 256/1000 [21:09<1:00:54,  4.91s/it]"
     ]
    },
    {
     "name": "stdout",
     "output_type": "stream",
     "text": [
      "자취요리\n"
     ]
    },
    {
     "name": "stderr",
     "output_type": "stream",
     "text": [
      " 28%|██████████████████████▌                                                        | 285/1000 [23:30<58:17,  4.89s/it]"
     ]
    },
    {
     "name": "stdout",
     "output_type": "stream",
     "text": [
      "간단술안주\n",
      "간단저녁반찬\n"
     ]
    },
    {
     "name": "stderr",
     "output_type": "stream",
     "text": [
      " 29%|██████████████████████▊                                                        | 288/1000 [23:45<59:16,  4.99s/it]"
     ]
    },
    {
     "name": "stdout",
     "output_type": "stream",
     "text": [
      "간단요리\n"
     ]
    },
    {
     "name": "stderr",
     "output_type": "stream",
     "text": [
      " 29%|███████████████████████▏                                                       | 293/1000 [24:10<57:37,  4.89s/it]"
     ]
    },
    {
     "name": "stdout",
     "output_type": "stream",
     "text": [
      "초간단\n"
     ]
    },
    {
     "name": "stderr",
     "output_type": "stream",
     "text": [
      " 30%|███████████████████████▎                                                       | 295/1000 [24:20<57:06,  4.86s/it]"
     ]
    },
    {
     "name": "stdout",
     "output_type": "stream",
     "text": [
      "초간단\n"
     ]
    },
    {
     "name": "stderr",
     "output_type": "stream",
     "text": [
      " 31%|████████████████████████▏                                                      | 306/1000 [25:14<55:52,  4.83s/it]"
     ]
    },
    {
     "name": "stdout",
     "output_type": "stream",
     "text": [
      "초간단\n"
     ]
    },
    {
     "name": "stderr",
     "output_type": "stream",
     "text": [
      "\r",
      " 31%|████████████████████████▎                                                      | 307/1000 [25:18<55:26,  4.80s/it]"
     ]
    },
    {
     "name": "stdout",
     "output_type": "stream",
     "text": [
      "초간단\n"
     ]
    },
    {
     "name": "stderr",
     "output_type": "stream",
     "text": [
      " 31%|████████████████████████▌                                                      | 311/1000 [25:38<54:54,  4.78s/it]"
     ]
    },
    {
     "name": "stdout",
     "output_type": "stream",
     "text": [
      "초간단\n"
     ]
    },
    {
     "name": "stderr",
     "output_type": "stream",
     "text": [
      " 32%|█████████████████████████▏                                                     | 319/1000 [26:17<55:24,  4.88s/it]"
     ]
    },
    {
     "name": "stdout",
     "output_type": "stream",
     "text": [
      "초간단\n"
     ]
    },
    {
     "name": "stderr",
     "output_type": "stream",
     "text": [
      " 32%|█████████████████████████▎                                                     | 321/1000 [26:27<54:53,  4.85s/it]"
     ]
    },
    {
     "name": "stdout",
     "output_type": "stream",
     "text": [
      "간단요리\n"
     ]
    },
    {
     "name": "stderr",
     "output_type": "stream",
     "text": [
      " 33%|█████████████████████████▊                                                     | 327/1000 [26:58<58:34,  5.22s/it]"
     ]
    },
    {
     "name": "stdout",
     "output_type": "stream",
     "text": [
      "간단한\n",
      "간단저녁\n"
     ]
    },
    {
     "name": "stderr",
     "output_type": "stream",
     "text": [
      " 33%|██████████████████████████▏                                                    | 331/1000 [27:17<55:23,  4.97s/it]"
     ]
    },
    {
     "name": "stdout",
     "output_type": "stream",
     "text": [
      "초간단\n",
      "간단요리\n"
     ]
    },
    {
     "name": "stderr",
     "output_type": "stream",
     "text": [
      " 33%|██████████████████████████▎                                                    | 333/1000 [27:27<55:03,  4.95s/it]"
     ]
    },
    {
     "name": "stdout",
     "output_type": "stream",
     "text": [
      "간단소불고기\n"
     ]
    },
    {
     "name": "stderr",
     "output_type": "stream",
     "text": [
      " 34%|██████████████████████████▋                                                    | 338/1000 [27:51<52:50,  4.79s/it]"
     ]
    },
    {
     "name": "stdout",
     "output_type": "stream",
     "text": [
      "자취생요리\n",
      "자취생간단요리\n"
     ]
    },
    {
     "name": "stderr",
     "output_type": "stream",
     "text": [
      "\r",
      " 34%|██████████████████████████▊                                                    | 339/1000 [27:56<54:21,  4.93s/it]"
     ]
    },
    {
     "name": "stdout",
     "output_type": "stream",
     "text": [
      "자취생요리\n",
      "자취생간단요리\n"
     ]
    },
    {
     "name": "stderr",
     "output_type": "stream",
     "text": [
      " 35%|███████████████████████████▍                                                   | 347/1000 [28:35<51:42,  4.75s/it]"
     ]
    },
    {
     "name": "stdout",
     "output_type": "stream",
     "text": [
      "초간단된장찌개\n"
     ]
    },
    {
     "name": "stderr",
     "output_type": "stream",
     "text": [
      " 36%|████████████████████████████▌                                                  | 362/1000 [29:47<49:43,  4.68s/it]"
     ]
    },
    {
     "name": "stdout",
     "output_type": "stream",
     "text": [
      "간단한끼\n"
     ]
    },
    {
     "name": "stderr",
     "output_type": "stream",
     "text": [
      " 37%|█████████████████████████████▌                                                 | 374/1000 [30:46<50:28,  4.84s/it]"
     ]
    },
    {
     "name": "stdout",
     "output_type": "stream",
     "text": [
      "초간단\n"
     ]
    },
    {
     "name": "stderr",
     "output_type": "stream",
     "text": [
      "\r",
      " 38%|█████████████████████████████▋                                                 | 375/1000 [30:51<50:20,  4.83s/it]"
     ]
    },
    {
     "name": "stdout",
     "output_type": "stream",
     "text": [
      "간단\n"
     ]
    },
    {
     "name": "stderr",
     "output_type": "stream",
     "text": [
      " 38%|██████████████████████████████▎                                                | 383/1000 [31:31<50:31,  4.91s/it]"
     ]
    },
    {
     "name": "stdout",
     "output_type": "stream",
     "text": [
      "쉽고간단\n"
     ]
    },
    {
     "name": "stderr",
     "output_type": "stream",
     "text": [
      " 39%|██████████████████████████████▌                                                | 387/1000 [31:52<50:22,  4.93s/it]"
     ]
    },
    {
     "name": "stdout",
     "output_type": "stream",
     "text": [
      "초간단불고기\n",
      "초간단\n",
      "간단\n"
     ]
    },
    {
     "name": "stderr",
     "output_type": "stream",
     "text": [
      " 40%|███████████████████████████████▍                                               | 398/1000 [32:46<51:19,  5.11s/it]"
     ]
    },
    {
     "name": "stdout",
     "output_type": "stream",
     "text": [
      "초간단\n"
     ]
    },
    {
     "name": "stderr",
     "output_type": "stream",
     "text": [
      "\r",
      " 40%|███████████████████████████████▌                                               | 399/1000 [32:50<49:56,  4.99s/it]"
     ]
    },
    {
     "name": "stdout",
     "output_type": "stream",
     "text": [
      "간단한레시피\n"
     ]
    },
    {
     "name": "stderr",
     "output_type": "stream",
     "text": [
      "\r",
      " 40%|███████████████████████████████▌                                               | 400/1000 [32:55<49:04,  4.91s/it]"
     ]
    },
    {
     "name": "stdout",
     "output_type": "stream",
     "text": [
      "초간단\n"
     ]
    },
    {
     "name": "stderr",
     "output_type": "stream",
     "text": [
      " 40%|███████████████████████████████▉                                               | 405/1000 [33:19<47:15,  4.76s/it]"
     ]
    },
    {
     "name": "stdout",
     "output_type": "stream",
     "text": [
      "초간단요리\n"
     ]
    },
    {
     "name": "stderr",
     "output_type": "stream",
     "text": [
      " 41%|████████████████████████████████▏                                              | 407/1000 [33:29<47:55,  4.85s/it]"
     ]
    },
    {
     "name": "stdout",
     "output_type": "stream",
     "text": [
      "초간단\n"
     ]
    },
    {
     "name": "stderr",
     "output_type": "stream",
     "text": [
      "\r",
      " 41%|████████████████████████████████▏                                              | 408/1000 [33:34<47:36,  4.82s/it]"
     ]
    },
    {
     "name": "stdout",
     "output_type": "stream",
     "text": [
      "간단한밑반찬\n"
     ]
    },
    {
     "name": "stderr",
     "output_type": "stream",
     "text": [
      "\r",
      " 41%|████████████████████████████████▎                                              | 409/1000 [33:39<46:54,  4.76s/it]"
     ]
    },
    {
     "name": "stdout",
     "output_type": "stream",
     "text": [
      "초간단\n",
      "간단한끼\n"
     ]
    },
    {
     "name": "stderr",
     "output_type": "stream",
     "text": [
      " 41%|████████████████████████████████▍                                              | 411/1000 [33:48<46:18,  4.72s/it]"
     ]
    },
    {
     "name": "stdout",
     "output_type": "stream",
     "text": [
      "간단한국\n"
     ]
    },
    {
     "name": "stderr",
     "output_type": "stream",
     "text": [
      " 42%|█████████████████████████████████▍                                             | 423/1000 [34:46<44:32,  4.63s/it]"
     ]
    },
    {
     "name": "stdout",
     "output_type": "stream",
     "text": [
      "초간단\n"
     ]
    },
    {
     "name": "stderr",
     "output_type": "stream",
     "text": [
      " 44%|██████████████████████████████████▊                                            | 441/1000 [36:15<44:42,  4.80s/it]"
     ]
    },
    {
     "name": "stdout",
     "output_type": "stream",
     "text": [
      "초간단\n"
     ]
    },
    {
     "name": "stderr",
     "output_type": "stream",
     "text": [
      " 45%|███████████████████████████████████▍                                           | 448/1000 [36:50<46:03,  5.01s/it]"
     ]
    },
    {
     "name": "stdout",
     "output_type": "stream",
     "text": [
      "간단비빔국수\n",
      "초간단국수\n"
     ]
    },
    {
     "name": "stderr",
     "output_type": "stream",
     "text": [
      " 45%|███████████████████████████████████▋                                           | 451/1000 [37:04<43:28,  4.75s/it]"
     ]
    },
    {
     "name": "stdout",
     "output_type": "stream",
     "text": [
      "자취생요리\n"
     ]
    },
    {
     "name": "stderr",
     "output_type": "stream",
     "text": [
      " 46%|████████████████████████████████████▋                                          | 465/1000 [38:12<42:24,  4.76s/it]"
     ]
    },
    {
     "name": "stdout",
     "output_type": "stream",
     "text": [
      "초간단\n"
     ]
    },
    {
     "name": "stderr",
     "output_type": "stream",
     "text": [
      " 47%|█████████████████████████████████████▎                                         | 473/1000 [38:49<39:47,  4.53s/it]"
     ]
    },
    {
     "name": "stdout",
     "output_type": "stream",
     "text": [
      "초간단\n"
     ]
    },
    {
     "name": "stderr",
     "output_type": "stream",
     "text": [
      " 48%|█████████████████████████████████████▌                                         | 475/1000 [38:59<42:30,  4.86s/it]"
     ]
    },
    {
     "name": "stdout",
     "output_type": "stream",
     "text": [
      "간단자취\n"
     ]
    },
    {
     "name": "stderr",
     "output_type": "stream",
     "text": [
      " 48%|██████████████████████████████████████▏                                        | 483/1000 [39:38<42:24,  4.92s/it]"
     ]
    },
    {
     "name": "stdout",
     "output_type": "stream",
     "text": [
      "간단\n"
     ]
    },
    {
     "name": "stderr",
     "output_type": "stream",
     "text": [
      " 48%|██████████████████████████████████████▎                                        | 485/1000 [39:48<41:20,  4.82s/it]"
     ]
    },
    {
     "name": "stdout",
     "output_type": "stream",
     "text": [
      "자취요리\n"
     ]
    },
    {
     "name": "stderr",
     "output_type": "stream",
     "text": [
      " 49%|██████████████████████████████████████▋                                        | 490/1000 [40:12<40:18,  4.74s/it]"
     ]
    },
    {
     "name": "stdout",
     "output_type": "stream",
     "text": [
      "간단안주\n"
     ]
    },
    {
     "name": "stderr",
     "output_type": "stream",
     "text": [
      " 50%|███████████████████████████████████████▏                                       | 496/1000 [40:40<39:28,  4.70s/it]"
     ]
    },
    {
     "name": "stdout",
     "output_type": "stream",
     "text": [
      "초간단\n"
     ]
    },
    {
     "name": "stderr",
     "output_type": "stream",
     "text": [
      " 50%|███████████████████████████████████████▍                                       | 499/1000 [40:54<39:28,  4.73s/it]"
     ]
    },
    {
     "name": "stdout",
     "output_type": "stream",
     "text": [
      "간단한요리\n"
     ]
    },
    {
     "name": "stderr",
     "output_type": "stream",
     "text": [
      " 51%|████████████████████████████████████████▎                                      | 510/1000 [41:48<39:02,  4.78s/it]"
     ]
    },
    {
     "name": "stdout",
     "output_type": "stream",
     "text": [
      "초간단\n"
     ]
    },
    {
     "name": "stderr",
     "output_type": "stream",
     "text": [
      " 51%|████████████████████████████████████████▍                                      | 512/1000 [41:57<37:18,  4.59s/it]"
     ]
    },
    {
     "name": "stdout",
     "output_type": "stream",
     "text": [
      "초간단레시피\n"
     ]
    },
    {
     "name": "stderr",
     "output_type": "stream",
     "text": [
      " 52%|████████████████████████████████████████▋                                      | 515/1000 [42:12<39:47,  4.92s/it]"
     ]
    },
    {
     "name": "stdout",
     "output_type": "stream",
     "text": [
      "초간단요리\n"
     ]
    },
    {
     "name": "stderr",
     "output_type": "stream",
     "text": [
      " 52%|█████████████████████████████████████████▎                                     | 523/1000 [42:52<38:37,  4.86s/it]"
     ]
    },
    {
     "name": "stdout",
     "output_type": "stream",
     "text": [
      "초간단\n",
      "간단\n"
     ]
    },
    {
     "name": "stderr",
     "output_type": "stream",
     "text": [
      " 53%|█████████████████████████████████████████▋                                     | 527/1000 [43:11<37:55,  4.81s/it]"
     ]
    },
    {
     "name": "stdout",
     "output_type": "stream",
     "text": [
      "초간단\n"
     ]
    },
    {
     "name": "stderr",
     "output_type": "stream",
     "text": [
      "\r",
      " 53%|█████████████████████████████████████████▋                                     | 528/1000 [43:16<37:17,  4.74s/it]"
     ]
    },
    {
     "name": "stdout",
     "output_type": "stream",
     "text": [
      "초간단\n"
     ]
    },
    {
     "name": "stderr",
     "output_type": "stream",
     "text": [
      " 54%|██████████████████████████████████████████▎                                    | 535/1000 [43:49<35:22,  4.56s/it]"
     ]
    },
    {
     "name": "stdout",
     "output_type": "stream",
     "text": [
      "초간단\n"
     ]
    },
    {
     "name": "stderr",
     "output_type": "stream",
     "text": [
      "\r",
      " 54%|██████████████████████████████████████████▎                                    | 536/1000 [43:54<36:06,  4.67s/it]"
     ]
    },
    {
     "name": "stdout",
     "output_type": "stream",
     "text": [
      "초간단\n"
     ]
    },
    {
     "name": "stderr",
     "output_type": "stream",
     "text": [
      " 54%|██████████████████████████████████████████▌                                    | 538/1000 [44:03<35:29,  4.61s/it]"
     ]
    },
    {
     "name": "stdout",
     "output_type": "stream",
     "text": [
      "초간단\n"
     ]
    },
    {
     "name": "stderr",
     "output_type": "stream",
     "text": [
      " 54%|██████████████████████████████████████████▋                                    | 540/1000 [44:14<37:21,  4.87s/it]"
     ]
    },
    {
     "name": "stdout",
     "output_type": "stream",
     "text": [
      "간단국\n"
     ]
    },
    {
     "name": "stderr",
     "output_type": "stream",
     "text": [
      "\r",
      " 54%|██████████████████████████████████████████▋                                    | 541/1000 [44:18<36:52,  4.82s/it]"
     ]
    },
    {
     "name": "stdout",
     "output_type": "stream",
     "text": [
      "초간단\n",
      "간단국\n"
     ]
    },
    {
     "name": "stderr",
     "output_type": "stream",
     "text": [
      "\r",
      " 54%|██████████████████████████████████████████▊                                    | 542/1000 [44:24<38:13,  5.01s/it]"
     ]
    },
    {
     "name": "stdout",
     "output_type": "stream",
     "text": [
      "쉽고간단\n",
      "간단국\n",
      "간단한끼식사\n"
     ]
    },
    {
     "name": "stderr",
     "output_type": "stream",
     "text": [
      " 55%|███████████████████████████████████████████▍                                   | 550/1000 [45:03<36:22,  4.85s/it]"
     ]
    },
    {
     "name": "stdout",
     "output_type": "stream",
     "text": [
      "초간단\n"
     ]
    },
    {
     "name": "stderr",
     "output_type": "stream",
     "text": [
      " 55%|███████████████████████████████████████████▊                                   | 554/1000 [45:21<35:19,  4.75s/it]"
     ]
    },
    {
     "name": "stdout",
     "output_type": "stream",
     "text": [
      "초간단\n"
     ]
    },
    {
     "name": "stderr",
     "output_type": "stream",
     "text": [
      " 56%|████████████████████████████████████████████▍                                  | 562/1000 [46:00<34:52,  4.78s/it]"
     ]
    },
    {
     "name": "stdout",
     "output_type": "stream",
     "text": [
      "간단찌개\n"
     ]
    },
    {
     "name": "stderr",
     "output_type": "stream",
     "text": [
      " 57%|████████████████████████████████████████████▊                                  | 568/1000 [46:30<35:19,  4.91s/it]"
     ]
    },
    {
     "name": "stdout",
     "output_type": "stream",
     "text": [
      "초간단\n"
     ]
    },
    {
     "name": "stderr",
     "output_type": "stream",
     "text": [
      " 57%|█████████████████████████████████████████████▍                                 | 575/1000 [47:03<33:22,  4.71s/it]"
     ]
    },
    {
     "name": "stdout",
     "output_type": "stream",
     "text": [
      "간단레시피\n",
      "초간단\n"
     ]
    },
    {
     "name": "stderr",
     "output_type": "stream",
     "text": [
      " 58%|█████████████████████████████████████████████▋                                 | 579/1000 [47:26<37:26,  5.34s/it]"
     ]
    },
    {
     "name": "stdout",
     "output_type": "stream",
     "text": [
      "초간단\n"
     ]
    },
    {
     "name": "stderr",
     "output_type": "stream",
     "text": [
      " 58%|█████████████████████████████████████████████▉                                 | 582/1000 [47:46<43:25,  6.23s/it]"
     ]
    },
    {
     "name": "stdout",
     "output_type": "stream",
     "text": [
      "간단한끼\n",
      "쉽고간단\n"
     ]
    },
    {
     "name": "stderr",
     "output_type": "stream",
     "text": [
      " 58%|██████████████████████████████████████████████▏                                | 585/1000 [48:01<37:18,  5.39s/it]"
     ]
    },
    {
     "name": "stdout",
     "output_type": "stream",
     "text": [
      "초간단\n"
     ]
    },
    {
     "name": "stderr",
     "output_type": "stream",
     "text": [
      " 59%|██████████████████████████████████████████████▎                                | 587/1000 [48:11<36:06,  5.25s/it]"
     ]
    },
    {
     "name": "stdout",
     "output_type": "stream",
     "text": [
      "간단상차림\n"
     ]
    },
    {
     "name": "stderr",
     "output_type": "stream",
     "text": [
      " 59%|██████████████████████████████████████████████▉                                | 594/1000 [48:46<33:09,  4.90s/it]"
     ]
    },
    {
     "name": "stdout",
     "output_type": "stream",
     "text": [
      "간단요리\n"
     ]
    },
    {
     "name": "stderr",
     "output_type": "stream",
     "text": [
      " 60%|███████████████████████████████████████████████▏                               | 597/1000 [48:59<31:37,  4.71s/it]"
     ]
    },
    {
     "name": "stdout",
     "output_type": "stream",
     "text": [
      "초간단\n"
     ]
    },
    {
     "name": "stderr",
     "output_type": "stream",
     "text": [
      " 60%|███████████████████████████████████████████████▊                               | 605/1000 [49:41<34:14,  5.20s/it]"
     ]
    },
    {
     "name": "stdout",
     "output_type": "stream",
     "text": [
      "간단메뉴\n"
     ]
    },
    {
     "name": "stderr",
     "output_type": "stream",
     "text": [
      " 62%|████████████████████████████████████████████████▊                              | 618/1000 [50:46<30:12,  4.74s/it]"
     ]
    },
    {
     "name": "stdout",
     "output_type": "stream",
     "text": [
      "초간단찌개\n"
     ]
    },
    {
     "name": "stderr",
     "output_type": "stream",
     "text": [
      " 63%|█████████████████████████████████████████████████▉                             | 632/1000 [51:52<27:40,  4.51s/it]"
     ]
    },
    {
     "name": "stdout",
     "output_type": "stream",
     "text": [
      "차돌박이 차돌박이요리 차돌박이숙주볶음 차돌박이숙주볶음하는법 차돌박이숙주볶음만드는법 차돌박이숙주볶음레시피 차돌박이숙주볶음하는방법 술안주 아침 술안주추천 간단한술안주 소주안주 소주안주추천 차돌박이숙주볶음만드는방법\n"
     ]
    },
    {
     "name": "stderr",
     "output_type": "stream",
     "text": [
      " 64%|██████████████████████████████████████████████████▏                            | 635/1000 [52:06<28:05,  4.62s/it]"
     ]
    },
    {
     "name": "stdout",
     "output_type": "stream",
     "text": [
      "초간단\n"
     ]
    },
    {
     "name": "stderr",
     "output_type": "stream",
     "text": [
      " 64%|██████████████████████████████████████████████████▊                            | 643/1000 [52:46<29:51,  5.02s/it]"
     ]
    },
    {
     "name": "stdout",
     "output_type": "stream",
     "text": [
      "초간단\n"
     ]
    },
    {
     "name": "stderr",
     "output_type": "stream",
     "text": [
      " 65%|███████████████████████████████████████████████████▎                           | 649/1000 [53:16<30:03,  5.14s/it]"
     ]
    },
    {
     "name": "stdout",
     "output_type": "stream",
     "text": [
      "초간단\n"
     ]
    },
    {
     "name": "stderr",
     "output_type": "stream",
     "text": [
      " 65%|███████████████████████████████████████████████████▌                           | 652/1000 [53:31<28:28,  4.91s/it]"
     ]
    },
    {
     "name": "stdout",
     "output_type": "stream",
     "text": [
      "초간단\n"
     ]
    },
    {
     "name": "stderr",
     "output_type": "stream",
     "text": [
      " 66%|████████████████████████████████████████████████████▏                          | 660/1000 [54:09<27:23,  4.83s/it]"
     ]
    },
    {
     "name": "stdout",
     "output_type": "stream",
     "text": [
      "간단\n"
     ]
    },
    {
     "name": "stderr",
     "output_type": "stream",
     "text": [
      " 66%|████████████████████████████████████████████████████▌                          | 665/1000 [54:34<26:46,  4.79s/it]"
     ]
    },
    {
     "name": "stdout",
     "output_type": "stream",
     "text": [
      "간단한요리\n",
      "간단한레시피\n"
     ]
    },
    {
     "name": "stderr",
     "output_type": "stream",
     "text": [
      " 68%|██████████████████████████████████████████████████████                         | 685/1000 [56:11<26:30,  5.05s/it]"
     ]
    },
    {
     "name": "stdout",
     "output_type": "stream",
     "text": [
      "간단\n"
     ]
    },
    {
     "name": "stderr",
     "output_type": "stream",
     "text": [
      " 69%|██████████████████████████████████████████████████████▌                        | 690/1000 [56:34<24:09,  4.68s/it]"
     ]
    },
    {
     "name": "stdout",
     "output_type": "stream",
     "text": [
      "초간단집들이메뉴\n"
     ]
    },
    {
     "name": "stderr",
     "output_type": "stream",
     "text": [
      " 70%|██████████████████████████████████████████████████████▉                        | 695/1000 [56:58<24:22,  4.79s/it]"
     ]
    },
    {
     "name": "stdout",
     "output_type": "stream",
     "text": [
      "초간단\n",
      "간단한끼식사\n",
      "쉽고간단\n"
     ]
    },
    {
     "name": "stderr",
     "output_type": "stream",
     "text": [
      "\r",
      " 70%|██████████████████████████████████████████████████████▉                        | 696/1000 [57:02<24:29,  4.83s/it]"
     ]
    },
    {
     "name": "stdout",
     "output_type": "stream",
     "text": [
      "자취생요리\n"
     ]
    },
    {
     "name": "stderr",
     "output_type": "stream",
     "text": [
      " 70%|███████████████████████████████████████████████████████▎                       | 700/1000 [57:23<24:54,  4.98s/it]"
     ]
    },
    {
     "name": "stdout",
     "output_type": "stream",
     "text": [
      "자취생요리\n"
     ]
    },
    {
     "name": "stderr",
     "output_type": "stream",
     "text": [
      "\r",
      " 70%|███████████████████████████████████████████████████████▍                       | 701/1000 [57:27<23:57,  4.81s/it]"
     ]
    },
    {
     "name": "stdout",
     "output_type": "stream",
     "text": [
      "간단한요리\n",
      "간단한규동만들기\n"
     ]
    },
    {
     "name": "stderr",
     "output_type": "stream",
     "text": [
      " 70%|███████████████████████████████████████████████████████▋                       | 705/1000 [57:47<24:22,  4.96s/it]"
     ]
    },
    {
     "name": "stdout",
     "output_type": "stream",
     "text": [
      "간단\n"
     ]
    },
    {
     "name": "stderr",
     "output_type": "stream",
     "text": [
      "\r",
      " 71%|███████████████████████████████████████████████████████▊                       | 706/1000 [57:52<24:08,  4.93s/it]"
     ]
    },
    {
     "name": "stdout",
     "output_type": "stream",
     "text": [
      "초간단\n"
     ]
    },
    {
     "name": "stderr",
     "output_type": "stream",
     "text": [
      " 71%|████████████████████████████████████████████████████████▏                      | 712/1000 [58:23<23:44,  4.95s/it]"
     ]
    },
    {
     "name": "stdout",
     "output_type": "stream",
     "text": [
      "초간단\n"
     ]
    },
    {
     "name": "stderr",
     "output_type": "stream",
     "text": [
      " 72%|████████████████████████████████████████████████████████▉                      | 720/1000 [59:00<21:36,  4.63s/it]"
     ]
    },
    {
     "name": "stdout",
     "output_type": "stream",
     "text": [
      "초간단\n",
      "간단한저녁요리\n"
     ]
    },
    {
     "name": "stderr",
     "output_type": "stream",
     "text": [
      " 73%|█████████████████████████████████████████████████████████▍                     | 727/1000 [59:34<22:47,  5.01s/it]"
     ]
    },
    {
     "name": "stdout",
     "output_type": "stream",
     "text": [
      "쉽고간단\n"
     ]
    },
    {
     "name": "stderr",
     "output_type": "stream",
     "text": [
      " 73%|█████████████████████████████████████████████████████████▌                     | 729/1000 [59:43<21:42,  4.81s/it]"
     ]
    },
    {
     "name": "stdout",
     "output_type": "stream",
     "text": [
      "초간단\n"
     ]
    },
    {
     "name": "stderr",
     "output_type": "stream",
     "text": [
      "\r",
      " 73%|█████████████████████████████████████████████████████████▋                     | 730/1000 [59:48<21:49,  4.85s/it]"
     ]
    },
    {
     "name": "stdout",
     "output_type": "stream",
     "text": [
      "초간단\n"
     ]
    },
    {
     "name": "stderr",
     "output_type": "stream",
     "text": [
      " 74%|████████████████████████████████████████████████████████▊                    | 738/1000 [1:00:28<22:25,  5.14s/it]"
     ]
    },
    {
     "name": "stdout",
     "output_type": "stream",
     "text": [
      "초간단\n"
     ]
    },
    {
     "name": "stderr",
     "output_type": "stream",
     "text": [
      " 75%|█████████████████████████████████████████████████████████▌                   | 748/1000 [1:01:20<20:53,  4.97s/it]"
     ]
    },
    {
     "name": "stdout",
     "output_type": "stream",
     "text": [
      "간단\n",
      "초간단\n"
     ]
    },
    {
     "name": "stderr",
     "output_type": "stream",
     "text": [
      " 75%|█████████████████████████████████████████████████████████▉                   | 752/1000 [1:01:56<33:27,  8.10s/it]"
     ]
    },
    {
     "name": "stdout",
     "output_type": "stream",
     "text": [
      "간단한요리\n",
      "간단한국\n"
     ]
    },
    {
     "name": "stderr",
     "output_type": "stream",
     "text": [
      " 76%|██████████████████████████████████████████████████████████▏                  | 756/1000 [1:02:28<33:30,  8.24s/it]"
     ]
    },
    {
     "name": "stdout",
     "output_type": "stream",
     "text": [
      "초간단\n"
     ]
    },
    {
     "name": "stderr",
     "output_type": "stream",
     "text": [
      " 76%|██████████████████████████████████████████████████████████▎                  | 758/1000 [1:02:40<28:45,  7.13s/it]"
     ]
    },
    {
     "name": "stdout",
     "output_type": "stream",
     "text": [
      "초간단\n"
     ]
    },
    {
     "name": "stderr",
     "output_type": "stream",
     "text": [
      " 76%|██████████████████████████████████████████████████████████▌                  | 761/1000 [1:03:00<25:53,  6.50s/it]"
     ]
    },
    {
     "name": "stdout",
     "output_type": "stream",
     "text": [
      "간단한요리\n"
     ]
    },
    {
     "name": "stderr",
     "output_type": "stream",
     "text": [
      " 76%|██████████████████████████████████████████████████████████▊                  | 764/1000 [1:03:16<23:05,  5.87s/it]"
     ]
    },
    {
     "name": "stdout",
     "output_type": "stream",
     "text": [
      "간단한국\n"
     ]
    },
    {
     "name": "stderr",
     "output_type": "stream",
     "text": [
      " 77%|███████████████████████████████████████████████████████████▌                 | 774/1000 [1:04:08<19:56,  5.29s/it]"
     ]
    },
    {
     "name": "stdout",
     "output_type": "stream",
     "text": [
      "간단한요리\n"
     ]
    },
    {
     "name": "stderr",
     "output_type": "stream",
     "text": [
      " 80%|█████████████████████████████████████████████████████████████▍               | 798/1000 [1:06:13<17:27,  5.19s/it]"
     ]
    },
    {
     "name": "stdout",
     "output_type": "stream",
     "text": [
      "간단\n",
      "초간단\n",
      "간단반찬\n"
     ]
    },
    {
     "name": "stderr",
     "output_type": "stream",
     "text": [
      " 80%|█████████████████████████████████████████████████████████████▉               | 805/1000 [1:06:50<17:36,  5.42s/it]"
     ]
    },
    {
     "name": "stdout",
     "output_type": "stream",
     "text": [
      "초간단\n"
     ]
    },
    {
     "name": "stderr",
     "output_type": "stream",
     "text": [
      "\r",
      " 81%|██████████████████████████████████████████████████████████████               | 806/1000 [1:06:55<17:16,  5.35s/it]"
     ]
    },
    {
     "name": "stdout",
     "output_type": "stream",
     "text": [
      "초간단미역국\n"
     ]
    },
    {
     "name": "stderr",
     "output_type": "stream",
     "text": [
      " 82%|██████████████████████████████████████████████████████████████▊              | 816/1000 [1:07:50<16:41,  5.45s/it]"
     ]
    },
    {
     "name": "stdout",
     "output_type": "stream",
     "text": [
      "간단요리\n"
     ]
    },
    {
     "name": "stderr",
     "output_type": "stream",
     "text": [
      " 82%|███████████████████████████████████████████████████████████████              | 819/1000 [1:08:08<17:27,  5.79s/it]"
     ]
    },
    {
     "name": "stdout",
     "output_type": "stream",
     "text": [
      "초간단\n"
     ]
    },
    {
     "name": "stderr",
     "output_type": "stream",
     "text": [
      " 82%|███████████████████████████████████████████████████████████████▎             | 823/1000 [1:08:30<16:22,  5.55s/it]"
     ]
    },
    {
     "name": "stdout",
     "output_type": "stream",
     "text": [
      "초간단\n"
     ]
    },
    {
     "name": "stderr",
     "output_type": "stream",
     "text": [
      "\r",
      " 82%|███████████████████████████████████████████████████████████████▍             | 824/1000 [1:08:35<16:09,  5.51s/it]"
     ]
    },
    {
     "name": "stdout",
     "output_type": "stream",
     "text": [
      "초간단국레시피\n",
      "초간단국황금레시피\n",
      "초간단미역국\n",
      "초간단미역국레시피\n",
      "초간단미역국황금레시피\n"
     ]
    },
    {
     "name": "stderr",
     "output_type": "stream",
     "text": [
      " 83%|███████████████████████████████████████████████████████████████▋             | 827/1000 [1:08:49<14:00,  4.86s/it]"
     ]
    },
    {
     "name": "stdout",
     "output_type": "stream",
     "text": [
      "간단저녁\n"
     ]
    },
    {
     "name": "stderr",
     "output_type": "stream",
     "text": [
      " 84%|████████████████████████████████████████████████████████████████▍            | 837/1000 [1:09:39<13:54,  5.12s/it]"
     ]
    },
    {
     "name": "stdout",
     "output_type": "stream",
     "text": [
      "간단\n"
     ]
    },
    {
     "name": "stderr",
     "output_type": "stream",
     "text": [
      " 84%|████████████████████████████████████████████████████████████████▌            | 839/1000 [1:09:50<13:58,  5.21s/it]"
     ]
    },
    {
     "name": "stdout",
     "output_type": "stream",
     "text": [
      "간단미역국\n"
     ]
    },
    {
     "name": "stderr",
     "output_type": "stream",
     "text": [
      " 84%|████████████████████████████████████████████████████████████████▉            | 844/1000 [1:10:15<12:59,  5.00s/it]"
     ]
    },
    {
     "name": "stdout",
     "output_type": "stream",
     "text": [
      "초간단\n",
      "자취\n"
     ]
    },
    {
     "name": "stderr",
     "output_type": "stream",
     "text": [
      " 87%|██████████████████████████████████████████████████████████████████▉          | 870/1000 [1:12:49<18:37,  8.60s/it]"
     ]
    },
    {
     "name": "stdout",
     "output_type": "stream",
     "text": [
      "쉽고간단한LA갈비\n"
     ]
    },
    {
     "name": "stderr",
     "output_type": "stream",
     "text": [
      " 87%|███████████████████████████████████████████████████████████████████▏         | 872/1000 [1:13:11<20:06,  9.43s/it]"
     ]
    },
    {
     "name": "stdout",
     "output_type": "stream",
     "text": [
      "간단덮밥\n"
     ]
    },
    {
     "name": "stderr",
     "output_type": "stream",
     "text": [
      " 87%|███████████████████████████████████████████████████████████████████▎         | 874/1000 [1:13:28<19:21,  9.22s/it]"
     ]
    },
    {
     "name": "stdout",
     "output_type": "stream",
     "text": [
      "간단한국요리\n"
     ]
    },
    {
     "name": "stderr",
     "output_type": "stream",
     "text": [
      " 88%|███████████████████████████████████████████████████████████████████▉         | 883/1000 [1:14:39<16:06,  8.26s/it]"
     ]
    },
    {
     "name": "stdout",
     "output_type": "stream",
     "text": [
      "초간단\n"
     ]
    },
    {
     "name": "stderr",
     "output_type": "stream",
     "text": [
      " 89%|████████████████████████████████████████████████████████████████████▎        | 887/1000 [1:15:11<15:05,  8.01s/it]"
     ]
    },
    {
     "name": "stdout",
     "output_type": "stream",
     "text": [
      "초간단\n"
     ]
    },
    {
     "name": "stderr",
     "output_type": "stream",
     "text": [
      " 89%|████████████████████████████████████████████████████████████████████▍        | 889/1000 [1:15:25<13:50,  7.48s/it]"
     ]
    },
    {
     "name": "stdout",
     "output_type": "stream",
     "text": [
      "초간단\n"
     ]
    },
    {
     "name": "stderr",
     "output_type": "stream",
     "text": [
      " 89%|████████████████████████████████████████████████████████████████████▋        | 892/1000 [1:15:47<13:21,  7.42s/it]"
     ]
    },
    {
     "name": "stdout",
     "output_type": "stream",
     "text": [
      "초간단\n",
      "간단\n"
     ]
    },
    {
     "name": "stderr",
     "output_type": "stream",
     "text": [
      "\r",
      " 89%|████████████████████████████████████████████████████████████████████▊        | 893/1000 [1:15:56<13:52,  7.78s/it]"
     ]
    },
    {
     "name": "stdout",
     "output_type": "stream",
     "text": [
      "간단한소고기무국\n"
     ]
    },
    {
     "name": "stderr",
     "output_type": "stream",
     "text": [
      " 91%|██████████████████████████████████████████████████████████████████████▏      | 912/1000 [1:18:06<11:29,  7.83s/it]"
     ]
    },
    {
     "name": "stdout",
     "output_type": "stream",
     "text": [
      "간단식\n"
     ]
    },
    {
     "name": "stderr",
     "output_type": "stream",
     "text": [
      " 91%|██████████████████████████████████████████████████████████████████████▍      | 914/1000 [1:18:18<10:12,  7.12s/it]"
     ]
    },
    {
     "name": "stdout",
     "output_type": "stream",
     "text": [
      "초간단갈비양념\n",
      "초간단고기양념\n"
     ]
    },
    {
     "name": "stderr",
     "output_type": "stream",
     "text": [
      " 92%|██████████████████████████████████████████████████████████████████████▉      | 922/1000 [1:19:15<09:09,  7.04s/it]"
     ]
    },
    {
     "name": "stdout",
     "output_type": "stream",
     "text": [
      "초간단간식\n"
     ]
    },
    {
     "name": "stderr",
     "output_type": "stream",
     "text": [
      " 94%|████████████████████████████████████████████████████████████████████████▏    | 938/1000 [1:21:06<06:58,  6.76s/it]"
     ]
    },
    {
     "name": "stdout",
     "output_type": "stream",
     "text": [
      "간단반찬\n",
      "초간단레시피\n",
      "자취생레시피\n",
      "자취생요리\n",
      "간단국\n"
     ]
    },
    {
     "name": "stderr",
     "output_type": "stream",
     "text": [
      " 97%|██████████████████████████████████████████████████████████████████████████▊  | 971/1000 [1:25:15<03:43,  7.70s/it]"
     ]
    },
    {
     "name": "stdout",
     "output_type": "stream",
     "text": [
      "간단한국\n"
     ]
    },
    {
     "name": "stderr",
     "output_type": "stream",
     "text": [
      " 98%|███████████████████████████████████████████████████████████████████████████▎ | 978/1000 [1:26:15<02:57,  8.08s/it]"
     ]
    },
    {
     "name": "stdout",
     "output_type": "stream",
     "text": [
      "초간단\n"
     ]
    },
    {
     "name": "stderr",
     "output_type": "stream",
     "text": [
      "\r",
      " 98%|███████████████████████████████████████████████████████████████████████████▍ | 979/1000 [1:26:23<02:52,  8.20s/it]"
     ]
    },
    {
     "name": "stdout",
     "output_type": "stream",
     "text": [
      "간단\n"
     ]
    },
    {
     "name": "stderr",
     "output_type": "stream",
     "text": [
      " 99%|███████████████████████████████████████████████████████████████████████████▉ | 986/1000 [1:27:29<02:20, 10.06s/it]"
     ]
    },
    {
     "name": "stdout",
     "output_type": "stream",
     "text": [
      "초간단\n"
     ]
    },
    {
     "name": "stderr",
     "output_type": "stream",
     "text": [
      " 99%|████████████████████████████████████████████████████████████████████████████▎| 991/1000 [1:28:09<01:17,  8.59s/it]"
     ]
    },
    {
     "name": "stdout",
     "output_type": "stream",
     "text": [
      "초간단\n",
      "간단메뉴\n"
     ]
    },
    {
     "name": "stderr",
     "output_type": "stream",
     "text": [
      "\r",
      " 99%|████████████████████████████████████████████████████████████████████████████▍| 992/1000 [1:28:15<01:01,  7.75s/it]"
     ]
    },
    {
     "name": "stdout",
     "output_type": "stream",
     "text": [
      "자취요리\n"
     ]
    },
    {
     "name": "stderr",
     "output_type": "stream",
     "text": [
      "100%|████████████████████████████████████████████████████████████████████████████▊| 997/1000 [1:28:50<00:22,  7.45s/it]"
     ]
    },
    {
     "name": "stdout",
     "output_type": "stream",
     "text": [
      "초간단\n"
     ]
    },
    {
     "name": "stderr",
     "output_type": "stream",
     "text": [
      "100%|████████████████████████████████████████████████████████████████████████████▉| 999/1000 [1:29:06<00:07,  7.83s/it]"
     ]
    },
    {
     "name": "stdout",
     "output_type": "stream",
     "text": [
      "초간단국\n"
     ]
    },
    {
     "name": "stderr",
     "output_type": "stream",
     "text": [
      "100%|████████████████████████████████████████████████████████████████████████████| 1000/1000 [1:29:12<00:00,  5.35s/it]\n"
     ]
    }
   ],
   "source": [
    "\n",
    "\n",
    "import re\n",
    "testt = ['https://www.10000recipe.com/recipe/6852019']\n",
    "csv_list=[['title','재료','태그','url','이미지주소']]\n",
    "\n",
    "\n",
    "\n",
    "for url_ in tqdm(url_1000개):\n",
    "    \n",
    "    url = url_\n",
    "    req = requests.get(url)\n",
    "    html = req.text\n",
    "    soup = BeautifulSoup(html,'html.parser')\n",
    "    #movies = soup.find(\"div\",attrs={'class':'view2_summary st3'})\n",
    "    try:\n",
    "        ingredient = soup.find(\"div\",attrs={'class':'ready_ingre3'})\n",
    "    except Exception:\n",
    "        pass\n",
    "    browser.quit()\n",
    "    재료=[]\n",
    "    title=soup.find(\"h3\").text\n",
    "    try:\n",
    "        t=ingredient.find_all('a')\n",
    "    \n",
    "        s=soup.find(\"div\", attrs={'class':\"view_tag\"})\n",
    "        tag=[]\n",
    "        for i in s:\n",
    "            tag.append(i.text.replace('#',''))\n",
    "    except Exception:\n",
    "        pass\n",
    "    스위치=0\n",
    "    for i in tag:\n",
    "    \n",
    "        if '자취' in i:\n",
    "            print(i)\n",
    "            스위치=스위치+1\n",
    "        elif '간단' in i:\n",
    "            print(i)\n",
    "            스위치=스위치+1\n",
    "        else:\n",
    "            pass\n",
    "\n",
    "    \n",
    "    if 스위치 >=1:\n",
    "        for i in t:\n",
    "            재료.append(i.text.strip().replace(\"\\n\",\"\").split(\" \")[0])\n",
    "        \n",
    "        하나=[]\n",
    "        image = soup.find(\"div\",attrs={'class':'centeredcrop'}).find('img')['src']\n",
    "        하나.append(title)\n",
    "        하나.append(재료)\n",
    "        하나.append(tag)\n",
    "        하나.append(url)\n",
    "        하나.append(image)\n",
    "        csv_list.append(하나)\n",
    "    else:\n",
    "        pass\n"
   ]
  },
  {
   "cell_type": "code",
   "execution_count": 99,
   "metadata": {
    "ExecuteTime": {
     "end_time": "2021-02-08T17:06:51.351774Z",
     "start_time": "2021-02-08T17:06:51.330799Z"
    },
    "scrolled": true
   },
   "outputs": [
    {
     "data": {
      "text/plain": [
       "[['title', '재료', '태그', 'url'],\n",
       " ['차돌박이 참나물 샐러드 , 쉽고 간단하지만 폼나고 맛있다.',\n",
       "  ['참나물', '차돌박이', '다진마늘', '참기름', '간장', '멸치액젓', '식초', '고춧가루', '설탕', '깨'],\n",
       "  ['참나물', '참나물무침', '참나물샐러드', '차돌박이', '차돌박이샐러드', '샐러드', '참나무차돌박이샐러드', '초간단'],\n",
       "  'https://www.10000recipe.com/recipe/6841304'],\n",
       " ['간단한 요리 레시피, 덮밥으로도 술안주로도 OK! 10분만에 만드는 소고기숙주볶음',\n",
       "  ['소고기', '숙주', '양파', '마늘', '굴소스', '간장', '소주', '설탕', '후추'],\n",
       "  ['소고기숙주볶음', '간편 술안주', '덮밥', '메인반찬', '점심메뉴', '저녁메뉴', '초간단', '술안주'],\n",
       "  'https://www.10000recipe.com/recipe/6894649'],\n",
       " ['간장 다진소고기볶음(다대기)',\n",
       "  ['소고기', '간장', '올리고당', '다진마늘', '맛술', '매실액', '참기름', '깨소금', '후추', '들기름'],\n",
       "  ['소고기', '간단', '활용', '영양식'],\n",
       "  'https://www.10000recipe.com/recipe/6891424'],\n",
       " ['【10분만에 고급진 요리】파프리카소고기말이',\n",
       "  ['얇게', '깻잎', '파프리카(색깔별로)', '간장', '물', '식초', '설탕', '소금', '후추'],\n",
       "  ['메인요리',\n",
       "   '소고기말이',\n",
       "   '파프리카',\n",
       "   '소고기',\n",
       "   '인기반찬',\n",
       "   '인기메뉴',\n",
       "   '초간단',\n",
       "   '간단',\n",
       "   '저녁메뉴',\n",
       "   '저칼로리',\n",
       "   '다이어트'],\n",
       "  'https://www.10000recipe.com/recipe/6868912'],\n",
       " ['동글동글 귀엽고 맛있는 고기말이 주먹밥 만들기',\n",
       "  ['소고기', '밥', '부추', '배추김치', '식용유', '참기름', '통깨', '간장', '물', '설탕', '참기름'],\n",
       "  ['소풍도시락',\n",
       "   '아이도시락',\n",
       "   '피크닉도시락',\n",
       "   '고기말이주먹밥',\n",
       "   '고기주먹밥',\n",
       "   '예쁜주먹밥',\n",
       "   '간단주먹밥',\n",
       "   '한끼메뉴',\n",
       "   '간단한끼식사',\n",
       "   '쉽고간단'],\n",
       "  'https://www.10000recipe.com/recipe/6904538'],\n",
       " ['수미네 반찬 소고기 뭇국 끓이기. 경상도식이 더 맛있네~ 간단한 국 요리',\n",
       "  ['소고기', '무', '대파', '다진마늘', '고춧가루', '국간장', '물', '다진마늘', '후춧가루', '국간장'],\n",
       "  ['소고기뭇국 수미네반찬 수미네반찬소고기뭇국 경상도식소고기뭇국 소고기요리 소고기국 국끓이기 간단한국 국요리 국반찬'],\n",
       "  'https://www.10000recipe.com/recipe/6934526'],\n",
       " ['진정한 밥도둑 소고기 볶음 고추장',\n",
       "  ['갈은', '양파', '고추장', '다진', '후추', '간장', '설탕', '참기름', '물엿(생략가능)'],\n",
       "  ['밥도둑', '소고기볶음', '볶음고추장', '간단한', '밑반찬'],\n",
       "  'https://www.10000recipe.com/recipe/6838094'],\n",
       " ['우삼겹볶음 만들기 밥도둑 여기있었네♪',\n",
       "  ['양파', '대파', '깻잎', '고춧가루', '고추장', '설탕', '간장', '맛술', '올리고당', '다진마늘', '후추'],\n",
       "  ['우삼겹요리', '우삼겹볶음', '메인반찬', '고기반찬', '간단요리', '간단한요리'],\n",
       "  'https://www.10000recipe.com/recipe/6932517'],\n",
       " ['초간단~소고기 청경채 볶음',\n",
       "  ['소고기', '소금', '참기름', '후춧가루', '청경채', '잔파', '양파', '간장', '굴소스', '다진마늘', '통깨'],\n",
       "  ['소고기요리', '소고기청경채볶음', '청경채요리', '초간단요리', '다이어트요리', '술안주'],\n",
       "  'https://www.10000recipe.com/recipe/6929054'],\n",
       " ['입 안에 넣는 순간 사르르 녹아 내리는 채끝살 너비아니 만들기!',\n",
       "  ['소고기', '대파', '배', '양파', '새송이버섯', '깻잎', '간장', '설탕', '참기름', '깨소금', '다진마늘'],\n",
       "  ['소고기',\n",
       "   '채끝살',\n",
       "   '너비아니',\n",
       "   '산적',\n",
       "   '소고기산적',\n",
       "   '명절음식',\n",
       "   '설음식',\n",
       "   '초간단',\n",
       "   '채끝너비아니',\n",
       "   '채끝살너비아니'],\n",
       "  'https://www.10000recipe.com/recipe/6951979'],\n",
       " ['차돌박이덮밥 간단한요리',\n",
       "  ['차돌박이', '양파', '파', '달걀', '간장', '맛술', '설탕', '다진마늘', '올리고당', '후추', '생강가루'],\n",
       "  ['차돌박이덮밥', '간단한요리', '간단한저녁메뉴', '차돌박이볶음', '차돌박이요리'],\n",
       "  'https://www.10000recipe.com/recipe/6889494'],\n",
       " ['찹스테이크 만들기, 폼나는 소고기요리',\n",
       "  ['소고기',\n",
       "   '양파',\n",
       "   '표고버섯',\n",
       "   '통마늘',\n",
       "   '후추',\n",
       "   '버터',\n",
       "   '올리브유',\n",
       "   '허브솔트',\n",
       "   '맛술',\n",
       "   '돈까스소스',\n",
       "   '케찹',\n",
       "   '굴소스',\n",
       "   '올리고당',\n",
       "   '물'],\n",
       "  ['찹스테이크', '소고기요리', '찹스테이크만들기', '소고기찹스테이크', '간단요리', '간단레시피', '홈파티음식', '와인안주'],\n",
       "  'https://www.10000recipe.com/recipe/6864725'],\n",
       " ['스테이크용 척아이롤으로 갈비찜 만드는 방법. 40분 완성! 초초초간단 갈비찜 만들기',\n",
       "  ['소고기',\n",
       "   '감자',\n",
       "   '양파',\n",
       "   '당근',\n",
       "   '맛술',\n",
       "   '간장',\n",
       "   '물엿',\n",
       "   '설탕',\n",
       "   '간양파',\n",
       "   '참기름',\n",
       "   '쪽파',\n",
       "   '다진마늘',\n",
       "   '후추'],\n",
       "  ['갈비찜', '갈비찜 레시피', '손님 접대', '초대 음식', '손님', '초간단', '고급요리', '소고기'],\n",
       "  'https://www.10000recipe.com/recipe/6900994'],\n",
       " ['인기메뉴 한그릇 혼밥 ,, 초스피드 매콤 소고기 덮밥 황금레시피 ~!',\n",
       "  ['소고기', '양파', '고추장', '매운고춧가루', '굴소스', '올리고당', '매실청', '맛술', '마늘', '후추'],\n",
       "  ['소고기',\n",
       "   '소고기요리',\n",
       "   '소고기볶음',\n",
       "   '소고기볶음레시피',\n",
       "   '소고기볶음황금레시피',\n",
       "   '매운소고기볶음',\n",
       "   '매콤소고기볶음레시피',\n",
       "   '매운소고기볶음황금레시피',\n",
       "   '소고기덮밥',\n",
       "   '소고기덮밥만들기',\n",
       "   '소고기덮밥만드는법',\n",
       "   '소고기덮밥황금레시피',\n",
       "   '소고기덮밥레시피',\n",
       "   '매콤소고기덮밥',\n",
       "   '매콤소고기덮밥레시피',\n",
       "   '매콤소고기덮밥만들기',\n",
       "   '매콤소고기덮밥황금레시피',\n",
       "   '인기덮밥',\n",
       "   '인기덮밥레시피',\n",
       "   '인기메뉴',\n",
       "   '인기메뉴레시피',\n",
       "   '인기덮밥황금레시피',\n",
       "   '초스피드소고기덮밥',\n",
       "   '인기소고기덮밥',\n",
       "   '인기소고기덮밥레시피',\n",
       "   '초간단소고기덮밥',\n",
       "   '초간단소고기덮밥레시피',\n",
       "   '혼밥',\n",
       "   '혼밥레시피',\n",
       "   '인기혼밥메뉴',\n",
       "   '인기혼밥메뉴레시피',\n",
       "   '한그릇요리',\n",
       "   '한그릇요리레시피'],\n",
       "  'https://www.10000recipe.com/recipe/6871754'],\n",
       " ['차돌박이 된장찌개 레시피ㅣ고깃집에서 먹던 바로 그 맛!ㅣ',\n",
       "  ['차돌박이',\n",
       "   '두부',\n",
       "   '애호박',\n",
       "   '양파',\n",
       "   '대파',\n",
       "   '청양고추',\n",
       "   '팽이버섯',\n",
       "   '된장',\n",
       "   '고추장',\n",
       "   '국간장',\n",
       "   '고춧가루',\n",
       "   '다진'],\n",
       "  ['차돌박이된장찌개', '된장찌개', '차돌박이', '찌개', '건강식', '된장찌개레시피', '된장찌개황금레시피', '간단요리'],\n",
       "  'https://www.10000recipe.com/recipe/6922749'],\n",
       " ['등심스테이크 l 기념일에 빠져서는 안되는 스테이크 레시피 ★',\n",
       "  ['소고기',\n",
       "   '아스파라거스',\n",
       "   '방울토마토',\n",
       "   '마늘',\n",
       "   '버터',\n",
       "   '소금',\n",
       "   '후추',\n",
       "   '올리브유',\n",
       "   '로즈마리',\n",
       "   '간장',\n",
       "   '굴소스',\n",
       "   '맛술',\n",
       "   '설탕',\n",
       "   '물'],\n",
       "  ['기념일',\n",
       "   '스테이크',\n",
       "   '등심 스테이크',\n",
       "   '소고기 스테이크',\n",
       "   '소고기 등심',\n",
       "   '스테이크소스',\n",
       "   '간단 스테이크소스',\n",
       "   '손님초대',\n",
       "   '기념일 음식'],\n",
       "  'https://www.10000recipe.com/recipe/6926532'],\n",
       " ['초간단 소고기 요리 : 마늘 불고기 덮밥',\n",
       "  ['소고기', '간장', '설탕', '다진', '맛술'],\n",
       "  ['마늘불고기', '불고기양념', '초간단요리'],\n",
       "  'https://www.10000recipe.com/recipe/6951883'],\n",
       " ['고소하고 진한 차돌박이 감자찌개 만들기',\n",
       "  ['감자',\n",
       "   '차돌박이',\n",
       "   '양파',\n",
       "   '대파',\n",
       "   '청양고추',\n",
       "   '멸치육수',\n",
       "   '참기름',\n",
       "   '고춧가루',\n",
       "   '국간장',\n",
       "   '다진',\n",
       "   '된장',\n",
       "   '고추장',\n",
       "   '후춧가루'],\n",
       "  ['차돌박이', '감자', '간단요리', '간편요리', '찌개', '캠핑요리', '캠핑'],\n",
       "  'https://www.10000recipe.com/recipe/6919300'],\n",
       " ['초간단으로 만들수 있는 소고기메밀비빔면 ★',\n",
       "  ['다진', '달걀', '쪽파', '고추가루', '식용유', '간장', '설탕', '다진마늘', '맛술', '후추', '참기름'],\n",
       "  ['간단한 메뉴', '한그릇', '국수', '메밀국수', '소보로메밀비빔면', '메밀비빔면', '메밀국수 레시피', '면 레시피'],\n",
       "  'https://www.10000recipe.com/recipe/6917738'],\n",
       " ['쌀쌀한 날 국물요리 :: 경상도식 얼큰 소고기무국',\n",
       "  ['양지',\n",
       "   '무',\n",
       "   '대파',\n",
       "   '느타리버섯',\n",
       "   '콩나물',\n",
       "   '고춧가루',\n",
       "   '다진',\n",
       "   '국간장',\n",
       "   '멸치',\n",
       "   '참기름',\n",
       "   '소금',\n",
       "   '멸치육수'],\n",
       "  ['일상', '감기예방', '초간단', '소고기뭇국', '경상도식', '얼큰요리'],\n",
       "  'https://www.10000recipe.com/recipe/6899099'],\n",
       " ['[참 쉬운 한우요리] 한우 차돌박이 아스파라거스 말이',\n",
       "  ['한우', '아스파라거스', '전분', '소금', '후추', '아몬드슬라이스'],\n",
       "  ['한우', '차돌박이', '아스파라거스', '홈파티', '술안주', '집들이음식', '초간단', '주말', '간단요리'],\n",
       "  'https://www.10000recipe.com/recipe/6869677'],\n",
       " ['소고기무들깨탕~어린이국/건강식단',\n",
       "  ['소고기', '무', '들깨가루', '후추가루', '다진마늘', '소금'],\n",
       "  ['소고기무국', '들깨소고기무국', '초간단', '쉬운국', '아이들반찬', '비만예방', '다이어트국', '영양만점'],\n",
       "  'https://www.10000recipe.com/recipe/6949191']]"
      ]
     },
     "execution_count": 99,
     "metadata": {},
     "output_type": "execute_result"
    }
   ],
   "source": [
    "csv_list"
   ]
  },
  {
   "cell_type": "code",
   "execution_count": 21,
   "metadata": {
    "ExecuteTime": {
     "end_time": "2021-02-24T05:35:16.552134Z",
     "start_time": "2021-02-24T05:35:11.071041Z"
    },
    "lines_to_next_cell": 2
   },
   "outputs": [],
   "source": [
    "import pandas as pd\n",
    "\n",
    "바꾸자=pd.DataFrame(csv_list)\n",
    "바꾸자.to_csv('웹스크래핑_0224.csv',encoding='utf-8-sig',header=False)"
   ]
  },
  {
   "cell_type": "code",
   "execution_count": 125,
   "metadata": {
    "ExecuteTime": {
     "end_time": "2021-02-06T07:53:10.934668Z",
     "start_time": "2021-02-06T07:53:06.605211Z"
    }
   },
   "outputs": [],
   "source": [
    "url = 'https://www.10000recipe.com/recipe/list.html?cat3=70&order=reco&page=1'\n",
    "req = requests.get(url)\n",
    "html = req.text\n",
    "soup = BeautifulSoup(html,'html.parser')\n",
    "소고기_number_list=soup.find_all(\"div\",attrs={'class':'common_sp_thumb'})\n",
    "\n",
    "browser.quit()"
   ]
  },
  {
   "cell_type": "code",
   "execution_count": 126,
   "metadata": {
    "ExecuteTime": {
     "end_time": "2021-02-06T07:53:10.942649Z",
     "start_time": "2021-02-06T07:53:10.936636Z"
    }
   },
   "outputs": [
    {
     "data": {
      "text/plain": [
       "400"
      ]
     },
     "execution_count": 126,
     "metadata": {},
     "output_type": "execute_result"
    }
   ],
   "source": [
    "len(url_1000개)"
   ]
  },
  {
   "cell_type": "code",
   "execution_count": 68,
   "metadata": {
    "ExecuteTime": {
     "end_time": "2021-02-08T15:16:24.995250Z",
     "start_time": "2021-02-08T15:16:24.989293Z"
    }
   },
   "outputs": [
    {
     "data": {
      "text/plain": [
       "1000"
      ]
     },
     "execution_count": 68,
     "metadata": {},
     "output_type": "execute_result"
    }
   ],
   "source": [
    "len(url_1000개)"
   ]
  },
  {
   "cell_type": "code",
   "execution_count": 102,
   "metadata": {
    "ExecuteTime": {
     "end_time": "2021-02-08T18:41:29.636716Z",
     "start_time": "2021-02-08T17:23:57.930527Z"
    },
    "lines_to_next_cell": 0
   },
   "outputs": [
    {
     "name": "stderr",
     "output_type": "stream",
     "text": [
      "  1%|▋                                                                              | 9/1000 [00:42<1:17:18,  4.68s/it]"
     ]
    },
    {
     "name": "stdout",
     "output_type": "stream",
     "text": [
      "초간단\n"
     ]
    },
    {
     "name": "stderr",
     "output_type": "stream",
     "text": [
      "  1%|▊                                                                             | 11/1000 [00:51<1:16:07,  4.62s/it]"
     ]
    },
    {
     "name": "stdout",
     "output_type": "stream",
     "text": [
      "초간단\n"
     ]
    },
    {
     "name": "stderr",
     "output_type": "stream",
     "text": [
      "  2%|█▏                                                                            | 15/1000 [01:10<1:16:00,  4.63s/it]"
     ]
    },
    {
     "name": "stdout",
     "output_type": "stream",
     "text": [
      "간단\n"
     ]
    },
    {
     "name": "stderr",
     "output_type": "stream",
     "text": [
      "  2%|█▌                                                                            | 20/1000 [01:34<1:16:20,  4.67s/it]"
     ]
    },
    {
     "name": "stdout",
     "output_type": "stream",
     "text": [
      "초간단\n",
      "간단\n"
     ]
    },
    {
     "name": "stderr",
     "output_type": "stream",
     "text": [
      "  2%|█▊                                                                            | 23/1000 [01:49<1:19:25,  4.88s/it]"
     ]
    },
    {
     "name": "stdout",
     "output_type": "stream",
     "text": [
      "간단주먹밥\n",
      "간단한끼식사\n",
      "쉽고간단\n"
     ]
    },
    {
     "name": "stderr",
     "output_type": "stream",
     "text": [
      "\r",
      "  2%|█▊                                                                            | 24/1000 [01:54<1:17:47,  4.78s/it]"
     ]
    },
    {
     "name": "stdout",
     "output_type": "stream",
     "text": [
      "소고기뭇국 수미네반찬 수미네반찬소고기뭇국 경상도식소고기뭇국 소고기요리 소고기국 국끓이기 간단한국 국요리 국반찬\n"
     ]
    },
    {
     "name": "stderr",
     "output_type": "stream",
     "text": [
      "  3%|██                                                                            | 27/1000 [02:09<1:19:45,  4.92s/it]"
     ]
    },
    {
     "name": "stdout",
     "output_type": "stream",
     "text": [
      "간단한\n"
     ]
    },
    {
     "name": "stderr",
     "output_type": "stream",
     "text": [
      "\r",
      "  3%|██▏                                                                           | 28/1000 [02:13<1:16:53,  4.75s/it]"
     ]
    },
    {
     "name": "stdout",
     "output_type": "stream",
     "text": [
      "간단요리\n",
      "간단한요리\n"
     ]
    },
    {
     "name": "stderr",
     "output_type": "stream",
     "text": [
      "  4%|██▋                                                                           | 35/1000 [02:49<1:20:01,  4.98s/it]"
     ]
    },
    {
     "name": "stdout",
     "output_type": "stream",
     "text": [
      "초간단요리\n"
     ]
    },
    {
     "name": "stderr",
     "output_type": "stream",
     "text": [
      "  4%|███▎                                                                          | 42/1000 [03:21<1:12:12,  4.52s/it]"
     ]
    },
    {
     "name": "stdout",
     "output_type": "stream",
     "text": [
      "초간단\n"
     ]
    },
    {
     "name": "stderr",
     "output_type": "stream",
     "text": [
      "\r",
      "  4%|███▎                                                                          | 43/1000 [03:26<1:11:13,  4.47s/it]"
     ]
    },
    {
     "name": "stdout",
     "output_type": "stream",
     "text": [
      "간단한요리\n",
      "간단한저녁메뉴\n"
     ]
    },
    {
     "name": "stderr",
     "output_type": "stream",
     "text": [
      "  5%|████                                                                          | 52/1000 [04:08<1:16:57,  4.87s/it]"
     ]
    },
    {
     "name": "stdout",
     "output_type": "stream",
     "text": [
      "간단요리\n",
      "간단레시피\n"
     ]
    },
    {
     "name": "stderr",
     "output_type": "stream",
     "text": [
      "  6%|████▌                                                                         | 59/1000 [04:40<1:12:20,  4.61s/it]"
     ]
    },
    {
     "name": "stdout",
     "output_type": "stream",
     "text": [
      "초간단\n"
     ]
    },
    {
     "name": "stderr",
     "output_type": "stream",
     "text": [
      "  7%|█████▏                                                                        | 67/1000 [05:18<1:12:53,  4.69s/it]"
     ]
    },
    {
     "name": "stdout",
     "output_type": "stream",
     "text": [
      "초간단소고기덮밥\n",
      "초간단소고기덮밥레시피\n"
     ]
    },
    {
     "name": "stderr",
     "output_type": "stream",
     "text": [
      "  7%|█████▌                                                                        | 72/1000 [05:40<1:11:40,  4.63s/it]"
     ]
    },
    {
     "name": "stdout",
     "output_type": "stream",
     "text": [
      "간단요리\n"
     ]
    },
    {
     "name": "stderr",
     "output_type": "stream",
     "text": [
      "  8%|██████                                                                        | 77/1000 [06:03<1:11:11,  4.63s/it]"
     ]
    },
    {
     "name": "stdout",
     "output_type": "stream",
     "text": [
      "간단 스테이크소스\n"
     ]
    },
    {
     "name": "stderr",
     "output_type": "stream",
     "text": [
      "\r",
      "  8%|██████                                                                        | 78/1000 [06:07<1:09:41,  4.54s/it]"
     ]
    },
    {
     "name": "stdout",
     "output_type": "stream",
     "text": [
      "초간단요리\n"
     ]
    },
    {
     "name": "stderr",
     "output_type": "stream",
     "text": [
      "\r",
      "  8%|██████▏                                                                       | 79/1000 [06:12<1:10:19,  4.58s/it]"
     ]
    },
    {
     "name": "stdout",
     "output_type": "stream",
     "text": [
      "간단요리\n"
     ]
    },
    {
     "name": "stderr",
     "output_type": "stream",
     "text": [
      "  8%|██████▍                                                                       | 82/1000 [06:27<1:13:51,  4.83s/it]"
     ]
    },
    {
     "name": "stdout",
     "output_type": "stream",
     "text": [
      "간단한 메뉴\n"
     ]
    },
    {
     "name": "stderr",
     "output_type": "stream",
     "text": [
      "\r",
      "  8%|██████▍                                                                       | 83/1000 [06:32<1:13:20,  4.80s/it]"
     ]
    },
    {
     "name": "stdout",
     "output_type": "stream",
     "text": [
      "초간단\n"
     ]
    },
    {
     "name": "stderr",
     "output_type": "stream",
     "text": [
      "  9%|██████▊                                                                       | 88/1000 [06:55<1:10:04,  4.61s/it]"
     ]
    },
    {
     "name": "stdout",
     "output_type": "stream",
     "text": [
      "초간단\n",
      "간단요리\n"
     ]
    },
    {
     "name": "stderr",
     "output_type": "stream",
     "text": [
      "\r",
      "  9%|██████▉                                                                       | 89/1000 [06:59<1:10:01,  4.61s/it]"
     ]
    },
    {
     "name": "stdout",
     "output_type": "stream",
     "text": [
      "초간단\n"
     ]
    },
    {
     "name": "stderr",
     "output_type": "stream",
     "text": [
      " 11%|████████▏                                                                    | 106/1000 [08:20<1:10:01,  4.70s/it]"
     ]
    },
    {
     "name": "stdout",
     "output_type": "stream",
     "text": [
      "간단한끼\n"
     ]
    },
    {
     "name": "stderr",
     "output_type": "stream",
     "text": [
      " 11%|████████▍                                                                    | 109/1000 [08:35<1:11:19,  4.80s/it]"
     ]
    },
    {
     "name": "stdout",
     "output_type": "stream",
     "text": [
      "간단\n",
      "간단 카레우동만들기\n"
     ]
    },
    {
     "name": "stderr",
     "output_type": "stream",
     "text": [
      " 12%|█████████▍                                                                   | 123/1000 [09:42<1:08:33,  4.69s/it]"
     ]
    },
    {
     "name": "stdout",
     "output_type": "stream",
     "text": [
      "초간단\n"
     ]
    },
    {
     "name": "stderr",
     "output_type": "stream",
     "text": [
      " 14%|██████████▌                                                                  | 137/1000 [10:49<1:10:53,  4.93s/it]"
     ]
    },
    {
     "name": "stdout",
     "output_type": "stream",
     "text": [
      "간단한\n",
      "초간단\n"
     ]
    },
    {
     "name": "stderr",
     "output_type": "stream",
     "text": [
      " 14%|██████████▊                                                                  | 140/1000 [11:03<1:08:53,  4.81s/it]"
     ]
    },
    {
     "name": "stdout",
     "output_type": "stream",
     "text": [
      "간단한끼\n",
      "자취생\n",
      "초간단요리\n",
      "초간단레시피\n",
      "초간단간식\n",
      "초간단안주\n"
     ]
    },
    {
     "name": "stderr",
     "output_type": "stream",
     "text": [
      " 14%|███████████▏                                                                 | 145/1000 [11:25<1:05:26,  4.59s/it]"
     ]
    },
    {
     "name": "stdout",
     "output_type": "stream",
     "text": [
      "초간단\n"
     ]
    },
    {
     "name": "stderr",
     "output_type": "stream",
     "text": [
      " 15%|███████████▌                                                                 | 150/1000 [11:48<1:04:48,  4.57s/it]"
     ]
    },
    {
     "name": "stdout",
     "output_type": "stream",
     "text": [
      "간단한요리\n"
     ]
    },
    {
     "name": "stderr",
     "output_type": "stream",
     "text": [
      " 15%|███████████▋                                                                 | 152/1000 [11:58<1:06:53,  4.73s/it]"
     ]
    },
    {
     "name": "stdout",
     "output_type": "stream",
     "text": [
      "간단술안주\n",
      "간단한끼식사\n"
     ]
    },
    {
     "name": "stderr",
     "output_type": "stream",
     "text": [
      " 16%|████████████                                                                 | 157/1000 [12:21<1:04:21,  4.58s/it]"
     ]
    },
    {
     "name": "stdout",
     "output_type": "stream",
     "text": [
      "초간단\n"
     ]
    },
    {
     "name": "stderr",
     "output_type": "stream",
     "text": [
      " 16%|████████████▍                                                                | 162/1000 [12:44<1:02:58,  4.51s/it]"
     ]
    },
    {
     "name": "stdout",
     "output_type": "stream",
     "text": [
      "간단한국\n"
     ]
    },
    {
     "name": "stderr",
     "output_type": "stream",
     "text": [
      "\r",
      " 16%|████████████▌                                                                | 163/1000 [12:48<1:04:09,  4.60s/it]"
     ]
    },
    {
     "name": "stdout",
     "output_type": "stream",
     "text": [
      "간단\n",
      "초간단\n"
     ]
    },
    {
     "name": "stderr",
     "output_type": "stream",
     "text": [
      " 17%|█████████████▏                                                               | 172/1000 [13:31<1:03:57,  4.64s/it]"
     ]
    },
    {
     "name": "stdout",
     "output_type": "stream",
     "text": [
      "간단아침식사\n",
      "간단저녁식사\n",
      "자취생요리\n",
      "간단한식사\n"
     ]
    },
    {
     "name": "stderr",
     "output_type": "stream",
     "text": [
      " 18%|█████████████▊                                                               | 180/1000 [14:08<1:02:47,  4.59s/it]"
     ]
    },
    {
     "name": "stdout",
     "output_type": "stream",
     "text": [
      "초간단\n"
     ]
    },
    {
     "name": "stderr",
     "output_type": "stream",
     "text": [
      " 18%|██████████████                                                               | 182/1000 [14:18<1:05:49,  4.83s/it]"
     ]
    },
    {
     "name": "stdout",
     "output_type": "stream",
     "text": [
      "초간단\n"
     ]
    },
    {
     "name": "stderr",
     "output_type": "stream",
     "text": [
      " 19%|██████████████▍                                                              | 188/1000 [14:47<1:04:21,  4.76s/it]"
     ]
    },
    {
     "name": "stdout",
     "output_type": "stream",
     "text": [
      "간단요리\n"
     ]
    },
    {
     "name": "stderr",
     "output_type": "stream",
     "text": [
      " 19%|██████████████▋                                                              | 191/1000 [15:01<1:03:54,  4.74s/it]"
     ]
    },
    {
     "name": "stdout",
     "output_type": "stream",
     "text": [
      "간단반찬\n"
     ]
    },
    {
     "name": "stderr",
     "output_type": "stream",
     "text": [
      " 19%|██████████████▊                                                              | 193/1000 [15:10<1:04:06,  4.77s/it]"
     ]
    },
    {
     "name": "stdout",
     "output_type": "stream",
     "text": [
      "간단요리\n"
     ]
    },
    {
     "name": "stderr",
     "output_type": "stream",
     "text": [
      " 20%|███████████████                                                              | 195/1000 [15:19<1:01:56,  4.62s/it]"
     ]
    },
    {
     "name": "stdout",
     "output_type": "stream",
     "text": [
      "간단한\n"
     ]
    },
    {
     "name": "stderr",
     "output_type": "stream",
     "text": [
      " 20%|███████████████▎                                                             | 199/1000 [15:38<1:01:05,  4.58s/it]"
     ]
    },
    {
     "name": "stdout",
     "output_type": "stream",
     "text": [
      "자취\n",
      "초간단\n"
     ]
    },
    {
     "name": "stderr",
     "output_type": "stream",
     "text": [
      " 20%|███████████████▌                                                             | 202/1000 [15:51<1:01:31,  4.63s/it]"
     ]
    },
    {
     "name": "stdout",
     "output_type": "stream",
     "text": [
      "간단국\n"
     ]
    },
    {
     "name": "stderr",
     "output_type": "stream",
     "text": [
      " 21%|███████████████▊                                                             | 206/1000 [16:10<1:00:08,  4.55s/it]"
     ]
    },
    {
     "name": "stdout",
     "output_type": "stream",
     "text": [
      "자취요리\n"
     ]
    },
    {
     "name": "stderr",
     "output_type": "stream",
     "text": [
      " 21%|████████████████▏                                                            | 210/1000 [16:31<1:05:37,  4.98s/it]"
     ]
    },
    {
     "name": "stdout",
     "output_type": "stream",
     "text": [
      "초간단\n"
     ]
    },
    {
     "name": "stderr",
     "output_type": "stream",
     "text": [
      " 22%|████████████████▌                                                            | 215/1000 [16:55<1:03:52,  4.88s/it]"
     ]
    },
    {
     "name": "stdout",
     "output_type": "stream",
     "text": [
      "간단\n"
     ]
    },
    {
     "name": "stderr",
     "output_type": "stream",
     "text": [
      " 22%|█████████████████▎                                                             | 219/1000 [17:13<59:50,  4.60s/it]"
     ]
    },
    {
     "name": "stdout",
     "output_type": "stream",
     "text": [
      "초간단소고기요리\n"
     ]
    },
    {
     "name": "stderr",
     "output_type": "stream",
     "text": [
      "\r",
      " 22%|█████████████████▍                                                             | 220/1000 [17:17<58:32,  4.50s/it]"
     ]
    },
    {
     "name": "stdout",
     "output_type": "stream",
     "text": [
      "초간단\n"
     ]
    },
    {
     "name": "stderr",
     "output_type": "stream",
     "text": [
      " 22%|█████████████████▌                                                             | 222/1000 [17:26<57:58,  4.47s/it]"
     ]
    },
    {
     "name": "stdout",
     "output_type": "stream",
     "text": [
      "초간단\n"
     ]
    },
    {
     "name": "stderr",
     "output_type": "stream",
     "text": [
      " 22%|█████████████████▋                                                             | 224/1000 [17:35<57:33,  4.45s/it]"
     ]
    },
    {
     "name": "stdout",
     "output_type": "stream",
     "text": [
      "간단요리\n"
     ]
    },
    {
     "name": "stderr",
     "output_type": "stream",
     "text": [
      "\r",
      " 22%|█████████████████▊                                                             | 225/1000 [17:40<58:58,  4.57s/it]"
     ]
    },
    {
     "name": "stdout",
     "output_type": "stream",
     "text": [
      "간단\n"
     ]
    },
    {
     "name": "stderr",
     "output_type": "stream",
     "text": [
      " 24%|██████████████████▉                                                            | 240/1000 [18:52<59:14,  4.68s/it]"
     ]
    },
    {
     "name": "stdout",
     "output_type": "stream",
     "text": [
      "자취요리\n"
     ]
    },
    {
     "name": "stderr",
     "output_type": "stream",
     "text": [
      " 24%|███████████████████                                                            | 242/1000 [19:01<57:41,  4.57s/it]"
     ]
    },
    {
     "name": "stdout",
     "output_type": "stream",
     "text": [
      "자취생요리\n"
     ]
    },
    {
     "name": "stderr",
     "output_type": "stream",
     "text": [
      " 25%|███████████████████▊                                                           | 251/1000 [19:42<57:15,  4.59s/it]"
     ]
    },
    {
     "name": "stdout",
     "output_type": "stream",
     "text": [
      "초간단\n"
     ]
    },
    {
     "name": "stderr",
     "output_type": "stream",
     "text": [
      " 26%|████████████████████▏                                                          | 255/1000 [20:01<56:42,  4.57s/it]"
     ]
    },
    {
     "name": "stdout",
     "output_type": "stream",
     "text": [
      "초간단\n"
     ]
    },
    {
     "name": "stderr",
     "output_type": "stream",
     "text": [
      " 28%|██████████████████████▍                                                        | 284/1000 [22:14<53:51,  4.51s/it]"
     ]
    },
    {
     "name": "stdout",
     "output_type": "stream",
     "text": [
      "간단술안주\n",
      "간단저녁반찬\n"
     ]
    },
    {
     "name": "stderr",
     "output_type": "stream",
     "text": [
      " 29%|███████████████████████▏                                                       | 294/1000 [23:00<55:25,  4.71s/it]"
     ]
    },
    {
     "name": "stdout",
     "output_type": "stream",
     "text": [
      "초간단\n"
     ]
    },
    {
     "name": "stderr",
     "output_type": "stream",
     "text": [
      "\r",
      " 30%|███████████████████████▎                                                       | 295/1000 [23:05<54:31,  4.64s/it]"
     ]
    },
    {
     "name": "stdout",
     "output_type": "stream",
     "text": [
      "초간단\n"
     ]
    },
    {
     "name": "stderr",
     "output_type": "stream",
     "text": [
      " 30%|████████████████████████                                                       | 304/1000 [23:46<53:47,  4.64s/it]"
     ]
    },
    {
     "name": "stdout",
     "output_type": "stream",
     "text": [
      "초간단\n"
     ]
    },
    {
     "name": "stderr",
     "output_type": "stream",
     "text": [
      " 31%|████████████████████████▏                                                      | 306/1000 [23:55<53:21,  4.61s/it]"
     ]
    },
    {
     "name": "stdout",
     "output_type": "stream",
     "text": [
      "간단요리\n"
     ]
    },
    {
     "name": "stderr",
     "output_type": "stream",
     "text": [
      " 31%|████████████████████████▍                                                      | 309/1000 [24:09<53:28,  4.64s/it]"
     ]
    },
    {
     "name": "stdout",
     "output_type": "stream",
     "text": [
      "초간단\n"
     ]
    },
    {
     "name": "stderr",
     "output_type": "stream",
     "text": [
      "\r",
      " 31%|████████████████████████▍                                                      | 310/1000 [24:14<52:56,  4.60s/it]"
     ]
    },
    {
     "name": "stdout",
     "output_type": "stream",
     "text": [
      "초간단\n"
     ]
    },
    {
     "name": "stderr",
     "output_type": "stream",
     "text": [
      "\r",
      " 31%|████████████████████████▌                                                      | 311/1000 [24:19<53:22,  4.65s/it]"
     ]
    },
    {
     "name": "stdout",
     "output_type": "stream",
     "text": [
      "초간단\n"
     ]
    },
    {
     "name": "stderr",
     "output_type": "stream",
     "text": [
      " 33%|█████████████████████████▉                                                     | 329/1000 [25:44<53:47,  4.81s/it]"
     ]
    },
    {
     "name": "stdout",
     "output_type": "stream",
     "text": [
      "간단한\n",
      "간단저녁\n"
     ]
    },
    {
     "name": "stderr",
     "output_type": "stream",
     "text": [
      "\r",
      " 33%|██████████████████████████                                                     | 330/1000 [25:48<52:42,  4.72s/it]"
     ]
    },
    {
     "name": "stdout",
     "output_type": "stream",
     "text": [
      "간단소불고기\n"
     ]
    },
    {
     "name": "stderr",
     "output_type": "stream",
     "text": [
      " 36%|████████████████████████████                                                   | 356/1000 [27:47<47:25,  4.42s/it]"
     ]
    },
    {
     "name": "stdout",
     "output_type": "stream",
     "text": [
      "간단한끼\n"
     ]
    },
    {
     "name": "stderr",
     "output_type": "stream",
     "text": [
      " 36%|████████████████████████████▊                                                  | 365/1000 [28:27<48:30,  4.58s/it]"
     ]
    },
    {
     "name": "stdout",
     "output_type": "stream",
     "text": [
      "초간단\n"
     ]
    },
    {
     "name": "stderr",
     "output_type": "stream",
     "text": [
      " 37%|████████████████████████████▉                                                  | 367/1000 [28:36<47:46,  4.53s/it]"
     ]
    },
    {
     "name": "stdout",
     "output_type": "stream",
     "text": [
      "간단\n"
     ]
    },
    {
     "name": "stderr",
     "output_type": "stream",
     "text": [
      " 38%|█████████████████████████████▊                                                 | 378/1000 [29:27<46:35,  4.49s/it]"
     ]
    },
    {
     "name": "stdout",
     "output_type": "stream",
     "text": [
      "쉽고간단\n"
     ]
    },
    {
     "name": "stderr",
     "output_type": "stream",
     "text": [
      " 38%|██████████████████████████████                                                 | 380/1000 [29:37<47:10,  4.57s/it]"
     ]
    },
    {
     "name": "stdout",
     "output_type": "stream",
     "text": [
      "초간단불고기\n",
      "초간단\n",
      "간단\n"
     ]
    },
    {
     "name": "stderr",
     "output_type": "stream",
     "text": [
      "\r",
      " 38%|██████████████████████████████                                                 | 381/1000 [29:41<48:11,  4.67s/it]"
     ]
    },
    {
     "name": "stdout",
     "output_type": "stream",
     "text": [
      "초간단\n",
      "간단요리\n"
     ]
    },
    {
     "name": "stderr",
     "output_type": "stream",
     "text": [
      " 38%|██████████████████████████████▍                                                | 385/1000 [30:00<47:45,  4.66s/it]"
     ]
    },
    {
     "name": "stdout",
     "output_type": "stream",
     "text": [
      "초간단\n"
     ]
    },
    {
     "name": "stderr",
     "output_type": "stream",
     "text": [
      " 39%|██████████████████████████████▌                                                | 387/1000 [30:09<46:21,  4.54s/it]"
     ]
    },
    {
     "name": "stdout",
     "output_type": "stream",
     "text": [
      "간단한레시피\n"
     ]
    },
    {
     "name": "stderr",
     "output_type": "stream",
     "text": [
      " 39%|███████████████████████████████▏                                               | 394/1000 [30:41<47:24,  4.69s/it]"
     ]
    },
    {
     "name": "stdout",
     "output_type": "stream",
     "text": [
      "초간단\n"
     ]
    },
    {
     "name": "stderr",
     "output_type": "stream",
     "text": [
      " 40%|███████████████████████████████▎                                               | 396/1000 [30:50<45:49,  4.55s/it]"
     ]
    },
    {
     "name": "stdout",
     "output_type": "stream",
     "text": [
      "초간단요리\n"
     ]
    },
    {
     "name": "stderr",
     "output_type": "stream",
     "text": [
      "\r",
      " 40%|███████████████████████████████▎                                               | 397/1000 [30:55<46:13,  4.60s/it]"
     ]
    },
    {
     "name": "stdout",
     "output_type": "stream",
     "text": [
      "초간단\n"
     ]
    },
    {
     "name": "stderr",
     "output_type": "stream",
     "text": [
      " 40%|███████████████████████████████▌                                               | 399/1000 [31:04<45:30,  4.54s/it]"
     ]
    },
    {
     "name": "stdout",
     "output_type": "stream",
     "text": [
      "간단한국\n"
     ]
    },
    {
     "name": "stderr",
     "output_type": "stream",
     "text": [
      " 41%|████████████████████████████████▏                                              | 408/1000 [31:46<45:56,  4.66s/it]"
     ]
    },
    {
     "name": "stdout",
     "output_type": "stream",
     "text": [
      "초간단\n",
      "간단한끼\n"
     ]
    },
    {
     "name": "stderr",
     "output_type": "stream",
     "text": [
      " 41%|████████████████████████████████▍                                              | 410/1000 [31:55<45:06,  4.59s/it]"
     ]
    },
    {
     "name": "stdout",
     "output_type": "stream",
     "text": [
      "초간단\n"
     ]
    },
    {
     "name": "stderr",
     "output_type": "stream",
     "text": [
      " 41%|████████████████████████████████▌                                              | 412/1000 [32:04<44:40,  4.56s/it]"
     ]
    },
    {
     "name": "stdout",
     "output_type": "stream",
     "text": [
      "간단한밑반찬\n"
     ]
    },
    {
     "name": "stderr",
     "output_type": "stream",
     "text": [
      " 42%|█████████████████████████████████▎                                             | 422/1000 [32:49<42:50,  4.45s/it]"
     ]
    },
    {
     "name": "stdout",
     "output_type": "stream",
     "text": [
      "초간단\n"
     ]
    },
    {
     "name": "stderr",
     "output_type": "stream",
     "text": [
      " 43%|██████████████████████████████████▎                                            | 434/1000 [33:44<43:06,  4.57s/it]"
     ]
    },
    {
     "name": "stdout",
     "output_type": "stream",
     "text": [
      "자취생요리\n"
     ]
    },
    {
     "name": "stderr",
     "output_type": "stream",
     "text": [
      " 44%|██████████████████████████████████▉                                            | 443/1000 [34:25<42:43,  4.60s/it]"
     ]
    },
    {
     "name": "stdout",
     "output_type": "stream",
     "text": [
      "간단비빔국수\n",
      "초간단국수\n"
     ]
    },
    {
     "name": "stderr",
     "output_type": "stream",
     "text": [
      " 46%|███████████████████████████████████▉                                           | 455/1000 [35:21<42:42,  4.70s/it]"
     ]
    },
    {
     "name": "stdout",
     "output_type": "stream",
     "text": [
      "간단자취\n"
     ]
    },
    {
     "name": "stderr",
     "output_type": "stream",
     "text": [
      " 46%|████████████████████████████████████▏                                          | 458/1000 [35:35<40:50,  4.52s/it]"
     ]
    },
    {
     "name": "stdout",
     "output_type": "stream",
     "text": [
      "초간단\n"
     ]
    },
    {
     "name": "stderr",
     "output_type": "stream",
     "text": [
      " 47%|████████████████████████████████████▉                                          | 467/1000 [36:15<39:31,  4.45s/it]"
     ]
    },
    {
     "name": "stdout",
     "output_type": "stream",
     "text": [
      "초간단\n"
     ]
    },
    {
     "name": "stderr",
     "output_type": "stream",
     "text": [
      " 47%|█████████████████████████████████████▎                                         | 472/1000 [36:37<40:08,  4.56s/it]"
     ]
    },
    {
     "name": "stdout",
     "output_type": "stream",
     "text": [
      "간단\n"
     ]
    },
    {
     "name": "stderr",
     "output_type": "stream",
     "text": [
      " 48%|█████████████████████████████████████▉                                         | 480/1000 [37:13<38:35,  4.45s/it]"
     ]
    },
    {
     "name": "stdout",
     "output_type": "stream",
     "text": [
      "자취요리\n"
     ]
    },
    {
     "name": "stderr",
     "output_type": "stream",
     "text": [
      "\r",
      " 48%|█████████████████████████████████████▉                                         | 481/1000 [37:17<38:30,  4.45s/it]"
     ]
    },
    {
     "name": "stdout",
     "output_type": "stream",
     "text": [
      "간단한고추장찌개\n"
     ]
    },
    {
     "name": "stderr",
     "output_type": "stream",
     "text": [
      " 48%|██████████████████████████████████████▏                                        | 484/1000 [37:31<38:21,  4.46s/it]"
     ]
    },
    {
     "name": "stdout",
     "output_type": "stream",
     "text": [
      "간단안주\n"
     ]
    },
    {
     "name": "stderr",
     "output_type": "stream",
     "text": [
      " 50%|███████████████████████████████████████                                        | 495/1000 [38:22<39:23,  4.68s/it]"
     ]
    },
    {
     "name": "stdout",
     "output_type": "stream",
     "text": [
      "간단한요리\n"
     ]
    },
    {
     "name": "stderr",
     "output_type": "stream",
     "text": [
      "\r",
      " 50%|███████████████████████████████████████▏                                       | 496/1000 [38:27<39:53,  4.75s/it]"
     ]
    },
    {
     "name": "stdout",
     "output_type": "stream",
     "text": [
      "간단한요리\n"
     ]
    },
    {
     "name": "stderr",
     "output_type": "stream",
     "text": [
      "\r",
      " 50%|███████████████████████████████████████▎                                       | 497/1000 [38:32<39:40,  4.73s/it]"
     ]
    },
    {
     "name": "stdout",
     "output_type": "stream",
     "text": [
      "초간단\n"
     ]
    },
    {
     "name": "stderr",
     "output_type": "stream",
     "text": [
      " 51%|████████████████████████████████████████                                       | 507/1000 [39:18<37:40,  4.59s/it]"
     ]
    },
    {
     "name": "stdout",
     "output_type": "stream",
     "text": [
      "초간단요리\n"
     ]
    },
    {
     "name": "stderr",
     "output_type": "stream",
     "text": [
      " 51%|████████████████████████████████████████▎                                      | 510/1000 [39:31<36:48,  4.51s/it]"
     ]
    },
    {
     "name": "stdout",
     "output_type": "stream",
     "text": [
      "초간단레시피\n"
     ]
    },
    {
     "name": "stderr",
     "output_type": "stream",
     "text": [
      " 51%|████████████████████████████████████████▌                                      | 514/1000 [39:50<38:09,  4.71s/it]"
     ]
    },
    {
     "name": "stdout",
     "output_type": "stream",
     "text": [
      "초간단\n",
      "간단\n"
     ]
    },
    {
     "name": "stderr",
     "output_type": "stream",
     "text": [
      " 52%|████████████████████████████████████████▊                                      | 516/1000 [39:59<37:20,  4.63s/it]"
     ]
    },
    {
     "name": "stdout",
     "output_type": "stream",
     "text": [
      "간단요리\n"
     ]
    },
    {
     "name": "stderr",
     "output_type": "stream",
     "text": [
      "\r",
      " 52%|████████████████████████████████████████▊                                      | 517/1000 [40:05<39:29,  4.91s/it]"
     ]
    },
    {
     "name": "stdout",
     "output_type": "stream",
     "text": [
      "간단요리\n"
     ]
    },
    {
     "name": "stderr",
     "output_type": "stream",
     "text": [
      " 52%|█████████████████████████████████████████                                      | 520/1000 [40:18<36:37,  4.58s/it]"
     ]
    },
    {
     "name": "stdout",
     "output_type": "stream",
     "text": [
      "초간단\n"
     ]
    },
    {
     "name": "stderr",
     "output_type": "stream",
     "text": [
      "\r",
      " 52%|█████████████████████████████████████████▏                                     | 521/1000 [40:23<36:27,  4.57s/it]"
     ]
    },
    {
     "name": "stdout",
     "output_type": "stream",
     "text": [
      "초간단\n"
     ]
    },
    {
     "name": "stderr",
     "output_type": "stream",
     "text": [
      "\r",
      " 52%|█████████████████████████████████████████▏                                     | 522/1000 [40:28<37:23,  4.69s/it]"
     ]
    },
    {
     "name": "stdout",
     "output_type": "stream",
     "text": [
      "초간단\n"
     ]
    },
    {
     "name": "stderr",
     "output_type": "stream",
     "text": [
      " 53%|█████████████████████████████████████████▊                                     | 529/1000 [41:01<36:33,  4.66s/it]"
     ]
    },
    {
     "name": "stdout",
     "output_type": "stream",
     "text": [
      "간단레시피\n",
      "초간단\n"
     ]
    },
    {
     "name": "stderr",
     "output_type": "stream",
     "text": [
      " 53%|█████████████████████████████████████████▉                                     | 531/1000 [41:10<36:19,  4.65s/it]"
     ]
    },
    {
     "name": "stdout",
     "output_type": "stream",
     "text": [
      "초간단\n",
      "간단국\n"
     ]
    },
    {
     "name": "stderr",
     "output_type": "stream",
     "text": [
      "\r",
      " 53%|██████████████████████████████████████████                                     | 532/1000 [41:16<38:26,  4.93s/it]"
     ]
    },
    {
     "name": "stdout",
     "output_type": "stream",
     "text": [
      "초간단\n"
     ]
    },
    {
     "name": "stderr",
     "output_type": "stream",
     "text": [
      "\r",
      " 53%|██████████████████████████████████████████                                     | 533/1000 [41:20<37:02,  4.76s/it]"
     ]
    },
    {
     "name": "stdout",
     "output_type": "stream",
     "text": [
      "초간단\n"
     ]
    },
    {
     "name": "stderr",
     "output_type": "stream",
     "text": [
      "\r",
      " 53%|██████████████████████████████████████████▏                                    | 534/1000 [41:25<36:05,  4.65s/it]"
     ]
    },
    {
     "name": "stdout",
     "output_type": "stream",
     "text": [
      "초간단\n"
     ]
    },
    {
     "name": "stderr",
     "output_type": "stream",
     "text": [
      " 54%|██████████████████████████████████████████▎                                    | 536/1000 [41:34<36:27,  4.71s/it]"
     ]
    },
    {
     "name": "stdout",
     "output_type": "stream",
     "text": [
      "초간단\n"
     ]
    },
    {
     "name": "stderr",
     "output_type": "stream",
     "text": [
      " 54%|██████████████████████████████████████████▌                                    | 539/1000 [41:48<35:46,  4.66s/it]"
     ]
    },
    {
     "name": "stdout",
     "output_type": "stream",
     "text": [
      "초간단\n"
     ]
    },
    {
     "name": "stderr",
     "output_type": "stream",
     "text": [
      "\r",
      " 54%|██████████████████████████████████████████▋                                    | 540/1000 [41:53<35:46,  4.67s/it]"
     ]
    },
    {
     "name": "stdout",
     "output_type": "stream",
     "text": [
      "쉽고간단\n",
      "간단국\n",
      "간단한끼식사\n"
     ]
    },
    {
     "name": "stderr",
     "output_type": "stream",
     "text": [
      " 54%|██████████████████████████████████████████▉                                    | 543/1000 [42:07<35:33,  4.67s/it]"
     ]
    },
    {
     "name": "stdout",
     "output_type": "stream",
     "text": [
      "초간단\n"
     ]
    },
    {
     "name": "stderr",
     "output_type": "stream",
     "text": [
      "\r",
      " 54%|██████████████████████████████████████████▉                                    | 544/1000 [42:12<36:04,  4.75s/it]"
     ]
    },
    {
     "name": "stdout",
     "output_type": "stream",
     "text": [
      "초간단\n"
     ]
    },
    {
     "name": "stderr",
     "output_type": "stream",
     "text": [
      " 55%|███████████████████████████████████████████▎                                   | 549/1000 [42:35<35:04,  4.67s/it]"
     ]
    },
    {
     "name": "stdout",
     "output_type": "stream",
     "text": [
      "간단국\n"
     ]
    },
    {
     "name": "stderr",
     "output_type": "stream",
     "text": [
      " 55%|███████████████████████████████████████████▌                                   | 551/1000 [42:45<35:18,  4.72s/it]"
     ]
    },
    {
     "name": "stdout",
     "output_type": "stream",
     "text": [
      "간단찌개\n"
     ]
    },
    {
     "name": "stderr",
     "output_type": "stream",
     "text": [
      " 57%|████████████████████████████████████████████▊                                  | 567/1000 [44:02<34:57,  4.84s/it]"
     ]
    },
    {
     "name": "stdout",
     "output_type": "stream",
     "text": [
      "간단상차림\n"
     ]
    },
    {
     "name": "stderr",
     "output_type": "stream",
     "text": [
      " 57%|█████████████████████████████████████████████▎                                 | 573/1000 [44:30<33:51,  4.76s/it]"
     ]
    },
    {
     "name": "stdout",
     "output_type": "stream",
     "text": [
      "간단한끼\n",
      "쉽고간단\n"
     ]
    },
    {
     "name": "stderr",
     "output_type": "stream",
     "text": [
      " 58%|█████████████████████████████████████████████▋                                 | 579/1000 [44:59<34:17,  4.89s/it]"
     ]
    },
    {
     "name": "stdout",
     "output_type": "stream",
     "text": [
      "초간단\n"
     ]
    },
    {
     "name": "stderr",
     "output_type": "stream",
     "text": [
      " 59%|██████████████████████████████████████████████▌                                | 590/1000 [45:51<30:57,  4.53s/it]"
     ]
    },
    {
     "name": "stdout",
     "output_type": "stream",
     "text": [
      "초간단\n"
     ]
    },
    {
     "name": "stderr",
     "output_type": "stream",
     "text": [
      " 60%|███████████████████████████████████████████████                                | 595/1000 [46:13<29:44,  4.41s/it]"
     ]
    },
    {
     "name": "stdout",
     "output_type": "stream",
     "text": [
      "간단메뉴\n"
     ]
    },
    {
     "name": "stderr",
     "output_type": "stream",
     "text": [
      " 60%|███████████████████████████████████████████████▍                               | 600/1000 [46:36<30:44,  4.61s/it]"
     ]
    },
    {
     "name": "stdout",
     "output_type": "stream",
     "text": [
      "초간단찌개\n"
     ]
    },
    {
     "name": "stderr",
     "output_type": "stream",
     "text": [
      "\r",
      " 60%|███████████████████████████████████████████████▍                               | 601/1000 [46:42<32:33,  4.90s/it]"
     ]
    },
    {
     "name": "stdout",
     "output_type": "stream",
     "text": [
      "초간단찌개\n"
     ]
    },
    {
     "name": "stderr",
     "output_type": "stream",
     "text": [
      " 62%|█████████████████████████████████████████████████                              | 621/1000 [48:14<29:04,  4.60s/it]"
     ]
    },
    {
     "name": "stdout",
     "output_type": "stream",
     "text": [
      "초간단\n"
     ]
    },
    {
     "name": "stderr",
     "output_type": "stream",
     "text": [
      " 63%|██████████████████████████████████████████████████                             | 633/1000 [49:08<27:45,  4.54s/it]"
     ]
    },
    {
     "name": "stdout",
     "output_type": "stream",
     "text": [
      "차돌박이 차돌박이요리 차돌박이숙주볶음 차돌박이숙주볶음하는법 차돌박이숙주볶음만드는법 차돌박이숙주볶음레시피 차돌박이숙주볶음하는방법 술안주 아침 술안주추천 간단한술안주 소주안주 소주안주추천 차돌박이숙주볶음만드는방법\n"
     ]
    },
    {
     "name": "stderr",
     "output_type": "stream",
     "text": [
      " 64%|██████████████████████████████████████████████████▍                            | 639/1000 [49:36<27:55,  4.64s/it]"
     ]
    },
    {
     "name": "stdout",
     "output_type": "stream",
     "text": [
      "초간단\n"
     ]
    },
    {
     "name": "stderr",
     "output_type": "stream",
     "text": [
      " 64%|██████████████████████████████████████████████████▊                            | 643/1000 [49:54<27:19,  4.59s/it]"
     ]
    },
    {
     "name": "stdout",
     "output_type": "stream",
     "text": [
      "초간단\n"
     ]
    },
    {
     "name": "stderr",
     "output_type": "stream",
     "text": [
      "\r",
      " 64%|██████████████████████████████████████████████████▉                            | 644/1000 [49:59<28:12,  4.75s/it]"
     ]
    },
    {
     "name": "stdout",
     "output_type": "stream",
     "text": [
      "초간단\n"
     ]
    },
    {
     "name": "stderr",
     "output_type": "stream",
     "text": [
      " 65%|███████████████████████████████████████████████████▎                           | 650/1000 [50:27<26:45,  4.59s/it]"
     ]
    },
    {
     "name": "stdout",
     "output_type": "stream",
     "text": [
      "간단한요리\n",
      "간단한레시피\n"
     ]
    },
    {
     "name": "stderr",
     "output_type": "stream",
     "text": [
      " 65%|███████████████████████████████████████████████████▌                           | 653/1000 [50:41<26:42,  4.62s/it]"
     ]
    },
    {
     "name": "stdout",
     "output_type": "stream",
     "text": [
      "초간단\n"
     ]
    },
    {
     "name": "stderr",
     "output_type": "stream",
     "text": [
      " 66%|███████████████████████████████████████████████████▉                           | 657/1000 [50:59<25:41,  4.49s/it]"
     ]
    },
    {
     "name": "stdout",
     "output_type": "stream",
     "text": [
      "간단\n"
     ]
    },
    {
     "name": "stderr",
     "output_type": "stream",
     "text": [
      "\r",
      " 66%|███████████████████████████████████████████████████▉                           | 658/1000 [51:03<25:26,  4.46s/it]"
     ]
    },
    {
     "name": "stdout",
     "output_type": "stream",
     "text": [
      "간단\n"
     ]
    },
    {
     "name": "stderr",
     "output_type": "stream",
     "text": [
      " 66%|████████████████████████████████████████████████████▏                          | 661/1000 [51:17<25:26,  4.50s/it]"
     ]
    },
    {
     "name": "stdout",
     "output_type": "stream",
     "text": [
      "초간단\n"
     ]
    },
    {
     "name": "stderr",
     "output_type": "stream",
     "text": [
      " 67%|████████████████████████████████████████████████████▌                          | 666/1000 [51:41<26:22,  4.74s/it]"
     ]
    },
    {
     "name": "stdout",
     "output_type": "stream",
     "text": [
      "초간단\n"
     ]
    },
    {
     "name": "stderr",
     "output_type": "stream",
     "text": [
      " 67%|████████████████████████████████████████████████████▉                          | 670/1000 [51:59<25:01,  4.55s/it]"
     ]
    },
    {
     "name": "stdout",
     "output_type": "stream",
     "text": [
      "간단\n"
     ]
    },
    {
     "name": "stderr",
     "output_type": "stream",
     "text": [
      " 67%|█████████████████████████████████████████████████████                          | 672/1000 [52:08<24:58,  4.57s/it]"
     ]
    },
    {
     "name": "stdout",
     "output_type": "stream",
     "text": [
      "간단\n"
     ]
    },
    {
     "name": "stderr",
     "output_type": "stream",
     "text": [
      " 67%|█████████████████████████████████████████████████████▏                         | 674/1000 [52:17<24:43,  4.55s/it]"
     ]
    },
    {
     "name": "stdout",
     "output_type": "stream",
     "text": [
      "초간단\n",
      "간단한끼식사\n",
      "쉽고간단\n"
     ]
    },
    {
     "name": "stderr",
     "output_type": "stream",
     "text": [
      " 68%|██████████████████████████████████████████████████████                         | 685/1000 [53:07<23:25,  4.46s/it]"
     ]
    },
    {
     "name": "stdout",
     "output_type": "stream",
     "text": [
      "초간단집들이메뉴\n"
     ]
    },
    {
     "name": "stderr",
     "output_type": "stream",
     "text": [
      " 69%|██████████████████████████████████████████████████████▌                        | 691/1000 [53:34<23:03,  4.48s/it]"
     ]
    },
    {
     "name": "stdout",
     "output_type": "stream",
     "text": [
      "간단한요리\n",
      "간단한규동만들기\n"
     ]
    },
    {
     "name": "stderr",
     "output_type": "stream",
     "text": [
      "\r",
      " 69%|██████████████████████████████████████████████████████▋                        | 692/1000 [53:39<23:01,  4.49s/it]"
     ]
    },
    {
     "name": "stdout",
     "output_type": "stream",
     "text": [
      "자취생요리\n"
     ]
    },
    {
     "name": "stderr",
     "output_type": "stream",
     "text": [
      " 71%|███████████████████████████████████████████████████████▊                       | 707/1000 [54:47<21:26,  4.39s/it]"
     ]
    },
    {
     "name": "stdout",
     "output_type": "stream",
     "text": [
      "초간단\n",
      "간단한저녁요리\n"
     ]
    },
    {
     "name": "stderr",
     "output_type": "stream",
     "text": [
      " 71%|████████████████████████████████████████████████████████▏                      | 712/1000 [55:10<21:30,  4.48s/it]"
     ]
    },
    {
     "name": "stdout",
     "output_type": "stream",
     "text": [
      "초간단\n"
     ]
    },
    {
     "name": "stderr",
     "output_type": "stream",
     "text": [
      " 72%|████████████████████████████████████████████████████████▌                      | 716/1000 [55:29<21:57,  4.64s/it]"
     ]
    },
    {
     "name": "stdout",
     "output_type": "stream",
     "text": [
      "초간단\n"
     ]
    },
    {
     "name": "stderr",
     "output_type": "stream",
     "text": [
      " 72%|████████████████████████████████████████████████████████▉                      | 721/1000 [55:51<21:02,  4.53s/it]"
     ]
    },
    {
     "name": "stdout",
     "output_type": "stream",
     "text": [
      "초간단\n"
     ]
    },
    {
     "name": "stderr",
     "output_type": "stream",
     "text": [
      " 72%|█████████████████████████████████████████████████████████                      | 723/1000 [56:01<21:48,  4.72s/it]"
     ]
    },
    {
     "name": "stdout",
     "output_type": "stream",
     "text": [
      "쉽고간단\n"
     ]
    },
    {
     "name": "stderr",
     "output_type": "stream",
     "text": [
      " 73%|█████████████████████████████████████████████████████████▊                     | 732/1000 [56:45<22:06,  4.95s/it]"
     ]
    },
    {
     "name": "stdout",
     "output_type": "stream",
     "text": [
      "초간단\n"
     ]
    },
    {
     "name": "stderr",
     "output_type": "stream",
     "text": [
      " 74%|██████████████████████████████████████████████████████████▍                    | 739/1000 [57:16<19:44,  4.54s/it]"
     ]
    },
    {
     "name": "stdout",
     "output_type": "stream",
     "text": [
      "간단\n",
      "초간단\n"
     ]
    },
    {
     "name": "stderr",
     "output_type": "stream",
     "text": [
      " 74%|██████████████████████████████████████████████████████████▌                    | 741/1000 [57:25<19:21,  4.49s/it]"
     ]
    },
    {
     "name": "stdout",
     "output_type": "stream",
     "text": [
      "간단요리\n"
     ]
    },
    {
     "name": "stderr",
     "output_type": "stream",
     "text": [
      " 75%|██████████████████████████████████████████████████████████▉                    | 746/1000 [57:48<19:25,  4.59s/it]"
     ]
    },
    {
     "name": "stdout",
     "output_type": "stream",
     "text": [
      "간단한요리\n",
      "간단한국\n"
     ]
    },
    {
     "name": "stderr",
     "output_type": "stream",
     "text": [
      " 75%|███████████████████████████████████████████████████████████▎                   | 750/1000 [58:07<19:07,  4.59s/it]"
     ]
    },
    {
     "name": "stdout",
     "output_type": "stream",
     "text": [
      "간단한요리\n"
     ]
    },
    {
     "name": "stderr",
     "output_type": "stream",
     "text": [
      " 76%|███████████████████████████████████████████████████████████▉                   | 758/1000 [58:43<17:26,  4.32s/it]"
     ]
    },
    {
     "name": "stdout",
     "output_type": "stream",
     "text": [
      "간단한국\n"
     ]
    },
    {
     "name": "stderr",
     "output_type": "stream",
     "text": [
      " 77%|████████████████████████████████████████████████████████████▌                  | 767/1000 [59:23<17:33,  4.52s/it]"
     ]
    },
    {
     "name": "stdout",
     "output_type": "stream",
     "text": [
      "간단한요리\n"
     ]
    },
    {
     "name": "stderr",
     "output_type": "stream",
     "text": [
      " 79%|████████████████████████████████████████████████████████████▋                | 788/1000 [1:00:59<16:04,  4.55s/it]"
     ]
    },
    {
     "name": "stdout",
     "output_type": "stream",
     "text": [
      "초간단\n"
     ]
    },
    {
     "name": "stderr",
     "output_type": "stream",
     "text": [
      "\r",
      " 79%|████████████████████████████████████████████████████████████▊                | 789/1000 [1:01:04<16:07,  4.59s/it]"
     ]
    },
    {
     "name": "stdout",
     "output_type": "stream",
     "text": [
      "초간단미역국\n"
     ]
    },
    {
     "name": "stderr",
     "output_type": "stream",
     "text": [
      " 79%|█████████████████████████████████████████████████████████████▏               | 794/1000 [1:01:27<15:56,  4.64s/it]"
     ]
    },
    {
     "name": "stdout",
     "output_type": "stream",
     "text": [
      "간단\n",
      "초간단\n",
      "간단반찬\n"
     ]
    },
    {
     "name": "stderr",
     "output_type": "stream",
     "text": [
      " 81%|██████████████████████████████████████████████████████████████▎              | 809/1000 [1:02:35<14:45,  4.64s/it]"
     ]
    },
    {
     "name": "stdout",
     "output_type": "stream",
     "text": [
      "초간단\n"
     ]
    },
    {
     "name": "stderr",
     "output_type": "stream",
     "text": [
      " 82%|██████████████████████████████████████████████████████████████▊              | 815/1000 [1:03:03<14:12,  4.61s/it]"
     ]
    },
    {
     "name": "stdout",
     "output_type": "stream",
     "text": [
      "초간단\n"
     ]
    },
    {
     "name": "stderr",
     "output_type": "stream",
     "text": [
      "\r",
      " 82%|██████████████████████████████████████████████████████████████▊              | 816/1000 [1:03:08<13:49,  4.51s/it]"
     ]
    },
    {
     "name": "stdout",
     "output_type": "stream",
     "text": [
      "간단저녁\n"
     ]
    },
    {
     "name": "stderr",
     "output_type": "stream",
     "text": [
      "\r",
      " 82%|██████████████████████████████████████████████████████████████▉              | 817/1000 [1:03:13<14:09,  4.64s/it]"
     ]
    },
    {
     "name": "stdout",
     "output_type": "stream",
     "text": [
      "간단미역국\n"
     ]
    },
    {
     "name": "stderr",
     "output_type": "stream",
     "text": [
      "\r",
      " 82%|██████████████████████████████████████████████████████████████▉              | 818/1000 [1:03:17<14:04,  4.64s/it]"
     ]
    },
    {
     "name": "stdout",
     "output_type": "stream",
     "text": [
      "초간단국레시피\n",
      "초간단국황금레시피\n",
      "초간단미역국\n",
      "초간단미역국레시피\n",
      "초간단미역국황금레시피\n"
     ]
    },
    {
     "name": "stderr",
     "output_type": "stream",
     "text": [
      "\r",
      " 82%|███████████████████████████████████████████████████████████████              | 819/1000 [1:03:22<13:57,  4.62s/it]"
     ]
    },
    {
     "name": "stdout",
     "output_type": "stream",
     "text": [
      "간단\n"
     ]
    },
    {
     "name": "stderr",
     "output_type": "stream",
     "text": [
      " 83%|███████████████████████████████████████████████████████████████▉             | 831/1000 [1:04:16<12:40,  4.50s/it]"
     ]
    },
    {
     "name": "stdout",
     "output_type": "stream",
     "text": [
      "간단찌개\n"
     ]
    },
    {
     "name": "stderr",
     "output_type": "stream",
     "text": [
      "\r",
      " 83%|████████████████████████████████████████████████████████████████             | 832/1000 [1:04:21<12:43,  4.55s/it]"
     ]
    },
    {
     "name": "stdout",
     "output_type": "stream",
     "text": [
      "초간단\n",
      "자취\n"
     ]
    },
    {
     "name": "stderr",
     "output_type": "stream",
     "text": [
      " 85%|█████████████████████████████████████████████████████████████████▋           | 853/1000 [1:05:59<11:06,  4.53s/it]"
     ]
    },
    {
     "name": "stdout",
     "output_type": "stream",
     "text": [
      "초간단요리\n"
     ]
    },
    {
     "name": "stderr",
     "output_type": "stream",
     "text": [
      " 86%|██████████████████████████████████████████████████████████████████▌          | 865/1000 [1:06:56<10:47,  4.79s/it]"
     ]
    },
    {
     "name": "stdout",
     "output_type": "stream",
     "text": [
      "간단한국요리\n"
     ]
    },
    {
     "name": "stderr",
     "output_type": "stream",
     "text": [
      "\r",
      " 87%|██████████████████████████████████████████████████████████████████▋          | 866/1000 [1:07:01<10:46,  4.82s/it]"
     ]
    },
    {
     "name": "stdout",
     "output_type": "stream",
     "text": [
      "간단덮밥\n"
     ]
    },
    {
     "name": "stderr",
     "output_type": "stream",
     "text": [
      " 87%|███████████████████████████████████████████████████████████████████▎         | 874/1000 [1:07:38<09:57,  4.75s/it]"
     ]
    },
    {
     "name": "stdout",
     "output_type": "stream",
     "text": [
      "초간단\n"
     ]
    },
    {
     "name": "stderr",
     "output_type": "stream",
     "text": [
      " 88%|███████████████████████████████████████████████████████████████████▊         | 880/1000 [1:08:07<09:29,  4.74s/it]"
     ]
    },
    {
     "name": "stdout",
     "output_type": "stream",
     "text": [
      "간단한소고기무국\n"
     ]
    },
    {
     "name": "stderr",
     "output_type": "stream",
     "text": [
      " 89%|████████████████████████████████████████████████████████████████████▍        | 889/1000 [1:08:49<08:28,  4.58s/it]"
     ]
    },
    {
     "name": "stdout",
     "output_type": "stream",
     "text": [
      "초간단\n"
     ]
    },
    {
     "name": "stderr",
     "output_type": "stream",
     "text": [
      " 90%|█████████████████████████████████████████████████████████████████████▍       | 902/1000 [1:09:49<07:34,  4.64s/it]"
     ]
    },
    {
     "name": "stdout",
     "output_type": "stream",
     "text": [
      "초간단갈비양념\n",
      "초간단고기양념\n"
     ]
    },
    {
     "name": "stderr",
     "output_type": "stream",
     "text": [
      " 90%|█████████████████████████████████████████████████████████████████████▌       | 904/1000 [1:09:58<07:22,  4.61s/it]"
     ]
    },
    {
     "name": "stdout",
     "output_type": "stream",
     "text": [
      "초간단\n",
      "간단\n"
     ]
    },
    {
     "name": "stderr",
     "output_type": "stream",
     "text": [
      "\r",
      " 90%|█████████████████████████████████████████████████████████████████████▋       | 905/1000 [1:10:03<07:17,  4.61s/it]"
     ]
    },
    {
     "name": "stdout",
     "output_type": "stream",
     "text": [
      "간단식\n"
     ]
    },
    {
     "name": "stderr",
     "output_type": "stream",
     "text": [
      " 91%|█████████████████████████████████████████████████████████████████████▉       | 909/1000 [1:10:21<07:00,  4.62s/it]"
     ]
    },
    {
     "name": "stdout",
     "output_type": "stream",
     "text": [
      "초간단간식\n"
     ]
    },
    {
     "name": "stderr",
     "output_type": "stream",
     "text": [
      " 91%|██████████████████████████████████████████████████████████████████████▍      | 914/1000 [1:10:44<06:29,  4.53s/it]"
     ]
    },
    {
     "name": "stdout",
     "output_type": "stream",
     "text": [
      "초간단\n"
     ]
    },
    {
     "name": "stderr",
     "output_type": "stream",
     "text": [
      " 92%|██████████████████████████████████████████████████████████████████████▋      | 918/1000 [1:11:03<06:25,  4.70s/it]"
     ]
    },
    {
     "name": "stdout",
     "output_type": "stream",
     "text": [
      "초간단\n"
     ]
    },
    {
     "name": "stderr",
     "output_type": "stream",
     "text": [
      " 93%|███████████████████████████████████████████████████████████████████████▌     | 929/1000 [1:11:54<05:18,  4.49s/it]"
     ]
    },
    {
     "name": "stdout",
     "output_type": "stream",
     "text": [
      "간단반찬\n",
      "초간단레시피\n",
      "자취생레시피\n",
      "자취생요리\n",
      "간단국\n"
     ]
    },
    {
     "name": "stderr",
     "output_type": "stream",
     "text": [
      " 94%|████████████████████████████████████████████████████████████████████████▍    | 941/1000 [1:12:49<04:31,  4.60s/it]"
     ]
    },
    {
     "name": "stdout",
     "output_type": "stream",
     "text": [
      "간단\n"
     ]
    },
    {
     "name": "stderr",
     "output_type": "stream",
     "text": [
      " 96%|█████████████████████████████████████████████████████████████████████████▋   | 957/1000 [1:14:03<03:16,  4.58s/it]"
     ]
    },
    {
     "name": "stdout",
     "output_type": "stream",
     "text": [
      "자취요리\n"
     ]
    },
    {
     "name": "stderr",
     "output_type": "stream",
     "text": [
      " 96%|██████████████████████████████████████████████████████████████████████████   | 962/1000 [1:14:26<02:52,  4.55s/it]"
     ]
    },
    {
     "name": "stdout",
     "output_type": "stream",
     "text": [
      "간단한국\n"
     ]
    },
    {
     "name": "stderr",
     "output_type": "stream",
     "text": [
      " 97%|██████████████████████████████████████████████████████████████████████████▌  | 969/1000 [1:14:59<02:23,  4.64s/it]"
     ]
    },
    {
     "name": "stdout",
     "output_type": "stream",
     "text": [
      "초간단\n"
     ]
    },
    {
     "name": "stderr",
     "output_type": "stream",
     "text": [
      "\r",
      " 97%|██████████████████████████████████████████████████████████████████████████▋  | 970/1000 [1:15:03<02:18,  4.63s/it]"
     ]
    },
    {
     "name": "stdout",
     "output_type": "stream",
     "text": [
      "초간단\n"
     ]
    },
    {
     "name": "stderr",
     "output_type": "stream",
     "text": [
      " 98%|███████████████████████████████████████████████████████████████████████████▍ | 980/1000 [1:15:52<01:38,  4.93s/it]"
     ]
    },
    {
     "name": "stdout",
     "output_type": "stream",
     "text": [
      "자취요리\n"
     ]
    },
    {
     "name": "stderr",
     "output_type": "stream",
     "text": [
      " 98%|███████████████████████████████████████████████████████████████████████████▊ | 985/1000 [1:16:15<01:09,  4.63s/it]"
     ]
    },
    {
     "name": "stdout",
     "output_type": "stream",
     "text": [
      "초간단\n",
      "간단메뉴\n"
     ]
    },
    {
     "name": "stderr",
     "output_type": "stream",
     "text": [
      " 99%|████████████████████████████████████████████████████████████████████████████▏| 989/1000 [1:16:33<00:50,  4.61s/it]"
     ]
    },
    {
     "name": "stdout",
     "output_type": "stream",
     "text": [
      "초간단\n"
     ]
    },
    {
     "name": "stderr",
     "output_type": "stream",
     "text": [
      " 99%|████████████████████████████████████████████████████████████████████████████▎| 991/1000 [1:16:43<00:43,  4.79s/it]"
     ]
    },
    {
     "name": "stdout",
     "output_type": "stream",
     "text": [
      "초간단국\n"
     ]
    },
    {
     "name": "stderr",
     "output_type": "stream",
     "text": [
      " 99%|████████████████████████████████████████████████████████████████████████████▍| 993/1000 [1:16:54<00:36,  5.16s/it]"
     ]
    },
    {
     "name": "stdout",
     "output_type": "stream",
     "text": [
      "초간단\n"
     ]
    },
    {
     "name": "stderr",
     "output_type": "stream",
     "text": [
      "100%|████████████████████████████████████████████████████████████████████████████▉| 999/1000 [1:17:27<00:05,  5.50s/it]"
     ]
    },
    {
     "name": "stdout",
     "output_type": "stream",
     "text": [
      "초간단\n"
     ]
    },
    {
     "name": "stderr",
     "output_type": "stream",
     "text": [
      "100%|████████████████████████████████████████████████████████████████████████████| 1000/1000 [1:17:31<00:00,  4.65s/it]\n"
     ]
    }
   ],
   "source": [
    "import re\n",
    "csv_list=[['title','재료','태그','url']]\n",
    "\n",
    "\n",
    "\n",
    "for url_ in tqdm(url_1000개):\n",
    "    \n",
    "    url = url_\n",
    "    req = requests.get(url)\n",
    "    html = req.text\n",
    "    soup = BeautifulSoup(html,'html.parser')\n",
    "    #movies = soup.find(\"div\",attrs={'class':'view2_summary st3'})\n",
    "    try:\n",
    "        ingredient = soup.find(\"div\",attrs={'class':'ready_ingre3'})\n",
    "    except Exception:\n",
    "        pass\n",
    "    browser.quit()\n",
    "    재료=[]\n",
    "    title=soup.find(\"h3\").text\n",
    "    try:\n",
    "        t=ingredient.find_all('a')\n",
    "    \n",
    "        s=soup.find(\"div\", attrs={'class':\"view_tag\"})\n",
    "        tag=[]\n",
    "        for i in s:\n",
    "            tag.append(i.text.replace('#',''))\n",
    "    except Exception:\n",
    "        pass\n",
    "    스위치=0\n",
    "    for i in tag:\n",
    "    \n",
    "        if '자취' in i:\n",
    "            print(i)\n",
    "            스위치=스위치+1\n",
    "        elif '간단' in i:\n",
    "            print(i)\n",
    "            스위치=스위치+1\n",
    "        else:\n",
    "            pass\n",
    "\n",
    "    \n",
    "    if 스위치 >=1:\n",
    "        for i in t:\n",
    "            재료.append(i.text.strip().replace(\"\\n\",\"\").split(\" \")[0])\n",
    "        \n",
    "        하나=[]\n",
    "        \n",
    "        하나.append(title)\n",
    "        하나.append(재료)\n",
    "        하나.append(tag)\n",
    "        하나.append(url)\n",
    "        csv_list.append(하나)\n",
    "    else:\n",
    "        pass"
   ]
  },
  {
   "cell_type": "code",
   "execution_count": 103,
   "metadata": {
    "ExecuteTime": {
     "end_time": "2021-02-08T18:54:46.951157Z",
     "start_time": "2021-02-08T18:54:46.922204Z"
    },
    "lines_to_next_cell": 2
   },
   "outputs": [],
   "source": [
    "import pandas as pd\n",
    "\n",
    "바꾸자=pd.DataFrame(csv_list)\n",
    "바꾸자.to_csv('웹스크래핑_1000개 필터.csv',encoding='utf-8-sig',header=False)\n"
   ]
  },
  {
   "cell_type": "code",
   "execution_count": null,
   "metadata": {
    "ExecuteTime": {
     "end_time": "2021-02-06T08:02:16.106843Z",
     "start_time": "2021-02-06T07:52:27.481Z"
    }
   },
   "outputs": [],
   "source": [
    "from konlpy.tag import *\n",
    "\n",
    "hannanum = Hannanum()\n",
    "kkma = Kkma()\n",
    "komoran = Komoran()\n",
    "#mecab = Mecab()\n",
    "okt = Okt()"
   ]
  },
  {
   "cell_type": "code",
   "execution_count": null,
   "metadata": {
    "ExecuteTime": {
     "end_time": "2021-02-06T07:52:14.259091Z",
     "start_time": "2021-02-06T07:51:47.357Z"
    }
   },
   "outputs": [],
   "source": [
    "hannanum.nouns('차돌박이 참나물 샐러드 , 쉽고 간단하지만 폼나고 맛있다.')"
   ]
  },
  {
   "cell_type": "code",
   "execution_count": null,
   "metadata": {
    "ExecuteTime": {
     "end_time": "2021-02-06T07:52:14.259091Z",
     "start_time": "2021-02-06T07:51:47.632Z"
    }
   },
   "outputs": [],
   "source": [
    "kkma.nouns('차돌박이 참나물 샐러드 , 쉽고 간단하지만 폼나고 맛있다.')"
   ]
  },
  {
   "cell_type": "code",
   "execution_count": null,
   "metadata": {
    "ExecuteTime": {
     "end_time": "2021-02-06T07:52:14.261086Z",
     "start_time": "2021-02-06T07:51:47.918Z"
    }
   },
   "outputs": [],
   "source": [
    "komoran.nouns('차돌박이 참나물 샐러드 , 쉽고 간단하지만 폼나고 맛있다.')"
   ]
  },
  {
   "cell_type": "code",
   "execution_count": null,
   "metadata": {
    "ExecuteTime": {
     "end_time": "2021-02-06T07:52:14.262081Z",
     "start_time": "2021-02-06T07:51:48.897Z"
    }
   },
   "outputs": [],
   "source": [
    "okt.nouns('차돌박이 참나물 샐러드 , 쉽고 간단하지만 폼나고 맛있다.')"
   ]
  },
  {
   "cell_type": "code",
   "execution_count": null,
   "metadata": {
    "ExecuteTime": {
     "end_time": "2021-02-06T07:52:14.263078Z",
     "start_time": "2021-02-06T07:51:49.772Z"
    }
   },
   "outputs": [],
   "source": [
    "from eunjeon import Mecab"
   ]
  },
  {
   "cell_type": "code",
   "execution_count": null,
   "metadata": {
    "ExecuteTime": {
     "end_time": "2021-02-06T07:52:14.265075Z",
     "start_time": "2021-02-06T07:51:49.899Z"
    }
   },
   "outputs": [],
   "source": [
    "tagger=Mecab()"
   ]
  },
  {
   "cell_type": "code",
   "execution_count": 34,
   "metadata": {
    "ExecuteTime": {
     "end_time": "2021-02-06T06:52:56.994998Z",
     "start_time": "2021-02-06T06:52:56.944132Z"
    }
   },
   "outputs": [
    {
     "data": {
      "text/plain": [
       "['차돌박이', '참나물', '샐러드', '폼']"
      ]
     },
     "execution_count": 34,
     "metadata": {},
     "output_type": "execute_result"
    }
   ],
   "source": [
    "tagger.nouns('차돌박이 참나물 샐러드 , 쉽고 간단하지만 폼나고 맛있다.')"
   ]
  },
  {
   "cell_type": "code",
   "execution_count": 111,
   "metadata": {
    "ExecuteTime": {
     "end_time": "2021-02-06T07:35:34.177236Z",
     "start_time": "2021-02-06T07:35:34.173249Z"
    }
   },
   "outputs": [],
   "source": [
    "import requests\n",
    "import json\n",
    "\n",
    "api_key=\"http://api.adams.ai/datamixiApi/tms?query=프랑스의 시골파이 - 아쉬 빠흐멍띠에 -.&lang=kor&analysis=pos&key=5407184264015720799\"\n",
    "\n",
    "#api_key =\"http://svc.saltlux.ai:31781?&key=0857f633-ca21-4b7a-8e7b-873e224ba430&serviceId=01135983394&argument=오늘날씨가 좋네요.\""
   ]
  },
  {
   "cell_type": "code",
   "execution_count": 112,
   "metadata": {
    "ExecuteTime": {
     "end_time": "2021-02-06T07:35:34.757719Z",
     "start_time": "2021-02-06T07:35:34.626037Z"
    }
   },
   "outputs": [],
   "source": [
    "r2  = requests.get(api_key)"
   ]
  },
  {
   "cell_type": "code",
   "execution_count": 113,
   "metadata": {
    "ExecuteTime": {
     "end_time": "2021-02-06T07:35:35.096806Z",
     "start_time": "2021-02-06T07:35:35.087810Z"
    }
   },
   "outputs": [
    {
     "data": {
      "text/plain": [
       "{'request_id': '0',\n",
       " 'return_type': 'tms',\n",
       " 'result': '0',\n",
       " 'return_object': {'text': '프랑스의 시골파이 - 아쉬 빠흐멍띠에 -.',\n",
       "  'sentence': [{'text': '프랑스의 시골파이 - 아쉬 빠흐멍띠에 -.',\n",
       "    'id': -1.0,\n",
       "    'morp': [{'id': 0.0, 'lemma': '프랑스', 'type': 'NNP'},\n",
       "     {'id': 1.0, 'lemma': '의', 'type': 'JKG'},\n",
       "     {'id': 2.0, 'lemma': '시골', 'type': 'NNG'},\n",
       "     {'id': 3.0, 'lemma': '파이', 'type': 'NNG'},\n",
       "     {'id': 4.0, 'lemma': '-', 'type': 'SS'},\n",
       "     {'id': 5.0, 'lemma': '아쉬', 'type': 'NNG'},\n",
       "     {'id': 6.0, 'lemma': '빠흐멍', 'type': 'NNP'},\n",
       "     {'id': 7.0, 'lemma': '띠', 'type': 'NNG'},\n",
       "     {'id': 8.0, 'lemma': '에', 'type': 'JKB'},\n",
       "     {'id': 9.0, 'lemma': '-', 'type': 'SS'},\n",
       "     {'id': 10.0, 'lemma': '.', 'type': 'SF'}],\n",
       "    'word': [{'id': 0.0,\n",
       "      'text': '프랑스의',\n",
       "      'tagged_text': '프랑스/NNP 의/JKG',\n",
       "      'begin': 0.0,\n",
       "      'end': 1.0},\n",
       "     {'id': 1.0,\n",
       "      'text': '시골파이',\n",
       "      'tagged_text': '시골/NNG 파이/NNG',\n",
       "      'begin': 2.0,\n",
       "      'end': 3.0},\n",
       "     {'id': 2.0, 'text': '-', 'tagged_text': '-/SS', 'begin': 4.0, 'end': 4.0},\n",
       "     {'id': 3.0,\n",
       "      'text': '아쉬',\n",
       "      'tagged_text': '아쉬/NNG',\n",
       "      'begin': 5.0,\n",
       "      'end': 5.0},\n",
       "     {'id': 4.0,\n",
       "      'text': '빠흐멍띠에',\n",
       "      'tagged_text': '빠흐멍/NNP 띠/NNG 에/JKB',\n",
       "      'begin': 6.0,\n",
       "      'end': 8.0},\n",
       "     {'id': 5.0,\n",
       "      'text': '-.',\n",
       "      'tagged_text': '-/SS ./SF',\n",
       "      'begin': 9.0,\n",
       "      'end': 10.0}],\n",
       "    'dependency': [],\n",
       "    'ne': []}]},\n",
       " 'result_code': 'success'}"
      ]
     },
     "execution_count": 113,
     "metadata": {},
     "output_type": "execute_result"
    }
   ],
   "source": [
    "r2.json()"
   ]
  },
  {
   "cell_type": "code",
   "execution_count": null,
   "metadata": {},
   "outputs": [],
   "source": []
  }
 ],
 "metadata": {
  "hide_input": false,
  "jupytext": {
   "encoding": "# -*- coding: utf-8 -*-",
   "formats": "ipynb,py:light"
  },
  "kernelspec": {
   "display_name": "Python 3",
   "language": "python",
   "name": "python3"
  },
  "language_info": {
   "codemirror_mode": {
    "name": "ipython",
    "version": 3
   },
   "file_extension": ".py",
   "mimetype": "text/x-python",
   "name": "python",
   "nbconvert_exporter": "python",
   "pygments_lexer": "ipython3",
   "version": "3.7.6"
  }
 },
 "nbformat": 4,
 "nbformat_minor": 4
}
