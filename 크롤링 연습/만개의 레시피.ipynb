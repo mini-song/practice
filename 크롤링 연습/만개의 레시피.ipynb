{
 "cells": [
  {
   "cell_type": "code",
   "execution_count": 1,
   "metadata": {
    "ExecuteTime": {
     "end_time": "2021-02-07T13:32:23.401216Z",
     "start_time": "2021-02-07T13:32:21.418332Z"
    }
   },
   "outputs": [],
   "source": [
    "import requests\n",
    "from bs4 import BeautifulSoup\n",
    "from selenium import webdriver\n",
    "from tqdm import tqdm"
   ]
  },
  {
   "cell_type": "code",
   "execution_count": 2,
   "metadata": {
    "ExecuteTime": {
     "end_time": "2021-02-07T13:32:40.081541Z",
     "start_time": "2021-02-07T13:32:23.408198Z"
    },
    "lines_to_end_of_cell_marker": 2
   },
   "outputs": [],
   "source": [
    "from selenium import webdriver\n",
    "\n",
    "#내부적 설계\n",
    "options = webdriver.ChromeOptions()\n",
    "options.headless = True\n",
    "options.add_argument(\"windows-size=1920*1080\")\n",
    "options.add_argument(\"user-agent=Mozilla/5.0 (Windows NT 10.0; Win64; x64) AppleWebKit/537.36 (KHTML, like Gecko) Chrome/87.0.4280.88 Safari/537.36\")\n",
    "\n",
    "browser = webdriver.Chrome(options=options)\n",
    "browser.maximize_window()\n",
    "url = \"https://www.10000recipe.com/ranking/home_new.html\"\n",
    "browser.get(url)\n",
    "import requests\n",
    "from bs4 import BeautifulSoup\n",
    "soup = BeautifulSoup(browser.page_source,'lxml')\n",
    "#'ImZGtf mpg5gc'\n",
    "movies = soup.find(\"div\",attrs={'class':'view2_summary st3'})\n",
    "title=soup.find(\"h3\").text\n",
    "ingredient = soup.find(\"div\",attrs={'class':'ready_ingre3'})\n",
    "#a=browser.find_element_by_xpath(\"//*[@id='contents_area']/div[2]/h3\")\n",
    "#print(a)\n",
    "browser.quit()"
   ]
  },
  {
   "cell_type": "code",
   "execution_count": 3,
   "metadata": {
    "ExecuteTime": {
     "end_time": "2021-02-07T13:32:40.185218Z",
     "start_time": "2021-02-07T13:32:40.088889Z"
    }
   },
   "outputs": [],
   "source": [
    "number_list=soup.find_all(\"div\",attrs={'class':'common_sp_thumb'})"
   ]
  },
  {
   "cell_type": "code",
   "execution_count": 4,
   "metadata": {
    "ExecuteTime": {
     "end_time": "2021-02-07T13:32:43.709045Z",
     "start_time": "2021-02-07T13:32:43.679032Z"
    }
   },
   "outputs": [
    {
     "data": {
      "text/plain": [
       "100"
      ]
     },
     "execution_count": 4,
     "metadata": {},
     "output_type": "execute_result"
    }
   ],
   "source": [
    "len(number_list)"
   ]
  },
  {
   "cell_type": "code",
   "execution_count": 5,
   "metadata": {
    "ExecuteTime": {
     "end_time": "2021-02-07T13:32:44.253807Z",
     "start_time": "2021-02-07T13:32:44.220710Z"
    }
   },
   "outputs": [
    {
     "data": {
      "text/plain": [
       "[<div class=\"common_sp_thumb\">\n",
       " <a class=\"common_sp_link\" href=\"/recipe/6879533\">\n",
       " <img src=\"https://recipe1.ezmember.co.kr/cache/recipe/2017/11/14/a2d4839b5743d121d4d2b46fdbc9aa5b1_m.jpg\"/>\n",
       " </a>\n",
       " </div>,\n",
       " <div class=\"common_sp_thumb\">\n",
       " <a class=\"common_sp_link\" href=\"/recipe/6845428\">\n",
       " <img src=\"https://recipe1.ezmember.co.kr/cache/recipe/2016/03/27/3b2359adaaaff4853eecfa07a04ac3a71_m.jpg\"/>\n",
       " </a>\n",
       " </div>,\n",
       " <div class=\"common_sp_thumb\">\n",
       " <a class=\"common_sp_link\" href=\"/recipe/6860645\">\n",
       " <img src=\"https://recipe1.ezmember.co.kr/cache/recipe/2016/11/14/445bf0fe47582d12f35db2f8564015fa1_m.jpg\"/>\n",
       " </a>\n",
       " </div>,\n",
       " <div class=\"common_sp_thumb\">\n",
       " <a class=\"common_sp_link\" href=\"/recipe/6943099\">\n",
       " <img src=\"https://recipe1.ezmember.co.kr/cache/recipe/2020/09/29/594c0581499eb51fd2e3f6ee7146d6171_m.jpg\"/>\n",
       " </a>\n",
       " </div>,\n",
       " <div class=\"common_sp_thumb\">\n",
       " <a class=\"common_sp_link\" href=\"/recipe/6894096\">\n",
       " <span class=\"common_vod_label\"><img src=\"https://recipe1.ezmember.co.kr/img/icon_vod.png\"/></span>\n",
       " <img src=\"https://recipe1.ezmember.co.kr/cache/recipe/2018/08/13/3233d427883d15239f297aeeaf1775531_m.jpg\"/>\n",
       " </a>\n",
       " </div>,\n",
       " <div class=\"common_sp_thumb\">\n",
       " <a class=\"common_sp_link\" href=\"/recipe/6884636\">\n",
       " <img src=\"https://recipe1.ezmember.co.kr/cache/recipe/2018/02/27/b5806f01ccb6f6d5d9aa94bdd6f4287e1_m.jpg\"/>\n",
       " </a>\n",
       " </div>,\n",
       " <div class=\"common_sp_thumb\">\n",
       " <a class=\"common_sp_link\" href=\"/recipe/6876357\">\n",
       " <span class=\"common_vod_label\"><img src=\"https://recipe1.ezmember.co.kr/img/icon_vod.png\"/></span>\n",
       " <img src=\"https://recipe1.ezmember.co.kr/cache/recipe/2017/09/12/e082636233ee03a012fc656d428df5971_m.jpg\"/>\n",
       " </a>\n",
       " </div>,\n",
       " <div class=\"common_sp_thumb\">\n",
       " <a class=\"common_sp_link\" href=\"/recipe/6856832\">\n",
       " <img src=\"https://recipe1.ezmember.co.kr/cache/recipe/2016/09/11/8fb729f60e0286586178fdec4e0797631_m.jpg\"/>\n",
       " </a>\n",
       " </div>,\n",
       " <div class=\"common_sp_thumb\">\n",
       " <a class=\"common_sp_link\" href=\"/recipe/6906655\">\n",
       " <span class=\"common_vod_label\"><img src=\"https://recipe1.ezmember.co.kr/img/icon_vod.png\"/></span>\n",
       " <img src=\"https://recipe1.ezmember.co.kr/cache/recipe/2019/02/15/51440490a12476fc20860f3e9bde29781_m.jpg\"/>\n",
       " </a>\n",
       " </div>,\n",
       " <div class=\"common_sp_thumb\">\n",
       " <a class=\"common_sp_link\" href=\"/recipe/6873683\">\n",
       " <img src=\"https://recipe1.ezmember.co.kr/cache/recipe/2017/07/28/860484b80033e84a3584a366ae903a0d1_m.jpg\"/>\n",
       " </a>\n",
       " </div>,\n",
       " <div class=\"common_sp_thumb\">\n",
       " <a class=\"common_sp_link\" href=\"/recipe/6876505\">\n",
       " <img src=\"https://recipe1.ezmember.co.kr/cache/recipe/2017/09/15/af5ed61b01ce6d0c8ded20d59f0d15e31_m.jpg\"/>\n",
       " </a>\n",
       " </div>,\n",
       " <div class=\"common_sp_thumb\">\n",
       " <a class=\"common_sp_link\" href=\"/recipe/6951500\">\n",
       " <img src=\"https://recipe1.ezmember.co.kr/cache/recipe/2021/01/20/054c5ed109c132f141789443c046884e1_m.jpg\"/>\n",
       " </a>\n",
       " </div>,\n",
       " <div class=\"common_sp_thumb\">\n",
       " <a class=\"common_sp_link\" href=\"/recipe/6881450\">\n",
       " <img src=\"https://recipe1.ezmember.co.kr/cache/recipe/2017/12/28/2ae16d56729371528da4a84b2afdb2f01_m.jpg\"/>\n",
       " </a>\n",
       " </div>,\n",
       " <div class=\"common_sp_thumb\">\n",
       " <a class=\"common_sp_link\" href=\"/recipe/6879215\">\n",
       " <img src=\"https://recipe1.ezmember.co.kr/cache/recipe/2017/11/07/ca8c24608189aaf9d376f14b3f3be57c1_m.jpg\"/>\n",
       " </a>\n",
       " </div>,\n",
       " <div class=\"common_sp_thumb\">\n",
       " <a class=\"common_sp_link\" href=\"/recipe/6951398\">\n",
       " <img src=\"https://recipe1.ezmember.co.kr/cache/recipe/2021/01/18/551b6ec9a947ae59613a6be298c47b751_m.jpg\"/>\n",
       " </a>\n",
       " </div>,\n",
       " <div class=\"common_sp_thumb\">\n",
       " <a class=\"common_sp_link\" href=\"/recipe/6880798\">\n",
       " <img src=\"https://recipe1.ezmember.co.kr/cache/recipe/2017/12/11/8abb7bc5ceede607442029340e1b72011_m.jpg\"/>\n",
       " </a>\n",
       " </div>,\n",
       " <div class=\"common_sp_thumb\">\n",
       " <a class=\"common_sp_link\" href=\"/recipe/6951685\">\n",
       " <img src=\"https://recipe1.ezmember.co.kr/cache/recipe/2021/01/21/ba5d0a22d779ef416892c7694da19a411_m.jpg\"/>\n",
       " </a>\n",
       " </div>,\n",
       " <div class=\"common_sp_thumb\">\n",
       " <a class=\"common_sp_link\" href=\"/recipe/6943514\">\n",
       " <img src=\"https://recipe1.ezmember.co.kr/cache/recipe/2020/10/06/1725c40d6c3d6369cc5b7f25a3ce43ed1_m.jpg\"/>\n",
       " </a>\n",
       " </div>,\n",
       " <div class=\"common_sp_thumb\">\n",
       " <a class=\"common_sp_link\" href=\"/recipe/6841008\">\n",
       " <img src=\"https://recipe1.ezmember.co.kr/cache/recipe/2016/01/03/2719de5f7ea19aceb5b859d36b853b481_m.jpg\"/>\n",
       " </a>\n",
       " </div>,\n",
       " <div class=\"common_sp_thumb\">\n",
       " <a class=\"common_sp_link\" href=\"/recipe/6836180\">\n",
       " <img src=\"https://recipe1.ezmember.co.kr/cache/recipe/2015/10/14/434379c503e37e6964324965a79d3a101_m.jpg\"/>\n",
       " </a>\n",
       " </div>,\n",
       " <div class=\"common_sp_thumb\">\n",
       " <a class=\"common_sp_link\" href=\"/recipe/6868654\">\n",
       " <img src=\"https://recipe1.ezmember.co.kr/cache/recipe/2017/04/19/2489603f3f2b36c8b1aaa9cb8fc5f5d11_m.jpg\"/>\n",
       " </a>\n",
       " </div>,\n",
       " <div class=\"common_sp_thumb\">\n",
       " <a class=\"common_sp_link\" href=\"/recipe/6951246\">\n",
       " <img src=\"https://recipe1.ezmember.co.kr/cache/recipe/2021/01/17/426d840f42d9b59c8b0b4e7706531fe71_m.jpg\"/>\n",
       " </a>\n",
       " </div>,\n",
       " <div class=\"common_sp_thumb\">\n",
       " <a class=\"common_sp_link\" href=\"/recipe/6950631\">\n",
       " <img src=\"https://recipe1.ezmember.co.kr/cache/recipe/2021/01/11/55c141605edc7676f08f75f8860976fc1_m.jpg\"/>\n",
       " </a>\n",
       " </div>,\n",
       " <div class=\"common_sp_thumb\">\n",
       " <a class=\"common_sp_link\" href=\"/recipe/6950491\">\n",
       " <img src=\"https://recipe1.ezmember.co.kr/cache/recipe/2021/01/09/b8c2f20c129b4759c54710cceac0807b1_m.jpg\"/>\n",
       " </a>\n",
       " </div>,\n",
       " <div class=\"common_sp_thumb\">\n",
       " <a class=\"common_sp_link\" href=\"/recipe/6950067\">\n",
       " <img src=\"https://recipe1.ezmember.co.kr/cache/recipe/2021/01/04/5fdfe5aab4d67b5f8e487894f2d4b27c1_m.jpg\"/>\n",
       " </a>\n",
       " </div>,\n",
       " <div class=\"common_sp_thumb\">\n",
       " <a class=\"common_sp_link\" href=\"/recipe/6951275\">\n",
       " <img src=\"https://recipe1.ezmember.co.kr/cache/recipe/2021/01/17/8400ddff0a0a875dfdd9244bbb5051221_m.jpg\"/>\n",
       " </a>\n",
       " </div>,\n",
       " <div class=\"common_sp_thumb\">\n",
       " <a class=\"common_sp_link\" href=\"/recipe/6950530\">\n",
       " <img src=\"https://recipe1.ezmember.co.kr/cache/recipe/2021/01/10/66ea2fbb764568d9ae5fdc4276c697bd1_m.jpg\"/>\n",
       " </a>\n",
       " </div>,\n",
       " <div class=\"common_sp_thumb\">\n",
       " <a class=\"common_sp_link\" href=\"/recipe/6945137\">\n",
       " <img src=\"https://recipe1.ezmember.co.kr/cache/recipe/2020/10/27/475b8186d05895a84dfc31c9b4e3f5751_m.jpg\"/>\n",
       " </a>\n",
       " </div>,\n",
       " <div class=\"common_sp_thumb\">\n",
       " <a class=\"common_sp_link\" href=\"/recipe/6862570\">\n",
       " <span class=\"common_vod_label\"><img src=\"https://recipe1.ezmember.co.kr/img/icon_vod.png\"/></span>\n",
       " <img src=\"https://recipe1.ezmember.co.kr/cache/recipe/2016/12/13/0f12719bc6d713fd727d5f1cd65ad6141_m.jpg\"/>\n",
       " </a>\n",
       " </div>,\n",
       " <div class=\"common_sp_thumb\">\n",
       " <a class=\"common_sp_link\" href=\"/recipe/6951880\">\n",
       " <img src=\"https://recipe1.ezmember.co.kr/cache/recipe/2021/01/23/219da57d365a37ae020693b67deb122d1_m.jpg\"/>\n",
       " </a>\n",
       " </div>,\n",
       " <div class=\"common_sp_thumb\">\n",
       " <a class=\"common_sp_link\" href=\"/recipe/6858080\">\n",
       " <img src=\"https://recipe1.ezmember.co.kr/cache/recipe/2016/10/07/f43063e718c49d85ddce4880e4a41fcd1_m.jpg\"/>\n",
       " </a>\n",
       " </div>,\n",
       " <div class=\"common_sp_thumb\">\n",
       " <a class=\"common_sp_link\" href=\"/recipe/6902227\">\n",
       " <img src=\"https://recipe1.ezmember.co.kr/cache/recipe/2018/12/14/9827f3c6519cff324cba4a8b3b3b93521_m.jpg\"/>\n",
       " </a>\n",
       " </div>,\n",
       " <div class=\"common_sp_thumb\">\n",
       " <a class=\"common_sp_link\" href=\"/recipe/6912220\">\n",
       " <span class=\"common_vod_label\"><img src=\"https://recipe1.ezmember.co.kr/img/icon_vod.png\"/></span>\n",
       " <img src=\"https://recipe1.ezmember.co.kr/cache/recipe/2019/08/07/8683a91920e8857cc7aba8fd79da46a91_m.jpg\"/>\n",
       " </a>\n",
       " </div>,\n",
       " <div class=\"common_sp_thumb\">\n",
       " <a class=\"common_sp_link\" href=\"/recipe/6883937\">\n",
       " <img src=\"https://recipe1.ezmember.co.kr/cache/recipe/2018/02/13/e0649f3f0b446f39c9a7bdff70d953691_m.jpg\"/>\n",
       " </a>\n",
       " </div>,\n",
       " <div class=\"common_sp_thumb\">\n",
       " <a class=\"common_sp_link\" href=\"/recipe/6905196\">\n",
       " <span class=\"common_vod_label\"><img src=\"https://recipe1.ezmember.co.kr/img/icon_vod.png\"/></span>\n",
       " <img src=\"https://recipe1.ezmember.co.kr/cache/recipe/2019/01/25/8bed3206ef470a0d7d23d565564805261_m.jpg\"/>\n",
       " </a>\n",
       " </div>,\n",
       " <div class=\"common_sp_thumb\">\n",
       " <a class=\"common_sp_link\" href=\"/recipe/6951972\">\n",
       " <img src=\"https://recipe1.ezmember.co.kr/cache/recipe/2021/01/25/8f854459d827d9df5437ffec50e25b991_m.jpg\"/>\n",
       " </a>\n",
       " </div>,\n",
       " <div class=\"common_sp_thumb\">\n",
       " <a class=\"common_sp_link\" href=\"/recipe/6952300\">\n",
       " <span class=\"common_vod_label\"><img src=\"https://recipe1.ezmember.co.kr/img/icon_vod.png\"/></span>\n",
       " <img src=\"https://recipe1.ezmember.co.kr/cache/recipe/2021/01/29/310c00fe2d20ce0649fd511bd9e20f7a1_m.jpg\"/>\n",
       " </a>\n",
       " </div>,\n",
       " <div class=\"common_sp_thumb\">\n",
       " <a class=\"common_sp_link\" href=\"/recipe/6884469\">\n",
       " <img src=\"https://recipe1.ezmember.co.kr/cache/recipe/2018/02/24/848abbd00bb9dbdea1aa4e02848706f51_m.jpg\"/>\n",
       " </a>\n",
       " </div>,\n",
       " <div class=\"common_sp_thumb\">\n",
       " <a class=\"common_sp_link\" href=\"/recipe/6903507\">\n",
       " <img src=\"https://recipe1.ezmember.co.kr/cache/recipe/2019/01/04/518d5bf35102aa51bf58078f7a25dc751_m.jpg\"/>\n",
       " </a>\n",
       " </div>,\n",
       " <div class=\"common_sp_thumb\">\n",
       " <a class=\"common_sp_link\" href=\"/recipe/6850116\">\n",
       " <img src=\"https://recipe1.ezmember.co.kr/cache/recipe/2016/05/29/2a170363760225a934d26ff7e94cede31_m.jpg\"/>\n",
       " </a>\n",
       " </div>,\n",
       " <div class=\"common_sp_thumb\">\n",
       " <a class=\"common_sp_link\" href=\"/recipe/6891816\">\n",
       " <img src=\"https://recipe1.ezmember.co.kr/cache/recipe/2018/07/02/760e92406112f6a0ad98d84844cbfc7e1_m.jpg\"/>\n",
       " </a>\n",
       " </div>,\n",
       " <div class=\"common_sp_thumb\">\n",
       " <a class=\"common_sp_link\" href=\"/recipe/6926400\">\n",
       " <img src=\"https://recipe1.ezmember.co.kr/cache/recipe/2020/02/11/488104b838a3260d610b7265c89dc5fd1_m.jpg\"/>\n",
       " </a>\n",
       " </div>,\n",
       " <div class=\"common_sp_thumb\">\n",
       " <a class=\"common_sp_link\" href=\"/recipe/6878686\">\n",
       " <img src=\"https://recipe1.ezmember.co.kr/cache/recipe/2017/10/27/7c68be25436044ca0fbd5b61783636ab1_m.jpg\"/>\n",
       " </a>\n",
       " </div>,\n",
       " <div class=\"common_sp_thumb\">\n",
       " <a class=\"common_sp_link\" href=\"/recipe/6950788\">\n",
       " <img src=\"https://recipe1.ezmember.co.kr/cache/recipe/2021/01/12/a88d467171ca755355402e17d222f9541_m.jpg\"/>\n",
       " </a>\n",
       " </div>,\n",
       " <div class=\"common_sp_thumb\">\n",
       " <a class=\"common_sp_link\" href=\"/recipe/6867565\">\n",
       " <img src=\"https://recipe1.ezmember.co.kr/cache/recipe/2017/03/28/61fdd74be6ba26d779a90b2777c66f4a1_m.jpg\"/>\n",
       " </a>\n",
       " </div>,\n",
       " <div class=\"common_sp_thumb\">\n",
       " <a class=\"common_sp_link\" href=\"/recipe/6949954\">\n",
       " <img src=\"https://recipe1.ezmember.co.kr/cache/recipe/2021/01/03/23788196a1f0e2ae72e674d8238bf54b1_m.jpg\"/>\n",
       " </a>\n",
       " </div>,\n",
       " <div class=\"common_sp_thumb\">\n",
       " <a class=\"common_sp_link\" href=\"/recipe/6873935\">\n",
       " <img src=\"https://recipe1.ezmember.co.kr/cache/recipe/2017/08/02/85d454a30f1eed0592d7684d9bd4e1c91_m.jpg\"/>\n",
       " </a>\n",
       " </div>,\n",
       " <div class=\"common_sp_thumb\">\n",
       " <a class=\"common_sp_link\" href=\"/recipe/6859263\">\n",
       " <img src=\"https://recipe1.ezmember.co.kr/cache/recipe/2016/10/27/462f2e2c70a260e044c4450bc18e6f651_m.jpg\"/>\n",
       " </a>\n",
       " </div>,\n",
       " <div class=\"common_sp_thumb\">\n",
       " <a class=\"common_sp_link\" href=\"/recipe/6885928\">\n",
       " <img src=\"https://recipe1.ezmember.co.kr/cache/recipe/2018/03/22/599723cfecc8d9dd610aabadcbf6f3a71_m.jpg\"/>\n",
       " </a>\n",
       " </div>,\n",
       " <div class=\"common_sp_thumb\">\n",
       " <a class=\"common_sp_link\" href=\"/recipe/6886559\">\n",
       " <img src=\"https://recipe1.ezmember.co.kr/cache/recipe/2018/04/02/1a3b68d046470bee7bb52c3cced16ad01_m.jpg\"/>\n",
       " </a>\n",
       " </div>,\n",
       " <div class=\"common_sp_thumb\">\n",
       " <a class=\"common_sp_link\" href=\"/recipe/6869868\">\n",
       " <img src=\"https://recipe1.ezmember.co.kr/cache/recipe/2017/05/16/b00ed308bc14c97906af7865a371ac1d1_m.jpg\"/>\n",
       " </a>\n",
       " </div>,\n",
       " <div class=\"common_sp_thumb\">\n",
       " <a class=\"common_sp_link\" href=\"/recipe/6952350\">\n",
       " <img src=\"https://recipe1.ezmember.co.kr/cache/recipe/2021/01/30/4aa90a3c1c45a243cdfca4db02bf824d1_m.jpg\"/>\n",
       " </a>\n",
       " </div>,\n",
       " <div class=\"common_sp_thumb\">\n",
       " <a class=\"common_sp_link\" href=\"/recipe/6951679\">\n",
       " <img src=\"https://recipe1.ezmember.co.kr/cache/recipe/2021/01/21/9810cfe3007b35eddcf58747765db4121_m.jpg\"/>\n",
       " </a>\n",
       " </div>,\n",
       " <div class=\"common_sp_thumb\">\n",
       " <a class=\"common_sp_link\" href=\"/recipe/6883996\">\n",
       " <img src=\"https://recipe1.ezmember.co.kr/cache/recipe/2018/02/12/472ae40f138cd4cf0ded13171fbf0e0a1_m.jpg\"/>\n",
       " </a>\n",
       " </div>,\n",
       " <div class=\"common_sp_thumb\">\n",
       " <a class=\"common_sp_link\" href=\"/recipe/6867256\">\n",
       " <img src=\"https://recipe1.ezmember.co.kr/cache/recipe/2017/03/22/93dd58483544283879abe07cb3ca75961_m.jpg\"/>\n",
       " </a>\n",
       " </div>,\n",
       " <div class=\"common_sp_thumb\">\n",
       " <a class=\"common_sp_link\" href=\"/recipe/6845113\">\n",
       " <img src=\"https://recipe1.ezmember.co.kr/cache/recipe/2016/03/22/34653c3f0b81699d266dcfc1418365c01_m.jpg\"/>\n",
       " </a>\n",
       " </div>,\n",
       " <div class=\"common_sp_thumb\">\n",
       " <a class=\"common_sp_link\" href=\"/recipe/6951123\">\n",
       " <img src=\"https://recipe1.ezmember.co.kr/cache/recipe/2021/01/15/5e4fbce723cce0c1a2a742b88857aaf21_m.jpg\"/>\n",
       " </a>\n",
       " </div>,\n",
       " <div class=\"common_sp_thumb\">\n",
       " <a class=\"common_sp_link\" href=\"/recipe/6950438\">\n",
       " <img src=\"https://recipe1.ezmember.co.kr/cache/recipe/2021/01/08/987a1e49c6ef20380bc2ae60ab61fc231_m.jpg\"/>\n",
       " </a>\n",
       " </div>,\n",
       " <div class=\"common_sp_thumb\">\n",
       " <a class=\"common_sp_link\" href=\"/recipe/6938469\">\n",
       " <img src=\"https://recipe1.ezmember.co.kr/cache/recipe/2020/08/05/5017f5e9ff435dff6f71fc0ee5efd99a1_m.jpg\"/>\n",
       " </a>\n",
       " </div>,\n",
       " <div class=\"common_sp_thumb\">\n",
       " <a class=\"common_sp_link\" href=\"/recipe/6882083\">\n",
       " <img src=\"https://recipe1.ezmember.co.kr/cache/recipe/2018/01/10/e8d5ef99176a05174fc355648135ff241_m.jpg\"/>\n",
       " </a>\n",
       " </div>,\n",
       " <div class=\"common_sp_thumb\">\n",
       " <a class=\"common_sp_link\" href=\"/recipe/6864674\">\n",
       " <span class=\"common_vod_label\"><img src=\"https://recipe1.ezmember.co.kr/img/icon_vod.png\"/></span>\n",
       " <img src=\"https://recipe1.ezmember.co.kr/cache/recipe/2017/02/02/82a199e83078f6c5d8c21c93ffcc72841_m.jpg\"/>\n",
       " </a>\n",
       " </div>,\n",
       " <div class=\"common_sp_thumb\">\n",
       " <a class=\"common_sp_link\" href=\"/recipe/6905889\">\n",
       " <img src=\"https://recipe1.ezmember.co.kr/cache/recipe/2019/02/03/b967403fe8c42c5814ea0042207a2c931_m.jpg\"/>\n",
       " </a>\n",
       " </div>,\n",
       " <div class=\"common_sp_thumb\">\n",
       " <a class=\"common_sp_link\" href=\"/recipe/6896908\">\n",
       " <img src=\"https://recipe1.ezmember.co.kr/cache/recipe/2018/10/01/12f2952620a2e96ef3cdb5fef023260d1_m.jpg\"/>\n",
       " </a>\n",
       " </div>,\n",
       " <div class=\"common_sp_thumb\">\n",
       " <a class=\"common_sp_link\" href=\"/recipe/6842257\">\n",
       " <img src=\"https://recipe1.ezmember.co.kr/cache/recipe/2016/01/28/3d80ea535856cd83b9261c564a05ac0a1_m.jpg\"/>\n",
       " </a>\n",
       " </div>,\n",
       " <div class=\"common_sp_thumb\">\n",
       " <a class=\"common_sp_link\" href=\"/recipe/6887815\">\n",
       " <img src=\"https://recipe1.ezmember.co.kr/cache/recipe/2018/04/24/d134b126dc63b239199d0dc0338cd7e91_m.jpg\"/>\n",
       " </a>\n",
       " </div>,\n",
       " <div class=\"common_sp_thumb\">\n",
       " <a class=\"common_sp_link\" href=\"/recipe/6907662\">\n",
       " <img src=\"https://recipe1.ezmember.co.kr/cache/recipe/2019/03/04/dc21117e63f2912d1545f9762321b50a1_m.jpg\"/>\n",
       " </a>\n",
       " </div>,\n",
       " <div class=\"common_sp_thumb\">\n",
       " <a class=\"common_sp_link\" href=\"/recipe/6883026\">\n",
       " <img src=\"https://recipe1.ezmember.co.kr/cache/recipe/2018/01/29/c84c408cd7588b7b2d6a12d031a3bc981_m.jpg\"/>\n",
       " </a>\n",
       " </div>,\n",
       " <div class=\"common_sp_thumb\">\n",
       " <a class=\"common_sp_link\" href=\"/recipe/6889570\">\n",
       " <img src=\"https://recipe1.ezmember.co.kr/cache/recipe/2018/05/25/53402adf0a5eb2b854649925343219481_m.jpg\"/>\n",
       " </a>\n",
       " </div>,\n",
       " <div class=\"common_sp_thumb\">\n",
       " <a class=\"common_sp_link\" href=\"/recipe/6900758\">\n",
       " <span class=\"common_vod_label\"><img src=\"https://recipe1.ezmember.co.kr/img/icon_vod.png\"/></span>\n",
       " <img src=\"https://recipe1.ezmember.co.kr/cache/recipe/2018/11/25/5fb737d16f7e7e560ab81c53892cb3701_m.jpg\"/>\n",
       " </a>\n",
       " </div>,\n",
       " <div class=\"common_sp_thumb\">\n",
       " <a class=\"common_sp_link\" href=\"/recipe/6887142\">\n",
       " <img src=\"https://recipe1.ezmember.co.kr/cache/recipe/2018/04/12/2076df59d8069db371742e6c146118db1_m.jpg\"/>\n",
       " </a>\n",
       " </div>,\n",
       " <div class=\"common_sp_thumb\">\n",
       " <a class=\"common_sp_link\" href=\"/recipe/6944530\">\n",
       " <img src=\"https://recipe1.ezmember.co.kr/cache/recipe/2020/10/19/921ce315cb3450f4c83892b2b9d71b7a1_m.jpg\"/>\n",
       " </a>\n",
       " </div>,\n",
       " <div class=\"common_sp_thumb\">\n",
       " <a class=\"common_sp_link\" href=\"/recipe/6923068\">\n",
       " <span class=\"common_vod_label\"><img src=\"https://recipe1.ezmember.co.kr/img/icon_vod.png\"/></span>\n",
       " <img src=\"https://recipe1.ezmember.co.kr/cache/recipe/2021/01/22/f0bf8a6d9f81e19e1544830c96261cdc1_m.jpg\"/>\n",
       " </a>\n",
       " </div>,\n",
       " <div class=\"common_sp_thumb\">\n",
       " <a class=\"common_sp_link\" href=\"/recipe/6854112\">\n",
       " <img src=\"https://recipe1.ezmember.co.kr/cache/recipe/2016/08/05/0280a7fa852f26a8feb91e533f1b87d31_m.jpg\"/>\n",
       " </a>\n",
       " </div>,\n",
       " <div class=\"common_sp_thumb\">\n",
       " <a class=\"common_sp_link\" href=\"/recipe/6874555\">\n",
       " <img src=\"https://recipe1.ezmember.co.kr/cache/recipe/2017/08/11/2d5ee6084bd391ace8ef0dd33a2fa5cf1_m.jpg\"/>\n",
       " </a>\n",
       " </div>,\n",
       " <div class=\"common_sp_thumb\">\n",
       " <a class=\"common_sp_link\" href=\"/recipe/6872490\">\n",
       " <img src=\"https://recipe1.ezmember.co.kr/cache/recipe/2017/07/10/84e2583c803cc53868b226685fed24501_m.jpg\"/>\n",
       " </a>\n",
       " </div>,\n",
       " <div class=\"common_sp_thumb\">\n",
       " <a class=\"common_sp_link\" href=\"/recipe/6869524\">\n",
       " <img src=\"https://recipe1.ezmember.co.kr/cache/recipe/2017/05/09/417fbcd204e6580f7d470ae426a919281_m.jpg\"/>\n",
       " </a>\n",
       " </div>,\n",
       " <div class=\"common_sp_thumb\">\n",
       " <a class=\"common_sp_link\" href=\"/recipe/6885164\">\n",
       " <img src=\"https://recipe1.ezmember.co.kr/cache/recipe/2018/03/06/10840a0bdd341c2312518460e78151ee1_m.jpg\"/>\n",
       " </a>\n",
       " </div>,\n",
       " <div class=\"common_sp_thumb\">\n",
       " <a class=\"common_sp_link\" href=\"/recipe/6851683\">\n",
       " <span class=\"common_vod_label\"><img src=\"https://recipe1.ezmember.co.kr/img/icon_vod.png\"/></span>\n",
       " <img src=\"https://recipe1.ezmember.co.kr/cache/recipe/2016/06/27/d321ac09144d01034618570a6c6c10601_m.jpg\"/>\n",
       " </a>\n",
       " </div>,\n",
       " <div class=\"common_sp_thumb\">\n",
       " <a class=\"common_sp_link\" href=\"/recipe/6952083\">\n",
       " <img src=\"https://recipe1.ezmember.co.kr/cache/recipe/2021/01/26/973dadcd8766530ff6bbb1afff5a25831_m.jpg\"/>\n",
       " </a>\n",
       " </div>,\n",
       " <div class=\"common_sp_thumb\">\n",
       " <a class=\"common_sp_link\" href=\"/recipe/6840027\">\n",
       " <img src=\"https://recipe1.ezmember.co.kr/cache/recipe/2015/12/15/8c5985330bbbd967a694b4a994063df61_m.jpg\"/>\n",
       " </a>\n",
       " </div>,\n",
       " <div class=\"common_sp_thumb\">\n",
       " <a class=\"common_sp_link\" href=\"/recipe/6951200\">\n",
       " <img src=\"https://recipe1.ezmember.co.kr/cache/recipe/2021/01/16/cb2f1dec55fd879228d0891bdc7d61051_m.jpg\"/>\n",
       " </a>\n",
       " </div>,\n",
       " <div class=\"common_sp_thumb\">\n",
       " <a class=\"common_sp_link\" href=\"/recipe/6952130\">\n",
       " <img src=\"https://recipe1.ezmember.co.kr/cache/recipe/2021/01/27/3cbcc18da1123ae663e8d7f6eec51da71_m.jpg\"/>\n",
       " </a>\n",
       " </div>,\n",
       " <div class=\"common_sp_thumb\">\n",
       " <a class=\"common_sp_link\" href=\"/recipe/6871892\">\n",
       " <img src=\"https://recipe1.ezmember.co.kr/cache/recipe/2017/06/28/f700b6cfd480b078762c3c38fe874dd01_m.jpg\"/>\n",
       " </a>\n",
       " </div>,\n",
       " <div class=\"common_sp_thumb\">\n",
       " <a class=\"common_sp_link\" href=\"/recipe/6870905\">\n",
       " <img src=\"https://recipe1.ezmember.co.kr/cache/recipe/2017/06/08/3a62fceac5fe753655719a636b9224b91_m.jpg\"/>\n",
       " </a>\n",
       " </div>,\n",
       " <div class=\"common_sp_thumb\">\n",
       " <a class=\"common_sp_link\" href=\"/recipe/6842725\">\n",
       " <img src=\"https://recipe1.ezmember.co.kr/cache/recipe/2016/02/07/ff29528cef91f60ffeaec9818528263a1_m.jpg\"/>\n",
       " </a>\n",
       " </div>,\n",
       " <div class=\"common_sp_thumb\">\n",
       " <a class=\"common_sp_link\" href=\"/recipe/6840689\">\n",
       " <img src=\"https://recipe1.ezmember.co.kr/cache/recipe/2015/12/24/7b10402a82606a5a3de6710c93a110f41_m.jpg\"/>\n",
       " </a>\n",
       " </div>,\n",
       " <div class=\"common_sp_thumb\">\n",
       " <a class=\"common_sp_link\" href=\"/recipe/6877896\">\n",
       " <img src=\"https://recipe1.ezmember.co.kr/cache/recipe/2017/10/14/7804733868375a0baef063db54e8f6651_m.jpg\"/>\n",
       " </a>\n",
       " </div>,\n",
       " <div class=\"common_sp_thumb\">\n",
       " <a class=\"common_sp_link\" href=\"/recipe/6934624\">\n",
       " <img src=\"https://recipe1.ezmember.co.kr/cache/recipe/2020/06/18/0f676d2a6c8259d172f39729513198311_m.jpg\"/>\n",
       " </a>\n",
       " </div>,\n",
       " <div class=\"common_sp_thumb\">\n",
       " <a class=\"common_sp_link\" href=\"/recipe/6851866\">\n",
       " <img src=\"https://recipe1.ezmember.co.kr/cache/recipe/2016/06/30/40f07fd966df8d903a420f99f32d726a1_m.jpg\"/>\n",
       " </a>\n",
       " </div>,\n",
       " <div class=\"common_sp_thumb\">\n",
       " <a class=\"common_sp_link\" href=\"/recipe/6905743\">\n",
       " <img src=\"https://recipe1.ezmember.co.kr/cache/recipe/2019/01/31/e8cab950076b23a80f16dd7858dd514e1_m.jpg\"/>\n",
       " </a>\n",
       " </div>,\n",
       " <div class=\"common_sp_thumb\">\n",
       " <a class=\"common_sp_link\" href=\"/recipe/6904822\">\n",
       " <img src=\"https://recipe1.ezmember.co.kr/cache/recipe/2019/01/20/2e2fb5b6bff6f92142e1b6e702b911a11_m.jpg\"/>\n",
       " </a>\n",
       " </div>,\n",
       " <div class=\"common_sp_thumb\">\n",
       " <a class=\"common_sp_link\" href=\"/recipe/6907411\">\n",
       " <img src=\"https://recipe1.ezmember.co.kr/cache/recipe/2019/02/27/2ad95820ef6275e4be66faebd19046b41_m.jpg\"/>\n",
       " </a>\n",
       " </div>,\n",
       " <div class=\"common_sp_thumb\">\n",
       " <a class=\"common_sp_link\" href=\"/recipe/6895383\">\n",
       " <img src=\"https://recipe1.ezmember.co.kr/cache/recipe/2018/09/06/fd90bc74ddb4580b2dad22c83b42ec6f1_m.jpg\"/>\n",
       " </a>\n",
       " </div>,\n",
       " <div class=\"common_sp_thumb\">\n",
       " <a class=\"common_sp_link\" href=\"/recipe/6905919\">\n",
       " <img src=\"https://recipe1.ezmember.co.kr/cache/recipe/2019/02/04/b916939903669b3a6bce00e69794ef141_m.jpg\"/>\n",
       " </a>\n",
       " </div>,\n",
       " <div class=\"common_sp_thumb\">\n",
       " <a class=\"common_sp_link\" href=\"/recipe/6907500\">\n",
       " <img src=\"https://recipe1.ezmember.co.kr/cache/recipe/2019/02/28/91543ed53326c08c4384ad0ad751eef01_m.jpg\"/>\n",
       " </a>\n",
       " </div>,\n",
       " <div class=\"common_sp_thumb\">\n",
       " <a class=\"common_sp_link\" href=\"/recipe/6951969\">\n",
       " <img src=\"https://recipe1.ezmember.co.kr/cache/recipe/2021/01/25/d6d02384f089d8b15d9cecc73c8685d61_m.jpg\"/>\n",
       " </a>\n",
       " </div>,\n",
       " <div class=\"common_sp_thumb\">\n",
       " <a class=\"common_sp_link\" href=\"/recipe/6923378\">\n",
       " <img src=\"https://recipe1.ezmember.co.kr/cache/recipe/2019/12/11/0ec668d41157d26b4e2a852bf04612f91_m.jpg\"/>\n",
       " </a>\n",
       " </div>,\n",
       " <div class=\"common_sp_thumb\">\n",
       " <a class=\"common_sp_link\" href=\"/recipe/6900650\">\n",
       " <img src=\"https://recipe1.ezmember.co.kr/cache/recipe/2018/11/23/b5bf1714b33d66ced31846c141dbbf301_m.JPG\"/>\n",
       " </a>\n",
       " </div>,\n",
       " <div class=\"common_sp_thumb\">\n",
       " <a class=\"common_sp_link\" href=\"/recipe/6871949\">\n",
       " <img src=\"https://recipe1.ezmember.co.kr/cache/recipe/2017/06/29/82da685d18b957e40ba67fef4c2ffa261_m.jpg\"/>\n",
       " </a>\n",
       " </div>,\n",
       " <div class=\"common_sp_thumb\">\n",
       " <a class=\"common_sp_link\" href=\"/recipe/6856290\">\n",
       " <img src=\"https://recipe1.ezmember.co.kr/cache/recipe/2016/09/01/3bee5c5a98e0e013db421a3d660c1f0a1_m.jpg\"/>\n",
       " </a>\n",
       " </div>]"
      ]
     },
     "execution_count": 5,
     "metadata": {},
     "output_type": "execute_result"
    }
   ],
   "source": [
    "number_list"
   ]
  },
  {
   "cell_type": "code",
   "execution_count": 6,
   "metadata": {
    "ExecuteTime": {
     "end_time": "2021-02-07T13:32:44.682572Z",
     "start_time": "2021-02-07T13:32:44.675591Z"
    }
   },
   "outputs": [],
   "source": [
    "ranking_url=[]"
   ]
  },
  {
   "cell_type": "code",
   "execution_count": 7,
   "metadata": {
    "ExecuteTime": {
     "end_time": "2021-02-07T13:32:45.164341Z",
     "start_time": "2021-02-07T13:32:45.138790Z"
    }
   },
   "outputs": [
    {
     "name": "stdout",
     "output_type": "stream",
     "text": [
      "https://www.10000recipe.com/recipe/6879533\n",
      "https://www.10000recipe.com/recipe/6845428\n",
      "https://www.10000recipe.com/recipe/6860645\n",
      "https://www.10000recipe.com/recipe/6943099\n",
      "https://www.10000recipe.com/recipe/6894096\n",
      "https://www.10000recipe.com/recipe/6884636\n",
      "https://www.10000recipe.com/recipe/6876357\n",
      "https://www.10000recipe.com/recipe/6856832\n",
      "https://www.10000recipe.com/recipe/6906655\n",
      "https://www.10000recipe.com/recipe/6873683\n",
      "https://www.10000recipe.com/recipe/6876505\n",
      "https://www.10000recipe.com/recipe/6951500\n",
      "https://www.10000recipe.com/recipe/6881450\n",
      "https://www.10000recipe.com/recipe/6879215\n",
      "https://www.10000recipe.com/recipe/6951398\n",
      "https://www.10000recipe.com/recipe/6880798\n",
      "https://www.10000recipe.com/recipe/6951685\n",
      "https://www.10000recipe.com/recipe/6943514\n",
      "https://www.10000recipe.com/recipe/6841008\n",
      "https://www.10000recipe.com/recipe/6836180\n",
      "https://www.10000recipe.com/recipe/6868654\n",
      "https://www.10000recipe.com/recipe/6951246\n",
      "https://www.10000recipe.com/recipe/6950631\n",
      "https://www.10000recipe.com/recipe/6950491\n",
      "https://www.10000recipe.com/recipe/6950067\n",
      "https://www.10000recipe.com/recipe/6951275\n",
      "https://www.10000recipe.com/recipe/6950530\n",
      "https://www.10000recipe.com/recipe/6945137\n",
      "https://www.10000recipe.com/recipe/6862570\n",
      "https://www.10000recipe.com/recipe/6951880\n",
      "https://www.10000recipe.com/recipe/6858080\n",
      "https://www.10000recipe.com/recipe/6902227\n",
      "https://www.10000recipe.com/recipe/6912220\n",
      "https://www.10000recipe.com/recipe/6883937\n",
      "https://www.10000recipe.com/recipe/6905196\n",
      "https://www.10000recipe.com/recipe/6951972\n",
      "https://www.10000recipe.com/recipe/6952300\n",
      "https://www.10000recipe.com/recipe/6884469\n",
      "https://www.10000recipe.com/recipe/6903507\n",
      "https://www.10000recipe.com/recipe/6850116\n",
      "https://www.10000recipe.com/recipe/6891816\n",
      "https://www.10000recipe.com/recipe/6926400\n",
      "https://www.10000recipe.com/recipe/6878686\n",
      "https://www.10000recipe.com/recipe/6950788\n",
      "https://www.10000recipe.com/recipe/6867565\n",
      "https://www.10000recipe.com/recipe/6949954\n",
      "https://www.10000recipe.com/recipe/6873935\n",
      "https://www.10000recipe.com/recipe/6859263\n",
      "https://www.10000recipe.com/recipe/6885928\n",
      "https://www.10000recipe.com/recipe/6886559\n",
      "https://www.10000recipe.com/recipe/6869868\n",
      "https://www.10000recipe.com/recipe/6952350\n",
      "https://www.10000recipe.com/recipe/6951679\n",
      "https://www.10000recipe.com/recipe/6883996\n",
      "https://www.10000recipe.com/recipe/6867256\n",
      "https://www.10000recipe.com/recipe/6845113\n",
      "https://www.10000recipe.com/recipe/6951123\n",
      "https://www.10000recipe.com/recipe/6950438\n",
      "https://www.10000recipe.com/recipe/6938469\n",
      "https://www.10000recipe.com/recipe/6882083\n",
      "https://www.10000recipe.com/recipe/6864674\n",
      "https://www.10000recipe.com/recipe/6905889\n",
      "https://www.10000recipe.com/recipe/6896908\n",
      "https://www.10000recipe.com/recipe/6842257\n",
      "https://www.10000recipe.com/recipe/6887815\n",
      "https://www.10000recipe.com/recipe/6907662\n",
      "https://www.10000recipe.com/recipe/6883026\n",
      "https://www.10000recipe.com/recipe/6889570\n",
      "https://www.10000recipe.com/recipe/6900758\n",
      "https://www.10000recipe.com/recipe/6887142\n",
      "https://www.10000recipe.com/recipe/6944530\n",
      "https://www.10000recipe.com/recipe/6923068\n",
      "https://www.10000recipe.com/recipe/6854112\n",
      "https://www.10000recipe.com/recipe/6874555\n",
      "https://www.10000recipe.com/recipe/6872490\n",
      "https://www.10000recipe.com/recipe/6869524\n",
      "https://www.10000recipe.com/recipe/6885164\n",
      "https://www.10000recipe.com/recipe/6851683\n",
      "https://www.10000recipe.com/recipe/6952083\n",
      "https://www.10000recipe.com/recipe/6840027\n",
      "https://www.10000recipe.com/recipe/6951200\n",
      "https://www.10000recipe.com/recipe/6952130\n",
      "https://www.10000recipe.com/recipe/6871892\n",
      "https://www.10000recipe.com/recipe/6870905\n",
      "https://www.10000recipe.com/recipe/6842725\n",
      "https://www.10000recipe.com/recipe/6840689\n",
      "https://www.10000recipe.com/recipe/6877896\n",
      "https://www.10000recipe.com/recipe/6934624\n",
      "https://www.10000recipe.com/recipe/6851866\n",
      "https://www.10000recipe.com/recipe/6905743\n",
      "https://www.10000recipe.com/recipe/6904822\n",
      "https://www.10000recipe.com/recipe/6907411\n",
      "https://www.10000recipe.com/recipe/6895383\n",
      "https://www.10000recipe.com/recipe/6905919\n",
      "https://www.10000recipe.com/recipe/6907500\n",
      "https://www.10000recipe.com/recipe/6951969\n",
      "https://www.10000recipe.com/recipe/6923378\n",
      "https://www.10000recipe.com/recipe/6900650\n",
      "https://www.10000recipe.com/recipe/6871949\n",
      "https://www.10000recipe.com/recipe/6856290\n"
     ]
    }
   ],
   "source": [
    "for i in number_list:\n",
    "    print('https://www.10000recipe.com'+i.find('a')['href'])\n",
    "    ranking_url.append('https://www.10000recipe.com'+i.find('a')['href'])"
   ]
  },
  {
   "cell_type": "code",
   "execution_count": 8,
   "metadata": {
    "ExecuteTime": {
     "end_time": "2021-02-07T13:32:45.881470Z",
     "start_time": "2021-02-07T13:32:45.874490Z"
    }
   },
   "outputs": [],
   "source": [
    "csv_list = [['title','재료']]"
   ]
  },
  {
   "cell_type": "code",
   "execution_count": 9,
   "metadata": {
    "ExecuteTime": {
     "end_time": "2021-02-07T13:32:54.611961Z",
     "start_time": "2021-02-07T13:32:46.591342Z"
    },
    "lines_to_next_cell": 2,
    "title": "확실히 ChromDriver 보다 이렇게 진행하는게 속도가 빠르다"
   },
   "outputs": [
    {
     "name": "stderr",
     "output_type": "stream",
     "text": [
      "  1%|▊                                                                                 | 1/100 [00:07<12:13,  7.41s/it]\n"
     ]
    },
    {
     "ename": "KeyboardInterrupt",
     "evalue": "",
     "output_type": "error",
     "traceback": [
      "\u001b[1;31m---------------------------------------------------------------------------\u001b[0m",
      "\u001b[1;31mKeyboardInterrupt\u001b[0m                         Traceback (most recent call last)",
      "\u001b[1;32m<ipython-input-9-c6ae0c0481a8>\u001b[0m in \u001b[0;36m<module>\u001b[1;34m\u001b[0m\n\u001b[0;32m     25\u001b[0m         \u001b[0mreq\u001b[0m \u001b[1;33m=\u001b[0m \u001b[0mrequests\u001b[0m\u001b[1;33m.\u001b[0m\u001b[0mget\u001b[0m\u001b[1;33m(\u001b[0m\u001b[0murl\u001b[0m\u001b[1;33m)\u001b[0m\u001b[1;33m\u001b[0m\u001b[1;33m\u001b[0m\u001b[0m\n\u001b[0;32m     26\u001b[0m         \u001b[0mhtml\u001b[0m \u001b[1;33m=\u001b[0m \u001b[0mreq\u001b[0m\u001b[1;33m.\u001b[0m\u001b[0mtext\u001b[0m\u001b[1;33m\u001b[0m\u001b[1;33m\u001b[0m\u001b[0m\n\u001b[1;32m---> 27\u001b[1;33m         \u001b[0msoup\u001b[0m \u001b[1;33m=\u001b[0m \u001b[0mBeautifulSoup\u001b[0m\u001b[1;33m(\u001b[0m\u001b[0mhtml\u001b[0m\u001b[1;33m,\u001b[0m\u001b[1;34m'html.parser'\u001b[0m\u001b[1;33m)\u001b[0m\u001b[1;33m\u001b[0m\u001b[1;33m\u001b[0m\u001b[0m\n\u001b[0m\u001b[0;32m     28\u001b[0m         \u001b[0mmovies\u001b[0m \u001b[1;33m=\u001b[0m \u001b[0msoup\u001b[0m\u001b[1;33m.\u001b[0m\u001b[0mfind\u001b[0m\u001b[1;33m(\u001b[0m\u001b[1;34m\"div\"\u001b[0m\u001b[1;33m,\u001b[0m\u001b[0mattrs\u001b[0m\u001b[1;33m=\u001b[0m\u001b[1;33m{\u001b[0m\u001b[1;34m'class'\u001b[0m\u001b[1;33m:\u001b[0m\u001b[1;34m'view2_summary st3'\u001b[0m\u001b[1;33m}\u001b[0m\u001b[1;33m)\u001b[0m\u001b[1;33m\u001b[0m\u001b[1;33m\u001b[0m\u001b[0m\n\u001b[0;32m     29\u001b[0m         \u001b[0mingredient\u001b[0m \u001b[1;33m=\u001b[0m \u001b[0msoup\u001b[0m\u001b[1;33m.\u001b[0m\u001b[0mfind\u001b[0m\u001b[1;33m(\u001b[0m\u001b[1;34m\"div\"\u001b[0m\u001b[1;33m,\u001b[0m\u001b[0mattrs\u001b[0m\u001b[1;33m=\u001b[0m\u001b[1;33m{\u001b[0m\u001b[1;34m'class'\u001b[0m\u001b[1;33m:\u001b[0m\u001b[1;34m'ready_ingre3'\u001b[0m\u001b[1;33m}\u001b[0m\u001b[1;33m)\u001b[0m\u001b[1;33m\u001b[0m\u001b[1;33m\u001b[0m\u001b[0m\n",
      "\u001b[1;32mc:\\users\\minisong\\appdata\\local\\programs\\python\\python37\\lib\\site-packages\\bs4\\__init__.py\u001b[0m in \u001b[0;36m__init__\u001b[1;34m(self, markup, features, builder, parse_only, from_encoding, exclude_encodings, element_classes, **kwargs)\u001b[0m\n\u001b[0;32m    346\u001b[0m             \u001b[0mself\u001b[0m\u001b[1;33m.\u001b[0m\u001b[0mreset\u001b[0m\u001b[1;33m(\u001b[0m\u001b[1;33m)\u001b[0m\u001b[1;33m\u001b[0m\u001b[1;33m\u001b[0m\u001b[0m\n\u001b[0;32m    347\u001b[0m             \u001b[1;32mtry\u001b[0m\u001b[1;33m:\u001b[0m\u001b[1;33m\u001b[0m\u001b[1;33m\u001b[0m\u001b[0m\n\u001b[1;32m--> 348\u001b[1;33m                 \u001b[0mself\u001b[0m\u001b[1;33m.\u001b[0m\u001b[0m_feed\u001b[0m\u001b[1;33m(\u001b[0m\u001b[1;33m)\u001b[0m\u001b[1;33m\u001b[0m\u001b[1;33m\u001b[0m\u001b[0m\n\u001b[0m\u001b[0;32m    349\u001b[0m                 \u001b[0msuccess\u001b[0m \u001b[1;33m=\u001b[0m \u001b[1;32mTrue\u001b[0m\u001b[1;33m\u001b[0m\u001b[1;33m\u001b[0m\u001b[0m\n\u001b[0;32m    350\u001b[0m                 \u001b[1;32mbreak\u001b[0m\u001b[1;33m\u001b[0m\u001b[1;33m\u001b[0m\u001b[0m\n",
      "\u001b[1;32mc:\\users\\minisong\\appdata\\local\\programs\\python\\python37\\lib\\site-packages\\bs4\\__init__.py\u001b[0m in \u001b[0;36m_feed\u001b[1;34m(self)\u001b[0m\n\u001b[0;32m    432\u001b[0m         \u001b[0mself\u001b[0m\u001b[1;33m.\u001b[0m\u001b[0mbuilder\u001b[0m\u001b[1;33m.\u001b[0m\u001b[0mreset\u001b[0m\u001b[1;33m(\u001b[0m\u001b[1;33m)\u001b[0m\u001b[1;33m\u001b[0m\u001b[1;33m\u001b[0m\u001b[0m\n\u001b[0;32m    433\u001b[0m \u001b[1;33m\u001b[0m\u001b[0m\n\u001b[1;32m--> 434\u001b[1;33m         \u001b[0mself\u001b[0m\u001b[1;33m.\u001b[0m\u001b[0mbuilder\u001b[0m\u001b[1;33m.\u001b[0m\u001b[0mfeed\u001b[0m\u001b[1;33m(\u001b[0m\u001b[0mself\u001b[0m\u001b[1;33m.\u001b[0m\u001b[0mmarkup\u001b[0m\u001b[1;33m)\u001b[0m\u001b[1;33m\u001b[0m\u001b[1;33m\u001b[0m\u001b[0m\n\u001b[0m\u001b[0;32m    435\u001b[0m         \u001b[1;31m# Close out any unfinished strings and close all the open tags.\u001b[0m\u001b[1;33m\u001b[0m\u001b[1;33m\u001b[0m\u001b[1;33m\u001b[0m\u001b[0m\n\u001b[0;32m    436\u001b[0m         \u001b[0mself\u001b[0m\u001b[1;33m.\u001b[0m\u001b[0mendData\u001b[0m\u001b[1;33m(\u001b[0m\u001b[1;33m)\u001b[0m\u001b[1;33m\u001b[0m\u001b[1;33m\u001b[0m\u001b[0m\n",
      "\u001b[1;32mc:\\users\\minisong\\appdata\\local\\programs\\python\\python37\\lib\\site-packages\\bs4\\builder\\_htmlparser.py\u001b[0m in \u001b[0;36mfeed\u001b[1;34m(self, markup)\u001b[0m\n\u001b[0;32m    375\u001b[0m         \u001b[0mparser\u001b[0m\u001b[1;33m.\u001b[0m\u001b[0msoup\u001b[0m \u001b[1;33m=\u001b[0m \u001b[0mself\u001b[0m\u001b[1;33m.\u001b[0m\u001b[0msoup\u001b[0m\u001b[1;33m\u001b[0m\u001b[1;33m\u001b[0m\u001b[0m\n\u001b[0;32m    376\u001b[0m         \u001b[1;32mtry\u001b[0m\u001b[1;33m:\u001b[0m\u001b[1;33m\u001b[0m\u001b[1;33m\u001b[0m\u001b[0m\n\u001b[1;32m--> 377\u001b[1;33m             \u001b[0mparser\u001b[0m\u001b[1;33m.\u001b[0m\u001b[0mfeed\u001b[0m\u001b[1;33m(\u001b[0m\u001b[0mmarkup\u001b[0m\u001b[1;33m)\u001b[0m\u001b[1;33m\u001b[0m\u001b[1;33m\u001b[0m\u001b[0m\n\u001b[0m\u001b[0;32m    378\u001b[0m             \u001b[0mparser\u001b[0m\u001b[1;33m.\u001b[0m\u001b[0mclose\u001b[0m\u001b[1;33m(\u001b[0m\u001b[1;33m)\u001b[0m\u001b[1;33m\u001b[0m\u001b[1;33m\u001b[0m\u001b[0m\n\u001b[0;32m    379\u001b[0m         \u001b[1;32mexcept\u001b[0m \u001b[0mHTMLParseError\u001b[0m \u001b[1;32mas\u001b[0m \u001b[0me\u001b[0m\u001b[1;33m:\u001b[0m\u001b[1;33m\u001b[0m\u001b[1;33m\u001b[0m\u001b[0m\n",
      "\u001b[1;32mc:\\users\\minisong\\appdata\\local\\programs\\python\\python37\\lib\\html\\parser.py\u001b[0m in \u001b[0;36mfeed\u001b[1;34m(self, data)\u001b[0m\n\u001b[0;32m    109\u001b[0m         \"\"\"\n\u001b[0;32m    110\u001b[0m         \u001b[0mself\u001b[0m\u001b[1;33m.\u001b[0m\u001b[0mrawdata\u001b[0m \u001b[1;33m=\u001b[0m \u001b[0mself\u001b[0m\u001b[1;33m.\u001b[0m\u001b[0mrawdata\u001b[0m \u001b[1;33m+\u001b[0m \u001b[0mdata\u001b[0m\u001b[1;33m\u001b[0m\u001b[1;33m\u001b[0m\u001b[0m\n\u001b[1;32m--> 111\u001b[1;33m         \u001b[0mself\u001b[0m\u001b[1;33m.\u001b[0m\u001b[0mgoahead\u001b[0m\u001b[1;33m(\u001b[0m\u001b[1;36m0\u001b[0m\u001b[1;33m)\u001b[0m\u001b[1;33m\u001b[0m\u001b[1;33m\u001b[0m\u001b[0m\n\u001b[0m\u001b[0;32m    112\u001b[0m \u001b[1;33m\u001b[0m\u001b[0m\n\u001b[0;32m    113\u001b[0m     \u001b[1;32mdef\u001b[0m \u001b[0mclose\u001b[0m\u001b[1;33m(\u001b[0m\u001b[0mself\u001b[0m\u001b[1;33m)\u001b[0m\u001b[1;33m:\u001b[0m\u001b[1;33m\u001b[0m\u001b[1;33m\u001b[0m\u001b[0m\n",
      "\u001b[1;32mc:\\users\\minisong\\appdata\\local\\programs\\python\\python37\\lib\\html\\parser.py\u001b[0m in \u001b[0;36mgoahead\u001b[1;34m(self, end)\u001b[0m\n\u001b[0;32m    197\u001b[0m                     \u001b[1;32melse\u001b[0m\u001b[1;33m:\u001b[0m\u001b[1;33m\u001b[0m\u001b[1;33m\u001b[0m\u001b[0m\n\u001b[0;32m    198\u001b[0m                         \u001b[0mself\u001b[0m\u001b[1;33m.\u001b[0m\u001b[0mhandle_data\u001b[0m\u001b[1;33m(\u001b[0m\u001b[0mrawdata\u001b[0m\u001b[1;33m[\u001b[0m\u001b[0mi\u001b[0m\u001b[1;33m:\u001b[0m\u001b[0mk\u001b[0m\u001b[1;33m]\u001b[0m\u001b[1;33m)\u001b[0m\u001b[1;33m\u001b[0m\u001b[1;33m\u001b[0m\u001b[0m\n\u001b[1;32m--> 199\u001b[1;33m                 \u001b[0mi\u001b[0m \u001b[1;33m=\u001b[0m \u001b[0mself\u001b[0m\u001b[1;33m.\u001b[0m\u001b[0mupdatepos\u001b[0m\u001b[1;33m(\u001b[0m\u001b[0mi\u001b[0m\u001b[1;33m,\u001b[0m \u001b[0mk\u001b[0m\u001b[1;33m)\u001b[0m\u001b[1;33m\u001b[0m\u001b[1;33m\u001b[0m\u001b[0m\n\u001b[0m\u001b[0;32m    200\u001b[0m             \u001b[1;32melif\u001b[0m \u001b[0mstartswith\u001b[0m\u001b[1;33m(\u001b[0m\u001b[1;34m\"&#\"\u001b[0m\u001b[1;33m,\u001b[0m \u001b[0mi\u001b[0m\u001b[1;33m)\u001b[0m\u001b[1;33m:\u001b[0m\u001b[1;33m\u001b[0m\u001b[1;33m\u001b[0m\u001b[0m\n\u001b[0;32m    201\u001b[0m                 \u001b[0mmatch\u001b[0m \u001b[1;33m=\u001b[0m \u001b[0mcharref\u001b[0m\u001b[1;33m.\u001b[0m\u001b[0mmatch\u001b[0m\u001b[1;33m(\u001b[0m\u001b[0mrawdata\u001b[0m\u001b[1;33m,\u001b[0m \u001b[0mi\u001b[0m\u001b[1;33m)\u001b[0m\u001b[1;33m\u001b[0m\u001b[1;33m\u001b[0m\u001b[0m\n",
      "\u001b[1;31mKeyboardInterrupt\u001b[0m: "
     ]
    }
   ],
   "source": [
    "\n",
    "'''\n",
    "url = 'https://www.10000recipe.com/recipe/6899265'\n",
    "req = requests.get(url)\n",
    "html = req.text\n",
    "soup = BeautifulSoup(html,'html.parser')\n",
    "movies = soup.find(\"div\",attrs={'class':'view2_summary st3'})\n",
    "ingredient = soup.find(\"div\",attrs={'class':'ready_ingre3'})\n",
    "browser.quit()\n",
    "재료=[]\n",
    "title=soup.find(\"h3\").text\n",
    "t=ingredient.find_all('a')\n",
    "for i in t:\n",
    "    재료.append(i.text.strip().replace(\" \",\"\").replace(\"\\n\",\" \"))\n",
    "하나=[]\n",
    "하나.append(title)\n",
    "하나.append(재료)\n",
    "csv_list.append(하나)\n",
    "'''\n",
    "\n",
    "\n",
    "\n",
    "for url_ in tqdm(ranking_url):\n",
    "    try:\n",
    "        url = url_\n",
    "        req = requests.get(url)\n",
    "        html = req.text\n",
    "        soup = BeautifulSoup(html,'html.parser')\n",
    "        movies = soup.find(\"div\",attrs={'class':'view2_summary st3'})\n",
    "        ingredient = soup.find(\"div\",attrs={'class':'ready_ingre3'})\n",
    "        browser.quit()\n",
    "        재료=[]\n",
    "        title=soup.find(\"h3\").text\n",
    "        t=ingredient.find_all('a')\n",
    "        for i in t:\n",
    "            재료.append(i.text.strip().replace(\" \",\"\").replace(\"\\n\",\" \"))\n",
    "        하나=[]\n",
    "        하나.append(title)\n",
    "        하나.append(재료)\n",
    "        csv_list.append(하나)\n",
    "    except Exception:\n",
    "        pass\n",
    "\n",
    "csv_list\n",
    "\n",
    "csv_list\n",
    "\n",
    "import pandas as pd\n",
    "\n",
    "바꾸자=pd.DataFrame(csv_list)\n",
    "\n",
    "바꾸자\n",
    "\n",
    "\n",
    "바꾸자.to_csv('웹스크래핑.csv',encoding='utf-8-sig',header=False)\n"
   ]
  },
  {
   "cell_type": "code",
   "execution_count": 10,
   "metadata": {
    "ExecuteTime": {
     "end_time": "2021-02-07T13:33:48.615014Z",
     "start_time": "2021-02-07T13:33:03.616294Z"
    }
   },
   "outputs": [
    {
     "name": "stderr",
     "output_type": "stream",
     "text": [
      " 10%|████████▎                                                                          | 1/10 [00:04<00:39,  4.35s/it]"
     ]
    },
    {
     "name": "stdout",
     "output_type": "stream",
     "text": [
      "40\n"
     ]
    },
    {
     "name": "stderr",
     "output_type": "stream",
     "text": [
      "\r",
      " 20%|████████████████▌                                                                  | 2/10 [00:08<00:35,  4.41s/it]"
     ]
    },
    {
     "name": "stdout",
     "output_type": "stream",
     "text": [
      "80\n"
     ]
    },
    {
     "name": "stderr",
     "output_type": "stream",
     "text": [
      "\r",
      " 30%|████████████████████████▉                                                          | 3/10 [00:13<00:30,  4.43s/it]"
     ]
    },
    {
     "name": "stdout",
     "output_type": "stream",
     "text": [
      "120\n"
     ]
    },
    {
     "name": "stderr",
     "output_type": "stream",
     "text": [
      "\r",
      " 40%|█████████████████████████████████▏                                                 | 4/10 [00:17<00:26,  4.46s/it]"
     ]
    },
    {
     "name": "stdout",
     "output_type": "stream",
     "text": [
      "160\n"
     ]
    },
    {
     "name": "stderr",
     "output_type": "stream",
     "text": [
      "\r",
      " 50%|█████████████████████████████████████████▌                                         | 5/10 [00:22<00:22,  4.51s/it]"
     ]
    },
    {
     "name": "stdout",
     "output_type": "stream",
     "text": [
      "200\n"
     ]
    },
    {
     "name": "stderr",
     "output_type": "stream",
     "text": [
      "\r",
      " 60%|█████████████████████████████████████████████████▊                                 | 6/10 [00:26<00:17,  4.48s/it]"
     ]
    },
    {
     "name": "stdout",
     "output_type": "stream",
     "text": [
      "240\n"
     ]
    },
    {
     "name": "stderr",
     "output_type": "stream",
     "text": [
      "\r",
      " 70%|██████████████████████████████████████████████████████████                         | 7/10 [00:31<00:13,  4.52s/it]"
     ]
    },
    {
     "name": "stdout",
     "output_type": "stream",
     "text": [
      "280\n"
     ]
    },
    {
     "name": "stderr",
     "output_type": "stream",
     "text": [
      "\r",
      " 80%|██████████████████████████████████████████████████████████████████▍                | 8/10 [00:35<00:08,  4.49s/it]"
     ]
    },
    {
     "name": "stdout",
     "output_type": "stream",
     "text": [
      "320\n"
     ]
    },
    {
     "name": "stderr",
     "output_type": "stream",
     "text": [
      "\r",
      " 90%|██████████████████████████████████████████████████████████████████████████▋        | 9/10 [00:40<00:04,  4.50s/it]"
     ]
    },
    {
     "name": "stdout",
     "output_type": "stream",
     "text": [
      "360\n"
     ]
    },
    {
     "name": "stderr",
     "output_type": "stream",
     "text": [
      "100%|██████████████████████████████████████████████████████████████████████████████████| 10/10 [00:44<00:00,  4.50s/it]"
     ]
    },
    {
     "name": "stdout",
     "output_type": "stream",
     "text": [
      "400\n"
     ]
    },
    {
     "name": "stderr",
     "output_type": "stream",
     "text": [
      "\n"
     ]
    }
   ],
   "source": [
    "url_1000개=[]\n",
    "\n",
    "for i in tqdm(range(1,11)):\n",
    "    try:\n",
    "        url = 'https://www.10000recipe.com/recipe/list.html?cat3=70&order=reco&page='+str(i)\n",
    "        req = requests.get(url)\n",
    "        html = req.text\n",
    "        soup = BeautifulSoup(html,'html.parser')\n",
    "        소고기_number_list=soup.find_all(\"div\",attrs={'class':'common_sp_thumb'})\n",
    "        for i in 소고기_number_list:\n",
    "            url_1000개.append('https://www.10000recipe.com' + i.find('a')['href'])\n",
    "        browser.quit()\n",
    "        print(len(url_1000개))\n",
    "    except Exception:\n",
    "        pass"
   ]
  },
  {
   "cell_type": "code",
   "execution_count": 125,
   "metadata": {
    "ExecuteTime": {
     "end_time": "2021-02-06T07:53:10.934668Z",
     "start_time": "2021-02-06T07:53:06.605211Z"
    }
   },
   "outputs": [],
   "source": [
    "url = 'https://www.10000recipe.com/recipe/list.html?cat3=70&order=reco&page=1'\n",
    "req = requests.get(url)\n",
    "html = req.text\n",
    "soup = BeautifulSoup(html,'html.parser')\n",
    "소고기_number_list=soup.find_all(\"div\",attrs={'class':'common_sp_thumb'})\n",
    "\n",
    "browser.quit()"
   ]
  },
  {
   "cell_type": "code",
   "execution_count": 126,
   "metadata": {
    "ExecuteTime": {
     "end_time": "2021-02-06T07:53:10.942649Z",
     "start_time": "2021-02-06T07:53:10.936636Z"
    }
   },
   "outputs": [
    {
     "data": {
      "text/plain": [
       "400"
      ]
     },
     "execution_count": 126,
     "metadata": {},
     "output_type": "execute_result"
    }
   ],
   "source": [
    "len(url_1000개)"
   ]
  },
  {
   "cell_type": "code",
   "execution_count": 127,
   "metadata": {
    "ExecuteTime": {
     "end_time": "2021-02-06T07:53:10.955593Z",
     "start_time": "2021-02-06T07:53:10.946613Z"
    }
   },
   "outputs": [
    {
     "data": {
      "text/plain": [
       "'https://www.10000recipe.com/recipe/6911921'"
      ]
     },
     "execution_count": 127,
     "metadata": {},
     "output_type": "execute_result"
    }
   ],
   "source": [
    "url_1000개[230]"
   ]
  },
  {
   "cell_type": "code",
   "execution_count": 11,
   "metadata": {
    "ExecuteTime": {
     "end_time": "2021-02-07T14:10:37.929343Z",
     "start_time": "2021-02-07T13:34:58.547138Z"
    },
    "lines_to_next_cell": 0
   },
   "outputs": [
    {
     "name": "stderr",
     "output_type": "stream",
     "text": [
      "100%|████████████████████████████████████████████████████████████████████████████████| 400/400 [35:39<00:00,  5.35s/it]\n"
     ]
    }
   ],
   "source": [
    "\n",
    "csv_list=[['url','title','재료','태그']]\n",
    "for url_ in tqdm(url_1000개):\n",
    "    \n",
    "    url = url_\n",
    "    req = requests.get(url)\n",
    "    html = req.text\n",
    "    soup = BeautifulSoup(html,'html.parser')\n",
    "    #movies = soup.find(\"div\",attrs={'class':'view2_summary st3'})\n",
    "    try:\n",
    "        ingredient = soup.find(\"div\",attrs={'class':'ready_ingre3'})\n",
    "    except Exception:\n",
    "        pass\n",
    "    browser.quit()\n",
    "    재료=[]\n",
    "    title=soup.find(\"h3\").text\n",
    "    try:\n",
    "        t=ingredient.find_all('a')\n",
    "    \n",
    "        s=soup.find(\"div\", attrs={'class':\"view_tag\"})\n",
    "        tag=[]\n",
    "        for i in s:\n",
    "            tag.append(i.text.replace('#',''))\n",
    "    except Exception:\n",
    "        pass\n",
    "    for i in t:\n",
    "        재료.append(i.text.strip().replace(\" \",\"\").replace(\"\\n\",\" \"))\n",
    "    하나.append(url)\n",
    "    하나=[]\n",
    "    하나.append(title)\n",
    "    하나.append(재료)\n",
    "    하나.append(tag)\n",
    "    csv_list.append(하나)"
   ]
  },
  {
   "cell_type": "code",
   "execution_count": null,
   "metadata": {
    "ExecuteTime": {
     "end_time": "2021-02-06T08:02:16.105845Z",
     "start_time": "2021-02-06T07:52:27.200Z"
    },
    "lines_to_next_cell": 2
   },
   "outputs": [],
   "source": [
    "import pandas as pd\n",
    "\n",
    "바꾸자=pd.DataFrame(csv_list)\n",
    "바꾸자.to_csv('웹스크래핑_400_2.csv',encoding='utf-8-sig',header=False)\n"
   ]
  },
  {
   "cell_type": "code",
   "execution_count": null,
   "metadata": {
    "ExecuteTime": {
     "end_time": "2021-02-06T08:02:16.106843Z",
     "start_time": "2021-02-06T07:52:27.481Z"
    }
   },
   "outputs": [],
   "source": [
    "from konlpy.tag import *\n",
    "\n",
    "hannanum = Hannanum()\n",
    "kkma = Kkma()\n",
    "komoran = Komoran()\n",
    "#mecab = Mecab()\n",
    "okt = Okt()"
   ]
  },
  {
   "cell_type": "code",
   "execution_count": null,
   "metadata": {
    "ExecuteTime": {
     "end_time": "2021-02-06T07:52:14.259091Z",
     "start_time": "2021-02-06T07:51:47.357Z"
    }
   },
   "outputs": [],
   "source": [
    "hannanum.nouns('차돌박이 참나물 샐러드 , 쉽고 간단하지만 폼나고 맛있다.')"
   ]
  },
  {
   "cell_type": "code",
   "execution_count": null,
   "metadata": {
    "ExecuteTime": {
     "end_time": "2021-02-06T07:52:14.259091Z",
     "start_time": "2021-02-06T07:51:47.632Z"
    }
   },
   "outputs": [],
   "source": [
    "kkma.nouns('차돌박이 참나물 샐러드 , 쉽고 간단하지만 폼나고 맛있다.')"
   ]
  },
  {
   "cell_type": "code",
   "execution_count": null,
   "metadata": {
    "ExecuteTime": {
     "end_time": "2021-02-06T07:52:14.261086Z",
     "start_time": "2021-02-06T07:51:47.918Z"
    }
   },
   "outputs": [],
   "source": [
    "komoran.nouns('차돌박이 참나물 샐러드 , 쉽고 간단하지만 폼나고 맛있다.')"
   ]
  },
  {
   "cell_type": "code",
   "execution_count": null,
   "metadata": {
    "ExecuteTime": {
     "end_time": "2021-02-06T07:52:14.262081Z",
     "start_time": "2021-02-06T07:51:48.897Z"
    }
   },
   "outputs": [],
   "source": [
    "okt.nouns('차돌박이 참나물 샐러드 , 쉽고 간단하지만 폼나고 맛있다.')"
   ]
  },
  {
   "cell_type": "code",
   "execution_count": null,
   "metadata": {
    "ExecuteTime": {
     "end_time": "2021-02-06T07:52:14.263078Z",
     "start_time": "2021-02-06T07:51:49.772Z"
    }
   },
   "outputs": [],
   "source": [
    "from eunjeon import Mecab"
   ]
  },
  {
   "cell_type": "code",
   "execution_count": null,
   "metadata": {
    "ExecuteTime": {
     "end_time": "2021-02-06T07:52:14.265075Z",
     "start_time": "2021-02-06T07:51:49.899Z"
    }
   },
   "outputs": [],
   "source": [
    "tagger=Mecab()"
   ]
  },
  {
   "cell_type": "code",
   "execution_count": 34,
   "metadata": {
    "ExecuteTime": {
     "end_time": "2021-02-06T06:52:56.994998Z",
     "start_time": "2021-02-06T06:52:56.944132Z"
    }
   },
   "outputs": [
    {
     "data": {
      "text/plain": [
       "['차돌박이', '참나물', '샐러드', '폼']"
      ]
     },
     "execution_count": 34,
     "metadata": {},
     "output_type": "execute_result"
    }
   ],
   "source": [
    "tagger.nouns('차돌박이 참나물 샐러드 , 쉽고 간단하지만 폼나고 맛있다.')"
   ]
  },
  {
   "cell_type": "code",
   "execution_count": 111,
   "metadata": {
    "ExecuteTime": {
     "end_time": "2021-02-06T07:35:34.177236Z",
     "start_time": "2021-02-06T07:35:34.173249Z"
    }
   },
   "outputs": [],
   "source": [
    "import requests\n",
    "import json\n",
    "\n",
    "api_key=\"http://api.adams.ai/datamixiApi/tms?query=프랑스의 시골파이 - 아쉬 빠흐멍띠에 -.&lang=kor&analysis=pos&key=5407184264015720799\"\n",
    "\n",
    "#api_key =\"http://svc.saltlux.ai:31781?&key=0857f633-ca21-4b7a-8e7b-873e224ba430&serviceId=01135983394&argument=오늘날씨가 좋네요.\""
   ]
  },
  {
   "cell_type": "code",
   "execution_count": 112,
   "metadata": {
    "ExecuteTime": {
     "end_time": "2021-02-06T07:35:34.757719Z",
     "start_time": "2021-02-06T07:35:34.626037Z"
    }
   },
   "outputs": [],
   "source": [
    "r2  = requests.get(api_key)"
   ]
  },
  {
   "cell_type": "code",
   "execution_count": 113,
   "metadata": {
    "ExecuteTime": {
     "end_time": "2021-02-06T07:35:35.096806Z",
     "start_time": "2021-02-06T07:35:35.087810Z"
    }
   },
   "outputs": [
    {
     "data": {
      "text/plain": [
       "{'request_id': '0',\n",
       " 'return_type': 'tms',\n",
       " 'result': '0',\n",
       " 'return_object': {'text': '프랑스의 시골파이 - 아쉬 빠흐멍띠에 -.',\n",
       "  'sentence': [{'text': '프랑스의 시골파이 - 아쉬 빠흐멍띠에 -.',\n",
       "    'id': -1.0,\n",
       "    'morp': [{'id': 0.0, 'lemma': '프랑스', 'type': 'NNP'},\n",
       "     {'id': 1.0, 'lemma': '의', 'type': 'JKG'},\n",
       "     {'id': 2.0, 'lemma': '시골', 'type': 'NNG'},\n",
       "     {'id': 3.0, 'lemma': '파이', 'type': 'NNG'},\n",
       "     {'id': 4.0, 'lemma': '-', 'type': 'SS'},\n",
       "     {'id': 5.0, 'lemma': '아쉬', 'type': 'NNG'},\n",
       "     {'id': 6.0, 'lemma': '빠흐멍', 'type': 'NNP'},\n",
       "     {'id': 7.0, 'lemma': '띠', 'type': 'NNG'},\n",
       "     {'id': 8.0, 'lemma': '에', 'type': 'JKB'},\n",
       "     {'id': 9.0, 'lemma': '-', 'type': 'SS'},\n",
       "     {'id': 10.0, 'lemma': '.', 'type': 'SF'}],\n",
       "    'word': [{'id': 0.0,\n",
       "      'text': '프랑스의',\n",
       "      'tagged_text': '프랑스/NNP 의/JKG',\n",
       "      'begin': 0.0,\n",
       "      'end': 1.0},\n",
       "     {'id': 1.0,\n",
       "      'text': '시골파이',\n",
       "      'tagged_text': '시골/NNG 파이/NNG',\n",
       "      'begin': 2.0,\n",
       "      'end': 3.0},\n",
       "     {'id': 2.0, 'text': '-', 'tagged_text': '-/SS', 'begin': 4.0, 'end': 4.0},\n",
       "     {'id': 3.0,\n",
       "      'text': '아쉬',\n",
       "      'tagged_text': '아쉬/NNG',\n",
       "      'begin': 5.0,\n",
       "      'end': 5.0},\n",
       "     {'id': 4.0,\n",
       "      'text': '빠흐멍띠에',\n",
       "      'tagged_text': '빠흐멍/NNP 띠/NNG 에/JKB',\n",
       "      'begin': 6.0,\n",
       "      'end': 8.0},\n",
       "     {'id': 5.0,\n",
       "      'text': '-.',\n",
       "      'tagged_text': '-/SS ./SF',\n",
       "      'begin': 9.0,\n",
       "      'end': 10.0}],\n",
       "    'dependency': [],\n",
       "    'ne': []}]},\n",
       " 'result_code': 'success'}"
      ]
     },
     "execution_count": 113,
     "metadata": {},
     "output_type": "execute_result"
    }
   ],
   "source": [
    "r2.json()"
   ]
  },
  {
   "cell_type": "code",
   "execution_count": null,
   "metadata": {},
   "outputs": [],
   "source": []
  }
 ],
 "metadata": {
  "hide_input": false,
  "jupytext": {
   "encoding": "# -*- coding: utf-8 -*-",
   "formats": "ipynb,py:light"
  },
  "kernelspec": {
   "display_name": "Python 3",
   "language": "python",
   "name": "python3"
  },
  "language_info": {
   "codemirror_mode": {
    "name": "ipython",
    "version": 3
   },
   "file_extension": ".py",
   "mimetype": "text/x-python",
   "name": "python",
   "nbconvert_exporter": "python",
   "pygments_lexer": "ipython3",
   "version": "3.7.6"
  }
 },
 "nbformat": 4,
 "nbformat_minor": 4
}
