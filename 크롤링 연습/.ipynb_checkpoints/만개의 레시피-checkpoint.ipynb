{
 "cells": [
  {
   "cell_type": "code",
   "execution_count": 66,
   "metadata": {
    "ExecuteTime": {
     "end_time": "2021-02-03T06:18:11.960892Z",
     "start_time": "2021-02-03T06:18:11.957894Z"
    }
   },
   "outputs": [],
   "source": [
    "import requests\n",
    "from bs4 import BeautifulSoup"
   ]
  },
  {
   "cell_type": "code",
   "execution_count": 67,
   "metadata": {
    "ExecuteTime": {
     "end_time": "2021-02-03T06:18:25.792940Z",
     "start_time": "2021-02-03T06:18:12.542654Z"
    }
   },
   "outputs": [],
   "source": [
    "from selenium import webdriver\n",
    "\n",
    "#내부적 설계\n",
    "options = webdriver.ChromeOptions()\n",
    "options.headless = True\n",
    "options.add_argument(\"windows-size=1920*1080\")\n",
    "options.add_argument(\"user-agent=Mozilla/5.0 (Windows NT 10.0; Win64; x64) AppleWebKit/537.36 (KHTML, like Gecko) Chrome/87.0.4280.88 Safari/537.36\")\n",
    "\n",
    "browser = webdriver.Chrome(options=options)\n",
    "browser.maximize_window()\n",
    "url = \"https://www.10000recipe.com/recipe/6879533\"\n",
    "browser.get(url)\n",
    "#headers = {\"User-Agent\":\"Mozilla/5.0 (Windows NT 10.0; Win64; x64) AppleWebKit/537.36 (KHTML, like Gecko) Chrome/87.0.4280.88 Safari/537.36\",\n",
    "#           \"Accept-Language\":\"ko-KR,ko\"} #Korean 언어에 대한 페이지 호출\n",
    "#해상도 높이 만큼 스크롤 내리기\n",
    "#browser.execute_script(\"window.scrollTo(0,1080)\")\n",
    "\n",
    "\n",
    "#화면 가장 아래로 내리기\n",
    "\n",
    "#prev_height = browser.execute_script(\"return document.body.scrollHeight\")\n",
    "#import time \n",
    "#interval = 2 \n",
    "\n",
    "#while True:\n",
    "#    browser.execute_script(\"window.scrollTo(0,document.body.scrollHeight)\")\n",
    "#    time.sleep(interval)\n",
    "    #현재 문서 높이 저장\n",
    "#    current_height = browser.execute_script(\"return document.body.scrollHeight\")\n",
    "#    if current_height ==prev_height:\n",
    "#        break\n",
    "#    prev_height = current_height\n",
    "\n",
    "#할인된 애들만\n",
    "\n",
    "import requests\n",
    "from bs4 import BeautifulSoup\n",
    "soup = BeautifulSoup(browser.page_source,'lxml')\n",
    "#'ImZGtf mpg5gc'\n",
    "movies = soup.find(\"div\",attrs={'class':'view2_summary st3'})\n",
    "'''\n",
    "for movie in movies:\n",
    "    title = movie.find(\"div\",attrs={\"class\":\"WsMG1c nnK0zc\"}).get_text()\n",
    "    original_price= movie.find(\"span\",attrs={'class':\"VfPpfd ZdBevf i5DZme\"})\n",
    "    discount_price = movie.find(\"span\",attrs={'class':\"SUZt4c djCuy\"})\n",
    "    if discount_price:\n",
    "        discount_price= discount_price.get_text()\n",
    "        \n",
    "    else:\n",
    "        #print(title, \" 할인되지 않은 영화제외\")\n",
    "        continue\n",
    "    print(title)\n",
    "    print(\"할인전:\",original_price.get_text())\n",
    "    print(\"할인후:\",discount_price)\n",
    "\n",
    "\n",
    "browser.get_screenshot_as_file(\"결과.png\")\n",
    "\n",
    "'''\n",
    "title=soup.find(\"h3\").text\n",
    "ingredient = soup.find(\"div\",attrs={'class':'ready_ingre3'})\n",
    "#a=browser.find_element_by_xpath(\"//*[@id='contents_area']/div[2]/h3\")\n",
    "#print(a)\n",
    "browser.quit()\n",
    "\n"
   ]
  },
  {
   "cell_type": "code",
   "execution_count": 68,
   "metadata": {
    "ExecuteTime": {
     "end_time": "2021-02-03T06:18:25.814760Z",
     "start_time": "2021-02-03T06:18:25.800802Z"
    }
   },
   "outputs": [
    {
     "data": {
      "text/plain": [
       "'생생정보통 잡채 황금레시피 이거였네'"
      ]
     },
     "execution_count": 68,
     "metadata": {},
     "output_type": "execute_result"
    }
   ],
   "source": [
    "title"
   ]
  },
  {
   "cell_type": "code",
   "execution_count": 69,
   "metadata": {
    "ExecuteTime": {
     "end_time": "2021-02-03T06:18:25.827727Z",
     "start_time": "2021-02-03T06:18:25.820746Z"
    }
   },
   "outputs": [],
   "source": [
    "a=soup.find(\"div\",attrs={'class':'ready_ingre3'})"
   ]
  },
  {
   "cell_type": "code",
   "execution_count": 70,
   "metadata": {
    "ExecuteTime": {
     "end_time": "2021-02-03T06:18:25.836701Z",
     "start_time": "2021-02-03T06:18:25.829720Z"
    }
   },
   "outputs": [],
   "source": [
    "b=a.find_all('ul')"
   ]
  },
  {
   "cell_type": "code",
   "execution_count": 71,
   "metadata": {
    "ExecuteTime": {
     "end_time": "2021-02-03T06:18:25.847671Z",
     "start_time": "2021-02-03T06:18:25.838694Z"
    }
   },
   "outputs": [
    {
     "name": "stdout",
     "output_type": "stream",
     "text": [
      "음식명 : 생생정보통 잡채 황금레시피 이거였네\n",
      "필요한 재료\n",
      "----------\n",
      "[재료]\n",
      "당면                                                        \n",
      "1줌반\n",
      "당근                                                        \n",
      "약간\n",
      "파프리카                                                        \n",
      "약간\n",
      "목이버섯                                                        \n",
      "1줌\n",
      "양파                                                        \n",
      "1/2개\n",
      "부추                                                        \n",
      "약간\n",
      "잡채용 돼지고기                                                        \n",
      "1줌\n",
      "-----------\n",
      "[고기밑간]\n",
      "다진마늘                                                        \n",
      "1작은술\n",
      "진간장                                                        \n",
      "1작은술\n",
      "참기름                                                        \n",
      "1작은술\n",
      "미림(맛술)                                                        \n",
      "2작은술\n",
      "후추                                                        \n",
      "약간\n",
      "-----------\n",
      "[잡채 양념]\n",
      "간장                                                        \n",
      "10큰술\n",
      "물엿(올리고당)                                                        \n",
      "20큰술\n",
      "-----------\n"
     ]
    }
   ],
   "source": [
    "c=[]\n",
    "print('음식명 : ' + title)\n",
    "print('필요한 재료\\n----------')\n",
    "for i in b:\n",
    "    \n",
    "    print(i.find('b').text)\n",
    "    c=i.find_all('li')\n",
    "    for j in c:\n",
    "        print(j.text.strip())\n",
    "    print(\"-----------\")"
   ]
  },
  {
   "cell_type": "code",
   "execution_count": 72,
   "metadata": {
    "ExecuteTime": {
     "end_time": "2021-02-03T06:18:25.957382Z",
     "start_time": "2021-02-03T06:18:25.851662Z"
    }
   },
   "outputs": [],
   "source": [
    "number_list=soup.find_all(\"div\",attrs={'class':'rcp_m_list2'})"
   ]
  },
  {
   "cell_type": "code",
   "execution_count": 73,
   "metadata": {
    "ExecuteTime": {
     "end_time": "2021-02-03T06:18:25.963374Z",
     "start_time": "2021-02-03T06:18:25.958374Z"
    }
   },
   "outputs": [
    {
     "data": {
      "text/plain": [
       "0"
      ]
     },
     "execution_count": 73,
     "metadata": {},
     "output_type": "execute_result"
    }
   ],
   "source": [
    "len(number_list)"
   ]
  },
  {
   "cell_type": "code",
   "execution_count": null,
   "metadata": {},
   "outputs": [],
   "source": []
  }
 ],
 "metadata": {
  "hide_input": false,
  "kernelspec": {
   "display_name": "Python 3",
   "language": "python",
   "name": "python3"
  },
  "language_info": {
   "codemirror_mode": {
    "name": "ipython",
    "version": 3
   },
   "file_extension": ".py",
   "mimetype": "text/x-python",
   "name": "python",
   "nbconvert_exporter": "python",
   "pygments_lexer": "ipython3",
   "version": "3.7.6"
  }
 },
 "nbformat": 4,
 "nbformat_minor": 4
}
