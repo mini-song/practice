{
 "cells": [
  {
   "cell_type": "code",
   "execution_count": 5,
   "metadata": {
    "ExecuteTime": {
     "end_time": "2021-01-06T08:51:00.103541Z",
     "start_time": "2021-01-06T08:50:45.469662Z"
    },
    "scrolled": false
   },
   "outputs": [
    {
     "name": "stdout",
     "output_type": "stream",
     "text": [
      "진에어\n",
      "출발지\n",
      "GMP\n",
      "06:05\n",
      "도착지\n",
      "CJU\n",
      "07:15\n",
      "총 소요시간\n",
      "01시간 10분\n",
      "특가석\n",
      "편도 25,900원\n",
      "성인\n"
     ]
    }
   ],
   "source": [
    "from selenium import webdriver\n",
    "#기다려주기\n",
    "from selenium.webdriver.common.by import By\n",
    "from selenium.webdriver.support.ui import WebDriverWait\n",
    "from selenium.webdriver.support import expected_conditions as EC\n",
    "\n",
    "browser = webdriver.Chrome()\n",
    "browser.get(\"https://flight.naver.com/flights/\")\n",
    "browser.maximize_window()\n",
    "\n",
    "\n",
    "#elem = browser.find_element_by_class_name(\"link_login\")\n",
    "#elem.click()\n",
    "#browser.back()\n",
    "#browser.forward()\n",
    "#browser.refresh()\n",
    "\n",
    "\n",
    "#browser.back()\n",
    "\n",
    "\n",
    "#elem = browser.find_element_by_class_name(\"txt_trip.ng-binding\")\n",
    "elem = browser.find_element_by_link_text(\"가는날 선택\")\n",
    "\n",
    "\n",
    "#from selenium.webdriver.common.keys import Keys\n",
    "#elem.send_keys(\"나도코딩\")\n",
    "elem.click()\n",
    "browser.find_elements_by_link_text(\"28\")[0].click()\n",
    "browser.find_elements_by_link_text(\"10\")[1].click()                   \n",
    "browser.find_element_by_xpath(\"//*[@id='recommendationList']/ul/li[1]/div/span\").click()\n",
    "browser.find_element_by_link_text('항공권 검색').click()\n",
    "elem = WebDriverWait(browser,10).until(EC.presence_of_element_located((By.XPATH,'//*[@id=\"content\"]/div[2]/div/div[4]/ul/li[1]')))\n",
    "\n",
    "elem=browser.find_element_by_xpath('//*[@id=\"content\"]/div[2]/div/div[4]/ul/li[1]')\n",
    "print(elem.text)\n",
    "    "
   ]
  },
  {
   "cell_type": "code",
   "execution_count": null,
   "metadata": {},
   "outputs": [],
   "source": []
  }
 ],
 "metadata": {
  "hide_input": false,
  "jupytext": {
   "formats": "ipynb,py:light"
  },
  "kernelspec": {
   "display_name": "Python 3",
   "language": "python",
   "name": "python3"
  },
  "language_info": {
   "codemirror_mode": {
    "name": "ipython",
    "version": 3
   },
   "file_extension": ".py",
   "mimetype": "text/x-python",
   "name": "python",
   "nbconvert_exporter": "python",
   "pygments_lexer": "ipython3",
   "version": "3.7.6"
  }
 },
 "nbformat": 4,
 "nbformat_minor": 4
}
