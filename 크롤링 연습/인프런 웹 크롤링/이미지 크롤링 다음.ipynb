{
 "cells": [
  {
   "cell_type": "code",
   "execution_count": 17,
   "metadata": {
    "ExecuteTime": {
     "end_time": "2021-01-06T02:27:59.275405Z",
     "start_time": "2021-01-06T02:27:58.951200Z"
    }
   },
   "outputs": [],
   "source": [
    "import requests\n",
    "from bs4 import BeautifulSoup\n"
   ]
  },
  {
   "cell_type": "code",
   "execution_count": 18,
   "metadata": {
    "ExecuteTime": {
     "end_time": "2021-01-06T02:27:59.282316Z",
     "start_time": "2021-01-06T02:27:59.277326Z"
    }
   },
   "outputs": [
    {
     "data": {
      "text/plain": [
       "<Response [200]>"
      ]
     },
     "execution_count": 18,
     "metadata": {},
     "output_type": "execute_result"
    }
   ],
   "source": [
    "res"
   ]
  },
  {
   "cell_type": "code",
   "execution_count": 19,
   "metadata": {
    "ExecuteTime": {
     "end_time": "2021-01-06T02:27:59.439982Z",
     "start_time": "2021-01-06T02:27:59.334177Z"
    }
   },
   "outputs": [],
   "source": []
  },
  {
   "cell_type": "code",
   "execution_count": 22,
   "metadata": {
    "ExecuteTime": {
     "end_time": "2021-01-06T02:28:22.551268Z",
     "start_time": "2021-01-06T02:28:22.538302Z"
    }
   },
   "outputs": [],
   "source": []
  },
  {
   "cell_type": "code",
   "execution_count": 49,
   "metadata": {
    "ExecuteTime": {
     "end_time": "2021-01-06T04:03:27.121812Z",
     "start_time": "2021-01-06T04:03:23.487499Z"
    },
    "scrolled": true
   },
   "outputs": [],
   "source": [
    "for o in range(2015,2020):\n",
    "    url= 'https://search.daum.net/search?w=tot&DA=YZR&t__nil_searchbox=btn&sug=&sugo=&sq=&o=&q={0}%EB%85%84+%EC%98%81%ED%99%94%EC%88%9C%EC%9C%84'.format(o)\n",
    "    soup =  BeautifulSoup(res.text,'lxml')\n",
    "    res= requests.get(url)\n",
    "    images = soup.find_all(\"img\",attrs={\"class\":\"thumb_img\"})\n",
    "    for idx, i in enumerate(images): #인덱스 처리 \n",
    "        if i['src'].startswith(\"//\"):\n",
    "            image_res = requests.get(\"https:\"+i['src'])\n",
    "        else:\n",
    "\n",
    "            image_res = requests.get(i['src'])\n",
    "        with open(\"movie{0}_{1}.jpg\".format(idx+1,o),\"wb\") as f:\n",
    "            f.write(image_res.content) #주소로 바로 연결 -> 안에 있는 내용물 -> 파일로\n",
    "        if idx ==4:\n",
    "            break;"
   ]
  },
  {
   "cell_type": "code",
   "execution_count": null,
   "metadata": {},
   "outputs": [],
   "source": []
  },
  {
   "cell_type": "code",
   "execution_count": null,
   "metadata": {},
   "outputs": [],
   "source": []
  }
 ],
 "metadata": {
  "hide_input": false,
  "jupytext": {
   "formats": "ipynb,py:light"
  },
  "kernelspec": {
   "display_name": "Python 3",
   "language": "python",
   "name": "python3"
  },
  "language_info": {
   "codemirror_mode": {
    "name": "ipython",
    "version": 3
   },
   "file_extension": ".py",
   "mimetype": "text/x-python",
   "name": "python",
   "nbconvert_exporter": "python",
   "pygments_lexer": "ipython3",
   "version": "3.7.6"
  }
 },
 "nbformat": 4,
 "nbformat_minor": 4
}
