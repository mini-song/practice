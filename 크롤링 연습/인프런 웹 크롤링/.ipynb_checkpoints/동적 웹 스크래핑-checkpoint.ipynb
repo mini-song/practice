{
 "cells": [
  {
   "cell_type": "code",
   "execution_count": 3,
   "metadata": {
    "ExecuteTime": {
     "end_time": "2021-01-07T07:37:09.651211Z",
     "start_time": "2021-01-07T07:37:08.952064Z"
    }
   },
   "outputs": [],
   "source": [
    "import requests\n",
    "from bs4 import BeautifulSoup\n",
    "from selenium import webdriver\n",
    "#headless\n",
    "#-> 창을 안띄움 서버에서 크롤링하거나... 메모리 소모를 줄여줌"
   ]
  },
  {
   "cell_type": "markdown",
   "metadata": {},
   "source": [
    "# 셀레니움 사용 x "
   ]
  },
  {
   "cell_type": "code",
   "execution_count": 20,
   "metadata": {
    "ExecuteTime": {
     "end_time": "2021-01-07T07:43:50.961183Z",
     "start_time": "2021-01-07T07:43:50.446548Z"
    },
    "lines_to_next_cell": 2
   },
   "outputs": [
    {
     "name": "stdout",
     "output_type": "stream",
     "text": [
      "테넷\n",
      "도굴\n",
      "해리포터와 마법사의 돌\n",
      "그린랜드\n",
      "날씨의 아이 (자막)\n",
      "나 홀로 집에 (자막판)\n",
      "해리포터와 비밀의방\n",
      "겨울왕국 2 (자막판)\n",
      "어벤져스 : 엔드게임 (자막판)\n",
      "해리포터와 아즈카반의 죄수\n"
     ]
    }
   ],
   "source": [
    "#options = webdriver.ChromeOptions()\n",
    "#options.headless = True\n",
    "#options.add_argument(\"window-size = 1920x1080\")\n",
    "#options.add_argument(\"user-agent= Mozilla/5.0 (Windows NT 10.0; Win64; x64) AppleWebKit/537.36 (KHTML, like Gecko) Chrome/87.0.4280.88 Safari/537.36\")\n",
    "#browser = webdriver.Chrome(options=options)\n",
    "#browser.maximize_window()\n",
    "\n",
    "\n",
    "url = \"https://play.google.com/store/movies/top\"\n",
    "\n",
    "headers = {\"User-Agent\":\"Mozilla/5.0 (Windows NT 10.0; Win64; x64) AppleWebKit/537.36 (KHTML, like Gecko) Chrome/87.0.4280.88 Safari/537.36\",\n",
    "           \"Accept-Language\":\"ko-KR,ko\"} #Korean 언어에 대한 페이지 호출\n",
    "res = requests.get(url, headers = headers)\n",
    "soup = BeautifulSoup(res.text,'lxml')\n",
    "movies = soup.find_all(\"div\", attrs={\"class\":\"ImZGtf mpg5gc\"})\n",
    "for i in movies:\n",
    "    print(i.find(\"div\", attrs={\"class\":\"WsMG1c nnK0zc\"}).text)"
   ]
  },
  {
   "cell_type": "markdown",
   "metadata": {
    "ExecuteTime": {
     "end_time": "2021-01-06T10:01:02.449433Z",
     "start_time": "2021-01-06T10:01:02.326738Z"
    }
   },
   "source": [
    "# 동적 웹스크래핑 -> 셀레니움 이용"
   ]
  },
  {
   "cell_type": "code",
   "execution_count": 35,
   "metadata": {
    "ExecuteTime": {
     "end_time": "2021-01-08T17:34:09.785732Z",
     "start_time": "2021-01-08T17:33:51.020547Z"
    },
    "lines_to_next_cell": 0
   },
   "outputs": [
    {
     "name": "stdout",
     "output_type": "stream",
     "text": [
      "그린랜드\n",
      "할인전: ₩5,500\n",
      "할인후: ₩11,000\n",
      "삼진그룹 영어토익반\n",
      "할인전: ₩4,500\n",
      "할인후: ₩10,000\n",
      "담보\n",
      "할인전: ₩5,500\n",
      "할인후: ₩7,700\n",
      "해리포터 시리즈 완결 패키지\n",
      "할인전: ₩18,900\n",
      "할인후: ₩36,000\n",
      "검객\n",
      "할인전: ₩5,000\n",
      "할인후: ₩7,000\n",
      "나이브스 아웃\n",
      "할인전: ₩1,500\n",
      "할인후: ₩2,500\n",
      "내가 죽던 날\n",
      "할인전: ₩7,000\n",
      "할인후: ₩11,000\n",
      "로그\n",
      "할인전: ₩5,000\n",
      "할인후: ₩10,000\n",
      "애프터\n",
      "할인전: ₩3,500\n",
      "할인후: ₩6,500\n",
      "코마\n",
      "할인전: ₩4,500\n",
      "할인후: ₩7,000\n",
      "가나의 혼인잔치: 언약\n",
      "할인전: ₩5,000\n",
      "할인후: ₩10,000\n",
      "미드소마\n",
      "할인전: ₩1,200\n",
      "할인후: ₩2,500\n",
      "신비한 동물들과 그린델왈드의 범죄/ 신비한 동물 사전 영화 패키지 (자막판)\n",
      "할인전: ₩8,600\n",
      "할인후: ₩9,000\n"
     ]
    }
   ],
   "source": [
    "from selenium import webdriver\n",
    "browser = webdriver.Chrome()\n",
    "browser.maximize_window()\n",
    "url = \"https://play.google.com/store/movies/top\"\n",
    "browser.get(url)\n",
    "#headers = {\"User-Agent\":\"Mozilla/5.0 (Windows NT 10.0; Win64; x64) AppleWebKit/537.36 (KHTML, like Gecko) Chrome/87.0.4280.88 Safari/537.36\",\n",
    "#           \"Accept-Language\":\"ko-KR,ko\"} #Korean 언어에 대한 페이지 호출\n",
    "#해상도 높이 만큼 스크롤 내리기\n",
    "#browser.execute_script(\"window.scrollTo(0,1080)\")\n",
    "\n",
    "\n",
    "#화면 가장 아래로 내리기\n",
    "\n",
    "prev_height = browser.execute_script(\"return document.body.scrollHeight\")\n",
    "import time \n",
    "interval = 2 \n",
    "\n",
    "while True:\n",
    "    browser.execute_script(\"window.scrollTo(0,document.body.scrollHeight)\")\n",
    "    time.sleep(interval)\n",
    "    #현재 문서 높이 저장\n",
    "    current_height = browser.execute_script(\"return document.body.scrollHeight\")\n",
    "    if current_height ==prev_height:\n",
    "        break\n",
    "    prev_height = current_height\n",
    "\n",
    "#할인된 애들만\n",
    "\n",
    "import requests\n",
    "from bs4 import BeautifulSoup\n",
    "soup = BeautifulSoup(browser.page_source,'lxml')\n",
    "#'ImZGtf mpg5gc'\n",
    "movies = soup.find_all(\"div\",attrs={'class':'Vpfmgd'})\n",
    "for movie in movies:\n",
    "    title = movie.find(\"div\",attrs={\"class\":\"WsMG1c nnK0zc\"}).get_text()\n",
    "    original_price= movie.find(\"span\",attrs={'class':\"VfPpfd ZdBevf i5DZme\"})\n",
    "    discount_price = movie.find(\"span\",attrs={'class':\"SUZt4c djCuy\"})\n",
    "    if discount_price:\n",
    "        discount_price= discount_price.get_text()\n",
    "        \n",
    "    else:\n",
    "        #print(title, \" 할인되지 않은 영화제외\")\n",
    "        continue\n",
    "    print(title)\n",
    "    print(\"할인전:\",original_price.get_text())\n",
    "    print(\"할인후:\",discount_price)\n",
    "browser.quit()\n"
   ]
  },
  {
   "cell_type": "markdown",
   "metadata": {
    "ExecuteTime": {
     "end_time": "2021-01-08T17:13:40.744216Z",
     "start_time": "2021-01-08T17:13:40.740228Z"
    }
   },
   "source": [
    "# Headless 크롬"
   ]
  },
  {
   "cell_type": "code",
   "execution_count": 43,
   "metadata": {
    "ExecuteTime": {
     "end_time": "2021-01-08T17:47:44.260313Z",
     "start_time": "2021-01-08T17:47:26.559414Z"
    }
   },
   "outputs": [
    {
     "name": "stdout",
     "output_type": "stream",
     "text": [
      "그린랜드\n",
      "할인전: ₩5,500\n",
      "할인후: ₩11,000\n",
      "삼진그룹 영어토익반\n",
      "할인전: ₩4,500\n",
      "할인후: ₩10,000\n",
      "담보\n",
      "할인전: ₩5,500\n",
      "할인후: ₩7,700\n",
      "해리포터 시리즈 완결 패키지\n",
      "할인전: ₩18,900\n",
      "할인후: ₩36,000\n",
      "검객\n",
      "할인전: ₩5,000\n",
      "할인후: ₩7,000\n",
      "나이브스 아웃\n",
      "할인전: ₩1,500\n",
      "할인후: ₩2,500\n",
      "내가 죽던 날\n",
      "할인전: ₩7,000\n",
      "할인후: ₩11,000\n",
      "로그\n",
      "할인전: ₩5,000\n",
      "할인후: ₩10,000\n",
      "애프터\n",
      "할인전: ₩3,500\n",
      "할인후: ₩6,500\n",
      "코마\n",
      "할인전: ₩4,500\n",
      "할인후: ₩7,000\n",
      "가나의 혼인잔치: 언약\n",
      "할인전: ₩5,000\n",
      "할인후: ₩10,000\n",
      "미드소마\n",
      "할인전: ₩1,200\n",
      "할인후: ₩2,500\n",
      "신비한 동물들과 그린델왈드의 범죄/ 신비한 동물 사전 영화 패키지 (자막판)\n",
      "할인전: ₩8,600\n",
      "할인후: ₩9,000\n"
     ]
    }
   ],
   "source": [
    "from selenium import webdriver\n",
    "\n",
    "#내부적 설계\n",
    "options = webdriver.ChromeOptions()\n",
    "options.headless = True\n",
    "options.add_argument(\"windows-size=1920*1080\")\n",
    "options.add_argument(\"user-agent=Mozilla/5.0 (Windows NT 10.0; Win64; x64) AppleWebKit/537.36 (KHTML, like Gecko) Chrome/87.0.4280.88 Safari/537.36\")\n",
    "\n",
    "browser = webdriver.Chrome(options=options)\n",
    "browser.maximize_window()\n",
    "url = \"https://play.google.com/store/movies/top\"\n",
    "browser.get(url)\n",
    "#headers = {\"User-Agent\":\"Mozilla/5.0 (Windows NT 10.0; Win64; x64) AppleWebKit/537.36 (KHTML, like Gecko) Chrome/87.0.4280.88 Safari/537.36\",\n",
    "#           \"Accept-Language\":\"ko-KR,ko\"} #Korean 언어에 대한 페이지 호출\n",
    "#해상도 높이 만큼 스크롤 내리기\n",
    "#browser.execute_script(\"window.scrollTo(0,1080)\")\n",
    "\n",
    "\n",
    "#화면 가장 아래로 내리기\n",
    "\n",
    "prev_height = browser.execute_script(\"return document.body.scrollHeight\")\n",
    "import time \n",
    "interval = 2 \n",
    "\n",
    "while True:\n",
    "    browser.execute_script(\"window.scrollTo(0,document.body.scrollHeight)\")\n",
    "    time.sleep(interval)\n",
    "    #현재 문서 높이 저장\n",
    "    current_height = browser.execute_script(\"return document.body.scrollHeight\")\n",
    "    if current_height ==prev_height:\n",
    "        break\n",
    "    prev_height = current_height\n",
    "\n",
    "#할인된 애들만\n",
    "\n",
    "import requests\n",
    "from bs4 import BeautifulSoup\n",
    "soup = BeautifulSoup(browser.page_source,'lxml')\n",
    "#'ImZGtf mpg5gc'\n",
    "movies = soup.find_all(\"div\",attrs={'class':'Vpfmgd'})\n",
    "for movie in movies:\n",
    "    title = movie.find(\"div\",attrs={\"class\":\"WsMG1c nnK0zc\"}).get_text()\n",
    "    original_price= movie.find(\"span\",attrs={'class':\"VfPpfd ZdBevf i5DZme\"})\n",
    "    discount_price = movie.find(\"span\",attrs={'class':\"SUZt4c djCuy\"})\n",
    "    if discount_price:\n",
    "        discount_price= discount_price.get_text()\n",
    "        \n",
    "    else:\n",
    "        #print(title, \" 할인되지 않은 영화제외\")\n",
    "        continue\n",
    "    print(title)\n",
    "    print(\"할인전:\",original_price.get_text())\n",
    "    print(\"할인후:\",discount_price)\n",
    "browser.get_screenshot_as_file(\"결과.png\")\n",
    "browser.quit()\n",
    "\n"
   ]
  },
  {
   "cell_type": "markdown",
   "metadata": {
    "ExecuteTime": {
     "end_time": "2021-01-08T17:45:55.492820Z",
     "start_time": "2021-01-08T17:45:55.488831Z"
    },
    "lines_to_next_cell": 2
   },
   "source": [
    "# 셀리니움은 get_text() 말고 그냥 text 하면 나옴 !\n",
    "##  셀레니움 vs requests \n",
    "##  셀레니움 \n",
    "### 로그인 해야하는 상황\n",
    "### find_element(s)_by_id\n",
    "### 기다려 주세요 elem = WebdriverWait(browser,10).until(EC.presence_of_element_located((B Y.XPATH,\"//*[@id='content']\")))\n",
    "### 자동으로 스크롤 내려주는 코드"
   ]
  },
  {
   "cell_type": "code",
   "execution_count": null,
   "metadata": {},
   "outputs": [],
   "source": []
  }
 ],
 "metadata": {
  "hide_input": false,
  "jupytext": {
   "encoding": "# -*- coding: utf-8 -*-",
   "formats": "ipynb,py:light"
  },
  "kernelspec": {
   "display_name": "Python 3",
   "language": "python",
   "name": "python3"
  },
  "language_info": {
   "codemirror_mode": {
    "name": "ipython",
    "version": 3
   },
   "file_extension": ".py",
   "mimetype": "text/x-python",
   "name": "python",
   "nbconvert_exporter": "python",
   "pygments_lexer": "ipython3",
   "version": "3.7.6"
  }
 },
 "nbformat": 4,
 "nbformat_minor": 4
}
