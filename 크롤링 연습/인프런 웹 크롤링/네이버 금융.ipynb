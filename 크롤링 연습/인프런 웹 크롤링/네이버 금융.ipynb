{
 "cells": [
  {
   "cell_type": "code",
   "execution_count": 48,
   "metadata": {
    "ExecuteTime": {
     "end_time": "2021-01-06T04:35:38.237254Z",
     "start_time": "2021-01-06T04:35:38.233263Z"
    }
   },
   "outputs": [],
   "source": [
    "import requests\n",
    "from bs4 import BeautifulSoup\n",
    "import csv "
   ]
  },
  {
   "cell_type": "code",
   "execution_count": 50,
   "metadata": {
    "ExecuteTime": {
     "end_time": "2021-01-06T04:36:14.617640Z",
     "start_time": "2021-01-06T04:36:13.996815Z"
    },
    "scrolled": false
   },
   "outputs": [],
   "source": [
    "csv2 = []\n",
    "f = open('csvresult.csv',\"w\",encoding='utf-8', newline=\"\") #뉴라인 안하면 엔터계속됨\n",
    "#인코딩 utf-8-sig 도 활용가능 \n",
    "#csv 쓰는게 리스트당 한줄이라고 생각하면 편함\n",
    "\n",
    "writer = csv.writer(f)\n",
    "\n",
    "for o in range(1,5):\n",
    "    \n",
    "    res = requests.get('https://finance.naver.com/sise/sise_market_sum.nhn?sosok=0&page={0}'.format(o))\n",
    "    soup = BeautifulSoup(res.text,'lxml')\n",
    "    data = soup.find('table', attrs={\"class\":'type_2'}).find_all('tr')\n",
    "    #태그 정보와 class 정보가 한줄에 다 들어있으니까 우선적으로 찾아야함 \n",
    "    for i in data:\n",
    "        a=i.find_all('td')\n",
    "        b=[]\n",
    "        if len(a) <= 1: #의미 없는 부분이 어느 for문에서 작용하는지 잘 생각하면 좋을듯\n",
    "            continue\n",
    "        else:\n",
    "            \n",
    "            for x in a:\n",
    "                b.append(x.get_text().strip())\n",
    "            writer.writerow(b)\n",
    "            csv2.append(b)\n",
    "import pandas as pd\n",
    "df = pd.DataFrame(csv2)\n",
    "df.to_csv('result.csv',header=False,index=False)"
   ]
  },
  {
   "cell_type": "code",
   "execution_count": null,
   "metadata": {},
   "outputs": [],
   "source": []
  },
  {
   "cell_type": "code",
   "execution_count": null,
   "metadata": {},
   "outputs": [],
   "source": []
  }
 ],
 "metadata": {
  "hide_input": false,
  "jupytext": {
   "formats": "ipynb,py:light"
  },
  "kernelspec": {
   "display_name": "Python 3",
   "language": "python",
   "name": "python3"
  },
  "language_info": {
   "codemirror_mode": {
    "name": "ipython",
    "version": 3
   },
   "file_extension": ".py",
   "mimetype": "text/x-python",
   "name": "python",
   "nbconvert_exporter": "python",
   "pygments_lexer": "ipython3",
   "version": "3.7.6"
  }
 },
 "nbformat": 4,
 "nbformat_minor": 4
}
