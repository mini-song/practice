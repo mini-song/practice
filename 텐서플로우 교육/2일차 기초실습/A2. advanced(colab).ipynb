{
 "cells": [
  {
   "cell_type": "markdown",
   "metadata": {
    "id": "rX8mhOLljYeM"
   },
   "source": [
    "##### Copyright 2019 The TensorFlow Authors.\n",
    "\n",
    "Licensed under the Apache License, Version 2.0 (the \"License\");"
   ]
  },
  {
   "cell_type": "code",
   "execution_count": 1,
   "metadata": {
    "cellView": "form",
    "execution": {
     "iopub.execute_input": "2020-09-23T07:26:13.420953Z",
     "iopub.status.busy": "2020-09-23T07:26:13.420300Z",
     "iopub.status.idle": "2020-09-23T07:26:13.422302Z",
     "shell.execute_reply": "2020-09-23T07:26:13.422718Z"
    },
    "id": "BZSlp3DAjdYf"
   },
   "outputs": [],
   "source": [
    "#@title Licensed under the Apache License, Version 2.0 (the \"License\");\n",
    "# you may not use this file except in compliance with the License.\n",
    "# You may obtain a copy of the License at\n",
    "#\n",
    "# https://www.apache.org/licenses/LICENSE-2.0\n",
    "#\n",
    "# Unless required by applicable law or agreed to in writing, software\n",
    "# distributed under the License is distributed on an \"AS IS\" BASIS,\n",
    "# WITHOUT WARRANTIES OR CONDITIONS OF ANY KIND, either express or implied.\n",
    "# See the License for the specific language governing permissions and\n",
    "# limitations under the License."
   ]
  },
  {
   "cell_type": "markdown",
   "metadata": {
    "id": "3wF5wszaj97Y"
   },
   "source": [
    "# 텐서플로 2.0 시작하기: 전문가용"
   ]
  },
  {
   "cell_type": "markdown",
   "metadata": {
    "id": "DUNzJc4jTj6G"
   },
   "source": [
    "<table class=\"tfo-notebook-buttons\" align=\"left\">\n",
    "  <td>\n",
    "    <a target=\"_blank\" href=\"https://www.tensorflow.org/tutorials/quickstart/advanced\"><img src=\"https://www.tensorflow.org/images/tf_logo_32px.png\" />TensorFlow.org에서 보기</a>\n",
    "  </td>\n",
    "  <td>\n",
    "    <a target=\"_blank\" href=\"https://colab.research.google.com/github/tensorflow/docs-l10n/blob/master/site/ko/tutorials/quickstart/advanced.ipynb\"><img src=\"https://www.tensorflow.org/images/colab_logo_32px.png\" />구글 코랩(Colab)에서 실행 하기</a>\n",
    "  </td>\n",
    "  <td>\n",
    "    <a target=\"_blank\" href=\"https://github.com/tensorflow/docs-l10n/blob/master/site/ko/tutorials/quickstart/advanced.ipynb\"><img src=\"https://www.tensorflow.org/images/GitHub-Mark-32px.png\" />깃허브(GitHub) 소스 보기</a>\n",
    "  </td>\n",
    "  <td>\n",
    "    <a href=\"https://storage.googleapis.com/tensorflow_docs/docs-l10n/site/ko/tutorials/quickstart/advanced.ipynb\"><img src=\"https://www.tensorflow.org/images/download_logo_32px.png\" />Download notebook</a>\n",
    "  </td>\n",
    "</table>"
   ]
  },
  {
   "cell_type": "markdown",
   "metadata": {
    "id": "7C-jrFz-PkeF"
   },
   "source": [
    "Note: 이 문서는 텐서플로 커뮤니티에서 번역했습니다. 커뮤니티 번역 활동의 특성상 정확한 번역과 최신 내용을 반영하기 위해 노력함에도\n",
    "불구하고 [공식 영문 문서](https://www.tensorflow.org/?hl=en)의 내용과 일치하지 않을 수 있습니다.\n",
    "이 번역에 개선할 부분이 있다면\n",
    "[tensorflow/docs-l10n](https://github.com/tensorflow/docs-l10n/) 깃헙 저장소로 풀 리퀘스트를 보내주시기 바랍니다.\n",
    "문서 번역이나 리뷰에 참여하려면\n",
    "[docs-ko@tensorflow.org](https://groups.google.com/a/tensorflow.org/forum/#!forum/docs-ko)로\n",
    "메일을 보내주시기 바랍니다."
   ]
  },
  {
   "cell_type": "markdown",
   "metadata": {
    "id": "hiH7AC-NTniF"
   },
   "source": [
    "이 문서는 [구글 코랩](https://colab.research.google.com/notebooks/welcome.ipynb)(Colaboratory) 노트북 파일입니다. 파이썬 프로그램을 브라우저에서 직접 실행할 수 있기 때문에 텐서플로를 배우고 사용하기 좋은 도구입니다:\n",
    "\n",
    "1. 파이썬 런타임(runtime)에 연결하세요: 메뉴 막대의 오른쪽 상단에서 *CONNECT*를 선택하세요.\n",
    "2. 노트북의 모든 코드 셀(cell)을 실행하세요: *Runtime* > *Run all*을 선택하세요.\n",
    "\n",
    "더 많은 예제와 자세한 안내는 [텐서플로 튜토리얼](https://www.tensorflow.org/tutorials/)을 참고하세요.\n",
    "\n",
    "먼저 프로그램에 텐서플로 라이브러리를 임포트합니다:"
   ]
  },
  {
   "cell_type": "code",
   "execution_count": 1,
   "metadata": {
    "execution": {
     "iopub.execute_input": "2020-09-23T07:26:13.430703Z",
     "iopub.status.busy": "2020-09-23T07:26:13.427683Z",
     "iopub.status.idle": "2020-09-23T07:26:41.462744Z",
     "shell.execute_reply": "2020-09-23T07:26:41.462132Z"
    },
    "id": "0trJmd6DjqBZ"
   },
   "outputs": [],
   "source": [
    "#!pip install -q tensorflow-gpu==2.0.0-rc1\n",
    "import tensorflow as tf\n",
    "\n",
    "from tensorflow.keras.layers import Dense, Flatten, Conv2D\n",
    "from tensorflow.keras import Model"
   ]
  },
  {
   "cell_type": "markdown",
   "metadata": {
    "id": "7NAbSZiaoJ4z"
   },
   "source": [
    "[MNIST 데이터셋](http://yann.lecun.com/exdb/mnist/)을 로드하여 준비합니다."
   ]
  },
  {
   "cell_type": "code",
   "execution_count": 4,
   "metadata": {
    "execution": {
     "iopub.execute_input": "2020-09-23T07:26:41.468275Z",
     "iopub.status.busy": "2020-09-23T07:26:41.467535Z",
     "iopub.status.idle": "2020-09-23T07:26:41.934007Z",
     "shell.execute_reply": "2020-09-23T07:26:41.933422Z"
    },
    "id": "JqFRS6K07jJs"
   },
   "outputs": [],
   "source": [
    "mnist = tf.keras.datasets.mnist\n",
    "\n",
    "(x_train, y_train), (x_test, y_test) = mnist.load_data()\n",
    "x_train, x_test = x_train / 255.0, x_test / 255.0"
   ]
  },
  {
   "cell_type": "code",
   "execution_count": 12,
   "metadata": {},
   "outputs": [
    {
     "data": {
      "text/plain": [
       "TensorShape([60000, 28, 28, 1])"
      ]
     },
     "execution_count": 12,
     "metadata": {},
     "output_type": "execute_result"
    }
   ],
   "source": [
    "x_train=tf.expand_dims(x_train, axis=-1)\n",
    "x_train.shape"
   ]
  },
  {
   "cell_type": "code",
   "execution_count": 13,
   "metadata": {},
   "outputs": [
    {
     "data": {
      "text/plain": [
       "TensorShape([10000, 28, 28, 1])"
      ]
     },
     "execution_count": 13,
     "metadata": {},
     "output_type": "execute_result"
    }
   ],
   "source": [
    "x_test=tf.expand_dims(x_test, axis=-1)\n",
    "x_test.shape"
   ]
  },
  {
   "cell_type": "code",
   "execution_count": 3,
   "metadata": {},
   "outputs": [
    {
     "data": {
      "text/plain": [
       "(60000, 28, 28, 1)"
      ]
     },
     "execution_count": 3,
     "metadata": {},
     "output_type": "execute_result"
    }
   ],
   "source": [
    "# 채널 차원을 추가합니다.\n",
    "x_train = x_train[..., tf.newaxis]\n",
    "x_test = x_test[..., tf.newaxis]"
   ]
  },
  {
   "cell_type": "markdown",
   "metadata": {
    "id": "k1Evqx0S22r_"
   },
   "source": [
    "tf.data를 사용하여 데이터셋을 섞고 배치를 만듭니다:"
   ]
  },
  {
   "cell_type": "code",
   "execution_count": 14,
   "metadata": {
    "execution": {
     "iopub.execute_input": "2020-09-23T07:26:43.080064Z",
     "iopub.status.busy": "2020-09-23T07:26:43.076415Z",
     "iopub.status.idle": "2020-09-23T07:26:43.135218Z",
     "shell.execute_reply": "2020-09-23T07:26:43.135703Z"
    },
    "id": "8Iu_quO024c2"
   },
   "outputs": [],
   "source": [
    "train_ds = tf.data.Dataset.from_tensor_slices(\n",
    "    (x_train, y_train)).shuffle(10000).batch(32)\n",
    "test_ds = tf.data.Dataset.from_tensor_slices((x_test, y_test)).batch(32)"
   ]
  },
  {
   "cell_type": "markdown",
   "metadata": {
    "id": "BPZ68wASog_I"
   },
   "source": [
    "케라스(Keras)의 [모델 서브클래싱(subclassing) API](https://www.tensorflow.org/guide/keras#model_subclassing)를 사용하여 `tf.keras` 모델을 만듭니다:"
   ]
  },
  {
   "cell_type": "code",
   "execution_count": 21,
   "metadata": {
    "execution": {
     "iopub.execute_input": "2020-09-23T07:26:43.155314Z",
     "iopub.status.busy": "2020-09-23T07:26:43.154577Z",
     "iopub.status.idle": "2020-09-23T07:26:43.156497Z",
     "shell.execute_reply": "2020-09-23T07:26:43.157023Z"
    },
    "id": "h3IKyzTCDNGo"
   },
   "outputs": [],
   "source": [
    "class MyModel(Model):\n",
    "  def __init__(self):\n",
    "    super(MyModel, self).__init__()\n",
    "    self.conv1 = Conv2D(32, 3, activation='relu')\n",
    "    self.flatten = Flatten()\n",
    "    self.d1 = Dense(128, activation='relu')\n",
    "    self.d2 = Dense(10, activation='softmax')\n",
    "\n",
    "  def call(self, x):\n",
    "    x = self.conv1(x)\n",
    "    x = self.flatten(x)\n",
    "    x = self.d1(x)\n",
    "    return self.d2(x)\n",
    "\n",
    "model = MyModel()"
   ]
  },
  {
   "cell_type": "markdown",
   "metadata": {
    "id": "uGih-c2LgbJu"
   },
   "source": [
    "훈련에 필요한 옵티마이저(optimizer)와 손실 함수를 선택합니다:"
   ]
  },
  {
   "cell_type": "code",
   "execution_count": 23,
   "metadata": {
    "execution": {
     "iopub.execute_input": "2020-09-23T07:26:43.161515Z",
     "iopub.status.busy": "2020-09-23T07:26:43.160881Z",
     "iopub.status.idle": "2020-09-23T07:26:43.162965Z",
     "shell.execute_reply": "2020-09-23T07:26:43.163362Z"
    },
    "id": "u48C9WQ774n4"
   },
   "outputs": [],
   "source": [
    "loss_object = tf.keras.losses.SparseCategoricalCrossentropy()\n",
    "\n",
    "optimizer = tf.keras.optimizers.Adam()"
   ]
  },
  {
   "cell_type": "markdown",
   "metadata": {
    "id": "JB6A1vcigsIe"
   },
   "source": [
    "모델의 손실과 성능을 측정할 지표를 선택합니다. 에포크가 진행되는 동안 수집된 측정 지표를 바탕으로 최종 결과를 출력합니다."
   ]
  },
  {
   "cell_type": "code",
   "execution_count": 24,
   "metadata": {
    "execution": {
     "iopub.execute_input": "2020-09-23T07:26:43.169966Z",
     "iopub.status.busy": "2020-09-23T07:26:43.169287Z",
     "iopub.status.idle": "2020-09-23T07:26:43.187083Z",
     "shell.execute_reply": "2020-09-23T07:26:43.186400Z"
    },
    "id": "N0MqHFb4F_qn"
   },
   "outputs": [],
   "source": [
    "train_loss = tf.keras.metrics.Mean(name='train_loss')\n",
    "train_accuracy = tf.keras.metrics.SparseCategoricalAccuracy(name='train_accuracy')\n",
    "\n",
    "test_loss = tf.keras.metrics.Mean(name='test_loss')\n",
    "test_accuracy = tf.keras.metrics.SparseCategoricalAccuracy(name='test_accuracy')"
   ]
  },
  {
   "cell_type": "markdown",
   "metadata": {
    "id": "ix4mEL65on-w"
   },
   "source": [
    "`tf.GradientTape`를 사용하여 모델을 훈련합니다:"
   ]
  },
  {
   "cell_type": "code",
   "execution_count": 26,
   "metadata": {
    "execution": {
     "iopub.execute_input": "2020-09-23T07:26:43.193023Z",
     "iopub.status.busy": "2020-09-23T07:26:43.192363Z",
     "iopub.status.idle": "2020-09-23T07:26:43.194712Z",
     "shell.execute_reply": "2020-09-23T07:26:43.194210Z"
    },
    "id": "OZACiVqA8KQV"
   },
   "outputs": [],
   "source": [
    "@tf.function\n",
    "def train_step(images, labels):\n",
    "  with tf.GradientTape() as tape:\n",
    "    predictions = model(images)\n",
    "    loss = loss_object(labels, predictions)\n",
    "  gradients = tape.gradient(loss, model.trainable_variables)\n",
    "  optimizer.apply_gradients(zip(gradients, model.trainable_variables))\n",
    "\n",
    "  train_loss(loss)\n",
    "  train_accuracy(labels, predictions)"
   ]
  },
  {
   "cell_type": "markdown",
   "metadata": {
    "id": "Z8YT7UmFgpjV"
   },
   "source": [
    "이제 모델을 테스트합니다:"
   ]
  },
  {
   "cell_type": "code",
   "execution_count": 28,
   "metadata": {
    "execution": {
     "iopub.execute_input": "2020-09-23T07:26:43.199380Z",
     "iopub.status.busy": "2020-09-23T07:26:43.198747Z",
     "iopub.status.idle": "2020-09-23T07:26:43.200664Z",
     "shell.execute_reply": "2020-09-23T07:26:43.201097Z"
    },
    "id": "xIKdEzHAJGt7"
   },
   "outputs": [],
   "source": [
    "@tf.function\n",
    "def test_step(images, labels):\n",
    "  predictions = model(images)\n",
    "  t_loss = loss_object(labels, predictions)\n",
    "\n",
    "  test_loss(t_loss)\n",
    "  test_accuracy(labels, predictions)"
   ]
  },
  {
   "cell_type": "code",
   "execution_count": 30,
   "metadata": {
    "execution": {
     "iopub.execute_input": "2020-09-23T07:26:43.206764Z",
     "iopub.status.busy": "2020-09-23T07:26:43.206068Z",
     "iopub.status.idle": "2020-09-23T07:28:40.233061Z",
     "shell.execute_reply": "2020-09-23T07:28:40.232400Z"
    },
    "id": "i-2pkctU_Ci7"
   },
   "outputs": [
    {
     "name": "stdout",
     "output_type": "stream",
     "text": [
      "WARNING:tensorflow:Layer my_model_1 is casting an input tensor from dtype float64 to the layer's dtype of float32, which is new behavior in TensorFlow 2.  The layer has dtype float32 because its dtype defaults to floatx.\n",
      "\n",
      "If you intended to run this layer in float32, you can safely ignore this warning. If in doubt, this warning is likely only an issue if you are porting a TensorFlow 1.X model to TensorFlow 2.\n",
      "\n",
      "To change all layers to have dtype float64 by default, call `tf.keras.backend.set_floatx('float64')`. To change just this layer, pass dtype='float64' to the layer constructor. If you are the author of this layer, you can disable autocasting by passing autocast=False to the base Layer constructor.\n",
      "\n",
      "에포크: 1, 손실: 0.13885217905044556, 정확도: 95.82333374023438, 테스트 손실: 0.06147758662700653, 테스트 정확도: 97.88999938964844\n",
      "에포크: 2, 손실: 0.09176291525363922, 정확도: 97.18416595458984, 테스트 손실: 0.057331401854753494, 테스트 정확도: 98.06999969482422\n",
      "에포크: 3, 손실: 0.06880847364664078, 정확도: 97.87555694580078, 테스트 손실: 0.05947223678231239, 테스트 정확도: 98.0633316040039\n",
      "에포크: 4, 손실: 0.055035658180713654, 정확도: 98.2874984741211, 테스트 손실: 0.059480760246515274, 테스트 정확도: 98.1199951171875\n",
      "에포크: 5, 손실: 0.04574284702539444, 정확도: 98.57433319091797, 테스트 손실: 0.06006563827395439, 테스트 정확도: 98.14199829101562\n"
     ]
    }
   ],
   "source": [
    "EPOCHS = 5\n",
    "\n",
    "for epoch in range(EPOCHS):\n",
    "  for images, labels in train_ds:\n",
    "    train_step(images, labels)\n",
    "\n",
    "  for test_images, test_labels in test_ds:\n",
    "    test_step(test_images, test_labels)\n",
    "\n",
    "  template = '에포크: {}, 손실: {}, 정확도: {}, 테스트 손실: {}, 테스트 정확도: {}'\n",
    "  print (template.format(epoch+1,\n",
    "                         train_loss.result(),\n",
    "                         train_accuracy.result()*100,\n",
    "                         test_loss.result(),\n",
    "                         test_accuracy.result()*100))"
   ]
  },
  {
   "cell_type": "code",
   "execution_count": 31,
   "metadata": {},
   "outputs": [
    {
     "data": {
      "text/plain": [
       "[<tf.Variable 'my_model_1/conv2d_1/kernel:0' shape=(3, 3, 1, 32) dtype=float32, numpy=\n",
       " array([[[[-2.80687094e-01,  2.96477526e-01,  2.07213044e-01,\n",
       "           -1.31457970e-02, -1.12621233e-01, -1.69969022e-01,\n",
       "           -6.26391053e-01,  1.53699219e-01,  3.86969037e-02,\n",
       "            3.97951193e-02, -1.62440151e-01, -2.79829707e-02,\n",
       "            3.39070499e-01,  2.18593016e-01, -2.79245317e-01,\n",
       "            1.83719285e-02,  1.49477467e-01, -4.94042903e-01,\n",
       "           -1.50018722e-01,  1.00834407e-01,  1.45993367e-01,\n",
       "           -2.57984847e-01, -3.45996678e-01,  9.85675901e-02,\n",
       "           -2.24254876e-01,  2.07460701e-01,  9.24660638e-03,\n",
       "           -2.44633178e-03,  5.15741147e-02, -2.09564671e-01,\n",
       "           -5.91368496e-01, -2.77059585e-01]],\n",
       " \n",
       "         [[ 2.47303396e-01,  6.05950207e-02, -1.98819816e-01,\n",
       "           -1.68765187e-01, -4.27044854e-02, -1.47141963e-01,\n",
       "           -5.05812705e-01, -4.00321037e-02,  1.68418363e-02,\n",
       "            1.94461420e-01, -3.02739888e-01,  1.17116854e-01,\n",
       "            1.63131192e-01,  2.15010554e-01,  1.35568410e-01,\n",
       "           -1.09258056e-01,  1.18271403e-01, -3.18767637e-01,\n",
       "            1.13357075e-01,  1.73608080e-01, -8.51907674e-03,\n",
       "           -7.95353949e-02,  1.65740941e-02,  9.64957941e-03,\n",
       "            1.06897779e-01, -8.98452848e-02,  1.79471120e-01,\n",
       "            5.84876686e-02,  6.51349351e-02, -2.55223542e-01,\n",
       "           -5.68569899e-02, -1.81786522e-01]],\n",
       " \n",
       "         [[-4.55791354e-02, -8.19409043e-02, -1.12460114e-01,\n",
       "            4.16049398e-02,  5.74010126e-02,  1.16527937e-01,\n",
       "           -3.96849245e-01, -2.57736266e-01,  9.23102871e-02,\n",
       "           -1.46949798e-01, -2.42010489e-01, -3.07530761e-01,\n",
       "           -5.66707075e-01,  3.83713506e-02,  9.61813927e-02,\n",
       "            9.66427252e-02,  3.40986013e-01, -4.58342314e-01,\n",
       "            1.27554670e-01,  1.50717646e-02, -3.71706299e-02,\n",
       "            1.64452523e-01,  2.64770120e-01, -1.90875325e-02,\n",
       "            9.97809917e-02, -1.40589163e-01,  8.34733695e-02,\n",
       "            3.60442735e-02,  3.31938565e-02, -2.39207476e-01,\n",
       "            5.73950298e-02, -3.70932966e-02]]],\n",
       " \n",
       " \n",
       "        [[[-3.84453297e-01,  7.82159269e-02,  1.87621757e-01,\n",
       "            2.02397197e-01, -1.19182505e-01,  1.61433771e-01,\n",
       "           -2.71059275e-01, -1.28842086e-01,  4.78689447e-02,\n",
       "            1.38189614e-01,  2.10632116e-01, -3.17530632e-02,\n",
       "            1.68789014e-01, -9.21654925e-02, -2.26419374e-01,\n",
       "            4.49010395e-02, -1.71255872e-01,  1.60429373e-01,\n",
       "           -2.76442230e-01, -1.42914593e-01, -1.46955505e-01,\n",
       "           -1.36619397e-02, -3.20710465e-02,  7.67102116e-04,\n",
       "            2.22207874e-01,  9.46268588e-02,  6.09916169e-04,\n",
       "           -3.76948446e-01, -7.91654736e-02,  1.73542440e-01,\n",
       "           -4.31731164e-01,  5.30622005e-02]],\n",
       " \n",
       "         [[ 2.25791737e-01,  8.31825808e-02, -1.73443809e-01,\n",
       "           -1.68648824e-01, -1.32266842e-02,  8.92310515e-02,\n",
       "            1.91397563e-01,  5.55517003e-02,  1.23855256e-01,\n",
       "            1.51656494e-01, -1.19076250e-02,  2.00169250e-01,\n",
       "            4.58765477e-02,  2.02927783e-01, -1.23113499e-03,\n",
       "           -5.55585474e-02,  1.40877008e-01, -1.17420554e-02,\n",
       "            5.32037280e-02,  1.53738886e-01, -1.00741573e-02,\n",
       "            2.44180575e-01, -2.04500481e-02, -9.00990292e-02,\n",
       "            1.13774277e-01,  1.12566814e-01, -1.45380065e-01,\n",
       "           -1.87776294e-02,  8.10966268e-02, -3.02572045e-02,\n",
       "            2.10200712e-01,  1.20018780e-01]],\n",
       " \n",
       "         [[ 1.17976151e-01, -4.14076477e-01, -2.49318499e-02,\n",
       "           -1.17352232e-01,  5.99614382e-02,  3.91419046e-02,\n",
       "            1.89574853e-01,  1.37814041e-02, -1.46816805e-01,\n",
       "           -4.08066630e-01, -2.40696594e-01, -3.30838829e-01,\n",
       "           -1.73764139e-01, -1.91650108e-01,  1.04982138e-01,\n",
       "            1.34807946e-02,  2.05501676e-01, -1.37975916e-01,\n",
       "            5.06551936e-02,  1.91816211e-01,  7.90665746e-02,\n",
       "            4.87671830e-02,  1.19088687e-01,  4.17619944e-02,\n",
       "           -2.06633031e-01, -3.76795232e-01,  3.50534432e-02,\n",
       "            2.73989588e-01, -1.11337662e-01, -1.83585823e-01,\n",
       "            1.96380675e-01,  5.74176125e-02]]],\n",
       " \n",
       " \n",
       "        [[[-1.43905595e-01, -4.23106492e-01,  7.88076296e-02,\n",
       "            1.81354024e-02,  1.29256651e-01, -1.36073371e-02,\n",
       "           -9.26644206e-02,  1.07934773e-01, -1.48065984e-01,\n",
       "           -1.38331428e-01,  1.24809228e-01,  1.34501338e-01,\n",
       "           -2.60230690e-01, -5.13204098e-01, -2.37114698e-01,\n",
       "            1.00888424e-01, -4.89908367e-01,  2.18745679e-01,\n",
       "           -2.42793217e-01, -3.93169284e-01,  8.14374611e-02,\n",
       "            2.18772992e-01,  3.14680547e-01,  7.81949088e-02,\n",
       "           -5.52308336e-02,  1.56193092e-01, -2.05539733e-01,\n",
       "            2.85988182e-01,  7.02211335e-02,  1.13000497e-01,\n",
       "           -2.72830606e-01, -1.25647679e-01]],\n",
       " \n",
       "         [[-3.46380323e-02, -3.62846047e-01,  6.13645241e-02,\n",
       "            1.46298885e-01,  4.86722565e-05, -1.40311688e-01,\n",
       "            2.67259121e-01,  4.97339778e-02, -1.89775065e-01,\n",
       "           -3.84101152e-01,  2.32319549e-01,  9.41073075e-02,\n",
       "           -5.76402485e-01, -2.50035912e-01,  2.31411159e-02,\n",
       "           -7.49678835e-02, -4.13312912e-01,  3.02463263e-01,\n",
       "            4.22823466e-02, -1.76958874e-01,  1.10484390e-02,\n",
       "           -7.83452392e-02, -1.85468659e-01,  8.16919282e-02,\n",
       "           -2.19416261e-01,  2.08836451e-01, -4.44361679e-02,\n",
       "           -3.00595343e-01, -8.21136385e-02,  2.31910497e-01,\n",
       "           -1.28804669e-02,  1.65800098e-02]],\n",
       " \n",
       "         [[-3.06603443e-02, -3.11934412e-01,  1.70219511e-01,\n",
       "            7.89854825e-02, -1.37643218e-02,  1.98045522e-02,\n",
       "            2.33146667e-01, -1.04128264e-01, -1.65729195e-01,\n",
       "           -1.19272806e-01, -2.94360914e-03, -3.73700440e-01,\n",
       "           -1.42312139e-01, -4.44724172e-01,  1.35464013e-01,\n",
       "            6.61239922e-02, -4.96102929e-01, -9.11153201e-03,\n",
       "            1.38185024e-01, -1.54704347e-01,  3.01009957e-02,\n",
       "           -2.02126205e-01, -3.78826737e-01, -7.73875415e-02,\n",
       "            1.62571162e-01, -2.38667205e-01,  1.67210609e-01,\n",
       "           -2.76265442e-01,  1.36582181e-01,  6.27186149e-02,\n",
       "            2.40637675e-01, -1.79923419e-02]]]], dtype=float32)>,\n",
       " <tf.Variable 'my_model_1/conv2d_1/bias:0' shape=(32,) dtype=float32, numpy=\n",
       " array([-0.03000267, -0.01560839, -0.20063011, -0.11664126, -0.14088647,\n",
       "        -0.09989019, -0.01949487, -0.1072344 , -0.0384406 , -0.01455878,\n",
       "        -0.03722106, -0.03304311, -0.01252992, -0.00981021, -0.1282945 ,\n",
       "        -0.1367846 , -0.01028885, -0.01753703, -0.16152734, -0.05743547,\n",
       "        -0.16596924, -0.15085104,  0.00023548, -0.16772829, -0.06793135,\n",
       "        -0.08246507, -0.18908526, -0.00917307, -0.18835482, -0.06492185,\n",
       "        -0.04083292, -0.00947759], dtype=float32)>,\n",
       " <tf.Variable 'my_model_1/dense_2/kernel:0' shape=(21632, 128) dtype=float32, numpy=\n",
       " array([[ 0.02306841,  0.012396  , -0.05834025, ...,  0.01113092,\n",
       "         -0.00471902,  0.02630495],\n",
       "        [-0.01469346,  0.00383436,  0.05116604, ..., -0.02972553,\n",
       "          0.01377251, -0.00308295],\n",
       "        [ 0.00584576, -0.00224495, -0.00424249, ...,  0.00799473,\n",
       "         -0.00544154, -0.00723747],\n",
       "        ...,\n",
       "        [ 0.00203796, -0.00642642,  0.00933923, ...,  0.00572563,\n",
       "         -0.01511399,  0.01534364],\n",
       "        [ 0.02542767, -0.00714048,  0.00664906, ..., -0.00320035,\n",
       "         -0.01023347, -0.00321282],\n",
       "        [-0.02874641,  0.00256421,  0.05105822, ..., -0.0550216 ,\n",
       "         -0.00679931, -0.0228457 ]], dtype=float32)>,\n",
       " <tf.Variable 'my_model_1/dense_2/bias:0' shape=(128,) dtype=float32, numpy=\n",
       " array([ 0.10369299, -0.02205792, -0.01843418, -0.05071639,  0.03077468,\n",
       "         0.04549201,  0.03795895, -0.03488717,  0.0453712 , -0.08716527,\n",
       "        -0.02026001, -0.01679891, -0.03013718,  0.03713131,  0.02071539,\n",
       "        -0.09520163,  0.00895394, -0.00600482,  0.00759966, -0.01829546,\n",
       "        -0.03242318, -0.11144727, -0.05623759, -0.00965749, -0.08546024,\n",
       "         0.07580866,  0.06117892,  0.01729475, -0.00600341, -0.02746218,\n",
       "         0.05642734, -0.01303247,  0.03026363,  0.03407121, -0.00600499,\n",
       "        -0.04603838, -0.0139536 ,  0.08679612, -0.07607454, -0.00988252,\n",
       "        -0.04176408, -0.01911109,  0.05688057,  0.05580123, -0.03201829,\n",
       "        -0.09941027, -0.00510956,  0.11295302, -0.01845024,  0.05090196,\n",
       "         0.03208347, -0.00602286,  0.01540465,  0.00021892, -0.02347183,\n",
       "        -0.01613922, -0.04043616,  0.05866119, -0.03193872, -0.03043046,\n",
       "        -0.04916682, -0.01654828, -0.00600469, -0.08684015, -0.06972089,\n",
       "        -0.06034729, -0.00234581,  0.00062635, -0.08801538,  0.03389281,\n",
       "         0.03531792,  0.00347891,  0.04790974, -0.00600492, -0.06409564,\n",
       "        -0.03331004, -0.00644845,  0.03830527,  0.04587496,  0.01214379,\n",
       "        -0.03590368, -0.00655537,  0.02468878, -0.0194234 , -0.02682672,\n",
       "         0.05585285,  0.05038031, -0.04376233,  0.01385088, -0.0214727 ,\n",
       "        -0.00945974,  0.05367737, -0.00600394, -0.08397777, -0.04175564,\n",
       "        -0.07295669,  0.03994116, -0.00292946,  0.01443744,  0.06766765,\n",
       "        -0.0623857 , -0.0492039 ,  0.03630614, -0.10775483,  0.02856443,\n",
       "        -0.00668745,  0.02742163,  0.05542807, -0.00558207, -0.02738279,\n",
       "         0.00547878,  0.04849831, -0.00603529,  0.03035626,  0.0013921 ,\n",
       "        -0.02203208, -0.01060647,  0.01210572, -0.01879766, -0.0419498 ,\n",
       "        -0.00660892, -0.0477921 , -0.0659851 , -0.00657372, -0.00600276,\n",
       "         0.00046524, -0.00626676,  0.01823038], dtype=float32)>,\n",
       " <tf.Variable 'my_model_1/dense_3/kernel:0' shape=(128, 10) dtype=float32, numpy=\n",
       " array([[ 0.1715392 ,  0.31537092, -0.17545642, ...,  0.15228805,\n",
       "         -0.39131874,  0.03331158],\n",
       "        [ 0.19653739,  0.13643414,  0.04735328, ...,  0.06508242,\n",
       "         -0.19537583,  0.0339566 ],\n",
       "        [ 0.09192502,  0.07233517,  0.05818233, ..., -0.24395145,\n",
       "          0.21127523,  0.17435542],\n",
       "        ...,\n",
       "        [-0.18489568,  0.1354309 , -0.18299533, ...,  0.22729273,\n",
       "          0.15578721, -0.12420924],\n",
       "        [-0.03814968,  0.0135685 , -0.1780469 , ..., -0.08895162,\n",
       "          0.190623  ,  0.18125258],\n",
       "        [ 0.1273198 , -0.05945296,  0.15491667, ...,  0.17187914,\n",
       "         -0.11421848, -0.4139222 ]], dtype=float32)>,\n",
       " <tf.Variable 'my_model_1/dense_3/bias:0' shape=(10,) dtype=float32, numpy=\n",
       " array([ 0.00913437,  0.06853759,  0.00488403, -0.02769125,  0.00254736,\n",
       "         0.01037223, -0.06050443,  0.02833746, -0.04182598,  0.00762407],\n",
       "       dtype=float32)>]"
      ]
     },
     "execution_count": 31,
     "metadata": {},
     "output_type": "execute_result"
    }
   ],
   "source": [
    "model.trainable_variables"
   ]
  },
  {
   "cell_type": "markdown",
   "metadata": {
    "id": "T4JfEh7kvx6m"
   },
   "source": [
    "훈련된 이미지 분류기는 이 데이터셋에서 약 98%의 정확도를 달성합니다. 더 자세한 내용은 [TensorFlow 튜토리얼](https://www.tensorflow.org/tutorials/)을 참고하세요."
   ]
  }
 ],
 "metadata": {
  "colab": {
   "collapsed_sections": [],
   "name": "advanced.ipynb",
   "toc_visible": true
  },
  "kernelspec": {
   "display_name": "Python 3",
   "language": "python",
   "name": "python3"
  },
  "language_info": {
   "codemirror_mode": {
    "name": "ipython",
    "version": 3
   },
   "file_extension": ".py",
   "mimetype": "text/x-python",
   "name": "python",
   "nbconvert_exporter": "python",
   "pygments_lexer": "ipython3",
   "version": "3.6.10"
  }
 },
 "nbformat": 4,
 "nbformat_minor": 1
}
