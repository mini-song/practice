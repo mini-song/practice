{
 "cells": [
  {
   "cell_type": "markdown",
   "metadata": {
    "colab_type": "text",
    "id": "1D2zND53dHZg"
   },
   "source": [
    "# DNN 구축과 훈련 실습"
   ]
  },
  {
   "cell_type": "markdown",
   "metadata": {
    "colab_type": "text",
    "id": "YuSmlP3hc2gA"
   },
   "source": [
    "## 라이브러리 불러오기"
   ]
  },
  {
   "cell_type": "code",
   "execution_count": 3,
   "metadata": {
    "ExecuteTime": {
     "end_time": "2021-02-01T00:34:30.161022Z",
     "start_time": "2021-02-01T00:34:30.151045Z"
    }
   },
   "outputs": [],
   "source": [
    "import warnings\n",
    "warnings.filterwarnings('ignore')"
   ]
  },
  {
   "cell_type": "code",
   "execution_count": 4,
   "metadata": {
    "ExecuteTime": {
     "end_time": "2021-02-01T00:34:55.194658Z",
     "start_time": "2021-02-01T00:34:30.542017Z"
    },
    "colab": {
     "base_uri": "https://localhost:8080/",
     "height": 55
    },
    "colab_type": "code",
    "id": "yIP78tvlc2gB",
    "outputId": "0def9aa6-d010-4b7c-822c-2fdca0735e96"
   },
   "outputs": [
    {
     "name": "stdout",
     "output_type": "stream",
     "text": [
      "2.4.1\n",
      "2.4.0\n"
     ]
    }
   ],
   "source": [
    "## 라이브러리 임포트\n",
    "import tensorflow as tf\n",
    "from tensorflow import keras\n",
    "from tensorflow.keras.utils import to_categorical\n",
    "import numpy as np\n",
    "import matplotlib.pyplot as plt\n",
    "import os\n",
    "\n",
    "print(tf.__version__)\n",
    "print(keras.__version__)"
   ]
  },
  {
   "cell_type": "markdown",
   "metadata": {
    "colab_type": "text",
    "id": "P9h5pJtRc2gG"
   },
   "source": [
    "## 하이퍼 파라미터"
   ]
  },
  {
   "cell_type": "code",
   "execution_count": 5,
   "metadata": {
    "ExecuteTime": {
     "end_time": "2021-02-01T00:34:55.201639Z",
     "start_time": "2021-02-01T00:34:55.197647Z"
    },
    "colab": {},
    "colab_type": "code",
    "id": "8GyqfeSTc2gH"
   },
   "outputs": [],
   "source": [
    "learning_rate = 0.001\n",
    "training_epochs = 10\n",
    "batch_size = 128\n",
    "n_class = 10"
   ]
  },
  {
   "cell_type": "markdown",
   "metadata": {
    "colab_type": "text",
    "id": "yfso9lHbc2gJ"
   },
   "source": [
    "## MNIST 데이터셋"
   ]
  },
  {
   "cell_type": "code",
   "execution_count": 6,
   "metadata": {
    "ExecuteTime": {
     "end_time": "2021-02-01T00:34:55.212608Z",
     "start_time": "2021-02-01T00:34:55.206625Z"
    },
    "colab": {},
    "colab_type": "code",
    "id": "bTm_qqgnc2gK"
   },
   "outputs": [],
   "source": [
    "## MNIST Dataset \n",
    "mnist = keras.datasets.mnist\n",
    "class_names = ['0', '1', '2', '3', '4', '5', '6', '7', '8', '9']\n",
    "\n",
    "## Fashion MNIST Dataset \n",
    "#mnist = keras.datasets.fashion_mnist\n",
    "#class_names = ['T-shirt/top', 'Trouser', 'Pullover', 'Dress', 'Coat', 'Sandal', 'Shirt', 'Sneaker', 'Bag', 'Ankle boot']"
   ]
  },
  {
   "cell_type": "markdown",
   "metadata": {
    "colab_type": "text",
    "id": "yBEChy8Vc2gM"
   },
   "source": [
    "## 데이터셋 불러오기"
   ]
  },
  {
   "cell_type": "code",
   "execution_count": 7,
   "metadata": {
    "ExecuteTime": {
     "end_time": "2021-02-01T00:34:56.088825Z",
     "start_time": "2021-02-01T00:34:55.216606Z"
    },
    "colab": {},
    "colab_type": "code",
    "id": "xIiLtFKFc2gN"
   },
   "outputs": [],
   "source": [
    "## MNIST dataset load\n",
    "(train_images, train_labels), (test_images, test_labels) = mnist.load_data()  "
   ]
  },
  {
   "cell_type": "markdown",
   "metadata": {},
   "source": [
    "## 연습1: 데이터셋 불러오기"
   ]
  },
  {
   "cell_type": "code",
   "execution_count": 8,
   "metadata": {
    "ExecuteTime": {
     "end_time": "2021-02-01T00:34:56.100781Z",
     "start_time": "2021-02-01T00:34:56.092802Z"
    },
    "colab": {
     "base_uri": "https://localhost:8080/",
     "height": 36
    },
    "colab_type": "code",
    "id": "7pZPYK3tc2gP",
    "outputId": "be2a0a49-3df7-4519-b66b-9f21f76032b3"
   },
   "outputs": [
    {
     "data": {
      "text/plain": [
       "numpy.ndarray"
      ]
     },
     "execution_count": 8,
     "metadata": {},
     "output_type": "execute_result"
    }
   ],
   "source": [
    "## train_images, train_labels의 type 확인\n",
    "type(train_images)"
   ]
  },
  {
   "cell_type": "code",
   "execution_count": 9,
   "metadata": {
    "ExecuteTime": {
     "end_time": "2021-02-01T00:34:56.118734Z",
     "start_time": "2021-02-01T00:34:56.105769Z"
    },
    "colab": {
     "base_uri": "https://localhost:8080/",
     "height": 36
    },
    "colab_type": "code",
    "id": "pot6yL8Jc2gR",
    "outputId": "258ac93e-72be-4f9c-ea08-60d7e15c9828"
   },
   "outputs": [
    {
     "data": {
      "text/plain": [
       "((60000, 28, 28), (60000,))"
      ]
     },
     "execution_count": 9,
     "metadata": {},
     "output_type": "execute_result"
    }
   ],
   "source": [
    "## train_images, train_labels의 shape 확인\n",
    "train_images.shape, train_labels.shape"
   ]
  },
  {
   "cell_type": "code",
   "execution_count": 10,
   "metadata": {
    "ExecuteTime": {
     "end_time": "2021-02-01T00:34:56.132696Z",
     "start_time": "2021-02-01T00:34:56.122731Z"
    },
    "colab": {
     "base_uri": "https://localhost:8080/",
     "height": 36
    },
    "colab_type": "code",
    "id": "tbXINTxAc2gT",
    "outputId": "bb8b9f5c-fd7e-4a37-f963-33fdc75d538e"
   },
   "outputs": [],
   "source": [
    "## test_images, test_labels의 shape 확인\n"
   ]
  },
  {
   "cell_type": "code",
   "execution_count": 11,
   "metadata": {
    "ExecuteTime": {
     "end_time": "2021-02-01T00:34:56.201514Z",
     "start_time": "2021-02-01T00:34:56.143667Z"
    },
    "colab": {
     "base_uri": "https://localhost:8080/",
     "height": 209
    },
    "colab_type": "code",
    "id": "UNUwl_XzdscK",
    "outputId": "6f388c04-880b-41d0-9f2b-2e925bb83a4f"
   },
   "outputs": [
    {
     "data": {
      "text/plain": [
       "{0: 5923,\n",
       " 1: 6742,\n",
       " 2: 5958,\n",
       " 3: 6131,\n",
       " 4: 5842,\n",
       " 5: 5421,\n",
       " 6: 5918,\n",
       " 7: 6265,\n",
       " 8: 5851,\n",
       " 9: 5949}"
      ]
     },
     "execution_count": 11,
     "metadata": {},
     "output_type": "execute_result"
    }
   ],
   "source": [
    "## training set의 각 class 별 image 수 확인\n",
    "unique, counts = np.unique(train_labels, axis=-1, return_counts=True)\n",
    "dict(zip(unique, counts)) # 데이터 불균형 없음  ! "
   ]
  },
  {
   "cell_type": "code",
   "execution_count": 12,
   "metadata": {
    "ExecuteTime": {
     "end_time": "2021-02-01T00:34:56.230452Z",
     "start_time": "2021-02-01T00:34:56.211485Z"
    },
    "colab": {
     "base_uri": "https://localhost:8080/",
     "height": 209
    },
    "colab_type": "code",
    "id": "jG4FZ0PKd2sQ",
    "outputId": "abb57dd3-045b-499a-dd71-1e7db1d4c4e5"
   },
   "outputs": [
    {
     "data": {
      "text/plain": [
       "{0: 980,\n",
       " 1: 1135,\n",
       " 2: 1032,\n",
       " 3: 1010,\n",
       " 4: 982,\n",
       " 5: 892,\n",
       " 6: 958,\n",
       " 7: 1028,\n",
       " 8: 974,\n",
       " 9: 1009}"
      ]
     },
     "execution_count": 12,
     "metadata": {},
     "output_type": "execute_result"
    }
   ],
   "source": [
    "## test set의 각 class 별 image 수 확인\n",
    "unique, counts = np.unique(test_labels, axis=-1, return_counts=True)\n",
    "dict(zip(unique, counts)) # 이렇게 표현하는거 "
   ]
  },
  {
   "cell_type": "code",
   "execution_count": 13,
   "metadata": {
    "ExecuteTime": {
     "end_time": "2021-02-01T00:34:56.247934Z",
     "start_time": "2021-02-01T00:34:56.238413Z"
    },
    "colab": {
     "base_uri": "https://localhost:8080/",
     "height": 55
    },
    "colab_type": "code",
    "id": "0IJkpDBLc2gV",
    "outputId": "6b35c7ff-046b-4aee-96b3-8c9c1ae389cd"
   },
   "outputs": [
    {
     "name": "stdout",
     "output_type": "stream",
     "text": [
      "train data 수:  60000\n",
      " test data 수:  10000\n"
     ]
    }
   ],
   "source": [
    "## train dataset, test dataset의 개수 저장\n",
    "n_train = train_images.shape[0]\n",
    "n_test = test_images.shape[0]\n",
    "print('train data 수: ', n_train)\n",
    "print(' test data 수: ', n_test)"
   ]
  },
  {
   "cell_type": "code",
   "execution_count": 14,
   "metadata": {
    "ExecuteTime": {
     "end_time": "2021-02-01T00:34:56.265877Z",
     "start_time": "2021-02-01T00:34:56.251913Z"
    }
   },
   "outputs": [
    {
     "name": "stdout",
     "output_type": "stream",
     "text": [
      "4\n"
     ]
    }
   ],
   "source": [
    "print(train_labels[2])"
   ]
  },
  {
   "cell_type": "code",
   "execution_count": 15,
   "metadata": {
    "ExecuteTime": {
     "end_time": "2021-02-01T00:34:57.714231Z",
     "start_time": "2021-02-01T00:34:56.275849Z"
    },
    "colab": {
     "base_uri": "https://localhost:8080/",
     "height": 265
    },
    "colab_type": "code",
    "id": "nPGVScGHc2gX",
    "outputId": "13525f5d-1424-4542-f0c8-0e62c5c1874a"
   },
   "outputs": [
    {
     "data": {
      "image/png": "[encoded data removed]",
      "text/plain": [
       "<Figure size 432x288 with 2 Axes>"
      ]
     },
     "metadata": {
      "needs_background": "light"
     },
     "output_type": "display_data"
    }
   ],
   "source": [
    "## train_images의 0번 image 화면에 출력\n",
    "plt.figure()\n",
    "plt.imshow(train_images[6], cmap=plt.cm.binary)\n",
    "plt.colorbar()\n",
    "plt.show()"
   ]
  },
  {
   "cell_type": "code",
   "execution_count": 16,
   "metadata": {
    "ExecuteTime": {
     "end_time": "2021-02-01T00:34:59.803474Z",
     "start_time": "2021-02-01T00:34:57.715209Z"
    },
    "colab": {
     "base_uri": "https://localhost:8080/",
     "height": 860
    },
    "colab_type": "code",
    "id": "lMx9I_5Lc2gZ",
    "outputId": "7f2b8bb0-205b-47d2-fa18-1d29691d6b43"
   },
   "outputs": [
    {
     "data": {
      "image/png": "[encoded data removed]",
      "text/plain": [
       "<Figure size 1080x1080 with 25 Axes>"
      ]
     },
     "metadata": {},
     "output_type": "display_data"
    }
   ],
   "source": [
    "## 25개의 train image와 label 화면에 출력\n",
    "plt.figure(figsize=(15,15))\n",
    "for i in range(25):\n",
    "    plt.subplot(5,5,i+1)\n",
    "    plt.xticks([])\n",
    "    plt.yticks([])\n",
    "    plt.grid(False)\n",
    "    plt.imshow(train_images[i], cmap=plt.cm.binary)\n",
    "    plt.xlabel(class_names[train_labels[i]])"
   ]
  },
  {
   "cell_type": "code",
   "execution_count": 17,
   "metadata": {
    "ExecuteTime": {
     "end_time": "2021-02-01T00:35:00.556733Z",
     "start_time": "2021-02-01T00:34:59.805464Z"
    },
    "colab": {
     "base_uri": "https://localhost:8080/",
     "height": 228
    },
    "colab_type": "code",
    "id": "kg0Nx9Obc2gb",
    "outputId": "ada56711-3720-46ea-ae9f-067298dcdd70"
   },
   "outputs": [
    {
     "name": "stdout",
     "output_type": "stream",
     "text": [
      "<nomalizing pixel values>\n",
      "before:  [ 35 241 225 160 108]\n",
      "after:   [0.13725491 0.94509804 0.88235295 0.627451   0.42352942]\n",
      "\n"
     ]
    }
   ],
   "source": [
    "## image를 0~1사이 값으로 만들기 위하여 255로 나누어줌\n",
    "print('<nomalizing pixel values>')\n",
    "print('before: ', train_images[0,13,12:17])\n",
    "train_images = train_images.astype(np.float32) / 255.\n",
    "test_images = test_images.astype(np.float32) / 255.\n",
    "print('after:  ', train_images[0,13,12:17])\n",
    "print()"
   ]
  },
  {
   "cell_type": "markdown",
   "metadata": {},
   "source": [
    "## 연습2: 원핫인코딩"
   ]
  },
  {
   "cell_type": "code",
   "execution_count": 18,
   "metadata": {
    "ExecuteTime": {
     "end_time": "2021-02-01T00:35:00.590423Z",
     "start_time": "2021-02-01T00:35:00.563494Z"
    }
   },
   "outputs": [
    {
     "name": "stdout",
     "output_type": "stream",
     "text": [
      "<one-hot encoding>\n",
      "before:  [5 0 4 1 9]\n",
      "after:   [[0. 0. 0. 0. 0. 1. 0. 0. 0. 0.]\n",
      " [1. 0. 0. 0. 0. 0. 0. 0. 0. 0.]\n",
      " [0. 0. 0. 0. 1. 0. 0. 0. 0. 0.]\n",
      " [0. 1. 0. 0. 0. 0. 0. 0. 0. 0.]\n",
      " [0. 0. 0. 0. 0. 0. 0. 0. 0. 1.]]\n"
     ]
    }
   ],
   "source": [
    "## one-hot encodin을 완성하라.\n",
    "## to_categorical(레이블, n_class)을 사용  => categorical_crossentropy로 매치하는 것 기억  (정수: sparse_categorial_crossentropy\n",
    "print('<one-hot encoding>')\n",
    "print('before: ', train_labels[:5])\n",
    "train_labels = to_categorical(train_labels, n_class)\n",
    "test_labels = to_categorical(test_labels, n_class)\n",
    "#  to do\n",
    "print('after:  ', train_labels[:5])"
   ]
  },
  {
   "cell_type": "markdown",
   "metadata": {},
   "source": [
    "## 연습3: 데이터셋 구성"
   ]
  },
  {
   "cell_type": "code",
   "execution_count": 19,
   "metadata": {
    "ExecuteTime": {
     "end_time": "2021-02-01T00:35:02.084768Z",
     "start_time": "2021-02-01T00:35:00.595418Z"
    },
    "colab": {},
    "colab_type": "code",
    "id": "lHyVpL1Ka9mz"
   },
   "outputs": [],
   "source": [
    "## dataset 구성\n",
    "# from_tensor_slices, shuffe, batch, repeat를 사용해보라. \n",
    "# 참조 \n",
    "#1. repeat(step_n) : 원하는 epoch 수를 넣을 수 있다. 아무런 파라미터를 주지 않는다면 iteration이 무제한으로 돌아간다.\n",
    "#2. shuffle(1000) : 한번 epoch이 돌고나서 랜덤하게 섞을 것인지 정한다.\n",
    "train_dataset = tf.data.Dataset.from_tensor_slices((train_images,train_labels)).shuffle(buffer_size=100000).batch(batch_size).repeat()\n",
    "test_dataset = tf.data.Dataset.from_tensor_slices((test_images,test_labels)).batch(batch_size)"
   ]
  },
  {
   "cell_type": "markdown",
   "metadata": {
    "colab_type": "text",
    "id": "y9pWpm9mc2gd"
   },
   "source": [
    "## 신경망으로 구현한 로지스틱 회귀 모델"
   ]
  },
  {
   "cell_type": "markdown",
   "metadata": {},
   "source": [
    "## 연습 4: 신경망 로지스틱 회귀 모델 구축"
   ]
  },
  {
   "cell_type": "code",
   "execution_count": 20,
   "metadata": {
    "ExecuteTime": {
     "end_time": "2021-02-01T00:35:02.104705Z",
     "start_time": "2021-02-01T00:35:02.088748Z"
    },
    "colab": {},
    "colab_type": "code",
    "id": "i5v4vQA2c2ge"
   },
   "outputs": [],
   "source": [
    "# 힌트: Dense, 클래스 10개, softmax를 사용해라.\n",
    "def create_lr_model():\n",
    "    model = keras.Sequential()\n",
    "    model.add(keras.layers.Flatten(input_shape=(28,28))) #28*28 짜리니까 1열로 만들어줘야함 ( 잘모르겠음 나중에 찾아바야함)\n",
    "    model.add(keras.layers.Dense(10,activation = 'softmax'))\n",
    "    \n",
    "    return model"
   ]
  },
  {
   "cell_type": "code",
   "execution_count": 21,
   "metadata": {
    "ExecuteTime": {
     "end_time": "2021-02-01T00:35:02.228375Z",
     "start_time": "2021-02-01T00:35:02.107699Z"
    },
    "colab": {
     "base_uri": "https://localhost:8080/",
     "height": 247
    },
    "colab_type": "code",
    "id": "54eUybNTc2gg",
    "outputId": "0f27021b-7053-4965-f0f5-a3d238b4b283"
   },
   "outputs": [
    {
     "name": "stdout",
     "output_type": "stream",
     "text": [
      "Model: \"sequential\"\n",
      "_________________________________________________________________\n",
      "Layer (type)                 Output Shape              Param #   \n",
      "=================================================================\n",
      "flatten (Flatten)            (None, 784)               0         \n",
      "_________________________________________________________________\n",
      "dense (Dense)                (None, 10)                7850      \n",
      "=================================================================\n",
      "Total params: 7,850\n",
      "Trainable params: 7,850\n",
      "Non-trainable params: 0\n",
      "_________________________________________________________________\n"
     ]
    }
   ],
   "source": [
    "lr_model = create_lr_model()\n",
    "lr_model.summary()"
   ]
  },
  {
   "cell_type": "markdown",
   "metadata": {},
   "source": [
    "# 연습 5. 모델 컴파일"
   ]
  },
  {
   "cell_type": "markdown",
   "metadata": {
    "colab_type": "text",
    "id": "xWTv4YmqegoR"
   },
   "source": [
    "## 모델 컴파일 (최적화와 손실함수) "
   ]
  },
  {
   "cell_type": "code",
   "execution_count": 22,
   "metadata": {
    "ExecuteTime": {
     "end_time": "2021-02-01T00:35:02.252309Z",
     "start_time": "2021-02-01T00:35:02.231367Z"
    },
    "colab": {},
    "colab_type": "code",
    "id": "WIDB24aaeZbT"
   },
   "outputs": [],
   "source": [
    "# 다음을 사용해 컴파일을 완성하라\n",
    "# keras.optimizers.Adam, learning_rate, 손실함수는 categorical_crossentropy, 성과척도는 accaury로 시도해보라\n",
    "# 최적화(optimizer), 손실함수(loss), 성과척도(metrics) 정의하는 것\n",
    "\n",
    "\n",
    "lr_model.compile(optimizer=tf.keras.optimizers.Adam(learning_rate),loss = 'categorical_crossentropy',metrics=['accuracy'])\n"
   ]
  },
  {
   "cell_type": "markdown",
   "metadata": {
    "colab_type": "text",
    "id": "UZ4-9ws-c2gh"
   },
   "source": [
    "## 훈련(학습)"
   ]
  },
  {
   "cell_type": "code",
   "execution_count": 23,
   "metadata": {
    "ExecuteTime": {
     "end_time": "2021-02-01T00:35:02.263292Z",
     "start_time": "2021-02-01T00:35:02.255309Z"
    },
    "colab": {
     "base_uri": "https://localhost:8080/",
     "height": 55
    },
    "colab_type": "code",
    "id": "Tuge30Lsc2gi",
    "outputId": "468ee494-6c01-4b0b-9eee-3e5690bef1cb"
   },
   "outputs": [
    {
     "name": "stdout",
     "output_type": "stream",
     "text": [
      "number of steps per epoch:  468\n",
      "number of steps per validation:  78\n"
     ]
    }
   ],
   "source": [
    "steps_per_epoch = n_train//batch_size  #model.fit()에서 사용한다.\n",
    "#어느정도 사이즈로 epoch 할것인가 ? \n",
    "validation_steps = n_test//batch_size\n",
    "print('number of steps per epoch: ', steps_per_epoch)\n",
    "print('number of steps per validation: ', validation_steps) "
   ]
  },
  {
   "cell_type": "code",
   "execution_count": 24,
   "metadata": {
    "ExecuteTime": {
     "end_time": "2021-02-01T00:35:03.290971Z",
     "start_time": "2021-02-01T00:35:02.274254Z"
    }
   },
   "outputs": [
    {
     "name": "stdout",
     "output_type": "stream",
     "text": [
      "78/78 [==============================] - 1s 2ms/step - loss: 2.3766 - accuracy: 0.1038\n"
     ]
    },
    {
     "data": {
      "text/plain": [
       "[2.371311902999878, 0.11418269574642181]"
      ]
     },
     "execution_count": 24,
     "metadata": {},
     "output_type": "execute_result"
    }
   ],
   "source": [
    "## traing 전에 loss 및 validation accuracy 확인\n",
    "# test_dataset을 사용해 보라\n",
    "lr_model.evaluate(test_dataset, steps=validation_steps)"
   ]
  },
  {
   "cell_type": "markdown",
   "metadata": {},
   "source": [
    "## 연습 6. 모델 학습 "
   ]
  },
  {
   "cell_type": "code",
   "execution_count": 25,
   "metadata": {
    "ExecuteTime": {
     "end_time": "2021-02-01T00:35:27.845417Z",
     "start_time": "2021-02-01T00:35:03.300945Z"
    },
    "colab": {
     "base_uri": "https://localhost:8080/",
     "height": 804
    },
    "colab_type": "code",
    "id": "AqA-8BjNfarK",
    "outputId": "c87c41f0-0383-406a-8b26-ca868f598bc2"
   },
   "outputs": [
    {
     "name": "stdout",
     "output_type": "stream",
     "text": [
      "Epoch 1/10\n",
      "468/468 [==============================] - 5s 8ms/step - loss: 0.6684 - accuracy: 0.8361 - val_loss: 0.3841 - val_accuracy: 0.9009\n",
      "Epoch 2/10\n",
      "468/468 [==============================] - 3s 7ms/step - loss: 0.3612 - accuracy: 0.9023 - val_loss: 0.3195 - val_accuracy: 0.9143\n",
      "Epoch 3/10\n",
      "468/468 [==============================] - 2s 5ms/step - loss: 0.3187 - accuracy: 0.9127 - val_loss: 0.2973 - val_accuracy: 0.9186\n",
      "Epoch 4/10\n",
      "468/468 [==============================] - 1s 3ms/step - loss: 0.2997 - accuracy: 0.9175 - val_loss: 0.2868 - val_accuracy: 0.9217\n",
      "Epoch 5/10\n",
      "468/468 [==============================] - 1s 3ms/step - loss: 0.2872 - accuracy: 0.9202 - val_loss: 0.2790 - val_accuracy: 0.9233\n",
      "Epoch 6/10\n",
      "468/468 [==============================] - 3s 5ms/step - loss: 0.2797 - accuracy: 0.9217 - val_loss: 0.2753 - val_accuracy: 0.9240\n",
      "Epoch 7/10\n",
      "468/468 [==============================] - 2s 5ms/step - loss: 0.2741 - accuracy: 0.9234 - val_loss: 0.2734 - val_accuracy: 0.9223\n",
      "Epoch 8/10\n",
      "468/468 [==============================] - 2s 5ms/step - loss: 0.2689 - accuracy: 0.9254 - val_loss: 0.2697 - val_accuracy: 0.9227\n",
      "Epoch 9/10\n",
      "468/468 [==============================] - 2s 5ms/step - loss: 0.2648 - accuracy: 0.9264 - val_loss: 0.2669 - val_accuracy: 0.9262\n",
      "Epoch 10/10\n",
      "468/468 [==============================] - 2s 4ms/step - loss: 0.2626 - accuracy: 0.9273 - val_loss: 0.2651 - val_accuracy: 0.9250\n"
     ]
    }
   ],
   "source": [
    "# 다음과 lr_model.fit() 함수를 이용해 아래 학습함수를 완성하라\n",
    "# 힌트:  train_dataset, epochs=training_epochs, steps_per_epoch=steps_per_epoch, \n",
    "# validation_data=test_dataset, validation_steps=validation_steps\n",
    "#  to do\n",
    "history = lr_model.fit(train_dataset,epochs=training_epochs,steps_per_epoch=steps_per_epoch,validation_data=test_dataset,validation_steps=validation_steps)"
   ]
  },
  {
   "cell_type": "code",
   "execution_count": 26,
   "metadata": {
    "ExecuteTime": {
     "end_time": "2021-02-01T00:35:28.261306Z",
     "start_time": "2021-02-01T00:35:27.855391Z"
    }
   },
   "outputs": [
    {
     "name": "stdout",
     "output_type": "stream",
     "text": [
      "78/78 [==============================] - 0s 4ms/step - loss: 0.2651 - accuracy: 0.9250\n"
     ]
    },
    {
     "data": {
      "text/plain": [
       "[0.2650761306285858, 0.9249799847602844]"
      ]
     },
     "execution_count": 26,
     "metadata": {},
     "output_type": "execute_result"
    }
   ],
   "source": [
    "## traing 후에 loss 및 validation accuracy 확인: 훈련이전과 비교\n",
    "# test_dataset을 사용해 보라\n",
    "lr_model.evaluate(test_dataset, steps=validation_steps)"
   ]
  },
  {
   "cell_type": "markdown",
   "metadata": {
    "colab_type": "text",
    "id": "KZ3x2hbfc2gk"
   },
   "source": [
    "## 학습 결과 확인"
   ]
  },
  {
   "cell_type": "code",
   "execution_count": 27,
   "metadata": {
    "ExecuteTime": {
     "end_time": "2021-02-01T00:35:28.302205Z",
     "start_time": "2021-02-01T00:35:28.267298Z"
    },
    "colab": {},
    "colab_type": "code",
    "id": "P8o6oJWWc2gl"
   },
   "outputs": [],
   "source": [
    "def plot_image(i, predictions_array, true_label, img):\n",
    "    predictions_array, true_label, img = predictions_array[i], true_label[i], img[i]\n",
    "    plt.grid(False)\n",
    "    plt.xticks([])\n",
    "    plt.yticks([])\n",
    "\n",
    "    plt.imshow(img, cmap=plt.cm.binary)  # 손글씨 그림 그리기\n",
    "\n",
    "    predicted_label = np.argmax(predictions_array)  # 레이블 예측\n",
    "    if predicted_label == true_label:\n",
    "        color = 'blue'\n",
    "    else:\n",
    "        color = 'red'\n",
    "\n",
    "    plt.xlabel(\"{} {:2.0f}% ({})\".format(class_names[predicted_label],\n",
    "                                100*np.max(predictions_array),\n",
    "                                class_names[true_label]),\n",
    "                                color=color)\n",
    "\n",
    "def plot_value_array(i, predictions_array, true_label):\n",
    "    predictions_array, true_label = predictions_array[i], true_label[i]\n",
    "    plt.grid(False)\n",
    "    #plt.xticks([])\n",
    "    plt.xticks(range(n_class), class_names, rotation=90)\n",
    "    plt.yticks([])\n",
    "    thisplot = plt.bar(range(n_class), predictions_array, color=\"#777777\")\n",
    "    plt.ylim([0, 1]) \n",
    "    predicted_label = np.argmax(predictions_array) # 레이블 예측\n",
    " \n",
    "    thisplot[predicted_label].set_color('red')\n",
    "    thisplot[true_label].set_color('blue')"
   ]
  },
  {
   "cell_type": "code",
   "execution_count": 28,
   "metadata": {
    "ExecuteTime": {
     "end_time": "2021-02-01T00:35:31.291332Z",
     "start_time": "2021-02-01T00:35:28.309176Z"
    },
    "colab": {
     "base_uri": "https://localhost:8080/",
     "height": 1000
    },
    "colab_type": "code",
    "id": "QXeU3uTQf-lK",
    "outputId": "80dfe9e1-aa7e-4b1d-f10e-2bf7ff503878"
   },
   "outputs": [
    {
     "data": {
      "image/png": "[encoded data removed]",
      "text/plain": [
       "<Figure size 1296x1440 with 30 Axes>"
      ]
     },
     "metadata": {
      "needs_background": "light"
     },
     "output_type": "display_data"
    }
   ],
   "source": [
    "rnd_idx = np.random.randint(1, n_test//batch_size)\n",
    "img_cnt = 0\n",
    "for images, labels in test_dataset:\n",
    "    img_cnt += 1\n",
    "    if img_cnt != rnd_idx:\n",
    "        continue\n",
    "    predictions = lr_model(images, training=False)\n",
    "    num_rows = 5\n",
    "    num_cols = 3\n",
    "    num_images = num_rows*num_cols\n",
    "    labels = tf.argmax(labels, axis=-1)\n",
    "    plt.figure(figsize=(3*2*num_cols, 4*num_rows))\n",
    "    plt.subplots_adjust(hspace=1.0)\n",
    "    for i in range(num_images):\n",
    "        plt.subplot(num_rows, 2*num_cols, 2*i+1)\n",
    "        plot_image(i, predictions.numpy(), labels.numpy(), images.numpy())  # images.numpy()를 imshow로 그린다.\n",
    "        plt.subplot(num_rows, 2*num_cols, 2*i+2)\n",
    "        plot_value_array(i, predictions.numpy(), labels.numpy())        \n",
    "    break"
   ]
  },
  {
   "cell_type": "code",
   "execution_count": 29,
   "metadata": {
    "ExecuteTime": {
     "end_time": "2021-02-01T00:35:31.304298Z",
     "start_time": "2021-02-01T00:35:31.293325Z"
    }
   },
   "outputs": [],
   "source": [
    " predictions = lr_model(images, training=False)"
   ]
  },
  {
   "cell_type": "code",
   "execution_count": 30,
   "metadata": {
    "ExecuteTime": {
     "end_time": "2021-02-01T00:35:31.953464Z",
     "start_time": "2021-02-01T00:35:31.312276Z"
    }
   },
   "outputs": [],
   "source": [
    " predictions = lr_model.predict(images)"
   ]
  },
  {
   "cell_type": "code",
   "execution_count": 31,
   "metadata": {
    "ExecuteTime": {
     "end_time": "2021-02-01T00:35:31.960439Z",
     "start_time": "2021-02-01T00:35:31.955448Z"
    }
   },
   "outputs": [
    {
     "data": {
      "text/plain": [
       "array([5.9292656e-06, 1.2765911e-01, 8.2502323e-01, 2.6312046e-02,\n",
       "       1.2888509e-07, 3.2504200e-04, 3.2052008e-04, 2.1297733e-06,\n",
       "       2.0348376e-02, 3.3236829e-06], dtype=float32)"
      ]
     },
     "execution_count": 31,
     "metadata": {},
     "output_type": "execute_result"
    }
   ],
   "source": [
    "predictions[0]"
   ]
  },
  {
   "cell_type": "markdown",
   "metadata": {
    "colab_type": "text",
    "id": "7NlrYsiqc2gn"
   },
   "source": [
    "## 3층 DNN을 구축해보자"
   ]
  },
  {
   "cell_type": "markdown",
   "metadata": {},
   "source": [
    "## 연습 7: 3층 DNN 구축"
   ]
  },
  {
   "cell_type": "code",
   "execution_count": 32,
   "metadata": {
    "ExecuteTime": {
     "end_time": "2021-02-01T00:35:31.979386Z",
     "start_time": "2021-02-01T00:35:31.965424Z"
    },
    "colab": {},
    "colab_type": "code",
    "id": "oExA_JU5c2gn"
   },
   "outputs": [],
   "source": [
    "# 다음의 3층 DNN을 완성하라.\n",
    "# input_shape=(28,28)를 사용하고\n",
    "# 은닉층의 유닛을 256, 128로 하고 마지막 전결합 출력 유닛을 10로 하는 3층 신경망을 완성하라. \n",
    "# 은닉층의 활성화 함수는 relu 전결합층의 활성화함수는 softmax를 사용하라.\n",
    "def create_mlp_model():\n",
    "    model = keras.Sequential()\n",
    "    model.add(keras.layers.Flatten(input_shape=(28,28))) #28*28 짜리니까 1열로 만들어줘야함 ( 잘모르겠음 나중에 찾아바야함)\n",
    "    model.add(keras.layers.Dense(256,activation = 'relu'))\n",
    "    model.add(keras.layers.Dense(128,activation = 'relu'))\n",
    "    model.add(keras.layers.Dense(10,activation = 'softmax'))\n",
    "    return model"
   ]
  },
  {
   "cell_type": "code",
   "execution_count": 33,
   "metadata": {
    "ExecuteTime": {
     "end_time": "2021-02-01T00:35:32.084106Z",
     "start_time": "2021-02-01T00:35:31.984390Z"
    },
    "colab": {
     "base_uri": "https://localhost:8080/",
     "height": 324
    },
    "colab_type": "code",
    "id": "qt3aJVrBg4I7",
    "outputId": "32fe62e0-8b36-4b2b-ec55-3b61a2e7a97c"
   },
   "outputs": [
    {
     "name": "stdout",
     "output_type": "stream",
     "text": [
      "Model: \"sequential_1\"\n",
      "_________________________________________________________________\n",
      "Layer (type)                 Output Shape              Param #   \n",
      "=================================================================\n",
      "flatten_1 (Flatten)          (None, 784)               0         \n",
      "_________________________________________________________________\n",
      "dense_1 (Dense)              (None, 256)               200960    \n",
      "_________________________________________________________________\n",
      "dense_2 (Dense)              (None, 128)               32896     \n",
      "_________________________________________________________________\n",
      "dense_3 (Dense)              (None, 10)                1290      \n",
      "=================================================================\n",
      "Total params: 235,146\n",
      "Trainable params: 235,146\n",
      "Non-trainable params: 0\n",
      "_________________________________________________________________\n"
     ]
    }
   ],
   "source": [
    "mlp_model = create_mlp_model()\n",
    "mlp_model.summary()"
   ]
  },
  {
   "cell_type": "code",
   "execution_count": 34,
   "metadata": {
    "ExecuteTime": {
     "end_time": "2021-02-01T00:35:32.117016Z",
     "start_time": "2021-02-01T00:35:32.092086Z"
    },
    "colab": {},
    "colab_type": "code",
    "id": "a4Bh7fiKc2gq"
   },
   "outputs": [],
   "source": [
    "## 모델 컴파일\n",
    "mlp_model.compile(optimizer=keras.optimizers.Adam(learning_rate),\n",
    "                 loss = 'categorical_crossentropy',\n",
    "                 metrics=['accuracy'])"
   ]
  },
  {
   "cell_type": "code",
   "execution_count": 35,
   "metadata": {
    "ExecuteTime": {
     "end_time": "2021-02-01T00:35:32.988574Z",
     "start_time": "2021-02-01T00:35:32.121014Z"
    },
    "colab": {
     "base_uri": "https://localhost:8080/",
     "height": 55
    },
    "colab_type": "code",
    "id": "08ZRV2yaNG1r",
    "outputId": "9a8cff49-4c17-42d1-cef3-237f90ac3027"
   },
   "outputs": [
    {
     "name": "stdout",
     "output_type": "stream",
     "text": [
      "78/78 [==============================] - 1s 4ms/step - loss: 2.3484 - accuracy: 0.1541\n"
     ]
    },
    {
     "data": {
      "text/plain": [
       "[2.3492088317871094, 0.15564903616905212]"
      ]
     },
     "execution_count": 35,
     "metadata": {},
     "output_type": "execute_result"
    }
   ],
   "source": [
    "## traing 전에 loss 및 validation accuracy 확인\n",
    "mlp_model.evaluate(test_dataset, steps=validation_steps)"
   ]
  },
  {
   "cell_type": "code",
   "execution_count": 36,
   "metadata": {
    "ExecuteTime": {
     "end_time": "2021-02-01T00:36:07.844231Z",
     "start_time": "2021-02-01T00:35:32.993564Z"
    },
    "colab": {
     "base_uri": "https://localhost:8080/",
     "height": 804
    },
    "colab_type": "code",
    "id": "PJUm_LLJc2gx",
    "outputId": "63793ce3-b8af-4174-8a11-51a4664d892a",
    "scrolled": false
   },
   "outputs": [
    {
     "name": "stdout",
     "output_type": "stream",
     "text": [
      "Epoch 1/10\n",
      "468/468 [==============================] - 6s 10ms/step - loss: 0.2740 - accuracy: 0.9217 - val_loss: 0.1198 - val_accuracy: 0.9634\n",
      "Epoch 2/10\n",
      "468/468 [==============================] - 4s 9ms/step - loss: 0.1034 - accuracy: 0.9696 - val_loss: 0.0873 - val_accuracy: 0.9732\n",
      "Epoch 3/10\n",
      "468/468 [==============================] - 3s 6ms/step - loss: 0.0664 - accuracy: 0.9794 - val_loss: 0.0797 - val_accuracy: 0.9755\n",
      "Epoch 4/10\n",
      "468/468 [==============================] - 3s 6ms/step - loss: 0.0484 - accuracy: 0.9852 - val_loss: 0.0870 - val_accuracy: 0.9717\n",
      "Epoch 5/10\n",
      "468/468 [==============================] - 3s 6ms/step - loss: 0.0364 - accuracy: 0.9886 - val_loss: 0.0726 - val_accuracy: 0.9780\n",
      "Epoch 6/10\n",
      "468/468 [==============================] - 3s 6ms/step - loss: 0.0274 - accuracy: 0.9911 - val_loss: 0.0694 - val_accuracy: 0.9794\n",
      "Epoch 7/10\n",
      "468/468 [==============================] - 3s 6ms/step - loss: 0.0223 - accuracy: 0.9928 - val_loss: 0.0831 - val_accuracy: 0.9748\n",
      "Epoch 8/10\n",
      "468/468 [==============================] - 3s 7ms/step - loss: 0.0194 - accuracy: 0.9933 - val_loss: 0.0797 - val_accuracy: 0.9787\n",
      "Epoch 9/10\n",
      "468/468 [==============================] - 3s 7ms/step - loss: 0.0146 - accuracy: 0.9957 - val_loss: 0.0830 - val_accuracy: 0.9782\n",
      "Epoch 10/10\n",
      "468/468 [==============================] - 3s 6ms/step - loss: 0.0125 - accuracy: 0.9960 - val_loss: 0.0790 - val_accuracy: 0.9789\n"
     ]
    }
   ],
   "source": [
    "## 훈련\n",
    "history = mlp_model.fit(train_dataset, epochs=training_epochs, steps_per_epoch=steps_per_epoch, \n",
    "                    validation_data=test_dataset, validation_steps=validation_steps)"
   ]
  },
  {
   "cell_type": "markdown",
   "metadata": {},
   "source": [
    "# 학습결과 확인"
   ]
  },
  {
   "cell_type": "code",
   "execution_count": 37,
   "metadata": {
    "ExecuteTime": {
     "end_time": "2021-02-01T00:36:07.861186Z",
     "start_time": "2021-02-01T00:36:07.846225Z"
    }
   },
   "outputs": [],
   "source": [
    "def plot_image(i, predictions_array, true_label, img):\n",
    "    predictions_array, true_label, img = predictions_array[i], true_label[i], img[i]\n",
    "    plt.grid(False)\n",
    "    plt.xticks([])\n",
    "    plt.yticks([])\n",
    "\n",
    "    plt.imshow(img,cmap=plt.cm.binary)\n",
    "\n",
    "    predicted_label = np.argmax(predictions_array)\n",
    "    if predicted_label == true_label:\n",
    "        color = 'blue'\n",
    "    else:\n",
    "        color = 'red'\n",
    "\n",
    "    plt.xlabel(\"{} {:2.0f}% ({})\".format(class_names[predicted_label],\n",
    "                                100*np.max(predictions_array),\n",
    "                                class_names[true_label]),\n",
    "                                color=color)\n",
    "\n",
    "def plot_value_array(i, predictions_array, true_label):\n",
    "    predictions_array, true_label = predictions_array[i], true_label[i]\n",
    "    plt.grid(False)\n",
    "    #plt.xticks([])\n",
    "    plt.xticks(range(n_class), class_names, rotation=90)\n",
    "    plt.yticks([])\n",
    "    thisplot = plt.bar(range(n_class), predictions_array, color=\"#777777\")\n",
    "    plt.ylim([0, 1]) \n",
    "    predicted_label = np.argmax(predictions_array)\n",
    " \n",
    "    thisplot[predicted_label].set_color('red')\n",
    "    thisplot[true_label].set_color('blue')"
   ]
  },
  {
   "cell_type": "code",
   "execution_count": 38,
   "metadata": {
    "ExecuteTime": {
     "end_time": "2021-02-01T00:36:09.957387Z",
     "start_time": "2021-02-01T00:36:07.867177Z"
    }
   },
   "outputs": [
    {
     "data": {
      "image/png": "[encoded data removed]",
      "text/plain": [
       "<Figure size 1296x1440 with 30 Axes>"
      ]
     },
     "metadata": {
      "needs_background": "light"
     },
     "output_type": "display_data"
    }
   ],
   "source": [
    "rnd_idx = np.random.randint(1, n_test//batch_size)\n",
    "img_cnt = 0\n",
    "for images, labels in test_dataset:\n",
    "    img_cnt += 1\n",
    "    if img_cnt != rnd_idx:\n",
    "        continue\n",
    "    predictions = lr_model(images, training=False)\n",
    "    num_rows = 5\n",
    "    num_cols = 3\n",
    "    num_images = num_rows*num_cols\n",
    "    labels = tf.argmax(labels, axis=-1)\n",
    "    plt.figure(figsize=(3*2*num_cols, 4*num_rows))\n",
    "    plt.subplots_adjust(hspace=1.0)\n",
    "    for i in range(num_images):\n",
    "        plt.subplot(num_rows, 2*num_cols, 2*i+1)\n",
    "        plot_image(i, predictions.numpy(), labels.numpy(), images.numpy())\n",
    "        plt.subplot(num_rows, 2*num_cols, 2*i+2)\n",
    "        plot_value_array(i, predictions.numpy(), labels.numpy())        \n",
    "    break"
   ]
  },
  {
   "cell_type": "markdown",
   "metadata": {
    "colab_type": "text",
    "id": "41x7OABPhZVL"
   },
   "source": [
    "## 이제 5층 DNN을 구축해보자"
   ]
  },
  {
   "cell_type": "markdown",
   "metadata": {},
   "source": [
    "## 연습 8:  5층 DNN 구축"
   ]
  },
  {
   "cell_type": "code",
   "execution_count": 39,
   "metadata": {
    "ExecuteTime": {
     "end_time": "2021-02-01T00:36:09.965368Z",
     "start_time": "2021-02-01T00:36:09.959383Z"
    },
    "colab": {},
    "colab_type": "code",
    "id": "b8VAp4MUc2g2"
   },
   "outputs": [],
   "source": [
    "# 다음의 5층 DNN을 완성하라.\n",
    "# input_shape=(28,28)를 사용하고\n",
    "# 2개 은닉층의 유닛을 각각 256, 128로 하고 마지막 전결합 출력 유닛을 10로 하는 5층 신경망을 완성하라. \n",
    "# 은닉층의 활성화 함수는 relu 전결합층의 활성화함수는 softmax를 사용하라.\n",
    "\n",
    "def create_dmlp_model():\n",
    "    model = keras.Sequential()\n",
    "    model.add(keras.layers.Flatten(input_shape=(28,28))) #28*28 짜리니까 1열로 만들어줘야함 ( 잘모르겠음 나중에 찾아바야함)\n",
    "    model.add(keras.layers.Dense(256,activation = 'relu'))\n",
    "    model.add(keras.layers.Dense(256,activation = 'relu'))\n",
    "    model.add(keras.layers.Dense(128,activation = 'relu'))\n",
    "    model.add(keras.layers.Dense(128,activation = 'relu'))\n",
    "    model.add(keras.layers.Dense(10,activation = 'softmax'))\n",
    "    return model"
   ]
  },
  {
   "cell_type": "code",
   "execution_count": 40,
   "metadata": {
    "ExecuteTime": {
     "end_time": "2021-02-01T00:36:10.042163Z",
     "start_time": "2021-02-01T00:36:09.968360Z"
    },
    "colab": {
     "base_uri": "https://localhost:8080/",
     "height": 401
    },
    "colab_type": "code",
    "id": "7-DUAEV0hsSd",
    "outputId": "28d707f7-d068-4956-95b1-bcf933a7e8a9"
   },
   "outputs": [
    {
     "name": "stdout",
     "output_type": "stream",
     "text": [
      "Model: \"sequential_2\"\n",
      "_________________________________________________________________\n",
      "Layer (type)                 Output Shape              Param #   \n",
      "=================================================================\n",
      "flatten_2 (Flatten)          (None, 784)               0         \n",
      "_________________________________________________________________\n",
      "dense_4 (Dense)              (None, 256)               200960    \n",
      "_________________________________________________________________\n",
      "dense_5 (Dense)              (None, 256)               65792     \n",
      "_________________________________________________________________\n",
      "dense_6 (Dense)              (None, 128)               32896     \n",
      "_________________________________________________________________\n",
      "dense_7 (Dense)              (None, 128)               16512     \n",
      "_________________________________________________________________\n",
      "dense_8 (Dense)              (None, 10)                1290      \n",
      "=================================================================\n",
      "Total params: 317,450\n",
      "Trainable params: 317,450\n",
      "Non-trainable params: 0\n",
      "_________________________________________________________________\n"
     ]
    }
   ],
   "source": [
    "dmlp_model = create_dmlp_model()\n",
    "dmlp_model.summary()"
   ]
  },
  {
   "cell_type": "code",
   "execution_count": 41,
   "metadata": {
    "ExecuteTime": {
     "end_time": "2021-02-01T00:36:10.056153Z",
     "start_time": "2021-02-01T00:36:10.044155Z"
    },
    "colab": {},
    "colab_type": "code",
    "id": "KhkHjbQNhwhU"
   },
   "outputs": [],
   "source": [
    "## 모델 컴파일\n",
    "dmlp_model.compile(optimizer=keras.optimizers.Adam(learning_rate),\n",
    "                 loss = 'categorical_crossentropy',\n",
    "                 metrics=['accuracy'])"
   ]
  },
  {
   "cell_type": "code",
   "execution_count": 42,
   "metadata": {
    "ExecuteTime": {
     "end_time": "2021-02-01T00:36:10.598462Z",
     "start_time": "2021-02-01T00:36:10.057121Z"
    },
    "colab": {
     "base_uri": "https://localhost:8080/",
     "height": 55
    },
    "colab_type": "code",
    "id": "r-WGoWaMN8hc",
    "outputId": "003b7855-77b4-4d4a-93ca-f5f620cbcb88"
   },
   "outputs": [
    {
     "name": "stdout",
     "output_type": "stream",
     "text": [
      "78/78 [==============================] - 1s 3ms/step - loss: 2.3059 - accuracy: 0.0845\n"
     ]
    },
    {
     "data": {
      "text/plain": [
       "[2.306889295578003, 0.08293269574642181]"
      ]
     },
     "execution_count": 42,
     "metadata": {},
     "output_type": "execute_result"
    }
   ],
   "source": [
    "## traing 전에 loss 및 validation accuracy 확인\n",
    "dmlp_model.evaluate(test_dataset, steps=validation_steps)"
   ]
  },
  {
   "cell_type": "code",
   "execution_count": 43,
   "metadata": {
    "ExecuteTime": {
     "end_time": "2021-02-01T00:36:50.614360Z",
     "start_time": "2021-02-01T00:36:10.603989Z"
    },
    "colab": {
     "base_uri": "https://localhost:8080/",
     "height": 804
    },
    "colab_type": "code",
    "id": "6Vv2ebjDh4LZ",
    "outputId": "71712c29-f948-42ca-ff5e-991aca8321a1"
   },
   "outputs": [
    {
     "name": "stdout",
     "output_type": "stream",
     "text": [
      "Epoch 1/10\n",
      "468/468 [==============================] - 4s 7ms/step - loss: 0.2554 - accuracy: 0.9249 - val_loss: 0.1237 - val_accuracy: 0.9620\n",
      "Epoch 2/10\n",
      "468/468 [==============================] - 4s 8ms/step - loss: 0.0979 - accuracy: 0.9697 - val_loss: 0.1000 - val_accuracy: 0.9681\n",
      "Epoch 3/10\n",
      "468/468 [==============================] - 4s 9ms/step - loss: 0.0663 - accuracy: 0.9790 - val_loss: 0.0810 - val_accuracy: 0.9753\n",
      "Epoch 4/10\n",
      "468/468 [==============================] - 4s 9ms/step - loss: 0.0501 - accuracy: 0.9840 - val_loss: 0.1153 - val_accuracy: 0.9663\n",
      "Epoch 5/10\n",
      "468/468 [==============================] - 4s 8ms/step - loss: 0.0380 - accuracy: 0.9874 - val_loss: 0.0815 - val_accuracy: 0.9752\n",
      "Epoch 6/10\n",
      "468/468 [==============================] - 4s 8ms/step - loss: 0.0332 - accuracy: 0.9891 - val_loss: 0.0893 - val_accuracy: 0.9754\n",
      "Epoch 7/10\n",
      "468/468 [==============================] - 4s 8ms/step - loss: 0.0276 - accuracy: 0.9909 - val_loss: 0.0830 - val_accuracy: 0.9776\n",
      "Epoch 8/10\n",
      "468/468 [==============================] - 4s 8ms/step - loss: 0.0240 - accuracy: 0.9924 - val_loss: 0.0804 - val_accuracy: 0.9769\n",
      "Epoch 9/10\n",
      "468/468 [==============================] - 4s 9ms/step - loss: 0.0235 - accuracy: 0.9923 - val_loss: 0.0720 - val_accuracy: 0.9805\n",
      "Epoch 10/10\n",
      "468/468 [==============================] - 4s 8ms/step - loss: 0.0173 - accuracy: 0.9944 - val_loss: 0.0832 - val_accuracy: 0.9801\n"
     ]
    }
   ],
   "source": [
    "## 훈련\n",
    "history = dmlp_model.fit(train_dataset, epochs=training_epochs, steps_per_epoch=steps_per_epoch, \n",
    "                    validation_data=test_dataset, validation_steps=validation_steps)"
   ]
  },
  {
   "cell_type": "markdown",
   "metadata": {
    "colab_type": "text",
    "id": "71kpuSCFiVC8"
   },
   "source": [
    "## 드롭 아웃 (Drop-out)을 추가해보자"
   ]
  },
  {
   "cell_type": "markdown",
   "metadata": {},
   "source": [
    "## 연습 9: 드롭아웃 추가"
   ]
  },
  {
   "cell_type": "code",
   "execution_count": 56,
   "metadata": {
    "ExecuteTime": {
     "end_time": "2021-02-01T00:44:46.566640Z",
     "start_time": "2021-02-01T00:44:46.558663Z"
    },
    "colab": {},
    "colab_type": "code",
    "id": "nJlViNrRiTxX"
   },
   "outputs": [],
   "source": [
    "# 5층 DNN의 은닉층의 출력 다음 단계에 Dropout을 추가하라. kera.layers.Dropout(drop_rate)\n",
    "drop_rate = 0.2 #랜덤하게 20% 줄이기 \n",
    "\n",
    "def create_do_model():\n",
    "    model = keras.Sequential()\n",
    "    \n",
    "    model.add(keras.layers.Flatten(input_shape=(28,28))) #28*28 짜리니까 1열로 만들어줘야함 ( 잘모르겠음 나중에 찾아바야함)\n",
    "    model.add(keras.layers.Dense(256,activation = 'relu'))\n",
    "    model.add(keras.layers.Dropout(drop_rate))\n",
    "    model.add(keras.layers.Dense(256,activation = 'relu'))\n",
    "    model.add(keras.layers.Dropout(drop_rate))\n",
    "    model.add(keras.layers.Dense(128,activation = 'relu'))\n",
    "    model.add(keras.layers.Dropout(drop_rate))\n",
    "    model.add(keras.layers.Dense(128,activation = 'relu'))\n",
    "    model.add(keras.layers.Dense(10,activation = 'softmax'))\n",
    "    #output = tf.keras.layers.Dropout(...)(input)\n",
    "    return model"
   ]
  },
  {
   "cell_type": "code",
   "execution_count": 57,
   "metadata": {
    "ExecuteTime": {
     "end_time": "2021-02-01T00:44:47.114218Z",
     "start_time": "2021-02-01T00:44:47.040372Z"
    },
    "colab": {
     "base_uri": "https://localhost:8080/",
     "height": 554
    },
    "colab_type": "code",
    "id": "nI-pBhnhikLR",
    "outputId": "3934aac5-5373-4b45-be7a-9bdabf556413"
   },
   "outputs": [
    {
     "name": "stdout",
     "output_type": "stream",
     "text": [
      "Model: \"sequential_9\"\n",
      "_________________________________________________________________\n",
      "Layer (type)                 Output Shape              Param #   \n",
      "=================================================================\n",
      "flatten_8 (Flatten)          (None, 784)               0         \n",
      "_________________________________________________________________\n",
      "dense_34 (Dense)             (None, 256)               200960    \n",
      "_________________________________________________________________\n",
      "dropout_5 (Dropout)          (None, 256)               0         \n",
      "_________________________________________________________________\n",
      "dense_35 (Dense)             (None, 256)               65792     \n",
      "_________________________________________________________________\n",
      "dropout_6 (Dropout)          (None, 256)               0         \n",
      "_________________________________________________________________\n",
      "dense_36 (Dense)             (None, 128)               32896     \n",
      "_________________________________________________________________\n",
      "dropout_7 (Dropout)          (None, 128)               0         \n",
      "_________________________________________________________________\n",
      "dense_37 (Dense)             (None, 128)               16512     \n",
      "_________________________________________________________________\n",
      "dense_38 (Dense)             (None, 10)                1290      \n",
      "=================================================================\n",
      "Total params: 317,450\n",
      "Trainable params: 317,450\n",
      "Non-trainable params: 0\n",
      "_________________________________________________________________\n"
     ]
    }
   ],
   "source": [
    "do_model = create_do_model()\n",
    "do_model.summary()"
   ]
  },
  {
   "cell_type": "code",
   "execution_count": 88,
   "metadata": {
    "ExecuteTime": {
     "end_time": "2021-02-01T00:59:39.288716Z",
     "start_time": "2021-02-01T00:59:39.265763Z"
    },
    "colab": {},
    "colab_type": "code",
    "id": "HCcq8aCHipD7"
   },
   "outputs": [],
   "source": [
    "## 모델 컴파일\n",
    "do_model.compile(optimizer=keras.optimizers.Adam(learning_rate),\n",
    "                 loss = 'categorical_crossentropy',\n",
    "                 metrics=['accuracy'])"
   ]
  },
  {
   "cell_type": "code",
   "execution_count": 89,
   "metadata": {
    "ExecuteTime": {
     "end_time": "2021-02-01T00:59:40.510432Z",
     "start_time": "2021-02-01T00:59:39.685640Z"
    },
    "colab": {
     "base_uri": "https://localhost:8080/",
     "height": 55
    },
    "colab_type": "code",
    "id": "TLWGEw3mOMmN",
    "outputId": "aa4447c9-7bee-4e6e-97dc-cb6d6ce6c55f"
   },
   "outputs": [
    {
     "name": "stdout",
     "output_type": "stream",
     "text": [
      "78/78 [==============================] - 1s 5ms/step - loss: 0.1023 - accuracy: 0.9745\n"
     ]
    },
    {
     "data": {
      "text/plain": [
       "[0.08603034168481827, 0.9773637652397156]"
      ]
     },
     "execution_count": 89,
     "metadata": {},
     "output_type": "execute_result"
    }
   ],
   "source": [
    "## traing 전에 loss 및 validation accuracy 확인\n",
    "do_model.evaluate(test_dataset, steps=validation_steps)"
   ]
  },
  {
   "cell_type": "code",
   "execution_count": 90,
   "metadata": {
    "ExecuteTime": {
     "end_time": "2021-02-01T01:00:37.874305Z",
     "start_time": "2021-02-01T00:59:40.516406Z"
    },
    "colab": {
     "base_uri": "https://localhost:8080/",
     "height": 804
    },
    "colab_type": "code",
    "id": "1mKoA7PQisdX",
    "outputId": "0dc25016-275a-40b9-caba-35ba673a00e7"
   },
   "outputs": [
    {
     "name": "stdout",
     "output_type": "stream",
     "text": [
      "Epoch 1/10\n",
      "468/468 [==============================] - 7s 14ms/step - loss: 0.0445 - accuracy: 0.9862 - val_loss: 0.0753 - val_accuracy: 0.9812\n",
      "Epoch 2/10\n",
      "468/468 [==============================] - 6s 13ms/step - loss: 0.0391 - accuracy: 0.9874 - val_loss: 0.0714 - val_accuracy: 0.9806\n",
      "Epoch 3/10\n",
      "468/468 [==============================] - 5s 10ms/step - loss: 0.0370 - accuracy: 0.9885 - val_loss: 0.0698 - val_accuracy: 0.9836\n",
      "Epoch 4/10\n",
      "468/468 [==============================] - 6s 12ms/step - loss: 0.0333 - accuracy: 0.9897 - val_loss: 0.0757 - val_accuracy: 0.9810\n",
      "Epoch 5/10\n",
      "468/468 [==============================] - 5s 11ms/step - loss: 0.0329 - accuracy: 0.9897 - val_loss: 0.0781 - val_accuracy: 0.9818\n",
      "Epoch 6/10\n",
      "468/468 [==============================] - 6s 12ms/step - loss: 0.0311 - accuracy: 0.9903 - val_loss: 0.0717 - val_accuracy: 0.9834\n",
      "Epoch 7/10\n",
      "468/468 [==============================] - 6s 12ms/step - loss: 0.0299 - accuracy: 0.9906 - val_loss: 0.0676 - val_accuracy: 0.9835\n",
      "Epoch 8/10\n",
      "468/468 [==============================] - 5s 11ms/step - loss: 0.0293 - accuracy: 0.9905 - val_loss: 0.0742 - val_accuracy: 0.9827\n",
      "Epoch 9/10\n",
      "468/468 [==============================] - 6s 13ms/step - loss: 0.0295 - accuracy: 0.9911 - val_loss: 0.0734 - val_accuracy: 0.9836\n",
      "Epoch 10/10\n",
      "468/468 [==============================] - 5s 11ms/step - loss: 0.0257 - accuracy: 0.9921 - val_loss: 0.0794 - val_accuracy: 0.9820\n"
     ]
    }
   ],
   "source": [
    "## 훈련\n",
    "history = do_model.fit(train_dataset, epochs=training_epochs, steps_per_epoch=steps_per_epoch, \n",
    "                    validation_data=test_dataset, validation_steps=validation_steps)"
   ]
  },
  {
   "cell_type": "markdown",
   "metadata": {
    "colab_type": "text",
    "id": "o4Gwn7Ohke_0"
   },
   "source": [
    "## 가중치 감쇠: L2 규제화 (Weight Decay: L2 Regulrarization)를 적용해보자"
   ]
  },
  {
   "cell_type": "markdown",
   "metadata": {},
   "source": [
    "## 연습 10: 가중치 감쇠 규제화"
   ]
  },
  {
   "cell_type": "code",
   "execution_count": 91,
   "metadata": {
    "ExecuteTime": {
     "end_time": "2021-02-01T01:00:37.897244Z",
     "start_time": "2021-02-01T01:00:37.879292Z"
    },
    "colab": {},
    "colab_type": "code",
    "id": "498WlMinivuh"
   },
   "outputs": [],
   "source": [
    "# 다음을 이용해서 5층 DNN의 규제화를 완성하라. (Dropout 대신 규제화를 사용한다.)\n",
    "# kernel_regularizer=keras.regularizers.l2(reg_weight),\n",
    "# bias_regularizer=keras.regularizers.l2(reg_weight\n",
    "reg_weight = 0.00002\n",
    "\n",
    "def create_l2r_model():\n",
    "    model = keras.Sequential()\n",
    "    \n",
    "    model.add(keras.layers.Flatten(input_shape=(28,28))) #28*28 짜리니까 1열로 만들어줘야함 ( 잘모르겠음 나중에 찾아바야함)\n",
    "    model.add(keras.layers.Dense(256,activation = 'relu', \n",
    "              kernel_regularizer=keras.regularizers.l2(reg_weight) ,\n",
    "              bias_regularizer=keras.regularizers.l2(reg_weight)))\n",
    "    model.add(keras.layers.Dense(256,activation = 'relu', \n",
    "              kernel_regularizer=keras.regularizers.l2(reg_weight) ,\n",
    "              bias_regularizer=keras.regularizers.l2(reg_weight)))\n",
    "    model.add(keras.layers.Dense(128,activation = 'relu' ,\n",
    "              kernel_regularizer=keras.regularizers.l2(reg_weight) ,\n",
    "              bias_regularizer=keras.regularizers.l2(reg_weight)))\n",
    "    model.add(keras.layers.Dense(128,activation = 'relu', \n",
    "              kernel_regularizer=keras.regularizers.l2(reg_weight) ,\n",
    "              bias_regularizer=keras.regularizers.l2(reg_weight)))\n",
    "    model.add(keras.layers.Dense(10,activation = 'softmax',\n",
    "              kernel_regularizer=keras.regularizers.l2(reg_weight) ,\n",
    "              bias_regularizer=keras.regularizers.l2(reg_weight)))\n",
    "    return model"
   ]
  },
  {
   "cell_type": "code",
   "execution_count": 92,
   "metadata": {
    "ExecuteTime": {
     "end_time": "2021-02-01T01:00:37.982018Z",
     "start_time": "2021-02-01T01:00:37.904225Z"
    },
    "colab": {
     "base_uri": "https://localhost:8080/",
     "height": 401
    },
    "colab_type": "code",
    "id": "oaAVX1tKi684",
    "outputId": "334f12ac-8205-4919-c8b3-991d17fec071"
   },
   "outputs": [
    {
     "name": "stdout",
     "output_type": "stream",
     "text": [
      "Model: \"sequential_21\"\n",
      "_________________________________________________________________\n",
      "Layer (type)                 Output Shape              Param #   \n",
      "=================================================================\n",
      "flatten_20 (Flatten)         (None, 784)               0         \n",
      "_________________________________________________________________\n",
      "dense_54 (Dense)             (None, 256)               200960    \n",
      "_________________________________________________________________\n",
      "dense_55 (Dense)             (None, 256)               65792     \n",
      "_________________________________________________________________\n",
      "dense_56 (Dense)             (None, 128)               32896     \n",
      "_________________________________________________________________\n",
      "dense_57 (Dense)             (None, 128)               16512     \n",
      "_________________________________________________________________\n",
      "dense_58 (Dense)             (None, 10)                1290      \n",
      "=================================================================\n",
      "Total params: 317,450\n",
      "Trainable params: 317,450\n",
      "Non-trainable params: 0\n",
      "_________________________________________________________________\n"
     ]
    }
   ],
   "source": [
    "l2r_model = create_l2r_model()\n",
    "l2r_model.summary()"
   ]
  },
  {
   "cell_type": "code",
   "execution_count": 93,
   "metadata": {
    "ExecuteTime": {
     "end_time": "2021-02-01T01:00:37.999973Z",
     "start_time": "2021-02-01T01:00:37.984011Z"
    },
    "colab": {},
    "colab_type": "code",
    "id": "aA44lA68i_Jr"
   },
   "outputs": [],
   "source": [
    "## 모델 컴파일\n",
    "l2r_model.compile(optimizer=keras.optimizers.Adam(learning_rate),\n",
    "                 loss = 'categorical_crossentropy',\n",
    "                 metrics=['accuracy'])"
   ]
  },
  {
   "cell_type": "code",
   "execution_count": 94,
   "metadata": {
    "ExecuteTime": {
     "end_time": "2021-02-01T01:00:38.805346Z",
     "start_time": "2021-02-01T01:00:38.001962Z"
    },
    "colab": {
     "base_uri": "https://localhost:8080/",
     "height": 55
    },
    "colab_type": "code",
    "id": "vQiT1vyKOT0l",
    "outputId": "4c4fb79e-a92b-430e-942e-7ba0ea955eb8"
   },
   "outputs": [
    {
     "name": "stdout",
     "output_type": "stream",
     "text": [
      "78/78 [==============================] - 1s 4ms/step - loss: 2.3351 - accuracy: 0.0972\n"
     ]
    },
    {
     "data": {
      "text/plain": [
       "[2.336247444152832, 0.09805689007043839]"
      ]
     },
     "execution_count": 94,
     "metadata": {},
     "output_type": "execute_result"
    }
   ],
   "source": [
    "## traing 전에 loss 및 validation accuracy 확인\n",
    "l2r_model.evaluate(test_dataset, steps=validation_steps)"
   ]
  },
  {
   "cell_type": "code",
   "execution_count": 95,
   "metadata": {
    "ExecuteTime": {
     "end_time": "2021-02-01T01:01:32.954720Z",
     "start_time": "2021-02-01T01:00:38.812962Z"
    },
    "colab": {
     "base_uri": "https://localhost:8080/",
     "height": 804
    },
    "colab_type": "code",
    "id": "z8WeyIGjjCDV",
    "outputId": "cf5aaacc-0e77-4627-d674-2655b791940b"
   },
   "outputs": [
    {
     "name": "stdout",
     "output_type": "stream",
     "text": [
      "Epoch 1/10\n",
      "468/468 [==============================] - 7s 13ms/step - loss: 0.2799 - accuracy: 0.9216 - val_loss: 0.1539 - val_accuracy: 0.9581\n",
      "Epoch 2/10\n",
      "468/468 [==============================] - 5s 10ms/step - loss: 0.1158 - accuracy: 0.9701 - val_loss: 0.1050 - val_accuracy: 0.9718\n",
      "Epoch 3/10\n",
      "468/468 [==============================] - 5s 10ms/step - loss: 0.0849 - accuracy: 0.9800 - val_loss: 0.1177 - val_accuracy: 0.9702\n",
      "Epoch 4/10\n",
      "468/468 [==============================] - 5s 10ms/step - loss: 0.0710 - accuracy: 0.9837 - val_loss: 0.0904 - val_accuracy: 0.9788\n",
      "Epoch 5/10\n",
      "468/468 [==============================] - 5s 11ms/step - loss: 0.0602 - accuracy: 0.9880 - val_loss: 0.0976 - val_accuracy: 0.9778\n",
      "Epoch 6/10\n",
      "468/468 [==============================] - 5s 10ms/step - loss: 0.0559 - accuracy: 0.9891 - val_loss: 0.0900 - val_accuracy: 0.9807\n",
      "Epoch 7/10\n",
      "468/468 [==============================] - 6s 12ms/step - loss: 0.0512 - accuracy: 0.9904 - val_loss: 0.1160 - val_accuracy: 0.9735\n",
      "Epoch 8/10\n",
      "468/468 [==============================] - 6s 12ms/step - loss: 0.0493 - accuracy: 0.9915 - val_loss: 0.0977 - val_accuracy: 0.9792\n",
      "Epoch 9/10\n",
      "468/468 [==============================] - 6s 12ms/step - loss: 0.0471 - accuracy: 0.9923 - val_loss: 0.1073 - val_accuracy: 0.9764\n",
      "Epoch 10/10\n",
      "468/468 [==============================] - 6s 12ms/step - loss: 0.0434 - accuracy: 0.9940 - val_loss: 0.1061 - val_accuracy: 0.9791\n"
     ]
    }
   ],
   "source": [
    "## 훈련\n",
    "history = l2r_model.fit(train_dataset, epochs=training_epochs, steps_per_epoch=steps_per_epoch, \n",
    "                    validation_data=test_dataset, validation_steps=validation_steps)"
   ]
  },
  {
   "cell_type": "markdown",
   "metadata": {
    "colab_type": "text",
    "id": "irML-8lUkkfG"
   },
   "source": [
    "## 배치 정규화 (Batch Normalization)를 추가해보자"
   ]
  },
  {
   "cell_type": "markdown",
   "metadata": {},
   "source": [
    "## 연습 11 배치 정규화 추가"
   ]
  },
  {
   "cell_type": "code",
   "execution_count": 107,
   "metadata": {
    "ExecuteTime": {
     "end_time": "2021-02-01T01:06:10.361454Z",
     "start_time": "2021-02-01T01:06:10.353500Z"
    },
    "colab": {},
    "colab_type": "code",
    "id": "gNeYF10ejFGk"
   },
   "outputs": [],
   "source": [
    "# BatchNormalizatio()과 ReLu()를 이용해 5층 DNN을 완성하라.\n",
    "# 배치를 먼저하고 Relu를 사용(활성화함수) \n",
    "def create_bn_model():\n",
    "    model = keras.Sequential()\n",
    "    model.add(keras.layers.Flatten(input_shape=(28,28))) #28*28 짜리니까 1열로 만들어줘야함 ( 잘모르겠음 나중에 찾아바야함)\n",
    "    model.add(keras.layers.Dense(256))\n",
    "    model.add(keras.layers.BatchNormalization())\n",
    "    model.add(keras.layers.ReLU())\n",
    "    model.add(keras.layers.Dense(256))\n",
    "    model.add(keras.layers.BatchNormalization())\n",
    "    model.add(keras.layers.ReLU())\n",
    "    model.add(keras.layers.Dense(128))\n",
    "    model.add(keras.layers.BatchNormalization())\n",
    "    model.add(keras.layers.ReLU())\n",
    "    model.add(keras.layers.Dense(128))\n",
    "    model.add(keras.layers.BatchNormalization())\n",
    "    model.add(keras.layers.ReLU())\n",
    "    model.add(keras.layers.Dense(10))\n",
    "    model.add(keras.layers.BatchNormalization())\n",
    "    model.add(keras.layers.Softmax())\n",
    "    return model\n",
    "\n",
    "#drop out 보다는 Batch Normaliztion이 대체했다. \n",
    "#tanh의 값이 너무 커질때 기울기 손실 문제를 줄여줄수 있는게 Batch Norm이다. "
   ]
  },
  {
   "cell_type": "code",
   "execution_count": 108,
   "metadata": {
    "ExecuteTime": {
     "end_time": "2021-02-01T01:06:10.885051Z",
     "start_time": "2021-02-01T01:06:10.715505Z"
    },
    "colab": {
     "base_uri": "https://localhost:8080/",
     "height": 785
    },
    "colab_type": "code",
    "id": "yE7WPx0gjiCc",
    "outputId": "155b1f6e-cd2f-4b2f-c101-3d43fcb7eb2b"
   },
   "outputs": [
    {
     "name": "stdout",
     "output_type": "stream",
     "text": [
      "Model: \"sequential_23\"\n",
      "_________________________________________________________________\n",
      "Layer (type)                 Output Shape              Param #   \n",
      "=================================================================\n",
      "flatten_22 (Flatten)         (None, 784)               0         \n",
      "_________________________________________________________________\n",
      "dense_60 (Dense)             (None, 256)               200960    \n",
      "_________________________________________________________________\n",
      "batch_normalization_1 (Batch (None, 256)               1024      \n",
      "_________________________________________________________________\n",
      "re_lu (ReLU)                 (None, 256)               0         \n",
      "_________________________________________________________________\n",
      "dense_61 (Dense)             (None, 256)               65792     \n",
      "_________________________________________________________________\n",
      "batch_normalization_2 (Batch (None, 256)               1024      \n",
      "_________________________________________________________________\n",
      "re_lu_1 (ReLU)               (None, 256)               0         \n",
      "_________________________________________________________________\n",
      "dense_62 (Dense)             (None, 128)               32896     \n",
      "_________________________________________________________________\n",
      "batch_normalization_3 (Batch (None, 128)               512       \n",
      "_________________________________________________________________\n",
      "re_lu_2 (ReLU)               (None, 128)               0         \n",
      "_________________________________________________________________\n",
      "dense_63 (Dense)             (None, 128)               16512     \n",
      "_________________________________________________________________\n",
      "batch_normalization_4 (Batch (None, 128)               512       \n",
      "_________________________________________________________________\n",
      "re_lu_3 (ReLU)               (None, 128)               0         \n",
      "_________________________________________________________________\n",
      "dense_64 (Dense)             (None, 10)                1290      \n",
      "_________________________________________________________________\n",
      "batch_normalization_5 (Batch (None, 10)                40        \n",
      "_________________________________________________________________\n",
      "softmax (Softmax)            (None, 10)                0         \n",
      "=================================================================\n",
      "Total params: 320,562\n",
      "Trainable params: 319,006\n",
      "Non-trainable params: 1,556\n",
      "_________________________________________________________________\n"
     ]
    }
   ],
   "source": [
    "bn_model = create_bn_model()\n",
    "bn_model.summary()"
   ]
  },
  {
   "cell_type": "code",
   "execution_count": 79,
   "metadata": {
    "colab": {},
    "colab_type": "code",
    "id": "vD-Oz2nhjmNS"
   },
   "outputs": [],
   "source": [
    "## 모델 컴파일\n",
    "bn_model.compile(optimizer=keras.optimizers.Adam(learning_rate),\n",
    "                 loss = 'categorical_crossentropy',\n",
    "                 metrics=['accuracy'])"
   ]
  },
  {
   "cell_type": "code",
   "execution_count": 80,
   "metadata": {
    "colab": {
     "base_uri": "https://localhost:8080/",
     "height": 55
    },
    "colab_type": "code",
    "id": "tGy89IteOiJT",
    "outputId": "869d3707-7f33-48be-c5ac-9e8d751024be"
   },
   "outputs": [
    {
     "name": "stdout",
     "output_type": "stream",
     "text": [
      "78/78 [==============================] - 0s 4ms/step - loss: 2.3027 - accuracy: 0.1198\n"
     ]
    },
    {
     "data": {
      "text/plain": [
       "[2.302701950073242, 0.1197916641831398]"
      ]
     },
     "execution_count": 80,
     "metadata": {},
     "output_type": "execute_result"
    }
   ],
   "source": [
    "## traing 전에 loss 및 validation accuracy 확인\n",
    "bn_model.evaluate(test_dataset, steps=validation_steps)"
   ]
  },
  {
   "cell_type": "code",
   "execution_count": 81,
   "metadata": {
    "colab": {
     "base_uri": "https://localhost:8080/",
     "height": 804
    },
    "colab_type": "code",
    "id": "35Y_1qiijomM",
    "outputId": "516911e4-5079-4aee-e59d-c43b18544c2c"
   },
   "outputs": [
    {
     "name": "stdout",
     "output_type": "stream",
     "text": [
      "Epoch 1/10\n",
      "468/468 [==============================] - 8s 17ms/step - loss: 0.4039 - accuracy: 0.9362 - val_loss: 0.2149 - val_accuracy: 0.9721\n",
      "Epoch 2/10\n",
      "468/468 [==============================] - 7s 15ms/step - loss: 0.1714 - accuracy: 0.9746 - val_loss: 0.1252 - val_accuracy: 0.9779\n",
      "Epoch 3/10\n",
      "468/468 [==============================] - 6s 13ms/step - loss: 0.1073 - accuracy: 0.9824 - val_loss: 0.1045 - val_accuracy: 0.9757\n",
      "Epoch 4/10\n",
      "468/468 [==============================] - 7s 14ms/step - loss: 0.0784 - accuracy: 0.9861 - val_loss: 0.0868 - val_accuracy: 0.9760\n",
      "Epoch 5/10\n",
      "468/468 [==============================] - 6s 13ms/step - loss: 0.0594 - accuracy: 0.9880 - val_loss: 0.0770 - val_accuracy: 0.9793\n",
      "Epoch 6/10\n",
      "468/468 [==============================] - 7s 15ms/step - loss: 0.0447 - accuracy: 0.9913 - val_loss: 0.0793 - val_accuracy: 0.9795\n",
      "Epoch 7/10\n",
      "468/468 [==============================] - 8s 17ms/step - loss: 0.0358 - accuracy: 0.9929 - val_loss: 0.0645 - val_accuracy: 0.9834\n",
      "Epoch 8/10\n",
      "468/468 [==============================] - 9s 19ms/step - loss: 0.0340 - accuracy: 0.9923 - val_loss: 0.0702 - val_accuracy: 0.9809\n",
      "Epoch 9/10\n",
      "468/468 [==============================] - 11s 23ms/step - loss: 0.0275 - accuracy: 0.9935 - val_loss: 0.0681 - val_accuracy: 0.9803\n",
      "Epoch 10/10\n",
      "468/468 [==============================] - 12s 26ms/step - loss: 0.0250 - accuracy: 0.9938 - val_loss: 0.0715 - val_accuracy: 0.9775\n"
     ]
    }
   ],
   "source": [
    "## 훈련\n",
    "history = bn_model.fit(train_dataset, epochs=training_epochs, steps_per_epoch=steps_per_epoch, \n",
    "                    validation_data=test_dataset, validation_steps=validation_steps)"
   ]
  },
  {
   "cell_type": "markdown",
   "metadata": {
    "colab_type": "text",
    "id": "8kxIPIPlkuz1"
   },
   "source": [
    "## 학습률을 조정해보자 (Learning Rate Decay라고도 부른다.)\n",
    "+ 학습률 감쇠 방법:스텝\n",
    "+ 스텝: 고정된 몇 포인트에서 \"학습률\" 감소\n",
    "+ ResNet은 30,60,90 에폭에서 LR에 0.1을 곱한다."
   ]
  },
  {
   "cell_type": "code",
   "execution_count": 118,
   "metadata": {
    "ExecuteTime": {
     "end_time": "2021-02-01T01:15:39.162944Z",
     "start_time": "2021-02-01T01:15:39.094594Z"
    },
    "colab": {
     "base_uri": "https://localhost:8080/",
     "height": 401
    },
    "colab_type": "code",
    "id": "4fyYjZuajsS0",
    "outputId": "b97d28dd-0906-48db-bfb5-98ac76658ad6"
   },
   "outputs": [
    {
     "name": "stdout",
     "output_type": "stream",
     "text": [
      "Model: \"sequential_24\"\n",
      "_________________________________________________________________\n",
      "Layer (type)                 Output Shape              Param #   \n",
      "=================================================================\n",
      "flatten_23 (Flatten)         (None, 784)               0         \n",
      "_________________________________________________________________\n",
      "dense_65 (Dense)             (None, 256)               200960    \n",
      "_________________________________________________________________\n",
      "dense_66 (Dense)             (None, 256)               65792     \n",
      "_________________________________________________________________\n",
      "dense_67 (Dense)             (None, 128)               32896     \n",
      "_________________________________________________________________\n",
      "dense_68 (Dense)             (None, 128)               16512     \n",
      "_________________________________________________________________\n",
      "dense_69 (Dense)             (None, 10)                1290      \n",
      "=================================================================\n",
      "Total params: 317,450\n",
      "Trainable params: 317,450\n",
      "Non-trainable params: 0\n",
      "_________________________________________________________________\n"
     ]
    }
   ],
   "source": [
    "lr_decay_model = create_dmlp_model()\n",
    "lr_decay_model.summary()"
   ]
  },
  {
   "cell_type": "code",
   "execution_count": 119,
   "metadata": {
    "ExecuteTime": {
     "end_time": "2021-02-01T01:15:39.820183Z",
     "start_time": "2021-02-01T01:15:39.813197Z"
    }
   },
   "outputs": [
    {
     "data": {
      "text/plain": [
       "4680"
      ]
     },
     "execution_count": 119,
     "metadata": {},
     "output_type": "execute_result"
    }
   ],
   "source": [
    "n_train//batch_size*10"
   ]
  },
  {
   "cell_type": "code",
   "execution_count": null,
   "metadata": {},
   "outputs": [],
   "source": []
  },
  {
   "cell_type": "code",
   "execution_count": 120,
   "metadata": {
    "ExecuteTime": {
     "end_time": "2021-02-01T01:15:40.589265Z",
     "start_time": "2021-02-01T01:15:40.583281Z"
    },
    "colab": {},
    "colab_type": "code",
    "id": "9NPkdj28j8NC"
   },
   "outputs": [],
   "source": [
    "### learning rate scheduler - exponential decay\n",
    "### initial learning rate: 초기 learning rate\n",
    "### decay_steps: 몇 step 후에 learning rate을 감소시킬 것인지\n",
    "### decay_rate: learning rate 감소 비율\n",
    "### staircase: 계단식 감소여부(False일 경우는 매 step마다 감소하여 decay steps에 도달하였을 때 decay_rate만큼 감소됨) \n",
    "lr_schedule = keras.optimizers.schedules.ExponentialDecay(initial_learning_rate=learning_rate,\n",
    "                                                          decay_steps=n_train//batch_size*10,\n",
    "                                                          decay_rate=0.3,\n",
    "                                                          staircase=True)"
   ]
  },
  {
   "cell_type": "code",
   "execution_count": 121,
   "metadata": {
    "ExecuteTime": {
     "end_time": "2021-02-01T01:15:41.166733Z",
     "start_time": "2021-02-01T01:15:41.147786Z"
    },
    "colab": {},
    "colab_type": "code",
    "id": "M1j-pvySj-tv"
   },
   "outputs": [],
   "source": [
    "## 모델 컴파일\n",
    "lr_decay_model.compile(optimizer=keras.optimizers.Adam(lr_schedule),\n",
    "                 loss = 'categorical_crossentropy',\n",
    "                 metrics=['accuracy'])"
   ]
  },
  {
   "cell_type": "code",
   "execution_count": 122,
   "metadata": {
    "ExecuteTime": {
     "end_time": "2021-02-01T01:15:42.265633Z",
     "start_time": "2021-02-01T01:15:41.726237Z"
    },
    "colab": {
     "base_uri": "https://localhost:8080/",
     "height": 55
    },
    "colab_type": "code",
    "id": "sxG441v6PP16",
    "outputId": "9392a898-0632-44c4-c931-02469e93d29f"
   },
   "outputs": [
    {
     "name": "stdout",
     "output_type": "stream",
     "text": [
      "78/78 [==============================] - 1s 3ms/step - loss: 2.3187 - accuracy: 0.0688\n"
     ]
    },
    {
     "data": {
      "text/plain": [
       "[2.3174824714660645, 0.07231570780277252]"
      ]
     },
     "execution_count": 122,
     "metadata": {},
     "output_type": "execute_result"
    }
   ],
   "source": [
    "## traing 전에 loss 및 validation accuracy 확인\n",
    "lr_decay_model.evaluate(test_dataset, steps=validation_steps)"
   ]
  },
  {
   "cell_type": "code",
   "execution_count": 123,
   "metadata": {
    "ExecuteTime": {
     "end_time": "2021-02-01T01:16:27.017152Z",
     "start_time": "2021-02-01T01:15:42.746343Z"
    },
    "colab": {
     "base_uri": "https://localhost:8080/",
     "height": 804
    },
    "colab_type": "code",
    "id": "fmJleaw4kEpP",
    "outputId": "d7e1eb95-5720-49fc-f444-3c199addc897"
   },
   "outputs": [
    {
     "name": "stdout",
     "output_type": "stream",
     "text": [
      "Epoch 1/10\n",
      "468/468 [==============================] - 4s 8ms/step - loss: 0.2629 - accuracy: 0.9200 - val_loss: 0.1222 - val_accuracy: 0.9641\n",
      "Epoch 2/10\n",
      "468/468 [==============================] - 4s 8ms/step - loss: 0.0952 - accuracy: 0.9707 - val_loss: 0.0902 - val_accuracy: 0.9719\n",
      "Epoch 3/10\n",
      "468/468 [==============================] - 4s 8ms/step - loss: 0.0659 - accuracy: 0.9795 - val_loss: 0.0780 - val_accuracy: 0.9753\n",
      "Epoch 4/10\n",
      "468/468 [==============================] - 4s 8ms/step - loss: 0.0498 - accuracy: 0.9842 - val_loss: 0.0815 - val_accuracy: 0.9747\n",
      "Epoch 5/10\n",
      "468/468 [==============================] - 4s 8ms/step - loss: 0.0369 - accuracy: 0.9882 - val_loss: 0.0775 - val_accuracy: 0.9781\n",
      "Epoch 6/10\n",
      "468/468 [==============================] - 4s 10ms/step - loss: 0.0302 - accuracy: 0.9901 - val_loss: 0.0807 - val_accuracy: 0.9773\n",
      "Epoch 7/10\n",
      "468/468 [==============================] - 4s 8ms/step - loss: 0.0303 - accuracy: 0.9904 - val_loss: 0.0872 - val_accuracy: 0.9756\n",
      "Epoch 8/10\n",
      "468/468 [==============================] - 5s 10ms/step - loss: 0.0215 - accuracy: 0.9931 - val_loss: 0.0815 - val_accuracy: 0.9800\n",
      "Epoch 9/10\n",
      "468/468 [==============================] - 6s 13ms/step - loss: 0.0188 - accuracy: 0.9936 - val_loss: 0.0991 - val_accuracy: 0.9753\n",
      "Epoch 10/10\n",
      "468/468 [==============================] - 5s 12ms/step - loss: 0.0198 - accuracy: 0.9934 - val_loss: 0.0900 - val_accuracy: 0.9788\n"
     ]
    }
   ],
   "source": [
    "## 훈련\n",
    "history = lr_decay_model.fit(train_dataset, epochs=training_epochs, steps_per_epoch=steps_per_epoch, \n",
    "                    validation_data=test_dataset, validation_steps=validation_steps)"
   ]
  },
  {
   "cell_type": "markdown",
   "metadata": {
    "colab_type": "text",
    "id": "VqXaOUbi_ZTv"
   },
   "source": [
    "### 자 이제 각자의 모델을 한 번 만들어 보자"
   ]
  },
  {
   "cell_type": "code",
   "execution_count": 155,
   "metadata": {
    "ExecuteTime": {
     "end_time": "2021-02-01T01:40:40.130013Z",
     "start_time": "2021-02-01T01:40:40.117047Z"
    },
    "colab": {},
    "colab_type": "code",
    "id": "-JuDsyAekH28"
   },
   "outputs": [],
   "source": [
    "def create_my_model():\n",
    "    model = keras.Sequential()\n",
    "\n",
    "    \n",
    "    model = keras.Sequential()\n",
    "    model.add(keras.layers.Flatten(input_shape=(28,28))) #28*28 짜리니까 1열로 만들어줘야함 ( 잘모르겠음 나중에 찾아바야함)\n",
    "    model.add(keras.layers.Dense(256))\n",
    "    model.add(keras.layers.BatchNormalization())\n",
    "    model.add(keras.layers.ReLU())\n",
    "    model.add(keras.layers.Dropout(drop_rate))\n",
    "    '''\n",
    "    model.add(keras.layers.Dense(256))\n",
    "    model.add(keras.layers.BatchNormalization())\n",
    "    model.add(keras.layers.ReLU())\n",
    "    model.add(keras.layers.Dropout(drop_rate))\n",
    "\n",
    "     \n",
    "    model.add(keras.layers.Dense(128))\n",
    "    model.add(keras.layers.BatchNormalization())\n",
    "    model.add(keras.layers.ReLU())\n",
    "    model.add(keras.layers.Dropout(drop_rate))\n",
    "    \n",
    "    \n",
    "    model.add(keras.layers.Dense(128))\n",
    "    model.add(keras.layers.BatchNormalization())\n",
    "    model.add(keras.layers.ReLU())\n",
    "    model.add(keras.layers.Dropout(drop_rate))\n",
    "    '''\n",
    "    model.add(keras.layers.Dense(10))\n",
    "    model.add(keras.layers.BatchNormalization())\n",
    "    model.add(keras.layers.Softmax())\n",
    "    \n",
    "    return model"
   ]
  },
  {
   "cell_type": "code",
   "execution_count": 156,
   "metadata": {
    "ExecuteTime": {
     "end_time": "2021-02-01T01:40:41.071383Z",
     "start_time": "2021-02-01T01:40:40.619594Z"
    },
    "colab": {},
    "colab_type": "code",
    "id": "sl0SuHH--6JF"
   },
   "outputs": [
    {
     "name": "stdout",
     "output_type": "stream",
     "text": [
      "Model: \"sequential_38\"\n",
      "_________________________________________________________________\n",
      "Layer (type)                 Output Shape              Param #   \n",
      "=================================================================\n",
      "flatten_30 (Flatten)         (None, 784)               0         \n",
      "_________________________________________________________________\n",
      "dense_99 (Dense)             (None, 256)               200960    \n",
      "_________________________________________________________________\n",
      "batch_normalization_35 (Batc (None, 256)               1024      \n",
      "_________________________________________________________________\n",
      "re_lu_27 (ReLU)              (None, 256)               0         \n",
      "_________________________________________________________________\n",
      "dropout_27 (Dropout)         (None, 256)               0         \n",
      "_________________________________________________________________\n",
      "dense_100 (Dense)            (None, 10)                2570      \n",
      "_________________________________________________________________\n",
      "batch_normalization_36 (Batc (None, 10)                40        \n",
      "_________________________________________________________________\n",
      "softmax_7 (Softmax)          (None, 10)                0         \n",
      "=================================================================\n",
      "Total params: 204,594\n",
      "Trainable params: 204,062\n",
      "Non-trainable params: 532\n",
      "_________________________________________________________________\n"
     ]
    }
   ],
   "source": [
    "my_model = create_my_model()\n",
    "my_model.summary()"
   ]
  },
  {
   "cell_type": "code",
   "execution_count": 157,
   "metadata": {
    "ExecuteTime": {
     "end_time": "2021-02-01T01:40:41.141198Z",
     "start_time": "2021-02-01T01:40:41.087341Z"
    },
    "colab": {},
    "colab_type": "code",
    "id": "G8JSYFkh-_YZ"
   },
   "outputs": [],
   "source": [
    "## model compile\n",
    "my_model.compile(optimizer=keras.optimizers.Adam(learning_rate),\n",
    "                 loss = 'categorical_crossentropy',\n",
    "                 metrics=['accuracy'])"
   ]
  },
  {
   "cell_type": "code",
   "execution_count": 158,
   "metadata": {
    "ExecuteTime": {
     "end_time": "2021-02-01T01:40:43.723641Z",
     "start_time": "2021-02-01T01:40:41.183084Z"
    },
    "colab": {},
    "colab_type": "code",
    "id": "ksOwMAMl_LUX"
   },
   "outputs": [
    {
     "name": "stdout",
     "output_type": "stream",
     "text": [
      "78/78 [==============================] - 2s 11ms/step - loss: 2.3522 - accuracy: 0.1792\n"
     ]
    },
    {
     "data": {
      "text/plain": [
       "[2.3323235511779785, 0.19040465354919434]"
      ]
     },
     "execution_count": 158,
     "metadata": {},
     "output_type": "execute_result"
    }
   ],
   "source": [
    "## traing 전에 loss 및 validation accuracy 확인\n",
    "my_model.evaluate(test_dataset, steps=validation_steps)"
   ]
  },
  {
   "cell_type": "code",
   "execution_count": 159,
   "metadata": {
    "ExecuteTime": {
     "end_time": "2021-02-01T01:41:47.250275Z",
     "start_time": "2021-02-01T01:40:43.739598Z"
    },
    "colab": {},
    "colab_type": "code",
    "id": "g6Wbw9OE_vhS"
   },
   "outputs": [
    {
     "name": "stdout",
     "output_type": "stream",
     "text": [
      "Epoch 1/10\n",
      "468/468 [==============================] - 13s 20ms/step - loss: 0.5427 - accuracy: 0.9107 - val_loss: 0.3017 - val_accuracy: 0.9621.5489 - accura - ETA: 0s - loss: 0.5436 - accuracy: \n",
      "Epoch 2/10\n",
      "468/468 [==============================] - 9s 19ms/step - loss: 0.2840 - accuracy: 0.9564 - val_loss: 0.1827 - val_accuracy: 0.9717\n",
      "Epoch 3/10\n",
      "468/468 [==============================] - 6s 14ms/step - loss: 0.1945 - accuracy: 0.9688 - val_loss: 0.1451 - val_accuracy: 0.9756\n",
      "Epoch 4/10\n",
      "468/468 [==============================] - 5s 11ms/step - loss: 0.1497 - accuracy: 0.9743 - val_loss: 0.1129 - val_accuracy: 0.9774\n",
      "Epoch 5/10\n",
      "468/468 [==============================] - 4s 10ms/step - loss: 0.1184 - accuracy: 0.9783 - val_loss: 0.0996 - val_accuracy: 0.9787\n",
      "Epoch 6/10\n",
      "468/468 [==============================] - 5s 10ms/step - loss: 0.0967 - accuracy: 0.9820 - val_loss: 0.0861 - val_accuracy: 0.9781\n",
      "Epoch 7/10\n",
      "468/468 [==============================] - 4s 10ms/step - loss: 0.0847 - accuracy: 0.9834 - val_loss: 0.0791 - val_accuracy: 0.9804\n",
      "Epoch 8/10\n",
      "468/468 [==============================] - 4s 9ms/step - loss: 0.0731 - accuracy: 0.9854 - val_loss: 0.0765 - val_accuracy: 0.9806\n",
      "Epoch 9/10\n",
      "468/468 [==============================] - 6s 12ms/step - loss: 0.0622 - accuracy: 0.9875 - val_loss: 0.0692 - val_accuracy: 0.9823\n",
      "Epoch 10/10\n",
      "468/468 [==============================] - 6s 12ms/step - loss: 0.0563 - accuracy: 0.9883 - val_loss: 0.0700 - val_accuracy: 0.9807\n"
     ]
    }
   ],
   "source": [
    "## training\n",
    "history = my_model.fit(train_dataset, epochs=training_epochs, steps_per_epoch=steps_per_epoch, \n",
    "                    validation_data=test_dataset, validation_steps=validation_steps)"
   ]
  },
  {
   "cell_type": "code",
   "execution_count": null,
   "metadata": {},
   "outputs": [],
   "source": []
  },
  {
   "cell_type": "code",
   "execution_count": null,
   "metadata": {},
   "outputs": [],
   "source": []
  },
  {
   "cell_type": "code",
   "execution_count": null,
   "metadata": {},
   "outputs": [],
   "source": []
  }
 ],
 "metadata": {
  "accelerator": "GPU",
  "colab": {
   "collapsed_sections": [],
   "name": "4.Multi_Layer_Perceptron.ipynb",
   "provenance": []
  },
  "hide_input": false,
  "kernelspec": {
   "display_name": "Python 3",
   "language": "python",
   "name": "python3"
  },
  "language_info": {
   "codemirror_mode": {
    "name": "ipython",
    "version": 3
   },
   "file_extension": ".py",
   "mimetype": "text/x-python",
   "name": "python",
   "nbconvert_exporter": "python",
   "pygments_lexer": "ipython3",
   "version": "3.7.6"
  }
 },
 "nbformat": 4,
 "nbformat_minor": 1
}
